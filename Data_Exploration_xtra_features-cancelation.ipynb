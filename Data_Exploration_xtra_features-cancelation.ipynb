{
 "cells": [
  {
   "cell_type": "markdown",
   "metadata": {},
   "source": [
    "The purpose of this notebook is to look at our data, get important stats like the number of rows, etc as well as make some graphs, and take some screenshots for the presentation."
   ]
  },
  {
   "cell_type": "code",
   "execution_count": 1,
   "metadata": {},
   "outputs": [],
   "source": [
    "import pandas as pd\n",
    "from matplotlib import pyplot as plt\n",
    "import numpy as np"
   ]
  },
  {
   "cell_type": "code",
   "execution_count": 2,
   "metadata": {},
   "outputs": [],
   "source": [
    "df=pd.read_csv('Data/hotel_bookings.csv')"
   ]
  },
  {
   "cell_type": "code",
   "execution_count": 3,
   "metadata": {
    "scrolled": true
   },
   "outputs": [
    {
     "data": {
      "text/html": [
       "<div>\n",
       "<style scoped>\n",
       "    .dataframe tbody tr th:only-of-type {\n",
       "        vertical-align: middle;\n",
       "    }\n",
       "\n",
       "    .dataframe tbody tr th {\n",
       "        vertical-align: top;\n",
       "    }\n",
       "\n",
       "    .dataframe thead th {\n",
       "        text-align: right;\n",
       "    }\n",
       "</style>\n",
       "<table border=\"1\" class=\"dataframe\">\n",
       "  <thead>\n",
       "    <tr style=\"text-align: right;\">\n",
       "      <th></th>\n",
       "      <th>hotel</th>\n",
       "      <th>is_canceled</th>\n",
       "      <th>lead_time</th>\n",
       "      <th>arrival_date_year</th>\n",
       "      <th>arrival_date_month</th>\n",
       "      <th>arrival_date_week_number</th>\n",
       "      <th>arrival_date_day_of_month</th>\n",
       "      <th>stays_in_weekend_nights</th>\n",
       "      <th>stays_in_week_nights</th>\n",
       "      <th>adults</th>\n",
       "      <th>...</th>\n",
       "      <th>deposit_type</th>\n",
       "      <th>agent</th>\n",
       "      <th>company</th>\n",
       "      <th>days_in_waiting_list</th>\n",
       "      <th>customer_type</th>\n",
       "      <th>adr</th>\n",
       "      <th>required_car_parking_spaces</th>\n",
       "      <th>total_of_special_requests</th>\n",
       "      <th>reservation_status</th>\n",
       "      <th>reservation_status_date</th>\n",
       "    </tr>\n",
       "  </thead>\n",
       "  <tbody>\n",
       "    <tr>\n",
       "      <th>0</th>\n",
       "      <td>Resort Hotel</td>\n",
       "      <td>0</td>\n",
       "      <td>342</td>\n",
       "      <td>2015</td>\n",
       "      <td>July</td>\n",
       "      <td>27</td>\n",
       "      <td>1</td>\n",
       "      <td>0</td>\n",
       "      <td>0</td>\n",
       "      <td>2</td>\n",
       "      <td>...</td>\n",
       "      <td>No Deposit</td>\n",
       "      <td>NaN</td>\n",
       "      <td>NaN</td>\n",
       "      <td>0</td>\n",
       "      <td>Transient</td>\n",
       "      <td>0.0</td>\n",
       "      <td>0</td>\n",
       "      <td>0</td>\n",
       "      <td>Check-Out</td>\n",
       "      <td>2015-07-01</td>\n",
       "    </tr>\n",
       "    <tr>\n",
       "      <th>1</th>\n",
       "      <td>Resort Hotel</td>\n",
       "      <td>0</td>\n",
       "      <td>737</td>\n",
       "      <td>2015</td>\n",
       "      <td>July</td>\n",
       "      <td>27</td>\n",
       "      <td>1</td>\n",
       "      <td>0</td>\n",
       "      <td>0</td>\n",
       "      <td>2</td>\n",
       "      <td>...</td>\n",
       "      <td>No Deposit</td>\n",
       "      <td>NaN</td>\n",
       "      <td>NaN</td>\n",
       "      <td>0</td>\n",
       "      <td>Transient</td>\n",
       "      <td>0.0</td>\n",
       "      <td>0</td>\n",
       "      <td>0</td>\n",
       "      <td>Check-Out</td>\n",
       "      <td>2015-07-01</td>\n",
       "    </tr>\n",
       "    <tr>\n",
       "      <th>2</th>\n",
       "      <td>Resort Hotel</td>\n",
       "      <td>0</td>\n",
       "      <td>7</td>\n",
       "      <td>2015</td>\n",
       "      <td>July</td>\n",
       "      <td>27</td>\n",
       "      <td>1</td>\n",
       "      <td>0</td>\n",
       "      <td>1</td>\n",
       "      <td>1</td>\n",
       "      <td>...</td>\n",
       "      <td>No Deposit</td>\n",
       "      <td>NaN</td>\n",
       "      <td>NaN</td>\n",
       "      <td>0</td>\n",
       "      <td>Transient</td>\n",
       "      <td>75.0</td>\n",
       "      <td>0</td>\n",
       "      <td>0</td>\n",
       "      <td>Check-Out</td>\n",
       "      <td>2015-07-02</td>\n",
       "    </tr>\n",
       "    <tr>\n",
       "      <th>3</th>\n",
       "      <td>Resort Hotel</td>\n",
       "      <td>0</td>\n",
       "      <td>13</td>\n",
       "      <td>2015</td>\n",
       "      <td>July</td>\n",
       "      <td>27</td>\n",
       "      <td>1</td>\n",
       "      <td>0</td>\n",
       "      <td>1</td>\n",
       "      <td>1</td>\n",
       "      <td>...</td>\n",
       "      <td>No Deposit</td>\n",
       "      <td>304.0</td>\n",
       "      <td>NaN</td>\n",
       "      <td>0</td>\n",
       "      <td>Transient</td>\n",
       "      <td>75.0</td>\n",
       "      <td>0</td>\n",
       "      <td>0</td>\n",
       "      <td>Check-Out</td>\n",
       "      <td>2015-07-02</td>\n",
       "    </tr>\n",
       "    <tr>\n",
       "      <th>4</th>\n",
       "      <td>Resort Hotel</td>\n",
       "      <td>0</td>\n",
       "      <td>14</td>\n",
       "      <td>2015</td>\n",
       "      <td>July</td>\n",
       "      <td>27</td>\n",
       "      <td>1</td>\n",
       "      <td>0</td>\n",
       "      <td>2</td>\n",
       "      <td>2</td>\n",
       "      <td>...</td>\n",
       "      <td>No Deposit</td>\n",
       "      <td>240.0</td>\n",
       "      <td>NaN</td>\n",
       "      <td>0</td>\n",
       "      <td>Transient</td>\n",
       "      <td>98.0</td>\n",
       "      <td>0</td>\n",
       "      <td>1</td>\n",
       "      <td>Check-Out</td>\n",
       "      <td>2015-07-03</td>\n",
       "    </tr>\n",
       "  </tbody>\n",
       "</table>\n",
       "<p>5 rows × 32 columns</p>\n",
       "</div>"
      ],
      "text/plain": [
       "          hotel  is_canceled  lead_time  arrival_date_year arrival_date_month  \\\n",
       "0  Resort Hotel            0        342               2015               July   \n",
       "1  Resort Hotel            0        737               2015               July   \n",
       "2  Resort Hotel            0          7               2015               July   \n",
       "3  Resort Hotel            0         13               2015               July   \n",
       "4  Resort Hotel            0         14               2015               July   \n",
       "\n",
       "   arrival_date_week_number  arrival_date_day_of_month  \\\n",
       "0                        27                          1   \n",
       "1                        27                          1   \n",
       "2                        27                          1   \n",
       "3                        27                          1   \n",
       "4                        27                          1   \n",
       "\n",
       "   stays_in_weekend_nights  stays_in_week_nights  adults  ...  deposit_type  \\\n",
       "0                        0                     0       2  ...    No Deposit   \n",
       "1                        0                     0       2  ...    No Deposit   \n",
       "2                        0                     1       1  ...    No Deposit   \n",
       "3                        0                     1       1  ...    No Deposit   \n",
       "4                        0                     2       2  ...    No Deposit   \n",
       "\n",
       "   agent company days_in_waiting_list customer_type   adr  \\\n",
       "0    NaN     NaN                    0     Transient   0.0   \n",
       "1    NaN     NaN                    0     Transient   0.0   \n",
       "2    NaN     NaN                    0     Transient  75.0   \n",
       "3  304.0     NaN                    0     Transient  75.0   \n",
       "4  240.0     NaN                    0     Transient  98.0   \n",
       "\n",
       "   required_car_parking_spaces  total_of_special_requests  reservation_status  \\\n",
       "0                            0                          0           Check-Out   \n",
       "1                            0                          0           Check-Out   \n",
       "2                            0                          0           Check-Out   \n",
       "3                            0                          0           Check-Out   \n",
       "4                            0                          1           Check-Out   \n",
       "\n",
       "  reservation_status_date  \n",
       "0              2015-07-01  \n",
       "1              2015-07-01  \n",
       "2              2015-07-02  \n",
       "3              2015-07-02  \n",
       "4              2015-07-03  \n",
       "\n",
       "[5 rows x 32 columns]"
      ]
     },
     "execution_count": 3,
     "metadata": {},
     "output_type": "execute_result"
    }
   ],
   "source": [
    "df.head()"
   ]
  },
  {
   "cell_type": "code",
   "execution_count": 4,
   "metadata": {},
   "outputs": [
    {
     "name": "stdout",
     "output_type": "stream",
     "text": [
      "<class 'pandas.core.frame.DataFrame'>\n",
      "RangeIndex: 119390 entries, 0 to 119389\n",
      "Data columns (total 32 columns):\n",
      " #   Column                          Non-Null Count   Dtype  \n",
      "---  ------                          --------------   -----  \n",
      " 0   hotel                           119390 non-null  object \n",
      " 1   is_canceled                     119390 non-null  int64  \n",
      " 2   lead_time                       119390 non-null  int64  \n",
      " 3   arrival_date_year               119390 non-null  int64  \n",
      " 4   arrival_date_month              119390 non-null  object \n",
      " 5   arrival_date_week_number        119390 non-null  int64  \n",
      " 6   arrival_date_day_of_month       119390 non-null  int64  \n",
      " 7   stays_in_weekend_nights         119390 non-null  int64  \n",
      " 8   stays_in_week_nights            119390 non-null  int64  \n",
      " 9   adults                          119390 non-null  int64  \n",
      " 10  children                        119386 non-null  float64\n",
      " 11  babies                          119390 non-null  int64  \n",
      " 12  meal                            119390 non-null  object \n",
      " 13  country                         118902 non-null  object \n",
      " 14  market_segment                  119390 non-null  object \n",
      " 15  distribution_channel            119390 non-null  object \n",
      " 16  is_repeated_guest               119390 non-null  int64  \n",
      " 17  previous_cancellations          119390 non-null  int64  \n",
      " 18  previous_bookings_not_canceled  119390 non-null  int64  \n",
      " 19  reserved_room_type              119390 non-null  object \n",
      " 20  assigned_room_type              119390 non-null  object \n",
      " 21  booking_changes                 119390 non-null  int64  \n",
      " 22  deposit_type                    119390 non-null  object \n",
      " 23  agent                           103050 non-null  float64\n",
      " 24  company                         6797 non-null    float64\n",
      " 25  days_in_waiting_list            119390 non-null  int64  \n",
      " 26  customer_type                   119390 non-null  object \n",
      " 27  adr                             119390 non-null  float64\n",
      " 28  required_car_parking_spaces     119390 non-null  int64  \n",
      " 29  total_of_special_requests       119390 non-null  int64  \n",
      " 30  reservation_status              119390 non-null  object \n",
      " 31  reservation_status_date         119390 non-null  object \n",
      "dtypes: float64(4), int64(16), object(12)\n",
      "memory usage: 29.1+ MB\n"
     ]
    }
   ],
   "source": [
    "df.info()"
   ]
  },
  {
   "cell_type": "markdown",
   "metadata": {},
   "source": [
    "### Cleaning A.D.R"
   ]
  },
  {
   "cell_type": "code",
   "execution_count": 5,
   "metadata": {},
   "outputs": [
    {
     "data": {
      "image/png": "[encoded data removed]",
      "text/plain": [
       "<Figure size 432x288 with 1 Axes>"
      ]
     },
     "metadata": {
      "needs_background": "light"
     },
     "output_type": "display_data"
    }
   ],
   "source": [
    "df.boxplot(column = \"adr\")\n",
    "plt.show()"
   ]
  },
  {
   "cell_type": "markdown",
   "metadata": {},
   "source": [
    "There is very clearly an extreme outlier. It is fair to assume that a nightly hotel rate of over $5000 while all the others are in the low hundreds is a mistake and can be removed. "
   ]
  },
  {
   "cell_type": "code",
   "execution_count": 6,
   "metadata": {},
   "outputs": [],
   "source": [
    "df = df[df[\"adr\"] < 5000]"
   ]
  },
  {
   "cell_type": "code",
   "execution_count": 7,
   "metadata": {},
   "outputs": [
    {
     "data": {
      "image/png": "[encoded data removed]",
      "text/plain": [
       "<Figure size 432x288 with 1 Axes>"
      ]
     },
     "metadata": {
      "needs_background": "light"
     },
     "output_type": "display_data"
    }
   ],
   "source": [
    "df.boxplot(column = \"adr\")\n",
    "plt.show()"
   ]
  },
  {
   "cell_type": "markdown",
   "metadata": {},
   "source": [
    "This is clearly a lot more believable"
   ]
  },
  {
   "cell_type": "markdown",
   "metadata": {},
   "source": [
    "### Hotel"
   ]
  },
  {
   "cell_type": "code",
   "execution_count": 8,
   "metadata": {},
   "outputs": [
    {
     "data": {
      "image/png": "[encoded data removed]",
      "text/plain": [
       "<Figure size 432x288 with 1 Axes>"
      ]
     },
     "metadata": {
      "needs_background": "light"
     },
     "output_type": "display_data"
    }
   ],
   "source": [
    "df.boxplot(by = \"hotel\", column = \"adr\",)\n",
    "plt.show()"
   ]
  },
  {
   "cell_type": "markdown",
   "metadata": {},
   "source": [
    "In order to include the catagorical data of hotel type, we one-hot encode. "
   ]
  },
  {
   "cell_type": "code",
   "execution_count": 9,
   "metadata": {},
   "outputs": [],
   "source": [
    "df[\"is_resort\"] = (df[\"hotel\"] ==\"Resort Hotel\").astype(int)\n",
    "df.drop(columns = \"hotel\", inplace = True)"
   ]
  },
  {
   "cell_type": "markdown",
   "metadata": {},
   "source": [
    "### is_canceled"
   ]
  },
  {
   "cell_type": "markdown",
   "metadata": {},
   "source": [
    "We are removing bookings that were canceled because it is possible that price played a role in the reason they were canceled so these bookings are not a good indicator of what people are willing to pay and may lead to inaccurate results if used. "
   ]
  },
  {
   "cell_type": "code",
   "execution_count": 10,
   "metadata": {},
   "outputs": [],
   "source": [
    "#keep for cancelation prediction\n",
    "#df.drop(columns = \"is_canceled\", inplace = True)"
   ]
  },
  {
   "cell_type": "markdown",
   "metadata": {},
   "source": [
    "### lead_time"
   ]
  },
  {
   "cell_type": "code",
   "execution_count": 11,
   "metadata": {},
   "outputs": [
    {
     "data": {
      "image/png": "[encoded data removed]",
      "text/plain": [
       "<Figure size 432x288 with 1 Axes>"
      ]
     },
     "metadata": {
      "needs_background": "light"
     },
     "output_type": "display_data"
    }
   ],
   "source": [
    "df.boxplot(column = \"lead_time\")\n",
    "plt.show()\n",
    "#This wil likely need to be scaled"
   ]
  },
  {
   "cell_type": "markdown",
   "metadata": {},
   "source": [
    "### arrival_date_year"
   ]
  },
  {
   "cell_type": "markdown",
   "metadata": {},
   "source": [
    "We are removing this because we simply do not have enough years of data to capture any sort of inflation-driven trend of prices from year to year."
   ]
  },
  {
   "cell_type": "code",
   "execution_count": 12,
   "metadata": {},
   "outputs": [
    {
     "data": {
      "text/plain": [
       "<AxesSubplot:title={'center':'adr'}, xlabel='arrival_date_year'>"
      ]
     },
     "execution_count": 12,
     "metadata": {},
     "output_type": "execute_result"
    },
    {
     "data": {
      "image/png": "[encoded data removed]",
      "text/plain": [
       "<Figure size 432x288 with 1 Axes>"
      ]
     },
     "metadata": {
      "needs_background": "light"
     },
     "output_type": "display_data"
    }
   ],
   "source": [
    "df.boxplot(by = \"arrival_date_year\", column = \"adr\")"
   ]
  },
  {
   "cell_type": "code",
   "execution_count": 13,
   "metadata": {},
   "outputs": [],
   "source": [
    "#dropped later after the stay_length is made"
   ]
  },
  {
   "cell_type": "markdown",
   "metadata": {},
   "source": [
    "### arrival_date_month "
   ]
  },
  {
   "cell_type": "code",
   "execution_count": 14,
   "metadata": {},
   "outputs": [
    {
     "data": {
      "text/plain": [
       "array(['July', 'August', 'September', 'October', 'November', 'December',\n",
       "       'January', 'February', 'March', 'April', 'May', 'June'],\n",
       "      dtype=object)"
      ]
     },
     "execution_count": 14,
     "metadata": {},
     "output_type": "execute_result"
    }
   ],
   "source": [
    "df[\"arrival_date_month\"].unique()"
   ]
  },
  {
   "cell_type": "markdown",
   "metadata": {},
   "source": [
    "Convert these to ints"
   ]
  },
  {
   "cell_type": "code",
   "execution_count": 15,
   "metadata": {},
   "outputs": [],
   "source": [
    "def month_to_num(month):\n",
    "    months = ['January', 'February', 'March', 'April', 'May', 'June', 'July', 'August', 'September', 'October', 'November', 'December']\n",
    "    num = months.index(month)+1\n",
    "    return num\n",
    "df[\"arrival_date_month\"] =df[\"arrival_date_month\"].apply(month_to_num,convert_dtype=True)"
   ]
  },
  {
   "cell_type": "code",
   "execution_count": 16,
   "metadata": {},
   "outputs": [
    {
     "data": {
      "image/png": "[encoded data removed]",
      "text/plain": [
       "<Figure size 432x288 with 1 Axes>"
      ]
     },
     "metadata": {
      "needs_background": "light"
     },
     "output_type": "display_data"
    }
   ],
   "source": [
    "df.hist(column = \"arrival_date_month\")\n",
    "plt.show()"
   ]
  },
  {
   "cell_type": "markdown",
   "metadata": {},
   "source": [
    "It may be helpful to perform some sort of transformation on these predictors to capture the fact that they are cyclical <br>\n",
    "https://www.real-statistics.com/multiple-regression/multiple-regression-analysis/seasonal-regression-forecasts/"
   ]
  },
  {
   "cell_type": "markdown",
   "metadata": {},
   "source": [
    "### arrival_date_week_number"
   ]
  },
  {
   "cell_type": "code",
   "execution_count": 17,
   "metadata": {},
   "outputs": [
    {
     "data": {
      "text/plain": [
       "<AxesSubplot:>"
      ]
     },
     "execution_count": 17,
     "metadata": {},
     "output_type": "execute_result"
    },
    {
     "data": {
      "image/png": "[encoded data removed]",
      "text/plain": [
       "<Figure size 432x288 with 1 Axes>"
      ]
     },
     "metadata": {
      "needs_background": "light"
     },
     "output_type": "display_data"
    }
   ],
   "source": [
    "df[\"arrival_date_week_number\"].hist()"
   ]
  },
  {
   "cell_type": "markdown",
   "metadata": {},
   "source": [
    "Looks good, maybe some scaling or again something to capture the cyclical nature of this predictor."
   ]
  },
  {
   "cell_type": "markdown",
   "metadata": {},
   "source": [
    "### arrival_date_day_of_month  "
   ]
  },
  {
   "cell_type": "code",
   "execution_count": 18,
   "metadata": {},
   "outputs": [
    {
     "data": {
      "text/plain": [
       "<AxesSubplot:>"
      ]
     },
     "execution_count": 18,
     "metadata": {},
     "output_type": "execute_result"
    },
    {
     "data": {
      "image/png": "[encoded data removed]",
      "text/plain": [
       "<Figure size 432x288 with 1 Axes>"
      ]
     },
     "metadata": {
      "needs_background": "light"
     },
     "output_type": "display_data"
    }
   ],
   "source": [
    "df[\"arrival_date_day_of_month\"].hist()"
   ]
  },
  {
   "cell_type": "markdown",
   "metadata": {},
   "source": [
    "Looks good, maybe some scaling or again something to capture the cyclical nature of this predictor."
   ]
  },
  {
   "cell_type": "markdown",
   "metadata": {},
   "source": [
    "### stays_in_weekend_nights"
   ]
  },
  {
   "cell_type": "code",
   "execution_count": 19,
   "metadata": {},
   "outputs": [
    {
     "data": {
      "text/plain": [
       "<AxesSubplot:>"
      ]
     },
     "execution_count": 19,
     "metadata": {},
     "output_type": "execute_result"
    },
    {
     "data": {
      "image/png": "[encoded data removed]",
      "text/plain": [
       "<Figure size 432x288 with 1 Axes>"
      ]
     },
     "metadata": {
      "needs_background": "light"
     },
     "output_type": "display_data"
    }
   ],
   "source": [
    "df.boxplot(column=[\"stays_in_weekend_nights\"])"
   ]
  },
  {
   "cell_type": "markdown",
   "metadata": {},
   "source": [
    "Looks good may need scaling"
   ]
  },
  {
   "cell_type": "markdown",
   "metadata": {},
   "source": [
    "### stays_in_week_nights"
   ]
  },
  {
   "cell_type": "code",
   "execution_count": 20,
   "metadata": {},
   "outputs": [
    {
     "data": {
      "text/plain": [
       "<AxesSubplot:>"
      ]
     },
     "execution_count": 20,
     "metadata": {},
     "output_type": "execute_result"
    },
    {
     "data": {
      "image/png": "[encoded data removed]",
      "text/plain": [
       "<Figure size 432x288 with 1 Axes>"
      ]
     },
     "metadata": {
      "needs_background": "light"
     },
     "output_type": "display_data"
    }
   ],
   "source": [
    "df.boxplot(column=[\"stays_in_week_nights\"])"
   ]
  },
  {
   "cell_type": "markdown",
   "metadata": {},
   "source": [
    "Looks good may need scaling"
   ]
  },
  {
   "cell_type": "markdown",
   "metadata": {},
   "source": [
    "### adults"
   ]
  },
  {
   "cell_type": "code",
   "execution_count": 21,
   "metadata": {},
   "outputs": [
    {
     "data": {
      "text/plain": [
       "<AxesSubplot:>"
      ]
     },
     "execution_count": 21,
     "metadata": {},
     "output_type": "execute_result"
    },
    {
     "data": {
      "image/png": "[encoded data removed]",
      "text/plain": [
       "<Figure size 432x288 with 1 Axes>"
      ]
     },
     "metadata": {
      "needs_background": "light"
     },
     "output_type": "display_data"
    }
   ],
   "source": [
    "df.boxplot(column=[\"adults\"])"
   ]
  },
  {
   "cell_type": "markdown",
   "metadata": {},
   "source": [
    "Looks good may need scaling"
   ]
  },
  {
   "cell_type": "markdown",
   "metadata": {},
   "source": [
    "### children"
   ]
  },
  {
   "cell_type": "code",
   "execution_count": 22,
   "metadata": {},
   "outputs": [
    {
     "data": {
      "text/plain": [
       "array([ 0.,  1.,  2., 10.,  3., nan])"
      ]
     },
     "execution_count": 22,
     "metadata": {},
     "output_type": "execute_result"
    }
   ],
   "source": [
    "df[\"children\"].unique()"
   ]
  },
  {
   "cell_type": "markdown",
   "metadata": {},
   "source": [
    "Change to int and remove all nan values"
   ]
  },
  {
   "cell_type": "code",
   "execution_count": 23,
   "metadata": {},
   "outputs": [],
   "source": [
    "def nan_to_0_and_int(value):\n",
    "    if(np.isnan(value)):\n",
    "        return 0\n",
    "    else:\n",
    "        return int(value)\n",
    "df[\"children\"] =df[\"children\"].apply(nan_to_0_and_int,convert_dtype=True)"
   ]
  },
  {
   "cell_type": "code",
   "execution_count": 24,
   "metadata": {},
   "outputs": [
    {
     "data": {
      "text/plain": [
       "<AxesSubplot:>"
      ]
     },
     "execution_count": 24,
     "metadata": {},
     "output_type": "execute_result"
    },
    {
     "data": {
      "image/png": "[encoded data removed]",
      "text/plain": [
       "<Figure size 432x288 with 1 Axes>"
      ]
     },
     "metadata": {
      "needs_background": "light"
     },
     "output_type": "display_data"
    }
   ],
   "source": [
    "df.boxplot(column=[\"children\"])"
   ]
  },
  {
   "cell_type": "code",
   "execution_count": 25,
   "metadata": {},
   "outputs": [
    {
     "data": {
      "text/plain": [
       "array([ 0,  1,  2, 10,  3], dtype=int64)"
      ]
     },
     "execution_count": 25,
     "metadata": {},
     "output_type": "execute_result"
    }
   ],
   "source": [
    "df[\"children\"].unique()"
   ]
  },
  {
   "cell_type": "markdown",
   "metadata": {},
   "source": [
    "might need scaling. 10 children seems extreme but believable"
   ]
  },
  {
   "cell_type": "markdown",
   "metadata": {},
   "source": [
    "## babies"
   ]
  },
  {
   "cell_type": "code",
   "execution_count": 26,
   "metadata": {},
   "outputs": [
    {
     "data": {
      "text/plain": [
       "array([ 0,  1,  2, 10,  9], dtype=int64)"
      ]
     },
     "execution_count": 26,
     "metadata": {},
     "output_type": "execute_result"
    }
   ],
   "source": [
    "df[\"babies\"].unique()"
   ]
  },
  {
   "cell_type": "code",
   "execution_count": 27,
   "metadata": {
    "scrolled": true
   },
   "outputs": [
    {
     "data": {
      "text/plain": [
       "<AxesSubplot:>"
      ]
     },
     "execution_count": 27,
     "metadata": {},
     "output_type": "execute_result"
    },
    {
     "data": {
      "image/png": "[encoded data removed]",
      "text/plain": [
       "<Figure size 432x288 with 1 Axes>"
      ]
     },
     "metadata": {
      "needs_background": "light"
     },
     "output_type": "display_data"
    }
   ],
   "source": [
    "df.boxplot(column=[\"babies\"])"
   ]
  },
  {
   "cell_type": "markdown",
   "metadata": {},
   "source": [
    "looks good might need scaling"
   ]
  },
  {
   "cell_type": "markdown",
   "metadata": {},
   "source": [
    "### meal"
   ]
  },
  {
   "cell_type": "code",
   "execution_count": 28,
   "metadata": {},
   "outputs": [
    {
     "data": {
      "text/plain": [
       "(array(['BB', 'FB', 'HB', 'SC', 'Undefined'], dtype=object),\n",
       " array([92309,   798, 14463, 10650,  1169], dtype=int64))"
      ]
     },
     "execution_count": 28,
     "metadata": {},
     "output_type": "execute_result"
    }
   ],
   "source": [
    "np.unique(df[\"meal\"],return_counts=True)"
   ]
  },
  {
   "cell_type": "markdown",
   "metadata": {},
   "source": [
    "\"BB\" - breakfast only <br>\n",
    "\"FB\" - breakfast, lunch, and dinner <br>\n",
    "\"HB\" - dinner and breakfast <br>\n",
    "\"SC\" - no meals <br>\n",
    "<br>\n",
    "Drop rows for undefined meals and translate to binary bought_meal"
   ]
  },
  {
   "cell_type": "code",
   "execution_count": 29,
   "metadata": {},
   "outputs": [],
   "source": [
    "df.drop(df.loc[df[\"meal\"]=='Undefined'].index, inplace=True)\n",
    "df[\"bought_meal\"] = (df[\"meal\"] != 'SC').astype(int)\n",
    "df.drop(columns = \"meal\", inplace=True)"
   ]
  },
  {
   "cell_type": "markdown",
   "metadata": {},
   "source": [
    "### country"
   ]
  },
  {
   "cell_type": "code",
   "execution_count": 30,
   "metadata": {},
   "outputs": [
    {
     "name": "stdout",
     "output_type": "stream",
     "text": [
      "['ABW' 'AGO' 'AIA' 'ALB' 'AND' 'ARE' 'ARG' 'ARM' 'ASM' 'ATA' 'ATF' 'AUS'\n",
      " 'AUT' 'AZE' 'BDI' 'BEL' 'BEN' 'BFA' 'BGD' 'BGR' 'BHR' 'BHS' 'BIH' 'BLR'\n",
      " 'BOL' 'BRA' 'BRB' 'BWA' 'CAF' 'CHE' 'CHL' 'CHN' 'CIV' 'CMR' 'CN' 'COL'\n",
      " 'COM' 'CPV' 'CRI' 'CUB' 'CYM' 'CYP' 'CZE' 'DEU' 'DJI' 'DMA' 'DNK' 'DOM'\n",
      " 'DZA' 'ECU' 'EGY' 'ESP' 'EST' 'ETH' 'FIN' 'FJI' 'FRA' 'FRO' 'GAB' 'GBR'\n",
      " 'GEO' 'GGY' 'GHA' 'GIB' 'GLP' 'GNB' 'GRC' 'GTM' 'GUY' 'HKG' 'HND' 'HRV'\n",
      " 'HUN' 'IDN' 'IMN' 'IND' 'IRL' 'IRN' 'IRQ' 'ISL' 'ISR' 'ITA' 'JAM' 'JEY'\n",
      " 'JOR' 'JPN' 'KAZ' 'KEN' 'KHM' 'KIR' 'KNA' 'KOR' 'KWT' 'LAO' 'LBN' 'LBY'\n",
      " 'LCA' 'LIE' 'LKA' 'LTU' 'LUX' 'LVA' 'MAC' 'MAR' 'MCO' 'MDG' 'MDV' 'MEX'\n",
      " 'MKD' 'MLI' 'MLT' 'MMR' 'MNE' 'MOZ' 'MRT' 'MUS' 'MWI' 'MYS' 'MYT' 'NAM'\n",
      " 'NCL' 'NGA' 'NIC' 'NLD' 'NOR' 'NPL' 'NZL' 'OMN' 'PAK' 'PAN' 'PER' 'PHL'\n",
      " 'PLW' 'POL' 'PRI' 'PRT' 'PRY' 'PYF' 'QAT' 'ROU' 'RUS' 'RWA' 'SAU' 'SDN'\n",
      " 'SEN' 'SGP' 'SLE' 'SLV' 'SMR' 'SRB' 'STP' 'SUR' 'SVK' 'SVN' 'SWE' 'SYC'\n",
      " 'SYR' 'TGO' 'THA' 'TJK' 'TMP' 'TUN' 'TUR' 'TWN' 'TZA' 'UGA' 'UKR' 'UMI'\n",
      " 'URY' 'USA' 'UZB' 'VEN' 'VGB' 'VNM' 'ZAF' 'ZMB' 'ZWE' 'nan'] [    2   362     1    12     7    51   214     8     1     2     1   426\n",
      "  1263    17     1  2341     3     1    12    75     5     1    13    26\n",
      "    10  2222     4     1     5  1728    65   999     6    10  1270    71\n",
      "     2    24    19     8     1    51   171  7286     1     1   435    14\n",
      "   103    27    32  8271    83     3   446     1 10324     5     4 12109\n",
      "    22     3     4    18     2     9   128     4     1    29     1   100\n",
      "   230    34     2   151  3374    83    14    57   669  3763     6     8\n",
      "    21   197    19     6     2     1     2   133    16     2    31     8\n",
      "     1     3     7    81   287    55    16   259     4     1    12    85\n",
      "    10     1    18     1     5    67     1     7     2    28     2     1\n",
      "     1    34     1  2104   607     1    74    18    14     9    29    40\n",
      "     1   919    12 47890     4     1    15   499   632     2    48     1\n",
      "    11    39     1     2     1   101     2     5    65    57   990     2\n",
      "     3     2    59     9     3    39   248    51     5     2    68     1\n",
      "    32  2096     4    26     1     8    80     2     4   484]\n"
     ]
    }
   ],
   "source": [
    "countries, c_freq = np.unique(list(df[\"country\"]),return_counts=True)\n",
    "print(countries, c_freq)"
   ]
  },
  {
   "cell_type": "markdown",
   "metadata": {},
   "source": [
    "If there are 15 or less historical reservations from a particular country that is not really enough to draw any conclusions so any country that has 15 or less reservations will be added to an \"other\" group 'OTR' along with all 'nan' entries "
   ]
  },
  {
   "cell_type": "code",
   "execution_count": 31,
   "metadata": {},
   "outputs": [
    {
     "data": {
      "text/plain": [
       "\"\\ndef condense_countries(value):\\n    country_index = np.where(countries== value)[0]\\n    if(c_freq[country_index] <=15 or pd.isnull(value)):\\n        return 'OTR'\\n    else:\\n        return value\\n\""
      ]
     },
     "execution_count": 31,
     "metadata": {},
     "output_type": "execute_result"
    }
   ],
   "source": [
    "'''\n",
    "def condense_countries(value):\n",
    "    country_index = np.where(countries== value)[0]\n",
    "    if(c_freq[country_index] <=15 or pd.isnull(value)):\n",
    "        return 'OTR'\n",
    "    else:\n",
    "        return value\n",
    "'''"
   ]
  },
  {
   "cell_type": "code",
   "execution_count": 32,
   "metadata": {},
   "outputs": [
    {
     "data": {
      "text/plain": [
       "'\\nfor i, row in df.iterrows():\\n    df.at[i, \"country\"] = condense_countries(df.at[i,\\'country\\'])\\n'"
      ]
     },
     "execution_count": 32,
     "metadata": {},
     "output_type": "execute_result"
    }
   ],
   "source": [
    "'''\n",
    "for i, row in df.iterrows():\n",
    "    df.at[i, \"country\"] = condense_countries(df.at[i,'country'])\n",
    "'''"
   ]
  },
  {
   "cell_type": "code",
   "execution_count": 33,
   "metadata": {},
   "outputs": [
    {
     "name": "stdout",
     "output_type": "stream",
     "text": [
      "['ABW' 'AGO' 'AIA' 'ALB' 'AND' 'ARE' 'ARG' 'ARM' 'ASM' 'ATA' 'ATF' 'AUS'\n",
      " 'AUT' 'AZE' 'BDI' 'BEL' 'BEN' 'BFA' 'BGD' 'BGR' 'BHR' 'BHS' 'BIH' 'BLR'\n",
      " 'BOL' 'BRA' 'BRB' 'BWA' 'CAF' 'CHE' 'CHL' 'CHN' 'CIV' 'CMR' 'CN' 'COL'\n",
      " 'COM' 'CPV' 'CRI' 'CUB' 'CYM' 'CYP' 'CZE' 'DEU' 'DJI' 'DMA' 'DNK' 'DOM'\n",
      " 'DZA' 'ECU' 'EGY' 'ESP' 'EST' 'ETH' 'FIN' 'FJI' 'FRA' 'FRO' 'GAB' 'GBR'\n",
      " 'GEO' 'GGY' 'GHA' 'GIB' 'GLP' 'GNB' 'GRC' 'GTM' 'GUY' 'HKG' 'HND' 'HRV'\n",
      " 'HUN' 'IDN' 'IMN' 'IND' 'IRL' 'IRN' 'IRQ' 'ISL' 'ISR' 'ITA' 'JAM' 'JEY'\n",
      " 'JOR' 'JPN' 'KAZ' 'KEN' 'KHM' 'KIR' 'KNA' 'KOR' 'KWT' 'LAO' 'LBN' 'LBY'\n",
      " 'LCA' 'LIE' 'LKA' 'LTU' 'LUX' 'LVA' 'MAC' 'MAR' 'MCO' 'MDG' 'MDV' 'MEX'\n",
      " 'MKD' 'MLI' 'MLT' 'MMR' 'MNE' 'MOZ' 'MRT' 'MUS' 'MWI' 'MYS' 'MYT' 'NAM'\n",
      " 'NCL' 'NGA' 'NIC' 'NLD' 'NOR' 'NPL' 'NZL' 'OMN' 'PAK' 'PAN' 'PER' 'PHL'\n",
      " 'PLW' 'POL' 'PRI' 'PRT' 'PRY' 'PYF' 'QAT' 'ROU' 'RUS' 'RWA' 'SAU' 'SDN'\n",
      " 'SEN' 'SGP' 'SLE' 'SLV' 'SMR' 'SRB' 'STP' 'SUR' 'SVK' 'SVN' 'SWE' 'SYC'\n",
      " 'SYR' 'TGO' 'THA' 'TJK' 'TMP' 'TUN' 'TUR' 'TWN' 'TZA' 'UGA' 'UKR' 'UMI'\n",
      " 'URY' 'USA' 'UZB' 'VEN' 'VGB' 'VNM' 'ZAF' 'ZMB' 'ZWE' 'nan'] [    2   362     1    12     7    51   214     8     1     2     1   426\n",
      "  1263    17     1  2341     3     1    12    75     5     1    13    26\n",
      "    10  2222     4     1     5  1728    65   999     6    10  1270    71\n",
      "     2    24    19     8     1    51   171  7286     1     1   435    14\n",
      "   103    27    32  8271    83     3   446     1 10324     5     4 12109\n",
      "    22     3     4    18     2     9   128     4     1    29     1   100\n",
      "   230    34     2   151  3374    83    14    57   669  3763     6     8\n",
      "    21   197    19     6     2     1     2   133    16     2    31     8\n",
      "     1     3     7    81   287    55    16   259     4     1    12    85\n",
      "    10     1    18     1     5    67     1     7     2    28     2     1\n",
      "     1    34     1  2104   607     1    74    18    14     9    29    40\n",
      "     1   919    12 47890     4     1    15   499   632     2    48     1\n",
      "    11    39     1     2     1   101     2     5    65    57   990     2\n",
      "     3     2    59     9     3    39   248    51     5     2    68     1\n",
      "    32  2096     4    26     1     8    80     2     4   484]\n"
     ]
    }
   ],
   "source": [
    "countries, c_freq = np.unique(list(df[\"country\"]),return_counts=True)\n",
    "print(countries, c_freq)"
   ]
  },
  {
   "cell_type": "code",
   "execution_count": 34,
   "metadata": {},
   "outputs": [],
   "source": [
    "df.drop(df.loc[df[\"country\"]== 'nan'].index, inplace=True)"
   ]
  },
  {
   "cell_type": "code",
   "execution_count": 35,
   "metadata": {},
   "outputs": [
    {
     "name": "stderr",
     "output_type": "stream",
     "text": [
      "C:\\Users\\KATYLU~2\\AppData\\Local\\Temp/ipykernel_25788/2471700041.py:6: DeprecationWarning: The default dtype for empty Series will be 'object' instead of 'float64' in a future version. Specify a dtype explicitly to silence this warning.\n",
      "  df[\"is_international\"] = pd.Series()\n"
     ]
    }
   ],
   "source": [
    "def is_PRT(country):\n",
    "    if country == \"PRT\":\n",
    "        return True\n",
    "    else:\n",
    "        return False\n",
    "df[\"is_international\"] = pd.Series()\n",
    "for i, row in df.iterrows():\n",
    "    df.at[i, \"is_international\"] = int(is_PRT(df.at[i,'country']))"
   ]
  },
  {
   "cell_type": "code",
   "execution_count": 36,
   "metadata": {},
   "outputs": [
    {
     "data": {
      "text/plain": [
       "<AxesSubplot:>"
      ]
     },
     "execution_count": 36,
     "metadata": {},
     "output_type": "execute_result"
    },
    {
     "data": {
      "image/png": "[encoded data removed]",
      "text/plain": [
       "<Figure size 1440x360 with 1 Axes>"
      ]
     },
     "metadata": {
      "needs_background": "light"
     },
     "output_type": "display_data"
    }
   ],
   "source": [
    "fig, ax = plt.subplots(figsize=(20,5))\n",
    "df['is_international'].value_counts().plot.bar(ax=ax, rot=90)"
   ]
  },
  {
   "cell_type": "markdown",
   "metadata": {},
   "source": [
    "We have 2 options here. We can one-hot encode the remaining countries OR we can change this into a binary is_international (Both hotels are located in PRT according to paper) is_international would be probably most helpful, but my guess is that or something similar will happen in PCA, is_PRT ranking much higher than any other on-hot encoded country"
   ]
  },
  {
   "cell_type": "code",
   "execution_count": 37,
   "metadata": {},
   "outputs": [
    {
     "data": {
      "image/png": "[encoded data removed]",
      "text/plain": [
       "<Figure size 432x288 with 1 Axes>"
      ]
     },
     "metadata": {
      "needs_background": "light"
     },
     "output_type": "display_data"
    }
   ],
   "source": [
    "df.boxplot(by = \"is_international\", column = \"adr\",)\n",
    "plt.show()"
   ]
  },
  {
   "cell_type": "markdown",
   "metadata": {},
   "source": [
    "Leaning towards dropping this feature/ or converting it to is_international if we can find somehwere that the hotels are in pact in PRT"
   ]
  },
  {
   "cell_type": "code",
   "execution_count": null,
   "metadata": {},
   "outputs": [],
   "source": []
  },
  {
   "cell_type": "code",
   "execution_count": 38,
   "metadata": {},
   "outputs": [],
   "source": [
    "#df[\"is_international\"] = (df[\"country\"] == 'PRT').astype(int)\n",
    "#If you want to do this you need to drop all nan rows"
   ]
  },
  {
   "cell_type": "code",
   "execution_count": 39,
   "metadata": {},
   "outputs": [],
   "source": [
    "df.drop(columns = \"country\", inplace=True)"
   ]
  },
  {
   "cell_type": "markdown",
   "metadata": {},
   "source": [
    "### market_segment"
   ]
  },
  {
   "cell_type": "code",
   "execution_count": 40,
   "metadata": {},
   "outputs": [
    {
     "data": {
      "text/plain": [
       "(array(['Aviation', 'Complementary', 'Corporate', 'Direct', 'Groups',\n",
       "        'Offline TA/TO', 'Online TA', 'Undefined'], dtype=object),\n",
       " array([  237,   737,  5280, 12533, 19010, 23960, 56461,     2],\n",
       "       dtype=int64))"
      ]
     },
     "execution_count": 40,
     "metadata": {},
     "output_type": "execute_result"
    }
   ],
   "source": [
    "np.unique(df[\"market_segment\"], return_counts=True)"
   ]
  },
  {
   "cell_type": "markdown",
   "metadata": {},
   "source": [
    "Drop all rows for complementary stays since we don't want to predict that we should give things away for free"
   ]
  },
  {
   "cell_type": "code",
   "execution_count": null,
   "metadata": {},
   "outputs": [],
   "source": [
    "#keeping comp is fine for cancelations"
   ]
  },
  {
   "cell_type": "code",
   "execution_count": 45,
   "metadata": {},
   "outputs": [],
   "source": [
    "#df.drop(df.loc[df[\"market_segment\"]==\"Complementary\"].index, inplace=True)"
   ]
  },
  {
   "cell_type": "code",
   "execution_count": 41,
   "metadata": {},
   "outputs": [],
   "source": [
    "#df.drop(df.loc[df[\"adr\"]==0].index, inplace=True)"
   ]
  },
  {
   "cell_type": "code",
   "execution_count": 42,
   "metadata": {},
   "outputs": [
    {
     "data": {
      "image/png": "[encoded data removed]",
      "text/plain": [
       "<Figure size 1440x360 with 1 Axes>"
      ]
     },
     "metadata": {
      "needs_background": "light"
     },
     "output_type": "display_data"
    }
   ],
   "source": [
    "fig, ax = plt.subplots(figsize=(20,5))\n",
    "df.boxplot(by = \"market_segment\", column = \"adr\",ax=ax)\n",
    "plt.show()"
   ]
  },
  {
   "cell_type": "markdown",
   "metadata": {},
   "source": [
    "one-hot encode"
   ]
  },
  {
   "cell_type": "code",
   "execution_count": 43,
   "metadata": {},
   "outputs": [],
   "source": [
    "df.drop(df.loc[df[\"market_segment\"]==\"Undefined\"].index, inplace=True)\n",
    "df[\"aviation_segment\"] = (df[\"market_segment\"] =='Aviation').astype(int)\n",
    "df[\"corporate_segment\"] = (df[\"market_segment\"] =='Corporate').astype(int)\n",
    "df[\"groups_segment\"] = (df[\"market_segment\"] =='Groups').astype(int)\n",
    "df[\"offline_ta_to_segment\"] = (df[\"market_segment\"] =='Offline TA/TO').astype(int)\n",
    "df[\"online_ta_segment\"] = (df[\"market_segment\"] =='Online TA').astype(int)\n",
    "df.drop(columns = \"market_segment\", inplace=True)"
   ]
  },
  {
   "cell_type": "markdown",
   "metadata": {},
   "source": [
    "### distribution_channel"
   ]
  },
  {
   "cell_type": "code",
   "execution_count": 44,
   "metadata": {},
   "outputs": [
    {
     "data": {
      "text/plain": [
       "array(['Direct', 'Corporate', 'TA/TO', 'Undefined', 'GDS'], dtype=object)"
      ]
     },
     "execution_count": 44,
     "metadata": {},
     "output_type": "execute_result"
    }
   ],
   "source": [
    "df[\"distribution_channel\"].unique()"
   ]
  },
  {
   "cell_type": "code",
   "execution_count": 45,
   "metadata": {},
   "outputs": [
    {
     "data": {
      "image/png": "[encoded data removed]",
      "text/plain": [
       "<Figure size 1440x360 with 1 Axes>"
      ]
     },
     "metadata": {
      "needs_background": "light"
     },
     "output_type": "display_data"
    }
   ],
   "source": [
    "fig, ax = plt.subplots(figsize=(20,5))\n",
    "df.boxplot(by = \"distribution_channel\", column = \"adr\",ax=ax)\n",
    "plt.show()"
   ]
  },
  {
   "cell_type": "markdown",
   "metadata": {},
   "source": [
    "one-hot encode, drop undefined rows "
   ]
  },
  {
   "cell_type": "code",
   "execution_count": 46,
   "metadata": {},
   "outputs": [],
   "source": [
    "df.drop(df.loc[df[\"distribution_channel\"]==\"Undefined\"].index, inplace=True)\n",
    "df[\"corporate_channel\"] = (df[\"distribution_channel\"] =='Corporate').astype(int)\n",
    "df[\"direct_channel\"] = (df[\"distribution_channel\"] =='Direct').astype(int)\n",
    "df[\"gds_channel\"] = (df[\"distribution_channel\"] =='GDS').astype(int)\n",
    "df[\"ta_to_channel\"] = (df[\"distribution_channel\"] =='TA/TO').astype(int)\n",
    "df.drop(columns = \"distribution_channel\", inplace=True)"
   ]
  },
  {
   "cell_type": "markdown",
   "metadata": {},
   "source": [
    "### is_repeated_guest"
   ]
  },
  {
   "cell_type": "code",
   "execution_count": 47,
   "metadata": {},
   "outputs": [
    {
     "data": {
      "text/plain": [
       "array([0, 1], dtype=int64)"
      ]
     },
     "execution_count": 47,
     "metadata": {},
     "output_type": "execute_result"
    }
   ],
   "source": [
    "df[\"is_repeated_guest\"].unique()"
   ]
  },
  {
   "cell_type": "code",
   "execution_count": 48,
   "metadata": {},
   "outputs": [
    {
     "data": {
      "image/png": "[encoded data removed]",
      "text/plain": [
       "<Figure size 432x288 with 1 Axes>"
      ]
     },
     "metadata": {
      "needs_background": "light"
     },
     "output_type": "display_data"
    }
   ],
   "source": [
    "df.boxplot(by = \"is_repeated_guest\", column = \"adr\")\n",
    "plt.show()"
   ]
  },
  {
   "cell_type": "markdown",
   "metadata": {},
   "source": [
    "literally perfect as is "
   ]
  },
  {
   "cell_type": "markdown",
   "metadata": {},
   "source": [
    "### previous_cancellations"
   ]
  },
  {
   "cell_type": "code",
   "execution_count": 49,
   "metadata": {},
   "outputs": [
    {
     "data": {
      "text/plain": [
       "(array([ 0,  1,  2,  3,  4,  5,  6, 11, 13, 14, 19, 21, 24, 25, 26],\n",
       "       dtype=int64),\n",
       " array([111804,   5980,    115,     64,     31,     19,     22,     35,\n",
       "            12,     14,     19,      1,     48,     25,     26],\n",
       "       dtype=int64))"
      ]
     },
     "execution_count": 49,
     "metadata": {},
     "output_type": "execute_result"
    }
   ],
   "source": [
    "np.unique(df[\"previous_cancellations\"], return_counts=True)"
   ]
  },
  {
   "cell_type": "markdown",
   "metadata": {},
   "source": [
    "may neeed scaling"
   ]
  },
  {
   "cell_type": "markdown",
   "metadata": {},
   "source": [
    "### previous_bookings_not_canceled"
   ]
  },
  {
   "cell_type": "code",
   "execution_count": 50,
   "metadata": {},
   "outputs": [
    {
     "data": {
      "text/plain": [
       "(array([ 0,  1,  2,  3,  4,  5,  6,  7,  8,  9, 10, 11, 12, 13, 14, 15, 16,\n",
       "        17, 18, 19, 20, 21, 22, 23, 24, 25, 26, 27, 28, 29, 30, 31, 32, 33,\n",
       "        34, 35, 36, 37, 38, 39, 40, 41, 42, 43, 44, 45, 46, 47, 48, 49, 50,\n",
       "        51, 52, 53, 54, 55, 56, 57, 58, 59, 60, 61, 62, 63, 64, 65, 66, 67,\n",
       "        68, 69, 70, 71, 72], dtype=int64),\n",
       " array([114604,   1535,    578,    333,    229,    181,    115,     88,\n",
       "            70,     60,     53,     43,     37,     30,     28,     21,\n",
       "            20,     16,     14,     13,     12,     12,     10,      7,\n",
       "             9,     17,      7,      9,      7,      6,      4,      2,\n",
       "             2,      1,      1,      1,      1,      1,      1,      1,\n",
       "             1,      1,      1,      1,      2,      1,      1,      1,\n",
       "             2,      1,      1,      1,      1,      1,      1,      1,\n",
       "             1,      1,      2,      1,      1,      1,      1,      1,\n",
       "             1,      1,      1,      1,      1,      1,      1,      1,\n",
       "             1], dtype=int64))"
      ]
     },
     "execution_count": 50,
     "metadata": {},
     "output_type": "execute_result"
    }
   ],
   "source": [
    "np.unique(df[\"previous_bookings_not_canceled\"], return_counts=True)"
   ]
  },
  {
   "cell_type": "markdown",
   "metadata": {},
   "source": [
    "may need scaling"
   ]
  },
  {
   "cell_type": "markdown",
   "metadata": {},
   "source": [
    "### reserved_room_type/assigned_room_type"
   ]
  },
  {
   "cell_type": "code",
   "execution_count": 51,
   "metadata": {},
   "outputs": [
    {
     "data": {
      "text/plain": [
       "array(['C', 'A', 'D', 'E', 'G', 'F', 'I', 'B', 'H', 'P', 'L', 'K'],\n",
       "      dtype=object)"
      ]
     },
     "execution_count": 51,
     "metadata": {},
     "output_type": "execute_result"
    }
   ],
   "source": [
    "df[\"assigned_room_type\"].unique()"
   ]
  },
  {
   "cell_type": "code",
   "execution_count": 52,
   "metadata": {},
   "outputs": [
    {
     "data": {
      "text/plain": [
       "array(['C', 'A', 'D', 'E', 'G', 'F', 'H', 'L', 'P', 'B'], dtype=object)"
      ]
     },
     "execution_count": 52,
     "metadata": {},
     "output_type": "execute_result"
    }
   ],
   "source": [
    "df[\"reserved_room_type\"].unique()"
   ]
  },
  {
   "cell_type": "markdown",
   "metadata": {},
   "source": [
    "assigned_room_type/reserved_room_type codes don't actually map to anything. So we don't know which one of these is a suite and which is a king for example. The only information we could get from this is if there is any significance to them staying in a different room than was booked (for example: upgraded at checkin, free upgrade, got moved due to overbooking) however, this is not information that someone would have when trying to predict for a future stay what the price should be and therefor these will be removed."
   ]
  },
  {
   "cell_type": "markdown",
   "metadata": {},
   "source": [
    "However, we could keep \"reserved room type\" simply to show that there is a large/small correlation in a better room and the amount paid, or we could remove this and go for more generalized predictions independent of room type "
   ]
  },
  {
   "cell_type": "code",
   "execution_count": 53,
   "metadata": {},
   "outputs": [],
   "source": [
    "df.drop(columns = [\"reserved_room_type\",\"assigned_room_type\"], inplace = True)"
   ]
  },
  {
   "cell_type": "markdown",
   "metadata": {},
   "source": [
    "### booking_changes"
   ]
  },
  {
   "cell_type": "code",
   "execution_count": 54,
   "metadata": {},
   "outputs": [
    {
     "data": {
      "text/plain": [
       "<AxesSubplot:>"
      ]
     },
     "execution_count": 54,
     "metadata": {},
     "output_type": "execute_result"
    },
    {
     "data": {
      "image/png": "[encoded data removed]",
      "text/plain": [
       "<Figure size 432x288 with 1 Axes>"
      ]
     },
     "metadata": {
      "needs_background": "light"
     },
     "output_type": "display_data"
    }
   ],
   "source": [
    "df[\"booking_changes\"].hist()"
   ]
  },
  {
   "cell_type": "markdown",
   "metadata": {},
   "source": [
    "scaling maybe"
   ]
  },
  {
   "cell_type": "markdown",
   "metadata": {},
   "source": [
    "### deposit_type"
   ]
  },
  {
   "cell_type": "code",
   "execution_count": 55,
   "metadata": {},
   "outputs": [
    {
     "data": {
      "text/plain": [
       "array(['No Deposit', 'Refundable', 'Non Refund'], dtype=object)"
      ]
     },
     "execution_count": 55,
     "metadata": {},
     "output_type": "execute_result"
    }
   ],
   "source": [
    "df[\"deposit_type\"].unique()"
   ]
  },
  {
   "cell_type": "markdown",
   "metadata": {},
   "source": [
    "one-hot encode"
   ]
  },
  {
   "cell_type": "code",
   "execution_count": 56,
   "metadata": {},
   "outputs": [],
   "source": [
    "df[\"no_deposit\"] = (df[\"deposit_type\"] =='No Deposit').astype(int)\n",
    "df[\"refundable_deposit\"] = (df[\"deposit_type\"] =='Refundable').astype(int)\n",
    "df[\"nonrefundable_deposit\"] = (df[\"deposit_type\"] =='Non Refundable').astype(int)\n",
    "df.drop(columns = \"deposit_type\", inplace=True)\n"
   ]
  },
  {
   "cell_type": "markdown",
   "metadata": {},
   "source": [
    "### agent"
   ]
  },
  {
   "cell_type": "code",
   "execution_count": 57,
   "metadata": {},
   "outputs": [
    {
     "data": {
      "text/plain": [
       "(array([  1.,   2.,   3.,   4.,   5.,   6.,   7.,   8.,   9.,  10.,  11.,\n",
       "         12.,  13.,  14.,  15.,  16.,  17.,  19.,  20.,  21.,  22.,  23.,\n",
       "         24.,  25.,  26.,  27.,  28.,  29.,  30.,  31.,  32.,  33.,  34.,\n",
       "         35.,  36.,  37.,  38.,  39.,  40.,  41.,  42.,  44.,  45.,  47.,\n",
       "         50.,  52.,  53.,  54.,  55.,  56.,  57.,  58.,  59.,  60.,  61.,\n",
       "         63.,  64.,  66.,  67.,  68.,  69.,  70.,  71.,  72.,  73.,  74.,\n",
       "         75.,  77.,  78.,  79.,  81.,  82.,  83.,  85.,  86.,  87.,  88.,\n",
       "         89.,  90.,  91.,  92.,  93.,  94.,  95.,  96.,  98.,  99., 103.,\n",
       "        104., 105., 106., 107., 110., 111., 112., 114., 115., 117., 118.,\n",
       "        119., 121., 122., 126., 127., 128., 129., 132., 133., 134., 135.,\n",
       "        138., 139., 141., 142., 143., 144., 146., 147., 148., 149., 150.,\n",
       "        151., 152., 153., 154., 155., 156., 157., 158., 159., 162., 163.,\n",
       "        165., 167., 168., 170., 171., 173., 174., 175., 177., 179., 180.,\n",
       "        181., 182., 183., 184., 185., 187., 191., 192., 193., 195., 196.,\n",
       "        197., 201., 205., 208., 210., 211., 213., 214., 215., 216., 219.,\n",
       "        220., 223., 227., 229., 232., 234., 235., 236., 240., 241., 242.,\n",
       "        243., 244., 245., 247., 248., 249., 250., 251., 252., 253., 254.,\n",
       "        256., 257., 258., 261., 262., 265., 267., 269., 270., 273., 275.,\n",
       "        276., 278., 280., 281., 282., 283., 285., 286., 287., 288., 289.,\n",
       "        290., 291., 294., 295., 296., 298., 299., 300., 301., 302., 303.,\n",
       "        304., 305., 306., 307., 308., 310., 313., 314., 315., 321., 323.,\n",
       "        324., 325., 326., 327., 328., 330., 331., 332., 333., 334., 335.,\n",
       "        336., 337., 339., 341., 344., 346., 348., 352., 354., 355., 358.,\n",
       "        359., 360., 363., 364., 367., 368., 370., 371., 375., 378., 384.,\n",
       "        385., 387., 388., 390., 391., 393., 394., 397., 403., 404., 405.,\n",
       "        406., 408., 410., 411., 414., 416., 418., 420., 423., 425., 426.,\n",
       "        427., 429., 430., 431., 432., 433., 434., 436., 438., 440., 441.,\n",
       "        444., 446., 449., 450., 451., 453., 454., 455., 459., 461., 464.,\n",
       "        467., 468., 469., 474., 475., 476., 479., 480., 481., 483., 484.,\n",
       "        492., 493., 495., 497., 502., 508., 509., 510., 526., 531., 535.,\n",
       "         nan]),\n",
       " array([ 7191,   162,  1336,    47,   330,  3290,  3539,  1514, 31960,\n",
       "          260,   395,   577,    82,  3639,   402,   246,   241,  1061,\n",
       "          540,   875,   382,    25,    22,     3,   401,   450,  1666,\n",
       "          683,   484,   162,    15,    31,   294,   109,   100,  1230,\n",
       "          180,   127,  1017,    75,   211,   292,    32,    50,    20,\n",
       "          137,    18,     1,    16,   375,    28,   335,     1,    19,\n",
       "            2,    29,    23,    44,    43,   147,    90,     1,    73,\n",
       "            6,     1,    20,    73,    33,    37,    47,     6,    77,\n",
       "          696,   554,   338,    77,    19,    99,     1,    58,     7,\n",
       "            1,   114,   135,   516,   124,    68,    21,    53,    14,\n",
       "            2,     2,    12,    16,    15,     1,   225,     1,    69,\n",
       "          304,    37,     2,    14,    45,    23,    14,   143,    56,\n",
       "          365,     2,   287,     8,     6,   137,   172,     1,   124,\n",
       "          156,     4,    28,     5,    56,   183,    25,   193,    94,\n",
       "          190,    61,     1,    89,    37,     7,     1,     3,   184,\n",
       "           93,   607,    29,    22,   195,   347,     2,     4,    56,\n",
       "            8,    45,    52,    78,    24,   198,    41,    15,   193,\n",
       "          271,     1,    42,    27,   173,     7,     2,     1,     5,\n",
       "           15,     1,    13,   104,    18,     2,   786,     2,   128,\n",
       "           29,   247, 13921,  1721,   780,   514,     4,    37,     1,\n",
       "          131,    51,  2816,   220,    29,    87,    29,    24,    24,\n",
       "            3,    38,    22,     1,     1,     2,     6,   349,     8,\n",
       "            8,     1,     1,    82,     2,     2,     1,    45,     8,\n",
       "           14,     1,    19,     1,     1,     4,    42,   472,     1,\n",
       "            1,     1,     3,     2,     1,    45,    35,    14,    11,\n",
       "           25,     2,   901,   284,     3,    25,     9,     6,   165,\n",
       "           20,     9,   125,     2,    53,     1,    28,     4,    23,\n",
       "            1,    77,     4,     8,     1,    22,     1,    14,     4,\n",
       "            1,    21,    15,     1,    19,     1,    45,     3,     4,\n",
       "           40,    36,     2,    13,     3,     1,    57,     2,    13,\n",
       "           33,     1,     4,     2,     5,     1,     1,   133,    15,\n",
       "            2,     1,     8,     3,    19,    16,     3,     3,     5,\n",
       "            4,     1,     1,     1,    33,    49,     2,    56,     7,\n",
       "            1,     1,     2,     1,     1,     1,     2,    19,    16,\n",
       "            2,     9,    39,    49,     2,    17,     8,     2,    32,\n",
       "            1,     8,     1,    11,    28,    35,    57,     1,    24,\n",
       "            6,    10,     2,    10,    67,     3, 15999], dtype=int64))"
      ]
     },
     "execution_count": 57,
     "metadata": {},
     "output_type": "execute_result"
    }
   ],
   "source": [
    "np.unique(df[\"agent\"], return_counts = True)"
   ]
  },
  {
   "cell_type": "markdown",
   "metadata": {},
   "source": [
    "These ids correspond to different travel agents. This means nothing to us. delete"
   ]
  },
  {
   "cell_type": "code",
   "execution_count": 58,
   "metadata": {},
   "outputs": [],
   "source": [
    "df.drop(columns = \"agent\", inplace=True)"
   ]
  },
  {
   "cell_type": "markdown",
   "metadata": {},
   "source": [
    "### company"
   ]
  },
  {
   "cell_type": "code",
   "execution_count": 59,
   "metadata": {},
   "outputs": [
    {
     "data": {
      "text/plain": [
       "(array([  6.,   8.,   9.,  10.,  11.,  12.,  14.,  16.,  18.,  20.,  22.,\n",
       "         28.,  29.,  31.,  32.,  34.,  35.,  37.,  38.,  39.,  40.,  42.,\n",
       "         43.,  45.,  46.,  47.,  48.,  49.,  51.,  52.,  53.,  54.,  59.,\n",
       "         61.,  62.,  64.,  65.,  67.,  68.,  71.,  72.,  73.,  76.,  77.,\n",
       "         78.,  80.,  81.,  82.,  83.,  84.,  85.,  86.,  88.,  91.,  92.,\n",
       "         93.,  94.,  96.,  99., 100., 101., 102., 103., 104., 105., 106.,\n",
       "        107., 108., 109., 110., 112., 113., 115., 116., 118., 120., 122.,\n",
       "        126., 127., 130., 132., 135., 137., 139., 140., 142., 143., 144.,\n",
       "        146., 148., 149., 150., 153., 154., 158., 159., 160., 163., 165.,\n",
       "        167., 168., 169., 174., 178., 179., 180., 183., 184., 185., 186.,\n",
       "        192., 193., 195., 197., 200., 202., 203., 204., 207., 209., 210.,\n",
       "        212., 213., 215., 216., 217., 218., 219., 220., 221., 222., 223.,\n",
       "        224., 225., 227., 229., 230., 232., 233., 234., 237., 238., 240.,\n",
       "        242., 243., 245., 246., 250., 251., 253., 254., 255., 257., 258.,\n",
       "        259., 260., 263., 264., 268., 269., 270., 271., 272., 273., 274.,\n",
       "        275., 277., 278., 279., 280., 281., 282., 284., 286., 287., 288.,\n",
       "        289., 290., 291., 292., 293., 297., 301., 302., 304., 305., 307.,\n",
       "        308., 309., 311., 312., 313., 314., 316., 317., 318., 319., 320.,\n",
       "        321., 323., 324., 325., 329., 330., 331., 332., 333., 334., 337.,\n",
       "        338., 341., 342., 343., 346., 347., 348., 349., 350., 351., 352.,\n",
       "        353., 355., 356., 357., 358., 360., 361., 362., 364., 365., 366.,\n",
       "        367., 368., 369., 370., 371., 372., 373., 376., 377., 378., 379.,\n",
       "        380., 382., 383., 384., 385., 386., 388., 390., 391., 392., 393.,\n",
       "        394., 395., 396., 397., 398., 399., 400., 401., 402., 403., 405.,\n",
       "        407., 408., 409., 410., 411., 412., 413., 415., 416., 417., 418.,\n",
       "        419., 420., 421., 422., 423., 424., 425., 426., 428., 429., 433.,\n",
       "        435., 436., 437., 439., 442., 443., 444., 445., 446., 447., 448.,\n",
       "        450., 451., 452., 454., 455., 456., 457., 458., 459., 460., 461.,\n",
       "        465., 466., 470., 477., 478., 479., 481., 482., 483., 484., 485.,\n",
       "        486., 487., 489., 490., 491., 492., 494., 496., 497., 498., 499.,\n",
       "        501., 504., 506., 507., 511., 512., 513., 514., 515., 516., 518.,\n",
       "        520., 521., 523., 525., 528., 530., 531., 534., 539., 541., 543.,\n",
       "         nan]),\n",
       " array([     1,      1,     37,      1,      1,     14,      9,      5,\n",
       "             1,     50,      6,      5,      2,     17,      1,      8,\n",
       "             1,     10,     51,      8,    927,      5,     29,    250,\n",
       "            26,     72,      5,      5,     99,      2,      8,      1,\n",
       "             7,      2,     47,      1,      1,    267,     46,      2,\n",
       "            30,      3,      1,      1,     22,      1,     23,     14,\n",
       "             9,      3,      2,     32,     22,     48,     13,      3,\n",
       "            87,      1,     12,      1,      1,      1,     16,      1,\n",
       "             8,      2,      9,     11,      1,     52,     13,     36,\n",
       "             4,      6,      7,     14,     18,      1,     15,     12,\n",
       "             1,     66,      4,      3,      1,      1,     17,     27,\n",
       "             3,     37,      5,     19,    215,    133,      2,      6,\n",
       "             1,     17,      3,      7,      2,     65,    149,     27,\n",
       "            24,      5,     16,      1,      4,     12,      4,     16,\n",
       "            38,     47,      3,     38,     13,     34,      9,     19,\n",
       "             2,      1,      1,      8,     21,      2,     43,    141,\n",
       "             4,     27,      2,    784,      3,      7,     24,      1,\n",
       "             3,      2,    114,      1,      1,     33,      3,     62,\n",
       "             2,      3,      3,      2,     18,      1,     10,      6,\n",
       "             1,      1,      2,      3,     14,      2,     14,     33,\n",
       "            43,      2,      3,      1,     14,      3,      5,      2,\n",
       "             8,     48,    138,      4,      1,     21,      5,      1,\n",
       "             2,     17,     12,     18,      5,      7,      1,      5,\n",
       "             2,      1,     36,     14,      1,      2,      3,      1,\n",
       "             1,      2,      9,      1,      3,      1,      2,     10,\n",
       "             9,      2,     12,      4,     61,      2,     10,      3,\n",
       "            25,     12,      5,     48,     29,     14,      1,     59,\n",
       "             2,      3,      2,      1,      4,     13,     10,      5,\n",
       "             7,     12,      2,      2,      6,     29,     24,     14,\n",
       "             1,      5,      2,     11,      3,      1,      1,      5,\n",
       "             3,      9,     12,      5,      6,      9,     30,      1,\n",
       "             7,     13,      2,      4,      1,      6,      4,     18,\n",
       "            15,      1,     11,      2,      1,      1,      2,    119,\n",
       "            22,     15,     12,      5,      2,      1,      1,      1,\n",
       "             1,      1,     25,      1,      1,      9,      1,      2,\n",
       "            24,      1,      4,     13,      2,      2,     12,      2,\n",
       "             7,      6,      1,      5,      5,      4,      1,      2,\n",
       "             4,     10,      6,      4,      1,      1,      2,      3,\n",
       "             2,      5,      3,      1,     12,      3,      5,     23,\n",
       "             2,      1,      1,      2,      2,      2,     14,      2,\n",
       "             1,      1,      5,      2,      2,      4,      1,      1,\n",
       "            58,      1,      1,     11,      1,      1,      6,      3,\n",
       "             2,      2,      6,      1,      2,      1,      7,      4,\n",
       "            15,      2,      5,      1,      2,      2,      1,      2,\n",
       "        111475], dtype=int64))"
      ]
     },
     "execution_count": 59,
     "metadata": {},
     "output_type": "execute_result"
    }
   ],
   "source": [
    "np.unique(df[\"company\"], return_counts = True)"
   ]
  },
  {
   "cell_type": "markdown",
   "metadata": {},
   "source": [
    "Id for company that made the booking. Changing to boolean with_company"
   ]
  },
  {
   "cell_type": "code",
   "execution_count": 60,
   "metadata": {},
   "outputs": [],
   "source": [
    "df[\"with_company\"] = (pd.notnull(df[\"company\"])).astype(int)\n",
    "df.drop(columns = \"company\", inplace=True)"
   ]
  },
  {
   "cell_type": "markdown",
   "metadata": {},
   "source": [
    "### days_in_waiting_list"
   ]
  },
  {
   "cell_type": "code",
   "execution_count": 61,
   "metadata": {},
   "outputs": [
    {
     "data": {
      "text/plain": [
       "(array([  0,   1,   2,   3,   4,   5,   6,   7,   8,   9,  10,  11,  12,\n",
       "         13,  14,  15,  16,  17,  18,  19,  20,  21,  22,  23,  24,  25,\n",
       "         26,  27,  28,  30,  31,  32,  33,  34,  35,  36,  37,  38,  39,\n",
       "         40,  41,  42,  43,  44,  45,  46,  47,  48,  49,  50,  53,  54,\n",
       "         55,  56,  57,  58,  59,  60,  61,  62,  63,  64,  65,  68,  69,\n",
       "         70,  71,  72,  73,  74,  75,  76,  77,  79,  80,  81,  83,  84,\n",
       "         85,  87,  89,  91,  92,  93,  96,  97,  98,  99, 100, 101, 105,\n",
       "        107, 108, 111, 113, 116, 117, 120, 121, 122, 125, 142, 147, 150,\n",
       "        154, 160, 162, 165, 167, 174, 175, 176, 178, 183, 185, 187, 193,\n",
       "        207, 215, 223, 224, 236, 259, 330, 379, 391], dtype=int64),\n",
       " array([114600,     12,      5,     59,     24,      7,     16,      4,\n",
       "             7,     16,     28,      7,      3,      4,      5,     54,\n",
       "             4,     47,      2,     30,     29,     37,     56,      3,\n",
       "            19,     25,      4,     26,     50,      2,    127,     19,\n",
       "            30,     26,     96,      1,      1,     76,    227,     28,\n",
       "            63,     30,     19,    140,     65,     94,     24,     52,\n",
       "            18,     80,      6,      1,     10,     45,     25,    164,\n",
       "            14,     40,     18,     60,     83,      3,      8,     42,\n",
       "            89,     18,     13,      1,      1,      1,     40,      2,\n",
       "            63,     20,     24,      1,      1,      2,     15,     80,\n",
       "             1,     50,      1,     40,     46,      3,     59,     19,\n",
       "             3,     65,      2,      5,     20,     71,      6,      1,\n",
       "             1,     25,      1,     12,     16,      1,     30,     11,\n",
       "             2,     25,     30,      1,      1,     19,      1,     50,\n",
       "            30,      1,      2,     45,      1,     15,     21,     61,\n",
       "            10,     35,     10,     15,     15,     45], dtype=int64))"
      ]
     },
     "execution_count": 61,
     "metadata": {},
     "output_type": "execute_result"
    }
   ],
   "source": [
    "np.unique(df[\"days_in_waiting_list\"], return_counts = True)"
   ]
  },
  {
   "cell_type": "code",
   "execution_count": 62,
   "metadata": {},
   "outputs": [
    {
     "data": {
      "text/plain": [
       "<AxesSubplot:>"
      ]
     },
     "execution_count": 62,
     "metadata": {},
     "output_type": "execute_result"
    },
    {
     "data": {
      "image/png": "[encoded data removed]",
      "text/plain": [
       "<Figure size 432x288 with 1 Axes>"
      ]
     },
     "metadata": {
      "needs_background": "light"
     },
     "output_type": "display_data"
    }
   ],
   "source": [
    "df[\"days_in_waiting_list\"].hist()"
   ]
  },
  {
   "cell_type": "code",
   "execution_count": 63,
   "metadata": {},
   "outputs": [
    {
     "data": {
      "image/png": "[encoded data removed]",
      "text/plain": [
       "<Figure size 432x288 with 1 Axes>"
      ]
     },
     "metadata": {
      "needs_background": "light"
     },
     "output_type": "display_data"
    }
   ],
   "source": [
    "plt.scatter(df[\"days_in_waiting_list\"], df[\"adr\"])\n",
    "plt.show()"
   ]
  },
  {
   "cell_type": "markdown",
   "metadata": {},
   "source": [
    "scaling"
   ]
  },
  {
   "cell_type": "markdown",
   "metadata": {},
   "source": [
    "droping because it will add noise to our model due to the fact that a very large majority were never on a waiting list\n"
   ]
  },
  {
   "cell_type": "code",
   "execution_count": 64,
   "metadata": {},
   "outputs": [],
   "source": [
    "df.drop(columns = \"days_in_waiting_list\", inplace=True)"
   ]
  },
  {
   "cell_type": "markdown",
   "metadata": {},
   "source": [
    "### customer_type"
   ]
  },
  {
   "cell_type": "code",
   "execution_count": 65,
   "metadata": {},
   "outputs": [
    {
     "data": {
      "text/plain": [
       "array(['Transient', 'Contract', 'Transient-Party', 'Group'], dtype=object)"
      ]
     },
     "execution_count": 65,
     "metadata": {},
     "output_type": "execute_result"
    }
   ],
   "source": [
    "df[\"customer_type\"].unique()"
   ]
  },
  {
   "cell_type": "code",
   "execution_count": 66,
   "metadata": {},
   "outputs": [
    {
     "data": {
      "image/png": "[encoded data removed]",
      "text/plain": [
       "<Figure size 432x288 with 1 Axes>"
      ]
     },
     "metadata": {
      "needs_background": "light"
     },
     "output_type": "display_data"
    }
   ],
   "source": [
    "df.boxplot(by = \"customer_type\", column = \"adr\")\n",
    "plt.show()"
   ]
  },
  {
   "cell_type": "markdown",
   "metadata": {},
   "source": [
    "one-hot encoding"
   ]
  },
  {
   "cell_type": "code",
   "execution_count": 67,
   "metadata": {},
   "outputs": [],
   "source": [
    "df[\"is_contract\"] = (df[\"customer_type\"] =='Contract').astype(int)\n",
    "df[\"is_group\"] = (df[\"customer_type\"] =='Group').astype(int)\n",
    "df[\"is_transient\"] = (df[\"customer_type\"] =='Transient').astype(int)\n",
    "df[\"is_transient_party\"] = (df[\"customer_type\"] =='Transient-Party').astype(int)\n",
    "df.drop(columns = \"customer_type\", inplace=True)"
   ]
  },
  {
   "cell_type": "markdown",
   "metadata": {},
   "source": [
    "### required_car_parking_spaces"
   ]
  },
  {
   "cell_type": "code",
   "execution_count": 68,
   "metadata": {},
   "outputs": [
    {
     "data": {
      "text/plain": [
       "(array([0, 1, 2, 3, 8], dtype=int64),\n",
       " array([110844,   7338,     28,      3,      2], dtype=int64))"
      ]
     },
     "execution_count": 68,
     "metadata": {},
     "output_type": "execute_result"
    }
   ],
   "source": [
    "np.unique(df[\"required_car_parking_spaces\"], return_counts = True)"
   ]
  },
  {
   "cell_type": "markdown",
   "metadata": {},
   "source": [
    "Binary encode because most are 0 or 1"
   ]
  },
  {
   "cell_type": "code",
   "execution_count": 69,
   "metadata": {},
   "outputs": [],
   "source": [
    "df[\"required_car_parking_spaces\"] = (df[\"required_car_parking_spaces\"] != 0).astype(int)"
   ]
  },
  {
   "cell_type": "markdown",
   "metadata": {},
   "source": [
    "### total_of_special_requests "
   ]
  },
  {
   "cell_type": "code",
   "execution_count": 70,
   "metadata": {},
   "outputs": [
    {
     "data": {
      "text/plain": [
       "array([0, 1, 3, 2, 4, 5], dtype=int64)"
      ]
     },
     "execution_count": 70,
     "metadata": {},
     "output_type": "execute_result"
    }
   ],
   "source": [
    "df[\"total_of_special_requests\"].unique()"
   ]
  },
  {
   "cell_type": "markdown",
   "metadata": {},
   "source": [
    "scaling"
   ]
  },
  {
   "cell_type": "markdown",
   "metadata": {},
   "source": [
    " ### reservation_status  "
   ]
  },
  {
   "cell_type": "code",
   "execution_count": 76,
   "metadata": {},
   "outputs": [
    {
     "data": {
      "text/plain": [
       "array(['Check-Out', 'Canceled', 'No-Show'], dtype=object)"
      ]
     },
     "execution_count": 76,
     "metadata": {},
     "output_type": "execute_result"
    }
   ],
   "source": [
    "df[\"reservation_status\"].unique()"
   ]
  },
  {
   "cell_type": "markdown",
   "metadata": {},
   "source": [
    "we want all"
   ]
  },
  {
   "cell_type": "code",
   "execution_count": 71,
   "metadata": {},
   "outputs": [],
   "source": [
    "#df = df.loc[df[\"reservation_status\"]=='Check-Out']\n",
    "df.drop(columns = \"reservation_status\", inplace=True)"
   ]
  },
  {
   "cell_type": "markdown",
   "metadata": {},
   "source": [
    "### reservation_status_date / stay_length"
   ]
  },
  {
   "cell_type": "markdown",
   "metadata": {},
   "source": [
    "Cant do this for cancelled becuase we dont know orginal checkout day"
   ]
  },
  {
   "cell_type": "markdown",
   "metadata": {},
   "source": [
    "### holiday"
   ]
  },
  {
   "cell_type": "code",
   "execution_count": 74,
   "metadata": {},
   "outputs": [
    {
     "data": {
      "text/html": [
       "<div>\n",
       "<style scoped>\n",
       "    .dataframe tbody tr th:only-of-type {\n",
       "        vertical-align: middle;\n",
       "    }\n",
       "\n",
       "    .dataframe tbody tr th {\n",
       "        vertical-align: top;\n",
       "    }\n",
       "\n",
       "    .dataframe thead th {\n",
       "        text-align: right;\n",
       "    }\n",
       "</style>\n",
       "<table border=\"1\" class=\"dataframe\">\n",
       "  <thead>\n",
       "    <tr style=\"text-align: right;\">\n",
       "      <th></th>\n",
       "      <th>index</th>\n",
       "      <th>is_canceled</th>\n",
       "      <th>lead_time</th>\n",
       "      <th>arrival_date_year</th>\n",
       "      <th>arrival_date_month</th>\n",
       "      <th>arrival_date_week_number</th>\n",
       "      <th>arrival_date_day_of_month</th>\n",
       "      <th>stays_in_weekend_nights</th>\n",
       "      <th>stays_in_week_nights</th>\n",
       "      <th>adults</th>\n",
       "      <th>...</th>\n",
       "      <th>gds_channel</th>\n",
       "      <th>ta_to_channel</th>\n",
       "      <th>no_deposit</th>\n",
       "      <th>refundable_deposit</th>\n",
       "      <th>nonrefundable_deposit</th>\n",
       "      <th>with_company</th>\n",
       "      <th>is_contract</th>\n",
       "      <th>is_group</th>\n",
       "      <th>is_transient</th>\n",
       "      <th>is_transient_party</th>\n",
       "    </tr>\n",
       "  </thead>\n",
       "  <tbody>\n",
       "    <tr>\n",
       "      <th>0</th>\n",
       "      <td>0</td>\n",
       "      <td>0</td>\n",
       "      <td>342</td>\n",
       "      <td>2015</td>\n",
       "      <td>7</td>\n",
       "      <td>27</td>\n",
       "      <td>1</td>\n",
       "      <td>0</td>\n",
       "      <td>0</td>\n",
       "      <td>2</td>\n",
       "      <td>...</td>\n",
       "      <td>0</td>\n",
       "      <td>0</td>\n",
       "      <td>1</td>\n",
       "      <td>0</td>\n",
       "      <td>0</td>\n",
       "      <td>0</td>\n",
       "      <td>0</td>\n",
       "      <td>0</td>\n",
       "      <td>1</td>\n",
       "      <td>0</td>\n",
       "    </tr>\n",
       "    <tr>\n",
       "      <th>1</th>\n",
       "      <td>1</td>\n",
       "      <td>0</td>\n",
       "      <td>737</td>\n",
       "      <td>2015</td>\n",
       "      <td>7</td>\n",
       "      <td>27</td>\n",
       "      <td>1</td>\n",
       "      <td>0</td>\n",
       "      <td>0</td>\n",
       "      <td>2</td>\n",
       "      <td>...</td>\n",
       "      <td>0</td>\n",
       "      <td>0</td>\n",
       "      <td>1</td>\n",
       "      <td>0</td>\n",
       "      <td>0</td>\n",
       "      <td>0</td>\n",
       "      <td>0</td>\n",
       "      <td>0</td>\n",
       "      <td>1</td>\n",
       "      <td>0</td>\n",
       "    </tr>\n",
       "    <tr>\n",
       "      <th>2</th>\n",
       "      <td>2</td>\n",
       "      <td>0</td>\n",
       "      <td>7</td>\n",
       "      <td>2015</td>\n",
       "      <td>7</td>\n",
       "      <td>27</td>\n",
       "      <td>1</td>\n",
       "      <td>0</td>\n",
       "      <td>1</td>\n",
       "      <td>1</td>\n",
       "      <td>...</td>\n",
       "      <td>0</td>\n",
       "      <td>0</td>\n",
       "      <td>1</td>\n",
       "      <td>0</td>\n",
       "      <td>0</td>\n",
       "      <td>0</td>\n",
       "      <td>0</td>\n",
       "      <td>0</td>\n",
       "      <td>1</td>\n",
       "      <td>0</td>\n",
       "    </tr>\n",
       "    <tr>\n",
       "      <th>3</th>\n",
       "      <td>3</td>\n",
       "      <td>0</td>\n",
       "      <td>13</td>\n",
       "      <td>2015</td>\n",
       "      <td>7</td>\n",
       "      <td>27</td>\n",
       "      <td>1</td>\n",
       "      <td>0</td>\n",
       "      <td>1</td>\n",
       "      <td>1</td>\n",
       "      <td>...</td>\n",
       "      <td>0</td>\n",
       "      <td>0</td>\n",
       "      <td>1</td>\n",
       "      <td>0</td>\n",
       "      <td>0</td>\n",
       "      <td>0</td>\n",
       "      <td>0</td>\n",
       "      <td>0</td>\n",
       "      <td>1</td>\n",
       "      <td>0</td>\n",
       "    </tr>\n",
       "    <tr>\n",
       "      <th>4</th>\n",
       "      <td>4</td>\n",
       "      <td>0</td>\n",
       "      <td>14</td>\n",
       "      <td>2015</td>\n",
       "      <td>7</td>\n",
       "      <td>27</td>\n",
       "      <td>1</td>\n",
       "      <td>0</td>\n",
       "      <td>2</td>\n",
       "      <td>2</td>\n",
       "      <td>...</td>\n",
       "      <td>0</td>\n",
       "      <td>1</td>\n",
       "      <td>1</td>\n",
       "      <td>0</td>\n",
       "      <td>0</td>\n",
       "      <td>0</td>\n",
       "      <td>0</td>\n",
       "      <td>0</td>\n",
       "      <td>1</td>\n",
       "      <td>0</td>\n",
       "    </tr>\n",
       "  </tbody>\n",
       "</table>\n",
       "<p>5 rows × 40 columns</p>\n",
       "</div>"
      ],
      "text/plain": [
       "   index  is_canceled  lead_time  arrival_date_year  arrival_date_month  \\\n",
       "0      0            0        342               2015                   7   \n",
       "1      1            0        737               2015                   7   \n",
       "2      2            0          7               2015                   7   \n",
       "3      3            0         13               2015                   7   \n",
       "4      4            0         14               2015                   7   \n",
       "\n",
       "   arrival_date_week_number  arrival_date_day_of_month  \\\n",
       "0                        27                          1   \n",
       "1                        27                          1   \n",
       "2                        27                          1   \n",
       "3                        27                          1   \n",
       "4                        27                          1   \n",
       "\n",
       "   stays_in_weekend_nights  stays_in_week_nights  adults  ...  gds_channel  \\\n",
       "0                        0                     0       2  ...            0   \n",
       "1                        0                     0       2  ...            0   \n",
       "2                        0                     1       1  ...            0   \n",
       "3                        0                     1       1  ...            0   \n",
       "4                        0                     2       2  ...            0   \n",
       "\n",
       "   ta_to_channel  no_deposit  refundable_deposit  nonrefundable_deposit  \\\n",
       "0              0           1                   0                      0   \n",
       "1              0           1                   0                      0   \n",
       "2              0           1                   0                      0   \n",
       "3              0           1                   0                      0   \n",
       "4              1           1                   0                      0   \n",
       "\n",
       "   with_company  is_contract  is_group  is_transient is_transient_party  \n",
       "0             0            0         0             1                  0  \n",
       "1             0            0         0             1                  0  \n",
       "2             0            0         0             1                  0  \n",
       "3             0            0         0             1                  0  \n",
       "4             0            0         0             1                  0  \n",
       "\n",
       "[5 rows x 40 columns]"
      ]
     },
     "execution_count": 74,
     "metadata": {},
     "output_type": "execute_result"
    }
   ],
   "source": [
    "df.head()"
   ]
  },
  {
   "cell_type": "code",
   "execution_count": 76,
   "metadata": {},
   "outputs": [],
   "source": [
    "df.drop(columns = [\"index\",\"reservation_status_date\", \"arrival_date_year\"], inplace=True)"
   ]
  },
  {
   "cell_type": "code",
   "execution_count": 77,
   "metadata": {},
   "outputs": [
    {
     "name": "stdout",
     "output_type": "stream",
     "text": [
      "<class 'pandas.core.frame.DataFrame'>\n",
      "RangeIndex: 118215 entries, 0 to 118214\n",
      "Data columns (total 37 columns):\n",
      " #   Column                          Non-Null Count   Dtype  \n",
      "---  ------                          --------------   -----  \n",
      " 0   is_canceled                     118215 non-null  int64  \n",
      " 1   lead_time                       118215 non-null  int64  \n",
      " 2   arrival_date_month              118215 non-null  int64  \n",
      " 3   arrival_date_week_number        118215 non-null  int64  \n",
      " 4   arrival_date_day_of_month       118215 non-null  int64  \n",
      " 5   stays_in_weekend_nights         118215 non-null  int64  \n",
      " 6   stays_in_week_nights            118215 non-null  int64  \n",
      " 7   adults                          118215 non-null  int64  \n",
      " 8   children                        118215 non-null  int64  \n",
      " 9   babies                          118215 non-null  int64  \n",
      " 10  is_repeated_guest               118215 non-null  int64  \n",
      " 11  previous_cancellations          118215 non-null  int64  \n",
      " 12  previous_bookings_not_canceled  118215 non-null  int64  \n",
      " 13  booking_changes                 118215 non-null  int64  \n",
      " 14  adr                             118215 non-null  float64\n",
      " 15  required_car_parking_spaces     118215 non-null  int32  \n",
      " 16  total_of_special_requests       118215 non-null  int64  \n",
      " 17  is_resort                       118215 non-null  int32  \n",
      " 18  bought_meal                     118215 non-null  int32  \n",
      " 19  is_international                118215 non-null  float64\n",
      " 20  aviation_segment                118215 non-null  int32  \n",
      " 21  corporate_segment               118215 non-null  int32  \n",
      " 22  groups_segment                  118215 non-null  int32  \n",
      " 23  offline_ta_to_segment           118215 non-null  int32  \n",
      " 24  online_ta_segment               118215 non-null  int32  \n",
      " 25  corporate_channel               118215 non-null  int32  \n",
      " 26  direct_channel                  118215 non-null  int32  \n",
      " 27  gds_channel                     118215 non-null  int32  \n",
      " 28  ta_to_channel                   118215 non-null  int32  \n",
      " 29  no_deposit                      118215 non-null  int32  \n",
      " 30  refundable_deposit              118215 non-null  int32  \n",
      " 31  nonrefundable_deposit           118215 non-null  int32  \n",
      " 32  with_company                    118215 non-null  int32  \n",
      " 33  is_contract                     118215 non-null  int32  \n",
      " 34  is_group                        118215 non-null  int32  \n",
      " 35  is_transient                    118215 non-null  int32  \n",
      " 36  is_transient_party              118215 non-null  int32  \n",
      "dtypes: float64(2), int32(20), int64(15)\n",
      "memory usage: 24.4 MB\n"
     ]
    }
   ],
   "source": [
    "df.info()"
   ]
  },
  {
   "cell_type": "code",
   "execution_count": 79,
   "metadata": {},
   "outputs": [],
   "source": [
    "df.to_csv(r'clean_data_xtra_features_for_cancelation.csv')"
   ]
  },
  {
   "cell_type": "code",
   "execution_count": null,
   "metadata": {},
   "outputs": [],
   "source": []
  }
 ],
 "metadata": {
  "kernelspec": {
   "display_name": "Python 3 (ipykernel)",
   "language": "python",
   "name": "python3"
  },
  "language_info": {
   "codemirror_mode": {
    "name": "ipython",
    "version": 3
   },
   "file_extension": ".py",
   "mimetype": "text/x-python",
   "name": "python",
   "nbconvert_exporter": "python",
   "pygments_lexer": "ipython3",
   "version": "3.9.7"
  }
 },
 "nbformat": 4,
 "nbformat_minor": 4
}
