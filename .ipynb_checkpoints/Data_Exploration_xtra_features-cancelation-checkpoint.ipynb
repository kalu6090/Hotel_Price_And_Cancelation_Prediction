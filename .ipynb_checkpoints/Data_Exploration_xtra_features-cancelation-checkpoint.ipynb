{
 "cells": [
  {
   "cell_type": "markdown",
   "metadata": {},
   "source": [
    "The purpose of this notebook is to look at our data, get important stats like the number of rows, etc as well as make some graphs, and take some screenshots for the presentation."
   ]
  },
  {
   "cell_type": "code",
   "execution_count": 1,
   "metadata": {},
   "outputs": [],
   "source": [
    "import pandas as pd\n",
    "from matplotlib import pyplot as plt\n",
    "import numpy as np"
   ]
  },
  {
   "cell_type": "code",
   "execution_count": 2,
   "metadata": {},
   "outputs": [],
   "source": [
    "df=pd.read_csv('Data/hotel_bookings.csv')"
   ]
  },
  {
   "cell_type": "code",
   "execution_count": 3,
   "metadata": {
    "scrolled": true
   },
   "outputs": [
    {
     "data": {
      "text/html": [
       "<div>\n",
       "<style scoped>\n",
       "    .dataframe tbody tr th:only-of-type {\n",
       "        vertical-align: middle;\n",
       "    }\n",
       "\n",
       "    .dataframe tbody tr th {\n",
       "        vertical-align: top;\n",
       "    }\n",
       "\n",
       "    .dataframe thead th {\n",
       "        text-align: right;\n",
       "    }\n",
       "</style>\n",
       "<table border=\"1\" class=\"dataframe\">\n",
       "  <thead>\n",
       "    <tr style=\"text-align: right;\">\n",
       "      <th></th>\n",
       "      <th>hotel</th>\n",
       "      <th>is_canceled</th>\n",
       "      <th>lead_time</th>\n",
       "      <th>arrival_date_year</th>\n",
       "      <th>arrival_date_month</th>\n",
       "      <th>arrival_date_week_number</th>\n",
       "      <th>arrival_date_day_of_month</th>\n",
       "      <th>stays_in_weekend_nights</th>\n",
       "      <th>stays_in_week_nights</th>\n",
       "      <th>adults</th>\n",
       "      <th>...</th>\n",
       "      <th>deposit_type</th>\n",
       "      <th>agent</th>\n",
       "      <th>company</th>\n",
       "      <th>days_in_waiting_list</th>\n",
       "      <th>customer_type</th>\n",
       "      <th>adr</th>\n",
       "      <th>required_car_parking_spaces</th>\n",
       "      <th>total_of_special_requests</th>\n",
       "      <th>reservation_status</th>\n",
       "      <th>reservation_status_date</th>\n",
       "    </tr>\n",
       "  </thead>\n",
       "  <tbody>\n",
       "    <tr>\n",
       "      <th>0</th>\n",
       "      <td>Resort Hotel</td>\n",
       "      <td>0</td>\n",
       "      <td>342</td>\n",
       "      <td>2015</td>\n",
       "      <td>July</td>\n",
       "      <td>27</td>\n",
       "      <td>1</td>\n",
       "      <td>0</td>\n",
       "      <td>0</td>\n",
       "      <td>2</td>\n",
       "      <td>...</td>\n",
       "      <td>No Deposit</td>\n",
       "      <td>NaN</td>\n",
       "      <td>NaN</td>\n",
       "      <td>0</td>\n",
       "      <td>Transient</td>\n",
       "      <td>0.0</td>\n",
       "      <td>0</td>\n",
       "      <td>0</td>\n",
       "      <td>Check-Out</td>\n",
       "      <td>2015-07-01</td>\n",
       "    </tr>\n",
       "    <tr>\n",
       "      <th>1</th>\n",
       "      <td>Resort Hotel</td>\n",
       "      <td>0</td>\n",
       "      <td>737</td>\n",
       "      <td>2015</td>\n",
       "      <td>July</td>\n",
       "      <td>27</td>\n",
       "      <td>1</td>\n",
       "      <td>0</td>\n",
       "      <td>0</td>\n",
       "      <td>2</td>\n",
       "      <td>...</td>\n",
       "      <td>No Deposit</td>\n",
       "      <td>NaN</td>\n",
       "      <td>NaN</td>\n",
       "      <td>0</td>\n",
       "      <td>Transient</td>\n",
       "      <td>0.0</td>\n",
       "      <td>0</td>\n",
       "      <td>0</td>\n",
       "      <td>Check-Out</td>\n",
       "      <td>2015-07-01</td>\n",
       "    </tr>\n",
       "    <tr>\n",
       "      <th>2</th>\n",
       "      <td>Resort Hotel</td>\n",
       "      <td>0</td>\n",
       "      <td>7</td>\n",
       "      <td>2015</td>\n",
       "      <td>July</td>\n",
       "      <td>27</td>\n",
       "      <td>1</td>\n",
       "      <td>0</td>\n",
       "      <td>1</td>\n",
       "      <td>1</td>\n",
       "      <td>...</td>\n",
       "      <td>No Deposit</td>\n",
       "      <td>NaN</td>\n",
       "      <td>NaN</td>\n",
       "      <td>0</td>\n",
       "      <td>Transient</td>\n",
       "      <td>75.0</td>\n",
       "      <td>0</td>\n",
       "      <td>0</td>\n",
       "      <td>Check-Out</td>\n",
       "      <td>2015-07-02</td>\n",
       "    </tr>\n",
       "    <tr>\n",
       "      <th>3</th>\n",
       "      <td>Resort Hotel</td>\n",
       "      <td>0</td>\n",
       "      <td>13</td>\n",
       "      <td>2015</td>\n",
       "      <td>July</td>\n",
       "      <td>27</td>\n",
       "      <td>1</td>\n",
       "      <td>0</td>\n",
       "      <td>1</td>\n",
       "      <td>1</td>\n",
       "      <td>...</td>\n",
       "      <td>No Deposit</td>\n",
       "      <td>304.0</td>\n",
       "      <td>NaN</td>\n",
       "      <td>0</td>\n",
       "      <td>Transient</td>\n",
       "      <td>75.0</td>\n",
       "      <td>0</td>\n",
       "      <td>0</td>\n",
       "      <td>Check-Out</td>\n",
       "      <td>2015-07-02</td>\n",
       "    </tr>\n",
       "    <tr>\n",
       "      <th>4</th>\n",
       "      <td>Resort Hotel</td>\n",
       "      <td>0</td>\n",
       "      <td>14</td>\n",
       "      <td>2015</td>\n",
       "      <td>July</td>\n",
       "      <td>27</td>\n",
       "      <td>1</td>\n",
       "      <td>0</td>\n",
       "      <td>2</td>\n",
       "      <td>2</td>\n",
       "      <td>...</td>\n",
       "      <td>No Deposit</td>\n",
       "      <td>240.0</td>\n",
       "      <td>NaN</td>\n",
       "      <td>0</td>\n",
       "      <td>Transient</td>\n",
       "      <td>98.0</td>\n",
       "      <td>0</td>\n",
       "      <td>1</td>\n",
       "      <td>Check-Out</td>\n",
       "      <td>2015-07-03</td>\n",
       "    </tr>\n",
       "  </tbody>\n",
       "</table>\n",
       "<p>5 rows × 32 columns</p>\n",
       "</div>"
      ],
      "text/plain": [
       "          hotel  is_canceled  lead_time  arrival_date_year arrival_date_month  \\\n",
       "0  Resort Hotel            0        342               2015               July   \n",
       "1  Resort Hotel            0        737               2015               July   \n",
       "2  Resort Hotel            0          7               2015               July   \n",
       "3  Resort Hotel            0         13               2015               July   \n",
       "4  Resort Hotel            0         14               2015               July   \n",
       "\n",
       "   arrival_date_week_number  arrival_date_day_of_month  \\\n",
       "0                        27                          1   \n",
       "1                        27                          1   \n",
       "2                        27                          1   \n",
       "3                        27                          1   \n",
       "4                        27                          1   \n",
       "\n",
       "   stays_in_weekend_nights  stays_in_week_nights  adults  ...  deposit_type  \\\n",
       "0                        0                     0       2  ...    No Deposit   \n",
       "1                        0                     0       2  ...    No Deposit   \n",
       "2                        0                     1       1  ...    No Deposit   \n",
       "3                        0                     1       1  ...    No Deposit   \n",
       "4                        0                     2       2  ...    No Deposit   \n",
       "\n",
       "   agent company days_in_waiting_list customer_type   adr  \\\n",
       "0    NaN     NaN                    0     Transient   0.0   \n",
       "1    NaN     NaN                    0     Transient   0.0   \n",
       "2    NaN     NaN                    0     Transient  75.0   \n",
       "3  304.0     NaN                    0     Transient  75.0   \n",
       "4  240.0     NaN                    0     Transient  98.0   \n",
       "\n",
       "   required_car_parking_spaces  total_of_special_requests  reservation_status  \\\n",
       "0                            0                          0           Check-Out   \n",
       "1                            0                          0           Check-Out   \n",
       "2                            0                          0           Check-Out   \n",
       "3                            0                          0           Check-Out   \n",
       "4                            0                          1           Check-Out   \n",
       "\n",
       "  reservation_status_date  \n",
       "0              2015-07-01  \n",
       "1              2015-07-01  \n",
       "2              2015-07-02  \n",
       "3              2015-07-02  \n",
       "4              2015-07-03  \n",
       "\n",
       "[5 rows x 32 columns]"
      ]
     },
     "execution_count": 3,
     "metadata": {},
     "output_type": "execute_result"
    }
   ],
   "source": [
    "df.head()"
   ]
  },
  {
   "cell_type": "code",
   "execution_count": 4,
   "metadata": {},
   "outputs": [
    {
     "name": "stdout",
     "output_type": "stream",
     "text": [
      "<class 'pandas.core.frame.DataFrame'>\n",
      "RangeIndex: 119390 entries, 0 to 119389\n",
      "Data columns (total 32 columns):\n",
      " #   Column                          Non-Null Count   Dtype  \n",
      "---  ------                          --------------   -----  \n",
      " 0   hotel                           119390 non-null  object \n",
      " 1   is_canceled                     119390 non-null  int64  \n",
      " 2   lead_time                       119390 non-null  int64  \n",
      " 3   arrival_date_year               119390 non-null  int64  \n",
      " 4   arrival_date_month              119390 non-null  object \n",
      " 5   arrival_date_week_number        119390 non-null  int64  \n",
      " 6   arrival_date_day_of_month       119390 non-null  int64  \n",
      " 7   stays_in_weekend_nights         119390 non-null  int64  \n",
      " 8   stays_in_week_nights            119390 non-null  int64  \n",
      " 9   adults                          119390 non-null  int64  \n",
      " 10  children                        119386 non-null  float64\n",
      " 11  babies                          119390 non-null  int64  \n",
      " 12  meal                            119390 non-null  object \n",
      " 13  country                         118902 non-null  object \n",
      " 14  market_segment                  119390 non-null  object \n",
      " 15  distribution_channel            119390 non-null  object \n",
      " 16  is_repeated_guest               119390 non-null  int64  \n",
      " 17  previous_cancellations          119390 non-null  int64  \n",
      " 18  previous_bookings_not_canceled  119390 non-null  int64  \n",
      " 19  reserved_room_type              119390 non-null  object \n",
      " 20  assigned_room_type              119390 non-null  object \n",
      " 21  booking_changes                 119390 non-null  int64  \n",
      " 22  deposit_type                    119390 non-null  object \n",
      " 23  agent                           103050 non-null  float64\n",
      " 24  company                         6797 non-null    float64\n",
      " 25  days_in_waiting_list            119390 non-null  int64  \n",
      " 26  customer_type                   119390 non-null  object \n",
      " 27  adr                             119390 non-null  float64\n",
      " 28  required_car_parking_spaces     119390 non-null  int64  \n",
      " 29  total_of_special_requests       119390 non-null  int64  \n",
      " 30  reservation_status              119390 non-null  object \n",
      " 31  reservation_status_date         119390 non-null  object \n",
      "dtypes: float64(4), int64(16), object(12)\n",
      "memory usage: 29.1+ MB\n"
     ]
    }
   ],
   "source": [
    "df.info()"
   ]
  },
  {
   "cell_type": "markdown",
   "metadata": {},
   "source": [
    "### Cleaning A.D.R"
   ]
  },
  {
   "cell_type": "code",
   "execution_count": 5,
   "metadata": {},
   "outputs": [
    {
     "data": {
      "image/png": "[encoded data removed]",
      "text/plain": [
       "<Figure size 432x288 with 1 Axes>"
      ]
     },
     "metadata": {
      "needs_background": "light"
     },
     "output_type": "display_data"
    }
   ],
   "source": [
    "df.boxplot(column = \"adr\")\n",
    "plt.show()"
   ]
  },
  {
   "cell_type": "markdown",
   "metadata": {},
   "source": [
    "There is very clearly an extreme outlier. It is fair to assume that a nightly hotel rate of over $5000 while all the others are in the low hundreds is a mistake and can be removed. "
   ]
  },
  {
   "cell_type": "code",
   "execution_count": 6,
   "metadata": {},
   "outputs": [],
   "source": [
    "df = df[df[\"adr\"] < 5000]"
   ]
  },
  {
   "cell_type": "code",
   "execution_count": 7,
   "metadata": {},
   "outputs": [
    {
     "data": {
      "image/png": "[encoded data removed]",
      "text/plain": [
       "<Figure size 432x288 with 1 Axes>"
      ]
     },
     "metadata": {
      "needs_background": "light"
     },
     "output_type": "display_data"
    }
   ],
   "source": [
    "df.boxplot(column = \"adr\")\n",
    "plt.show()"
   ]
  },
  {
   "cell_type": "markdown",
   "metadata": {},
   "source": [
    "This is clearly a lot more believable"
   ]
  },
  {
   "cell_type": "markdown",
   "metadata": {},
   "source": [
    "### Hotel"
   ]
  },
  {
   "cell_type": "code",
   "execution_count": 8,
   "metadata": {},
   "outputs": [
    {
     "data": {
      "image/png": "[encoded data removed]",
      "text/plain": [
       "<Figure size 432x288 with 1 Axes>"
      ]
     },
     "metadata": {
      "needs_background": "light"
     },
     "output_type": "display_data"
    }
   ],
   "source": [
    "df.boxplot(by = \"hotel\", column = \"adr\",)\n",
    "plt.show()"
   ]
  },
  {
   "cell_type": "markdown",
   "metadata": {},
   "source": [
    "In order to include the catagorical data of hotel type, we one-hot encode. "
   ]
  },
  {
   "cell_type": "code",
   "execution_count": 9,
   "metadata": {},
   "outputs": [],
   "source": [
    "df[\"is_resort\"] = (df[\"hotel\"] ==\"Resort Hotel\").astype(int)\n",
    "df.drop(columns = \"hotel\", inplace = True)"
   ]
  },
  {
   "cell_type": "markdown",
   "metadata": {},
   "source": [
    "### is_canceled"
   ]
  },
  {
   "cell_type": "markdown",
   "metadata": {},
   "source": [
    "We are removing bookings that were canceled because it is possible that price played a role in the reason they were canceled so these bookings are not a good indicator of what people are willing to pay and may lead to inaccurate results if used. "
   ]
  },
  {
   "cell_type": "code",
   "execution_count": 10,
   "metadata": {},
   "outputs": [],
   "source": [
    "df.drop(columns = \"is_canceled\", inplace = True)"
   ]
  },
  {
   "cell_type": "markdown",
   "metadata": {},
   "source": [
    "### lead_time"
   ]
  },
  {
   "cell_type": "code",
   "execution_count": 11,
   "metadata": {},
   "outputs": [
    {
     "data": {
      "image/png": "[encoded data removed]",
      "text/plain": [
       "<Figure size 432x288 with 1 Axes>"
      ]
     },
     "metadata": {
      "needs_background": "light"
     },
     "output_type": "display_data"
    }
   ],
   "source": [
    "df.boxplot(column = \"lead_time\")\n",
    "plt.show()\n",
    "#This wil likely need to be scaled"
   ]
  },
  {
   "cell_type": "markdown",
   "metadata": {},
   "source": [
    "### arrival_date_year"
   ]
  },
  {
   "cell_type": "markdown",
   "metadata": {},
   "source": [
    "We are removing this because we simply do not have enough years of data to capture any sort of inflation-driven trend of prices from year to year."
   ]
  },
  {
   "cell_type": "code",
   "execution_count": 12,
   "metadata": {},
   "outputs": [
    {
     "data": {
      "text/plain": [
       "<AxesSubplot:title={'center':'adr'}, xlabel='arrival_date_year'>"
      ]
     },
     "execution_count": 12,
     "metadata": {},
     "output_type": "execute_result"
    },
    {
     "data": {
      "image/png": "[encoded data removed]",
      "text/plain": [
       "<Figure size 432x288 with 1 Axes>"
      ]
     },
     "metadata": {
      "needs_background": "light"
     },
     "output_type": "display_data"
    }
   ],
   "source": [
    "df.boxplot(by = \"arrival_date_year\", column = \"adr\")"
   ]
  },
  {
   "cell_type": "code",
   "execution_count": 13,
   "metadata": {},
   "outputs": [],
   "source": [
    "#dropped later after the stay_length is made"
   ]
  },
  {
   "cell_type": "markdown",
   "metadata": {},
   "source": [
    "### arrival_date_month "
   ]
  },
  {
   "cell_type": "code",
   "execution_count": 14,
   "metadata": {},
   "outputs": [
    {
     "data": {
      "text/plain": [
       "array(['July', 'August', 'September', 'October', 'November', 'December',\n",
       "       'January', 'February', 'March', 'April', 'May', 'June'],\n",
       "      dtype=object)"
      ]
     },
     "execution_count": 14,
     "metadata": {},
     "output_type": "execute_result"
    }
   ],
   "source": [
    "df[\"arrival_date_month\"].unique()"
   ]
  },
  {
   "cell_type": "markdown",
   "metadata": {},
   "source": [
    "Convert these to ints"
   ]
  },
  {
   "cell_type": "code",
   "execution_count": 15,
   "metadata": {},
   "outputs": [],
   "source": [
    "def month_to_num(month):\n",
    "    months = ['January', 'February', 'March', 'April', 'May', 'June', 'July', 'August', 'September', 'October', 'November', 'December']\n",
    "    num = months.index(month)+1\n",
    "    return num\n",
    "df[\"arrival_date_month\"] =df[\"arrival_date_month\"].apply(month_to_num,convert_dtype=True)"
   ]
  },
  {
   "cell_type": "code",
   "execution_count": 16,
   "metadata": {},
   "outputs": [
    {
     "data": {
      "image/png": "[encoded data removed]",
      "text/plain": [
       "<Figure size 432x288 with 1 Axes>"
      ]
     },
     "metadata": {
      "needs_background": "light"
     },
     "output_type": "display_data"
    }
   ],
   "source": [
    "df.hist(column = \"arrival_date_month\")\n",
    "plt.show()"
   ]
  },
  {
   "cell_type": "markdown",
   "metadata": {},
   "source": [
    "It may be helpful to perform some sort of transformation on these predictors to capture the fact that they are cyclical <br>\n",
    "https://www.real-statistics.com/multiple-regression/multiple-regression-analysis/seasonal-regression-forecasts/"
   ]
  },
  {
   "cell_type": "markdown",
   "metadata": {},
   "source": [
    "### arrival_date_week_number"
   ]
  },
  {
   "cell_type": "code",
   "execution_count": 17,
   "metadata": {},
   "outputs": [
    {
     "data": {
      "text/plain": [
       "<AxesSubplot:>"
      ]
     },
     "execution_count": 17,
     "metadata": {},
     "output_type": "execute_result"
    },
    {
     "data": {
      "image/png": "[encoded data removed]",
      "text/plain": [
       "<Figure size 432x288 with 1 Axes>"
      ]
     },
     "metadata": {
      "needs_background": "light"
     },
     "output_type": "display_data"
    }
   ],
   "source": [
    "df[\"arrival_date_week_number\"].hist()"
   ]
  },
  {
   "cell_type": "markdown",
   "metadata": {},
   "source": [
    "Looks good, maybe some scaling or again something to capture the cyclical nature of this predictor."
   ]
  },
  {
   "cell_type": "markdown",
   "metadata": {},
   "source": [
    "### arrival_date_day_of_month  "
   ]
  },
  {
   "cell_type": "code",
   "execution_count": 18,
   "metadata": {},
   "outputs": [
    {
     "data": {
      "text/plain": [
       "<AxesSubplot:>"
      ]
     },
     "execution_count": 18,
     "metadata": {},
     "output_type": "execute_result"
    },
    {
     "data": {
      "image/png": "[encoded data removed]",
      "text/plain": [
       "<Figure size 432x288 with 1 Axes>"
      ]
     },
     "metadata": {
      "needs_background": "light"
     },
     "output_type": "display_data"
    }
   ],
   "source": [
    "df[\"arrival_date_day_of_month\"].hist()"
   ]
  },
  {
   "cell_type": "markdown",
   "metadata": {},
   "source": [
    "Looks good, maybe some scaling or again something to capture the cyclical nature of this predictor."
   ]
  },
  {
   "cell_type": "markdown",
   "metadata": {},
   "source": [
    "### stays_in_weekend_nights"
   ]
  },
  {
   "cell_type": "code",
   "execution_count": 19,
   "metadata": {},
   "outputs": [
    {
     "data": {
      "text/plain": [
       "<AxesSubplot:>"
      ]
     },
     "execution_count": 19,
     "metadata": {},
     "output_type": "execute_result"
    },
    {
     "data": {
      "image/png": "[encoded data removed]",
      "text/plain": [
       "<Figure size 432x288 with 1 Axes>"
      ]
     },
     "metadata": {
      "needs_background": "light"
     },
     "output_type": "display_data"
    }
   ],
   "source": [
    "df.boxplot(column=[\"stays_in_weekend_nights\"])"
   ]
  },
  {
   "cell_type": "markdown",
   "metadata": {},
   "source": [
    "Looks good may need scaling"
   ]
  },
  {
   "cell_type": "markdown",
   "metadata": {},
   "source": [
    "### stays_in_week_nights"
   ]
  },
  {
   "cell_type": "code",
   "execution_count": 20,
   "metadata": {},
   "outputs": [
    {
     "data": {
      "text/plain": [
       "<AxesSubplot:>"
      ]
     },
     "execution_count": 20,
     "metadata": {},
     "output_type": "execute_result"
    },
    {
     "data": {
      "image/png": "[encoded data removed]",
      "text/plain": [
       "<Figure size 432x288 with 1 Axes>"
      ]
     },
     "metadata": {
      "needs_background": "light"
     },
     "output_type": "display_data"
    }
   ],
   "source": [
    "df.boxplot(column=[\"stays_in_week_nights\"])"
   ]
  },
  {
   "cell_type": "markdown",
   "metadata": {},
   "source": [
    "Looks good may need scaling"
   ]
  },
  {
   "cell_type": "markdown",
   "metadata": {},
   "source": [
    "### adults"
   ]
  },
  {
   "cell_type": "code",
   "execution_count": 21,
   "metadata": {},
   "outputs": [
    {
     "data": {
      "text/plain": [
       "<AxesSubplot:>"
      ]
     },
     "execution_count": 21,
     "metadata": {},
     "output_type": "execute_result"
    },
    {
     "data": {
      "image/png": "[encoded data removed]",
      "text/plain": [
       "<Figure size 432x288 with 1 Axes>"
      ]
     },
     "metadata": {
      "needs_background": "light"
     },
     "output_type": "display_data"
    }
   ],
   "source": [
    "df.boxplot(column=[\"adults\"])"
   ]
  },
  {
   "cell_type": "markdown",
   "metadata": {},
   "source": [
    "Looks good may need scaling"
   ]
  },
  {
   "cell_type": "markdown",
   "metadata": {},
   "source": [
    "### children"
   ]
  },
  {
   "cell_type": "code",
   "execution_count": 22,
   "metadata": {},
   "outputs": [
    {
     "data": {
      "text/plain": [
       "array([ 0.,  1.,  2., 10.,  3., nan])"
      ]
     },
     "execution_count": 22,
     "metadata": {},
     "output_type": "execute_result"
    }
   ],
   "source": [
    "df[\"children\"].unique()"
   ]
  },
  {
   "cell_type": "markdown",
   "metadata": {},
   "source": [
    "Change to int and remove all nan values"
   ]
  },
  {
   "cell_type": "code",
   "execution_count": 23,
   "metadata": {},
   "outputs": [],
   "source": [
    "def nan_to_0_and_int(value):\n",
    "    if(np.isnan(value)):\n",
    "        return 0\n",
    "    else:\n",
    "        return int(value)\n",
    "df[\"children\"] =df[\"children\"].apply(nan_to_0_and_int,convert_dtype=True)"
   ]
  },
  {
   "cell_type": "code",
   "execution_count": 24,
   "metadata": {},
   "outputs": [
    {
     "data": {
      "text/plain": [
       "<AxesSubplot:>"
      ]
     },
     "execution_count": 24,
     "metadata": {},
     "output_type": "execute_result"
    },
    {
     "data": {
      "image/png": "[encoded data removed]",
      "text/plain": [
       "<Figure size 432x288 with 1 Axes>"
      ]
     },
     "metadata": {
      "needs_background": "light"
     },
     "output_type": "display_data"
    }
   ],
   "source": [
    "df.boxplot(column=[\"children\"])"
   ]
  },
  {
   "cell_type": "code",
   "execution_count": 25,
   "metadata": {},
   "outputs": [
    {
     "data": {
      "text/plain": [
       "array([ 0,  1,  2, 10,  3], dtype=int64)"
      ]
     },
     "execution_count": 25,
     "metadata": {},
     "output_type": "execute_result"
    }
   ],
   "source": [
    "df[\"children\"].unique()"
   ]
  },
  {
   "cell_type": "markdown",
   "metadata": {},
   "source": [
    "might need scaling. 10 children seems extreme but believable"
   ]
  },
  {
   "cell_type": "markdown",
   "metadata": {},
   "source": [
    "## babies"
   ]
  },
  {
   "cell_type": "code",
   "execution_count": 26,
   "metadata": {},
   "outputs": [
    {
     "data": {
      "text/plain": [
       "array([ 0,  1,  2, 10,  9], dtype=int64)"
      ]
     },
     "execution_count": 26,
     "metadata": {},
     "output_type": "execute_result"
    }
   ],
   "source": [
    "df[\"babies\"].unique()"
   ]
  },
  {
   "cell_type": "code",
   "execution_count": 27,
   "metadata": {
    "scrolled": true
   },
   "outputs": [
    {
     "data": {
      "text/plain": [
       "<AxesSubplot:>"
      ]
     },
     "execution_count": 27,
     "metadata": {},
     "output_type": "execute_result"
    },
    {
     "data": {
      "image/png": "[encoded data removed]",
      "text/plain": [
       "<Figure size 432x288 with 1 Axes>"
      ]
     },
     "metadata": {
      "needs_background": "light"
     },
     "output_type": "display_data"
    }
   ],
   "source": [
    "df.boxplot(column=[\"babies\"])"
   ]
  },
  {
   "cell_type": "markdown",
   "metadata": {},
   "source": [
    "looks good might need scaling"
   ]
  },
  {
   "cell_type": "markdown",
   "metadata": {},
   "source": [
    "### meal"
   ]
  },
  {
   "cell_type": "code",
   "execution_count": 28,
   "metadata": {},
   "outputs": [
    {
     "data": {
      "text/plain": [
       "(array(['BB', 'FB', 'HB', 'SC', 'Undefined'], dtype=object),\n",
       " array([92309,   798, 14463, 10650,  1169], dtype=int64))"
      ]
     },
     "execution_count": 28,
     "metadata": {},
     "output_type": "execute_result"
    }
   ],
   "source": [
    "np.unique(df[\"meal\"],return_counts=True)"
   ]
  },
  {
   "cell_type": "markdown",
   "metadata": {},
   "source": [
    "\"BB\" - breakfast only <br>\n",
    "\"FB\" - breakfast, lunch, and dinner <br>\n",
    "\"HB\" - dinner and breakfast <br>\n",
    "\"SC\" - no meals <br>\n",
    "<br>\n",
    "Drop rows for undefined meals and translate to binary bought_meal"
   ]
  },
  {
   "cell_type": "code",
   "execution_count": 29,
   "metadata": {},
   "outputs": [],
   "source": [
    "df.drop(df.loc[df[\"meal\"]=='Undefined'].index, inplace=True)\n",
    "df[\"bought_meal\"] = (df[\"meal\"] != 'SC').astype(int)\n",
    "df.drop(columns = \"meal\", inplace=True)"
   ]
  },
  {
   "cell_type": "markdown",
   "metadata": {},
   "source": [
    "### country"
   ]
  },
  {
   "cell_type": "code",
   "execution_count": 30,
   "metadata": {},
   "outputs": [
    {
     "name": "stdout",
     "output_type": "stream",
     "text": [
      "['ABW' 'AGO' 'AIA' 'ALB' 'AND' 'ARE' 'ARG' 'ARM' 'ASM' 'ATA' 'ATF' 'AUS'\n",
      " 'AUT' 'AZE' 'BDI' 'BEL' 'BEN' 'BFA' 'BGD' 'BGR' 'BHR' 'BHS' 'BIH' 'BLR'\n",
      " 'BOL' 'BRA' 'BRB' 'BWA' 'CAF' 'CHE' 'CHL' 'CHN' 'CIV' 'CMR' 'CN' 'COL'\n",
      " 'COM' 'CPV' 'CRI' 'CUB' 'CYM' 'CYP' 'CZE' 'DEU' 'DJI' 'DMA' 'DNK' 'DOM'\n",
      " 'DZA' 'ECU' 'EGY' 'ESP' 'EST' 'ETH' 'FIN' 'FJI' 'FRA' 'FRO' 'GAB' 'GBR'\n",
      " 'GEO' 'GGY' 'GHA' 'GIB' 'GLP' 'GNB' 'GRC' 'GTM' 'GUY' 'HKG' 'HND' 'HRV'\n",
      " 'HUN' 'IDN' 'IMN' 'IND' 'IRL' 'IRN' 'IRQ' 'ISL' 'ISR' 'ITA' 'JAM' 'JEY'\n",
      " 'JOR' 'JPN' 'KAZ' 'KEN' 'KHM' 'KIR' 'KNA' 'KOR' 'KWT' 'LAO' 'LBN' 'LBY'\n",
      " 'LCA' 'LIE' 'LKA' 'LTU' 'LUX' 'LVA' 'MAC' 'MAR' 'MCO' 'MDG' 'MDV' 'MEX'\n",
      " 'MKD' 'MLI' 'MLT' 'MMR' 'MNE' 'MOZ' 'MRT' 'MUS' 'MWI' 'MYS' 'MYT' 'NAM'\n",
      " 'NCL' 'NGA' 'NIC' 'NLD' 'NOR' 'NPL' 'NZL' 'OMN' 'PAK' 'PAN' 'PER' 'PHL'\n",
      " 'PLW' 'POL' 'PRI' 'PRT' 'PRY' 'PYF' 'QAT' 'ROU' 'RUS' 'RWA' 'SAU' 'SDN'\n",
      " 'SEN' 'SGP' 'SLE' 'SLV' 'SMR' 'SRB' 'STP' 'SUR' 'SVK' 'SVN' 'SWE' 'SYC'\n",
      " 'SYR' 'TGO' 'THA' 'TJK' 'TMP' 'TUN' 'TUR' 'TWN' 'TZA' 'UGA' 'UKR' 'UMI'\n",
      " 'URY' 'USA' 'UZB' 'VEN' 'VGB' 'VNM' 'ZAF' 'ZMB' 'ZWE' 'nan'] [    2   362     1    12     7    51   214     8     1     2     1   426\n",
      "  1263    17     1  2341     3     1    12    75     5     1    13    26\n",
      "    10  2222     4     1     5  1728    65   999     6    10  1270    71\n",
      "     2    24    19     8     1    51   171  7286     1     1   435    14\n",
      "   103    27    32  8271    83     3   446     1 10324     5     4 12109\n",
      "    22     3     4    18     2     9   128     4     1    29     1   100\n",
      "   230    34     2   151  3374    83    14    57   669  3763     6     8\n",
      "    21   197    19     6     2     1     2   133    16     2    31     8\n",
      "     1     3     7    81   287    55    16   259     4     1    12    85\n",
      "    10     1    18     1     5    67     1     7     2    28     2     1\n",
      "     1    34     1  2104   607     1    74    18    14     9    29    40\n",
      "     1   919    12 47890     4     1    15   499   632     2    48     1\n",
      "    11    39     1     2     1   101     2     5    65    57   990     2\n",
      "     3     2    59     9     3    39   248    51     5     2    68     1\n",
      "    32  2096     4    26     1     8    80     2     4   484]\n"
     ]
    }
   ],
   "source": [
    "countries, c_freq = np.unique(list(df[\"country\"]),return_counts=True)\n",
    "print(countries, c_freq)"
   ]
  },
  {
   "cell_type": "markdown",
   "metadata": {},
   "source": [
    "If there are 15 or less historical reservations from a particular country that is not really enough to draw any conclusions so any country that has 15 or less reservations will be added to an \"other\" group 'OTR' along with all 'nan' entries "
   ]
  },
  {
   "cell_type": "code",
   "execution_count": 31,
   "metadata": {},
   "outputs": [
    {
     "data": {
      "text/plain": [
       "\"\\ndef condense_countries(value):\\n    country_index = np.where(countries== value)[0]\\n    if(c_freq[country_index] <=15 or pd.isnull(value)):\\n        return 'OTR'\\n    else:\\n        return value\\n\""
      ]
     },
     "execution_count": 31,
     "metadata": {},
     "output_type": "execute_result"
    }
   ],
   "source": [
    "'''\n",
    "def condense_countries(value):\n",
    "    country_index = np.where(countries== value)[0]\n",
    "    if(c_freq[country_index] <=15 or pd.isnull(value)):\n",
    "        return 'OTR'\n",
    "    else:\n",
    "        return value\n",
    "'''"
   ]
  },
  {
   "cell_type": "code",
   "execution_count": 32,
   "metadata": {},
   "outputs": [
    {
     "data": {
      "text/plain": [
       "'\\nfor i, row in df.iterrows():\\n    df.at[i, \"country\"] = condense_countries(df.at[i,\\'country\\'])\\n'"
      ]
     },
     "execution_count": 32,
     "metadata": {},
     "output_type": "execute_result"
    }
   ],
   "source": [
    "'''\n",
    "for i, row in df.iterrows():\n",
    "    df.at[i, \"country\"] = condense_countries(df.at[i,'country'])\n",
    "'''"
   ]
  },
  {
   "cell_type": "code",
   "execution_count": 33,
   "metadata": {},
   "outputs": [
    {
     "name": "stdout",
     "output_type": "stream",
     "text": [
      "['ABW' 'AGO' 'AIA' 'ALB' 'AND' 'ARE' 'ARG' 'ARM' 'ASM' 'ATA' 'ATF' 'AUS'\n",
      " 'AUT' 'AZE' 'BDI' 'BEL' 'BEN' 'BFA' 'BGD' 'BGR' 'BHR' 'BHS' 'BIH' 'BLR'\n",
      " 'BOL' 'BRA' 'BRB' 'BWA' 'CAF' 'CHE' 'CHL' 'CHN' 'CIV' 'CMR' 'CN' 'COL'\n",
      " 'COM' 'CPV' 'CRI' 'CUB' 'CYM' 'CYP' 'CZE' 'DEU' 'DJI' 'DMA' 'DNK' 'DOM'\n",
      " 'DZA' 'ECU' 'EGY' 'ESP' 'EST' 'ETH' 'FIN' 'FJI' 'FRA' 'FRO' 'GAB' 'GBR'\n",
      " 'GEO' 'GGY' 'GHA' 'GIB' 'GLP' 'GNB' 'GRC' 'GTM' 'GUY' 'HKG' 'HND' 'HRV'\n",
      " 'HUN' 'IDN' 'IMN' 'IND' 'IRL' 'IRN' 'IRQ' 'ISL' 'ISR' 'ITA' 'JAM' 'JEY'\n",
      " 'JOR' 'JPN' 'KAZ' 'KEN' 'KHM' 'KIR' 'KNA' 'KOR' 'KWT' 'LAO' 'LBN' 'LBY'\n",
      " 'LCA' 'LIE' 'LKA' 'LTU' 'LUX' 'LVA' 'MAC' 'MAR' 'MCO' 'MDG' 'MDV' 'MEX'\n",
      " 'MKD' 'MLI' 'MLT' 'MMR' 'MNE' 'MOZ' 'MRT' 'MUS' 'MWI' 'MYS' 'MYT' 'NAM'\n",
      " 'NCL' 'NGA' 'NIC' 'NLD' 'NOR' 'NPL' 'NZL' 'OMN' 'PAK' 'PAN' 'PER' 'PHL'\n",
      " 'PLW' 'POL' 'PRI' 'PRT' 'PRY' 'PYF' 'QAT' 'ROU' 'RUS' 'RWA' 'SAU' 'SDN'\n",
      " 'SEN' 'SGP' 'SLE' 'SLV' 'SMR' 'SRB' 'STP' 'SUR' 'SVK' 'SVN' 'SWE' 'SYC'\n",
      " 'SYR' 'TGO' 'THA' 'TJK' 'TMP' 'TUN' 'TUR' 'TWN' 'TZA' 'UGA' 'UKR' 'UMI'\n",
      " 'URY' 'USA' 'UZB' 'VEN' 'VGB' 'VNM' 'ZAF' 'ZMB' 'ZWE' 'nan'] [    2   362     1    12     7    51   214     8     1     2     1   426\n",
      "  1263    17     1  2341     3     1    12    75     5     1    13    26\n",
      "    10  2222     4     1     5  1728    65   999     6    10  1270    71\n",
      "     2    24    19     8     1    51   171  7286     1     1   435    14\n",
      "   103    27    32  8271    83     3   446     1 10324     5     4 12109\n",
      "    22     3     4    18     2     9   128     4     1    29     1   100\n",
      "   230    34     2   151  3374    83    14    57   669  3763     6     8\n",
      "    21   197    19     6     2     1     2   133    16     2    31     8\n",
      "     1     3     7    81   287    55    16   259     4     1    12    85\n",
      "    10     1    18     1     5    67     1     7     2    28     2     1\n",
      "     1    34     1  2104   607     1    74    18    14     9    29    40\n",
      "     1   919    12 47890     4     1    15   499   632     2    48     1\n",
      "    11    39     1     2     1   101     2     5    65    57   990     2\n",
      "     3     2    59     9     3    39   248    51     5     2    68     1\n",
      "    32  2096     4    26     1     8    80     2     4   484]\n"
     ]
    }
   ],
   "source": [
    "countries, c_freq = np.unique(list(df[\"country\"]),return_counts=True)\n",
    "print(countries, c_freq)"
   ]
  },
  {
   "cell_type": "code",
   "execution_count": 34,
   "metadata": {},
   "outputs": [],
   "source": [
    "df.drop(df.loc[df[\"country\"]== 'nan'].index, inplace=True)"
   ]
  },
  {
   "cell_type": "code",
   "execution_count": 37,
   "metadata": {},
   "outputs": [
    {
     "name": "stderr",
     "output_type": "stream",
     "text": [
      "C:\\Users\\KATYLU~2\\AppData\\Local\\Temp/ipykernel_34864/2471700041.py:6: DeprecationWarning: The default dtype for empty Series will be 'object' instead of 'float64' in a future version. Specify a dtype explicitly to silence this warning.\n",
      "  df[\"is_international\"] = pd.Series()\n"
     ]
    }
   ],
   "source": [
    "def is_PRT(country):\n",
    "    if country == \"PRT\":\n",
    "        return True\n",
    "    else:\n",
    "        return False\n",
    "df[\"is_international\"] = pd.Series()\n",
    "for i, row in df.iterrows():\n",
    "    df.at[i, \"is_international\"] = int(is_PRT(df.at[i,'country']))"
   ]
  },
  {
   "cell_type": "code",
   "execution_count": 39,
   "metadata": {},
   "outputs": [
    {
     "data": {
      "text/plain": [
       "<AxesSubplot:>"
      ]
     },
     "execution_count": 39,
     "metadata": {},
     "output_type": "execute_result"
    },
    {
     "data": {
      "image/png": "[encoded data removed]",
      "text/plain": [
       "<Figure size 1440x360 with 1 Axes>"
      ]
     },
     "metadata": {
      "needs_background": "light"
     },
     "output_type": "display_data"
    }
   ],
   "source": [
    "fig, ax = plt.subplots(figsize=(20,5))\n",
    "df['is_international'].value_counts().plot.bar(ax=ax, rot=90)"
   ]
  },
  {
   "cell_type": "markdown",
   "metadata": {},
   "source": [
    "We have 2 options here. We can one-hot encode the remaining countries OR we can change this into a binary is_international (Both hotels are located in PRT according to paper) is_international would be probably most helpful, but my guess is that or something similar will happen in PCA, is_PRT ranking much higher than any other on-hot encoded country"
   ]
  },
  {
   "cell_type": "code",
   "execution_count": 41,
   "metadata": {},
   "outputs": [
    {
     "data": {
      "image/png": "[encoded data removed]",
      "text/plain": [
       "<Figure size 432x288 with 1 Axes>"
      ]
     },
     "metadata": {
      "needs_background": "light"
     },
     "output_type": "display_data"
    }
   ],
   "source": [
    "df.boxplot(by = \"is_international\", column = \"adr\",)\n",
    "plt.show()"
   ]
  },
  {
   "cell_type": "markdown",
   "metadata": {},
   "source": [
    "Leaning towards dropping this feature/ or converting it to is_international if we can find somehwere that the hotels are in pact in PRT"
   ]
  },
  {
   "cell_type": "code",
   "execution_count": null,
   "metadata": {},
   "outputs": [],
   "source": []
  },
  {
   "cell_type": "code",
   "execution_count": 42,
   "metadata": {},
   "outputs": [],
   "source": [
    "#df[\"is_international\"] = (df[\"country\"] == 'PRT').astype(int)\n",
    "#If you want to do this you need to drop all nan rows"
   ]
  },
  {
   "cell_type": "code",
   "execution_count": 43,
   "metadata": {},
   "outputs": [],
   "source": [
    "df.drop(columns = \"country\", inplace=True)"
   ]
  },
  {
   "cell_type": "markdown",
   "metadata": {},
   "source": [
    "### market_segment"
   ]
  },
  {
   "cell_type": "code",
   "execution_count": 44,
   "metadata": {},
   "outputs": [
    {
     "data": {
      "text/plain": [
       "(array(['Aviation', 'Complementary', 'Corporate', 'Direct', 'Groups',\n",
       "        'Offline TA/TO', 'Online TA', 'Undefined'], dtype=object),\n",
       " array([  237,   737,  5280, 12533, 19010, 23960, 56461,     2],\n",
       "       dtype=int64))"
      ]
     },
     "execution_count": 44,
     "metadata": {},
     "output_type": "execute_result"
    }
   ],
   "source": [
    "np.unique(df[\"market_segment\"], return_counts=True)"
   ]
  },
  {
   "cell_type": "markdown",
   "metadata": {},
   "source": [
    "Drop all rows for complementary stays since we don't want to predict that we should give things away for free"
   ]
  },
  {
   "cell_type": "code",
   "execution_count": 45,
   "metadata": {},
   "outputs": [],
   "source": [
    "df.drop(df.loc[df[\"market_segment\"]==\"Complementary\"].index, inplace=True)"
   ]
  },
  {
   "cell_type": "code",
   "execution_count": 46,
   "metadata": {},
   "outputs": [],
   "source": [
    "df.drop(df.loc[df[\"adr\"]==0].index, inplace=True)"
   ]
  },
  {
   "cell_type": "code",
   "execution_count": 47,
   "metadata": {},
   "outputs": [
    {
     "data": {
      "image/png": "[encoded data removed]",
      "text/plain": [
       "<Figure size 1440x360 with 1 Axes>"
      ]
     },
     "metadata": {
      "needs_background": "light"
     },
     "output_type": "display_data"
    }
   ],
   "source": [
    "fig, ax = plt.subplots(figsize=(20,5))\n",
    "df.boxplot(by = \"market_segment\", column = \"adr\",ax=ax)\n",
    "plt.show()"
   ]
  },
  {
   "cell_type": "markdown",
   "metadata": {},
   "source": [
    "one-hot encode"
   ]
  },
  {
   "cell_type": "code",
   "execution_count": 48,
   "metadata": {},
   "outputs": [],
   "source": [
    "df.drop(df.loc[df[\"market_segment\"]==\"Undefined\"].index, inplace=True)\n",
    "df[\"aviation_segment\"] = (df[\"market_segment\"] =='Aviation').astype(int)\n",
    "df[\"corporate_segment\"] = (df[\"market_segment\"] =='Corporate').astype(int)\n",
    "df[\"groups_segment\"] = (df[\"market_segment\"] =='Groups').astype(int)\n",
    "df[\"offline_ta_to_segment\"] = (df[\"market_segment\"] =='Offline TA/TO').astype(int)\n",
    "df[\"online_ta_segment\"] = (df[\"market_segment\"] =='Online TA').astype(int)\n",
    "df.drop(columns = \"market_segment\", inplace=True)"
   ]
  },
  {
   "cell_type": "markdown",
   "metadata": {},
   "source": [
    "### distribution_channel"
   ]
  },
  {
   "cell_type": "code",
   "execution_count": 49,
   "metadata": {},
   "outputs": [
    {
     "data": {
      "text/plain": [
       "array(['Direct', 'Corporate', 'TA/TO', 'Undefined', 'GDS'], dtype=object)"
      ]
     },
     "execution_count": 49,
     "metadata": {},
     "output_type": "execute_result"
    }
   ],
   "source": [
    "df[\"distribution_channel\"].unique()"
   ]
  },
  {
   "cell_type": "code",
   "execution_count": 50,
   "metadata": {},
   "outputs": [
    {
     "data": {
      "image/png": "[encoded data removed]",
      "text/plain": [
       "<Figure size 1440x360 with 1 Axes>"
      ]
     },
     "metadata": {
      "needs_background": "light"
     },
     "output_type": "display_data"
    }
   ],
   "source": [
    "fig, ax = plt.subplots(figsize=(20,5))\n",
    "df.boxplot(by = \"distribution_channel\", column = \"adr\",ax=ax)\n",
    "plt.show()"
   ]
  },
  {
   "cell_type": "markdown",
   "metadata": {},
   "source": [
    "one-hot encode, drop undefined rows "
   ]
  },
  {
   "cell_type": "code",
   "execution_count": 51,
   "metadata": {},
   "outputs": [],
   "source": [
    "df.drop(df.loc[df[\"distribution_channel\"]==\"Undefined\"].index, inplace=True)\n",
    "df[\"corporate_channel\"] = (df[\"distribution_channel\"] =='Corporate').astype(int)\n",
    "df[\"direct_channel\"] = (df[\"distribution_channel\"] =='Direct').astype(int)\n",
    "df[\"gds_channel\"] = (df[\"distribution_channel\"] =='GDS').astype(int)\n",
    "df[\"ta_to_channel\"] = (df[\"distribution_channel\"] =='TA/TO').astype(int)\n",
    "df.drop(columns = \"distribution_channel\", inplace=True)"
   ]
  },
  {
   "cell_type": "markdown",
   "metadata": {},
   "source": [
    "### is_repeated_guest"
   ]
  },
  {
   "cell_type": "code",
   "execution_count": 52,
   "metadata": {},
   "outputs": [
    {
     "data": {
      "text/plain": [
       "array([0, 1], dtype=int64)"
      ]
     },
     "execution_count": 52,
     "metadata": {},
     "output_type": "execute_result"
    }
   ],
   "source": [
    "df[\"is_repeated_guest\"].unique()"
   ]
  },
  {
   "cell_type": "code",
   "execution_count": 53,
   "metadata": {},
   "outputs": [
    {
     "data": {
      "image/png": "[encoded data removed]",
      "text/plain": [
       "<Figure size 432x288 with 1 Axes>"
      ]
     },
     "metadata": {
      "needs_background": "light"
     },
     "output_type": "display_data"
    }
   ],
   "source": [
    "df.boxplot(by = \"is_repeated_guest\", column = \"adr\")\n",
    "plt.show()"
   ]
  },
  {
   "cell_type": "markdown",
   "metadata": {},
   "source": [
    "literally perfect as is "
   ]
  },
  {
   "cell_type": "markdown",
   "metadata": {},
   "source": [
    "### previous_cancellations"
   ]
  },
  {
   "cell_type": "code",
   "execution_count": 54,
   "metadata": {},
   "outputs": [
    {
     "data": {
      "text/plain": [
       "(array([ 0,  1,  2,  3,  4,  5,  6, 11, 13, 14, 19, 21, 24, 25, 26],\n",
       "       dtype=int64),\n",
       " array([109913,   5933,     96,     57,     16,     14,     22,     35,\n",
       "            12,     14,     19,      1,     48,     25,     26],\n",
       "       dtype=int64))"
      ]
     },
     "execution_count": 54,
     "metadata": {},
     "output_type": "execute_result"
    }
   ],
   "source": [
    "np.unique(df[\"previous_cancellations\"], return_counts=True)"
   ]
  },
  {
   "cell_type": "markdown",
   "metadata": {},
   "source": [
    "may neeed scaling"
   ]
  },
  {
   "cell_type": "markdown",
   "metadata": {},
   "source": [
    "### previous_bookings_not_canceled"
   ]
  },
  {
   "cell_type": "code",
   "execution_count": 55,
   "metadata": {},
   "outputs": [
    {
     "data": {
      "text/plain": [
       "(array([ 0,  1,  2,  3,  4,  5,  6,  7,  8,  9, 10, 11, 12, 13, 14, 15, 16,\n",
       "        17, 18, 19, 20, 21, 22, 23, 24, 25, 26, 27, 28, 29, 30, 31, 32, 33,\n",
       "        34, 35, 36, 37, 38, 39, 40, 41, 42, 43, 44, 45, 46, 47, 48, 49, 50,\n",
       "        51, 52, 53, 54, 55, 56, 57, 58, 59, 60, 61, 62, 63, 64, 65, 66, 67,\n",
       "        68, 69, 70, 71, 72], dtype=int64),\n",
       " array([112899,   1437,    546,    308,    215,    166,    106,     78,\n",
       "            65,     53,     46,     36,     32,     25,     23,     16,\n",
       "            17,     12,     11,      9,      9,     10,      9,      6,\n",
       "             8,     16,      6,      8,      6,      5,      3,      1,\n",
       "             1,      1,      1,      1,      1,      1,      1,      1,\n",
       "             1,      1,      1,      1,      2,      1,      1,      1,\n",
       "             2,      1,      1,      1,      1,      1,      1,      1,\n",
       "             1,      1,      2,      1,      1,      1,      1,      1,\n",
       "             1,      1,      1,      1,      1,      1,      1,      1,\n",
       "             1], dtype=int64))"
      ]
     },
     "execution_count": 55,
     "metadata": {},
     "output_type": "execute_result"
    }
   ],
   "source": [
    "np.unique(df[\"previous_bookings_not_canceled\"], return_counts=True)"
   ]
  },
  {
   "cell_type": "markdown",
   "metadata": {},
   "source": [
    "may need scaling"
   ]
  },
  {
   "cell_type": "markdown",
   "metadata": {},
   "source": [
    "### reserved_room_type/assigned_room_type"
   ]
  },
  {
   "cell_type": "code",
   "execution_count": 56,
   "metadata": {},
   "outputs": [
    {
     "data": {
      "text/plain": [
       "array(['C', 'A', 'D', 'E', 'G', 'F', 'I', 'B', 'H', 'L', 'K'],\n",
       "      dtype=object)"
      ]
     },
     "execution_count": 56,
     "metadata": {},
     "output_type": "execute_result"
    }
   ],
   "source": [
    "df[\"assigned_room_type\"].unique()"
   ]
  },
  {
   "cell_type": "code",
   "execution_count": 57,
   "metadata": {},
   "outputs": [
    {
     "data": {
      "text/plain": [
       "array(['A', 'C', 'D', 'E', 'G', 'F', 'H', 'L', 'B'], dtype=object)"
      ]
     },
     "execution_count": 57,
     "metadata": {},
     "output_type": "execute_result"
    }
   ],
   "source": [
    "df[\"reserved_room_type\"].unique()"
   ]
  },
  {
   "cell_type": "markdown",
   "metadata": {},
   "source": [
    "assigned_room_type/reserved_room_type codes don't actually map to anything. So we don't know which one of these is a suite and which is a king for example. The only information we could get from this is if there is any significance to them staying in a different room than was booked (for example: upgraded at checkin, free upgrade, got moved due to overbooking) however, this is not information that someone would have when trying to predict for a future stay what the price should be and therefor these will be removed."
   ]
  },
  {
   "cell_type": "markdown",
   "metadata": {},
   "source": [
    "However, we could keep \"reserved room type\" simply to show that there is a large/small correlation in a better room and the amount paid, or we could remove this and go for more generalized predictions independent of room type "
   ]
  },
  {
   "cell_type": "code",
   "execution_count": 58,
   "metadata": {},
   "outputs": [],
   "source": [
    "df.drop(columns = [\"reserved_room_type\",\"assigned_room_type\"], inplace = True)"
   ]
  },
  {
   "cell_type": "markdown",
   "metadata": {},
   "source": [
    "### booking_changes"
   ]
  },
  {
   "cell_type": "code",
   "execution_count": 59,
   "metadata": {},
   "outputs": [
    {
     "data": {
      "text/plain": [
       "<AxesSubplot:>"
      ]
     },
     "execution_count": 59,
     "metadata": {},
     "output_type": "execute_result"
    },
    {
     "data": {
      "image/png": "[encoded data removed]",
      "text/plain": [
       "<Figure size 432x288 with 1 Axes>"
      ]
     },
     "metadata": {
      "needs_background": "light"
     },
     "output_type": "display_data"
    }
   ],
   "source": [
    "df[\"booking_changes\"].hist()"
   ]
  },
  {
   "cell_type": "markdown",
   "metadata": {},
   "source": [
    "scaling maybe"
   ]
  },
  {
   "cell_type": "markdown",
   "metadata": {},
   "source": [
    "### deposit_type"
   ]
  },
  {
   "cell_type": "code",
   "execution_count": 60,
   "metadata": {},
   "outputs": [
    {
     "data": {
      "text/plain": [
       "array(['No Deposit', 'Refundable', 'Non Refund'], dtype=object)"
      ]
     },
     "execution_count": 60,
     "metadata": {},
     "output_type": "execute_result"
    }
   ],
   "source": [
    "df[\"deposit_type\"].unique()"
   ]
  },
  {
   "cell_type": "markdown",
   "metadata": {},
   "source": [
    "one-hot encode"
   ]
  },
  {
   "cell_type": "code",
   "execution_count": 61,
   "metadata": {},
   "outputs": [],
   "source": [
    "df[\"no_deposit\"] = (df[\"deposit_type\"] =='No Deposit').astype(int)\n",
    "df[\"refundable_deposit\"] = (df[\"deposit_type\"] =='Refundable').astype(int)\n",
    "df[\"nonrefundable_deposit\"] = (df[\"deposit_type\"] =='Non Refundable').astype(int)\n",
    "df.drop(columns = \"deposit_type\", inplace=True)\n"
   ]
  },
  {
   "cell_type": "markdown",
   "metadata": {},
   "source": [
    "### agent"
   ]
  },
  {
   "cell_type": "code",
   "execution_count": 62,
   "metadata": {},
   "outputs": [
    {
     "data": {
      "text/plain": [
       "(array([  1.,   2.,   3.,   4.,   5.,   6.,   7.,   8.,   9.,  10.,  11.,\n",
       "         12.,  13.,  14.,  15.,  16.,  17.,  19.,  20.,  21.,  22.,  23.,\n",
       "         24.,  25.,  26.,  27.,  28.,  29.,  30.,  31.,  32.,  33.,  34.,\n",
       "         35.,  36.,  37.,  38.,  39.,  40.,  41.,  42.,  44.,  47.,  50.,\n",
       "         52.,  53.,  54.,  55.,  56.,  57.,  58.,  59.,  60.,  61.,  63.,\n",
       "         64.,  66.,  67.,  68.,  69.,  70.,  71.,  72.,  73.,  74.,  75.,\n",
       "         77.,  78.,  79.,  81.,  82.,  83.,  85.,  86.,  87.,  88.,  89.,\n",
       "         90.,  91.,  92.,  93.,  94.,  95.,  96.,  98.,  99., 103., 104.,\n",
       "        105., 106., 107., 110., 111., 112., 114., 115., 117., 118., 119.,\n",
       "        121., 122., 126., 127., 128., 129., 132., 133., 134., 135., 138.,\n",
       "        139., 141., 142., 143., 144., 146., 147., 148., 149., 150., 151.,\n",
       "        152., 153., 154., 155., 156., 157., 158., 159., 162., 163., 165.,\n",
       "        167., 168., 170., 171., 173., 174., 175., 177., 179., 180., 181.,\n",
       "        182., 183., 184., 185., 187., 191., 192., 193., 195., 196., 197.,\n",
       "        201., 205., 208., 210., 211., 213., 214., 215., 216., 219., 220.,\n",
       "        223., 227., 229., 232., 234., 235., 236., 240., 241., 242., 243.,\n",
       "        244., 245., 247., 248., 249., 250., 251., 252., 253., 254., 256.,\n",
       "        257., 258., 261., 262., 265., 267., 269., 270., 273., 275., 276.,\n",
       "        278., 280., 281., 282., 283., 285., 286., 287., 288., 289., 290.,\n",
       "        291., 294., 295., 296., 298., 299., 300., 301., 303., 304., 305.,\n",
       "        306., 307., 308., 310., 313., 314., 315., 321., 323., 324., 325.,\n",
       "        326., 327., 328., 330., 331., 332., 333., 334., 335., 336., 337.,\n",
       "        339., 341., 344., 346., 348., 352., 354., 355., 358., 359., 360.,\n",
       "        363., 364., 367., 368., 370., 371., 375., 378., 384., 385., 387.,\n",
       "        388., 390., 391., 393., 394., 397., 403., 404., 405., 406., 408.,\n",
       "        410., 411., 414., 416., 418., 420., 423., 425., 426., 427., 429.,\n",
       "        430., 431., 432., 433., 434., 436., 438., 440., 441., 444., 446.,\n",
       "        449., 450., 451., 453., 454., 455., 459., 461., 464., 467., 468.,\n",
       "        469., 474., 475., 476., 479., 480., 481., 483., 484., 492., 493.,\n",
       "        495., 497., 502., 508., 509., 510., 526., 531., 535.,  nan]),\n",
       " array([ 7078,   154,  1315,    44,   326,  3209,  3517,  1496, 31857,\n",
       "          258,   392,   568,    82,  3620,   388,   246,   239,  1053,\n",
       "          527,   869,   379,    25,    22,     2,   395,   447,  1637,\n",
       "          683,   480,   162,    15,    31,   292,   107,    99,  1228,\n",
       "          176,   125,  1000,    75,   207,   291,    49,    18,   134,\n",
       "           18,     1,    16,   371,    28,   335,     1,    19,     2,\n",
       "           29,    23,    44,    43,   146,    87,     1,    73,     6,\n",
       "            1,    20,    71,    33,    36,    47,     6,    77,   687,\n",
       "          549,   336,    76,    19,    97,     1,    58,     7,     1,\n",
       "          104,   131,   507,   123,    67,    21,    53,    14,     2,\n",
       "            2,    12,    16,    14,     1,   221,     1,    67,   301,\n",
       "           37,     2,    14,    42,    23,    14,   139,    56,   362,\n",
       "            2,   286,     8,     4,   134,   172,     1,   123,   154,\n",
       "            4,    28,     4,    55,   182,    25,   192,    91,   187,\n",
       "           61,     1,    86,    37,     7,     1,     3,   181,    93,\n",
       "          601,    29,    22,   195,   341,     2,     3,    55,     7,\n",
       "           45,    48,    77,    23,   197,    41,    14,   189,   266,\n",
       "            1,    42,    27,   167,     7,     2,     1,     5,    15,\n",
       "            1,    13,   104,    18,     2,   769,     2,   127,    29,\n",
       "          247, 13786,  1704,   766,   510,     4,    37,     1,   129,\n",
       "           48,  2802,   220,    29,    83,    29,    23,    24,     3,\n",
       "           37,    21,     1,     1,     2,     6,   341,     8,     8,\n",
       "            1,     1,    81,     2,     1,     1,    45,     8,    14,\n",
       "            1,    18,     1,     1,     4,    42,   467,     1,     1,\n",
       "            1,     2,     1,    43,    34,    13,     5,    25,     2,\n",
       "          888,   278,     2,    25,     9,     6,   165,    20,     9,\n",
       "          124,     2,    52,     1,    28,     4,    23,     1,    73,\n",
       "            2,     8,     1,    22,     1,    13,     4,     1,    21,\n",
       "           15,     1,    19,     1,    43,     3,     3,    39,    36,\n",
       "            2,    13,     2,     1,    57,     2,    12,    32,     1,\n",
       "            4,     2,     5,     1,     1,   133,    14,     2,     1,\n",
       "            8,     3,    19,    16,     3,     3,     2,     4,     1,\n",
       "            1,     1,    33,    49,     2,    56,     7,     1,     1,\n",
       "            2,     1,     1,     1,     2,    19,    15,     2,     9,\n",
       "           39,    49,     2,    17,     8,     2,    31,     1,     8,\n",
       "            1,    11,    28,    35,    57,     1,    23,     6,    10,\n",
       "            2,    10,    65,     3, 15009], dtype=int64))"
      ]
     },
     "execution_count": 62,
     "metadata": {},
     "output_type": "execute_result"
    }
   ],
   "source": [
    "np.unique(df[\"agent\"], return_counts = True)"
   ]
  },
  {
   "cell_type": "markdown",
   "metadata": {},
   "source": [
    "These ids correspond to different travel agents. This means nothing to us. delete"
   ]
  },
  {
   "cell_type": "code",
   "execution_count": 63,
   "metadata": {},
   "outputs": [],
   "source": [
    "df.drop(columns = \"agent\", inplace=True)"
   ]
  },
  {
   "cell_type": "markdown",
   "metadata": {},
   "source": [
    "### company"
   ]
  },
  {
   "cell_type": "code",
   "execution_count": 64,
   "metadata": {},
   "outputs": [
    {
     "data": {
      "text/plain": [
       "(array([  6.,   8.,   9.,  10.,  11.,  12.,  14.,  16.,  18.,  20.,  22.,\n",
       "         28.,  29.,  31.,  32.,  34.,  37.,  38.,  39.,  40.,  42.,  43.,\n",
       "         45.,  46.,  47.,  48.,  49.,  51.,  52.,  53.,  54.,  59.,  61.,\n",
       "         62.,  64.,  65.,  67.,  68.,  71.,  72.,  73.,  76.,  77.,  78.,\n",
       "         80.,  81.,  82.,  83.,  84.,  85.,  86.,  88.,  91.,  92.,  93.,\n",
       "         94.,  96.,  99., 100., 101., 102., 103., 104., 105., 106., 107.,\n",
       "        108., 109., 110., 112., 113., 115., 116., 118., 120., 122., 127.,\n",
       "        130., 132., 135., 137., 139., 140., 142., 143., 144., 146., 148.,\n",
       "        149., 150., 153., 154., 158., 159., 160., 163., 165., 167., 168.,\n",
       "        169., 174., 178., 179., 180., 183., 184., 185., 186., 192., 193.,\n",
       "        195., 197., 200., 202., 203., 204., 207., 209., 210., 212., 213.,\n",
       "        215., 216., 217., 218., 219., 220., 221., 222., 223., 224., 225.,\n",
       "        227., 229., 230., 232., 233., 237., 238., 240., 242., 243., 245.,\n",
       "        246., 250., 251., 253., 254., 255., 257., 258., 259., 260., 263.,\n",
       "        264., 268., 269., 270., 271., 272., 273., 274., 275., 277., 278.,\n",
       "        280., 281., 282., 284., 286., 287., 289., 290., 291., 292., 293.,\n",
       "        297., 301., 302., 304., 305., 307., 308., 309., 311., 312., 313.,\n",
       "        316., 317., 318., 319., 320., 321., 323., 324., 325., 329., 330.,\n",
       "        331., 332., 333., 337., 338., 341., 342., 343., 346., 347., 348.,\n",
       "        349., 350., 351., 352., 353., 355., 356., 357., 358., 360., 361.,\n",
       "        362., 364., 365., 366., 367., 368., 369., 371., 372., 373., 376.,\n",
       "        377., 378., 379., 380., 383., 384., 385., 388., 390., 391., 392.,\n",
       "        393., 394., 395., 396., 397., 398., 399., 400., 401., 402., 403.,\n",
       "        405., 407., 408., 409., 410., 411., 412., 413., 415., 416., 417.,\n",
       "        418., 419., 420., 421., 422., 423., 424., 425., 426., 428., 429.,\n",
       "        433., 435., 436., 437., 439., 442., 443., 444., 445., 446., 447.,\n",
       "        448., 450., 451., 452., 454., 455., 456., 457., 458., 459., 460.,\n",
       "        461., 465., 466., 470., 477., 478., 479., 481., 482., 483., 484.,\n",
       "        485., 486., 487., 489., 490., 491., 492., 494., 496., 497., 498.,\n",
       "        499., 501., 504., 506., 511., 512., 513., 514., 515., 516., 518.,\n",
       "        520., 521., 523., 525., 528., 530., 531., 534., 539., 541., 543.,\n",
       "         nan]),\n",
       " array([     1,      1,     36,      1,      1,     14,      9,      5,\n",
       "             1,     47,      5,      5,      2,     17,      1,      8,\n",
       "            10,     48,      8,    920,      5,     28,      2,      1,\n",
       "            70,      5,      4,     97,      2,      8,      1,      7,\n",
       "             2,     47,      1,      1,    267,     46,      2,     27,\n",
       "             3,      1,      1,     21,      1,     23,     14,      9,\n",
       "             1,      2,     32,     22,     47,     13,      3,     87,\n",
       "             1,     11,      1,      1,      1,     16,      1,      8,\n",
       "             2,      9,     11,      1,     50,     13,     36,      4,\n",
       "             6,      7,     14,     18,     15,     12,      1,     66,\n",
       "             4,      3,      1,      1,     17,     25,      3,     37,\n",
       "             5,     19,    208,    129,      2,      6,      1,     17,\n",
       "             3,      7,      2,     64,    146,     22,     24,      5,\n",
       "            16,      1,      4,     12,      4,     16,     33,     47,\n",
       "             2,     38,     10,     34,      9,     19,      2,      1,\n",
       "             1,      7,     21,      2,     43,    138,      4,     27,\n",
       "             2,    771,      3,      7,     24,      1,      3,      2,\n",
       "           113,      1,     33,      3,     60,      2,      3,      3,\n",
       "             2,     18,      1,     10,      6,      1,      1,      2,\n",
       "             3,     14,      1,     14,     33,     42,      2,      3,\n",
       "             1,     14,      3,      4,      2,     48,    135,      4,\n",
       "             1,     19,      4,      2,     17,     11,     18,      5,\n",
       "             7,      1,      1,      2,      1,     36,     13,      1,\n",
       "             2,      3,      1,      2,      9,      1,      3,      1,\n",
       "             2,     10,      9,      2,     12,      4,     60,      2,\n",
       "            10,     23,     12,      5,     46,     28,     14,      1,\n",
       "            59,      2,      3,      2,      1,      4,     12,      9,\n",
       "             5,      7,     12,      2,      2,      5,     29,     24,\n",
       "             7,      1,      5,     11,      3,      1,      1,      5,\n",
       "             3,      9,     11,      5,      9,     30,      7,     13,\n",
       "             2,      4,      1,      6,      4,     18,     15,      1,\n",
       "            11,      2,      1,      1,      2,    117,     21,     15,\n",
       "            12,      5,      1,      1,      1,      1,      1,      1,\n",
       "            25,      1,      1,      9,      1,      2,     24,      1,\n",
       "             4,     13,      2,      2,     11,      2,      5,      6,\n",
       "             1,      5,      5,      4,      1,      2,      4,      9,\n",
       "             6,      4,      1,      1,      2,      3,      2,      5,\n",
       "             2,      1,     12,      3,      5,     23,      2,      1,\n",
       "             1,      2,      2,      2,     14,      2,      1,      1,\n",
       "             5,      2,      2,      4,      1,      1,     58,      1,\n",
       "             1,     10,      1,      6,      3,      2,      2,      5,\n",
       "             1,      2,      1,      7,      1,     14,      2,      5,\n",
       "             1,      2,      2,      1,      2, 109919], dtype=int64))"
      ]
     },
     "execution_count": 64,
     "metadata": {},
     "output_type": "execute_result"
    }
   ],
   "source": [
    "np.unique(df[\"company\"], return_counts = True)"
   ]
  },
  {
   "cell_type": "markdown",
   "metadata": {},
   "source": [
    "Id for company that made the booking. Changing to boolean with_company"
   ]
  },
  {
   "cell_type": "code",
   "execution_count": 65,
   "metadata": {},
   "outputs": [],
   "source": [
    "df[\"with_company\"] = (pd.notnull(df[\"company\"])).astype(int)\n",
    "df.drop(columns = \"company\", inplace=True)"
   ]
  },
  {
   "cell_type": "markdown",
   "metadata": {},
   "source": [
    "### days_in_waiting_list"
   ]
  },
  {
   "cell_type": "code",
   "execution_count": 66,
   "metadata": {},
   "outputs": [
    {
     "data": {
      "text/plain": [
       "(array([  0,   1,   2,   3,   4,   5,   6,   7,   8,   9,  10,  11,  12,\n",
       "         13,  14,  15,  16,  17,  18,  19,  20,  21,  22,  23,  24,  25,\n",
       "         26,  27,  28,  30,  31,  32,  33,  34,  35,  36,  37,  38,  39,\n",
       "         40,  41,  42,  43,  44,  45,  46,  47,  48,  49,  50,  53,  54,\n",
       "         55,  56,  57,  58,  59,  60,  61,  62,  63,  64,  65,  68,  69,\n",
       "         70,  71,  72,  73,  74,  75,  76,  77,  79,  80,  81,  83,  84,\n",
       "         85,  87,  89,  91,  93,  96,  97,  98,  99, 100, 101, 105, 107,\n",
       "        108, 111, 113, 116, 117, 120, 121, 122, 125, 142, 147, 150, 154,\n",
       "        160, 162, 165, 167, 174, 175, 176, 178, 183, 185, 187, 193, 207,\n",
       "        215, 223, 224, 236, 259, 330, 379, 391], dtype=int64),\n",
       " array([112645,     12,      4,     59,     23,      7,     15,      4,\n",
       "             7,     16,     28,      7,      3,      4,      4,     54,\n",
       "             4,     47,      2,     30,     29,     37,     56,      3,\n",
       "            19,     24,      4,     25,     50,      2,    127,     19,\n",
       "            30,     26,     95,      1,      1,     73,    227,     28,\n",
       "            63,     30,     19,    140,     65,     92,     24,     51,\n",
       "            17,     80,      6,      1,     10,     44,     25,    164,\n",
       "            14,     40,     18,     60,     83,      3,      8,     41,\n",
       "            89,     18,     13,      1,      1,      1,     39,      2,\n",
       "            63,     20,     24,      1,      1,      2,     15,     80,\n",
       "             1,     50,     40,     46,      3,     56,     19,      3,\n",
       "            65,      2,      5,     20,     71,      6,      1,      1,\n",
       "            25,      1,      6,     15,      1,     30,     10,      2,\n",
       "            25,     30,      1,      1,     19,      1,     50,     30,\n",
       "             1,      2,     45,      1,     15,     21,     61,     10,\n",
       "            35,     10,     15,     15,     45], dtype=int64))"
      ]
     },
     "execution_count": 66,
     "metadata": {},
     "output_type": "execute_result"
    }
   ],
   "source": [
    "np.unique(df[\"days_in_waiting_list\"], return_counts = True)"
   ]
  },
  {
   "cell_type": "code",
   "execution_count": 67,
   "metadata": {},
   "outputs": [
    {
     "data": {
      "text/plain": [
       "<AxesSubplot:>"
      ]
     },
     "execution_count": 67,
     "metadata": {},
     "output_type": "execute_result"
    },
    {
     "data": {
      "image/png": "[encoded data removed]",
      "text/plain": [
       "<Figure size 432x288 with 1 Axes>"
      ]
     },
     "metadata": {
      "needs_background": "light"
     },
     "output_type": "display_data"
    }
   ],
   "source": [
    "df[\"days_in_waiting_list\"].hist()"
   ]
  },
  {
   "cell_type": "code",
   "execution_count": 68,
   "metadata": {},
   "outputs": [
    {
     "data": {
      "image/png": "[encoded data removed]",
      "text/plain": [
       "<Figure size 432x288 with 1 Axes>"
      ]
     },
     "metadata": {
      "needs_background": "light"
     },
     "output_type": "display_data"
    }
   ],
   "source": [
    "plt.scatter(df[\"days_in_waiting_list\"], df[\"adr\"])\n",
    "plt.show()"
   ]
  },
  {
   "cell_type": "markdown",
   "metadata": {},
   "source": [
    "scaling"
   ]
  },
  {
   "cell_type": "markdown",
   "metadata": {},
   "source": [
    "droping because it will add noise to our model due to the fact that a very large majority were never on a waiting list\n"
   ]
  },
  {
   "cell_type": "code",
   "execution_count": 69,
   "metadata": {},
   "outputs": [],
   "source": [
    "df.drop(columns = \"days_in_waiting_list\", inplace=True)"
   ]
  },
  {
   "cell_type": "markdown",
   "metadata": {},
   "source": [
    "### customer_type"
   ]
  },
  {
   "cell_type": "code",
   "execution_count": 70,
   "metadata": {},
   "outputs": [
    {
     "data": {
      "text/plain": [
       "array(['Transient', 'Contract', 'Transient-Party', 'Group'], dtype=object)"
      ]
     },
     "execution_count": 70,
     "metadata": {},
     "output_type": "execute_result"
    }
   ],
   "source": [
    "df[\"customer_type\"].unique()"
   ]
  },
  {
   "cell_type": "code",
   "execution_count": 71,
   "metadata": {},
   "outputs": [
    {
     "data": {
      "image/png": "[encoded data removed]",
      "text/plain": [
       "<Figure size 432x288 with 1 Axes>"
      ]
     },
     "metadata": {
      "needs_background": "light"
     },
     "output_type": "display_data"
    }
   ],
   "source": [
    "df.boxplot(by = \"customer_type\", column = \"adr\")\n",
    "plt.show()"
   ]
  },
  {
   "cell_type": "markdown",
   "metadata": {},
   "source": [
    "one-hot encoding"
   ]
  },
  {
   "cell_type": "code",
   "execution_count": 72,
   "metadata": {},
   "outputs": [],
   "source": [
    "df[\"is_contract\"] = (df[\"customer_type\"] =='Contract').astype(int)\n",
    "df[\"is_group\"] = (df[\"customer_type\"] =='Group').astype(int)\n",
    "df[\"is_transient\"] = (df[\"customer_type\"] =='Transient').astype(int)\n",
    "df[\"is_transient_party\"] = (df[\"customer_type\"] =='Transient-Party').astype(int)\n",
    "df.drop(columns = \"customer_type\", inplace=True)"
   ]
  },
  {
   "cell_type": "markdown",
   "metadata": {},
   "source": [
    "### required_car_parking_spaces"
   ]
  },
  {
   "cell_type": "code",
   "execution_count": 73,
   "metadata": {},
   "outputs": [
    {
     "data": {
      "text/plain": [
       "(array([0, 1, 2, 3, 8], dtype=int64),\n",
       " array([108983,   7215,     28,      3,      2], dtype=int64))"
      ]
     },
     "execution_count": 73,
     "metadata": {},
     "output_type": "execute_result"
    }
   ],
   "source": [
    "np.unique(df[\"required_car_parking_spaces\"], return_counts = True)"
   ]
  },
  {
   "cell_type": "markdown",
   "metadata": {},
   "source": [
    "Binary encode because most are 0 or 1"
   ]
  },
  {
   "cell_type": "code",
   "execution_count": 74,
   "metadata": {},
   "outputs": [],
   "source": [
    "df[\"required_car_parking_spaces\"] = (df[\"required_car_parking_spaces\"] != 0).astype(int)"
   ]
  },
  {
   "cell_type": "markdown",
   "metadata": {},
   "source": [
    "### total_of_special_requests "
   ]
  },
  {
   "cell_type": "code",
   "execution_count": 75,
   "metadata": {},
   "outputs": [
    {
     "data": {
      "text/plain": [
       "array([0, 1, 3, 2, 4, 5], dtype=int64)"
      ]
     },
     "execution_count": 75,
     "metadata": {},
     "output_type": "execute_result"
    }
   ],
   "source": [
    "df[\"total_of_special_requests\"].unique()"
   ]
  },
  {
   "cell_type": "markdown",
   "metadata": {},
   "source": [
    "scaling"
   ]
  },
  {
   "cell_type": "markdown",
   "metadata": {},
   "source": [
    " ### reservation_status  "
   ]
  },
  {
   "cell_type": "code",
   "execution_count": 76,
   "metadata": {},
   "outputs": [
    {
     "data": {
      "text/plain": [
       "array(['Check-Out', 'Canceled', 'No-Show'], dtype=object)"
      ]
     },
     "execution_count": 76,
     "metadata": {},
     "output_type": "execute_result"
    }
   ],
   "source": [
    "df[\"reservation_status\"].unique()"
   ]
  },
  {
   "cell_type": "markdown",
   "metadata": {},
   "source": [
    "we only want successful reservations"
   ]
  },
  {
   "cell_type": "code",
   "execution_count": 77,
   "metadata": {},
   "outputs": [
    {
     "name": "stderr",
     "output_type": "stream",
     "text": [
      "C:\\Users\\KatyLuttrell\\anaconda3\\lib\\site-packages\\pandas\\core\\frame.py:4906: SettingWithCopyWarning: \n",
      "A value is trying to be set on a copy of a slice from a DataFrame\n",
      "\n",
      "See the caveats in the documentation: https://pandas.pydata.org/pandas-docs/stable/user_guide/indexing.html#returning-a-view-versus-a-copy\n",
      "  return super().drop(\n"
     ]
    }
   ],
   "source": [
    "df = df.loc[df[\"reservation_status\"]=='Check-Out']\n",
    "df.drop(columns = \"reservation_status\", inplace=True)"
   ]
  },
  {
   "cell_type": "markdown",
   "metadata": {},
   "source": [
    "### reservation_status_date / stay_length"
   ]
  },
  {
   "cell_type": "markdown",
   "metadata": {},
   "source": [
    "For reservations that were not canceled this is the day that they checked out. We will use this to make a stay_length feature."
   ]
  },
  {
   "cell_type": "code",
   "execution_count": 78,
   "metadata": {},
   "outputs": [
    {
     "name": "stderr",
     "output_type": "stream",
     "text": [
      "C:\\Users\\KATYLU~2\\AppData\\Local\\Temp/ipykernel_34864/4240971061.py:2: SettingWithCopyWarning: \n",
      "A value is trying to be set on a copy of a slice from a DataFrame.\n",
      "Try using .loc[row_indexer,col_indexer] = value instead\n",
      "\n",
      "See the caveats in the documentation: https://pandas.pydata.org/pandas-docs/stable/user_guide/indexing.html#returning-a-view-versus-a-copy\n",
      "  df[\"reservation_status_date\"] = df[\"reservation_status_date\"].apply(lambda s: datetime.strptime(s, '%Y-%m-%d'))\n"
     ]
    }
   ],
   "source": [
    "from datetime import datetime\n",
    "df[\"reservation_status_date\"] = df[\"reservation_status_date\"].apply(lambda s: datetime.strptime(s, '%Y-%m-%d'))\n",
    "df = df.reset_index()\n",
    "df[\"check_in_date\"]=pd.Series([str(df['arrival_date_month'][i]) + '/' + str(df['arrival_date_day_of_month'][i]) + '/' + str(df['arrival_date_year'][i]) for i,_ in df.iterrows()])\n",
    "df[\"check_in_date\"] = df[\"check_in_date\"].apply(lambda s: datetime.strptime(s, '%m/%d/%Y'))\n",
    "df['stay_length'] = df[\"reservation_status_date\"] - df[\"check_in_date\"]\n",
    "df['stay_length']=df['stay_length'].apply(lambda x: int(x/ np.timedelta64(1, 'D')))\n",
    "#df.drop(columns = [\"reservation_status_date\", \"arrival_date_year\", \"check_in_date\"], inplace=True)"
   ]
  },
  {
   "cell_type": "markdown",
   "metadata": {},
   "source": [
    "### holiday"
   ]
  },
  {
   "cell_type": "code",
   "execution_count": 79,
   "metadata": {},
   "outputs": [],
   "source": [
    "holidays = []\n",
    "#new year\n",
    "holidays.append(datetime(2015, 1, 1))\n",
    "holidays.append(datetime(2016, 1, 1))\n",
    "holidays.append(datetime(2017, 1, 1))\n",
    "holidays.append(datetime(2015, 12, 31))\n",
    "holidays.append(datetime(2016, 12, 31))\n",
    "holidays.append(datetime(2017, 12, 31))\n",
    "#xmas \n",
    "holidays.append(datetime(2015, 12, 25))\n",
    "holidays.append(datetime(2016, 12, 25))\n",
    "holidays.append(datetime(2017, 12, 25))\n",
    "#easter\n",
    "holidays.append(datetime(2015, 4, 5))\n",
    "holidays.append(datetime(2016, 3, 27))\n",
    "holidays.append(datetime(2017, 4, 16))\n",
    "#freedom day\n",
    "holidays.append(datetime(2015, 4, 25))\n",
    "holidays.append(datetime(2016, 4, 25))\n",
    "holidays.append(datetime(2017, 4, 25))"
   ]
  },
  {
   "cell_type": "code",
   "execution_count": 80,
   "metadata": {},
   "outputs": [],
   "source": [
    "df = df.reset_index()"
   ]
  },
  {
   "cell_type": "code",
   "execution_count": 81,
   "metadata": {},
   "outputs": [],
   "source": [
    "df.drop(columns = [\"level_0\", \"index\"], inplace=True)"
   ]
  },
  {
   "cell_type": "code",
   "execution_count": 82,
   "metadata": {},
   "outputs": [],
   "source": [
    "def contains_holiday(checkin, checkout):\n",
    "    for holiday in holidays:\n",
    "        if checkin <= holiday and checkout>= holiday:\n",
    "            return True\n",
    "    return False"
   ]
  },
  {
   "cell_type": "code",
   "execution_count": 83,
   "metadata": {},
   "outputs": [
    {
     "name": "stderr",
     "output_type": "stream",
     "text": [
      "C:\\Users\\KATYLU~2\\AppData\\Local\\Temp/ipykernel_34864/2640535840.py:1: DeprecationWarning: The default dtype for empty Series will be 'object' instead of 'float64' in a future version. Specify a dtype explicitly to silence this warning.\n",
      "  df[\"holiday\"] = pd.Series()\n"
     ]
    }
   ],
   "source": [
    "df[\"holiday\"] = pd.Series()\n"
   ]
  },
  {
   "cell_type": "code",
   "execution_count": 84,
   "metadata": {},
   "outputs": [],
   "source": [
    "for i, row in df.iterrows():\n",
    "    df.at[i, \"holiday\"] = int(contains_holiday(df.at[i,'check_in_date'],df.at[i,\"reservation_status_date\"]))"
   ]
  },
  {
   "cell_type": "markdown",
   "metadata": {},
   "source": [
    "### stay_over_weekend"
   ]
  },
  {
   "cell_type": "code",
   "execution_count": 85,
   "metadata": {},
   "outputs": [],
   "source": [
    "def stay_over_weekend(checkin, checkout, length):\n",
    "    if length >7:\n",
    "        return True\n",
    "    if checkin.weekday() == 1 or checkout.weekday()==1:\n",
    "        return True\n",
    "    if checkin.weekday() == 7 or checkout.weekday()==7:\n",
    "        return True\n",
    "    if checkin.weekday() > checkout.weekday():\n",
    "        return True\n",
    "    if checkin.weekday() + length >=7:\n",
    "        return True\n",
    "    else: \n",
    "        return False"
   ]
  },
  {
   "cell_type": "code",
   "execution_count": 86,
   "metadata": {},
   "outputs": [
    {
     "name": "stderr",
     "output_type": "stream",
     "text": [
      "C:\\Users\\KATYLU~2\\AppData\\Local\\Temp/ipykernel_34864/813340389.py:1: DeprecationWarning: The default dtype for empty Series will be 'object' instead of 'float64' in a future version. Specify a dtype explicitly to silence this warning.\n",
      "  df[\"weekend_current_stay\"] = pd.Series()\n"
     ]
    }
   ],
   "source": [
    "df[\"weekend_current_stay\"] = pd.Series()\n",
    "for i, row in df.iterrows():\n",
    "    df.at[i, \"weekend_current_stay\"] = int(stay_over_weekend(df.at[i,'check_in_date'],df.at[i,\"reservation_status_date\"], df.at[i,\"stay_length\"]))"
   ]
  },
  {
   "cell_type": "code",
   "execution_count": 87,
   "metadata": {},
   "outputs": [
    {
     "data": {
      "text/html": [
       "<div>\n",
       "<style scoped>\n",
       "    .dataframe tbody tr th:only-of-type {\n",
       "        vertical-align: middle;\n",
       "    }\n",
       "\n",
       "    .dataframe tbody tr th {\n",
       "        vertical-align: top;\n",
       "    }\n",
       "\n",
       "    .dataframe thead th {\n",
       "        text-align: right;\n",
       "    }\n",
       "</style>\n",
       "<table border=\"1\" class=\"dataframe\">\n",
       "  <thead>\n",
       "    <tr style=\"text-align: right;\">\n",
       "      <th></th>\n",
       "      <th>lead_time</th>\n",
       "      <th>arrival_date_year</th>\n",
       "      <th>arrival_date_month</th>\n",
       "      <th>arrival_date_week_number</th>\n",
       "      <th>arrival_date_day_of_month</th>\n",
       "      <th>stays_in_weekend_nights</th>\n",
       "      <th>stays_in_week_nights</th>\n",
       "      <th>adults</th>\n",
       "      <th>children</th>\n",
       "      <th>babies</th>\n",
       "      <th>...</th>\n",
       "      <th>nonrefundable_deposit</th>\n",
       "      <th>with_company</th>\n",
       "      <th>is_contract</th>\n",
       "      <th>is_group</th>\n",
       "      <th>is_transient</th>\n",
       "      <th>is_transient_party</th>\n",
       "      <th>check_in_date</th>\n",
       "      <th>stay_length</th>\n",
       "      <th>holiday</th>\n",
       "      <th>weekend_current_stay</th>\n",
       "    </tr>\n",
       "  </thead>\n",
       "  <tbody>\n",
       "    <tr>\n",
       "      <th>0</th>\n",
       "      <td>7</td>\n",
       "      <td>2015</td>\n",
       "      <td>7</td>\n",
       "      <td>27</td>\n",
       "      <td>1</td>\n",
       "      <td>0</td>\n",
       "      <td>1</td>\n",
       "      <td>1</td>\n",
       "      <td>0</td>\n",
       "      <td>0</td>\n",
       "      <td>...</td>\n",
       "      <td>0</td>\n",
       "      <td>0</td>\n",
       "      <td>0</td>\n",
       "      <td>0</td>\n",
       "      <td>1</td>\n",
       "      <td>0</td>\n",
       "      <td>2015-07-01</td>\n",
       "      <td>1</td>\n",
       "      <td>0.0</td>\n",
       "      <td>0.0</td>\n",
       "    </tr>\n",
       "    <tr>\n",
       "      <th>1</th>\n",
       "      <td>13</td>\n",
       "      <td>2015</td>\n",
       "      <td>7</td>\n",
       "      <td>27</td>\n",
       "      <td>1</td>\n",
       "      <td>0</td>\n",
       "      <td>1</td>\n",
       "      <td>1</td>\n",
       "      <td>0</td>\n",
       "      <td>0</td>\n",
       "      <td>...</td>\n",
       "      <td>0</td>\n",
       "      <td>0</td>\n",
       "      <td>0</td>\n",
       "      <td>0</td>\n",
       "      <td>1</td>\n",
       "      <td>0</td>\n",
       "      <td>2015-07-01</td>\n",
       "      <td>1</td>\n",
       "      <td>0.0</td>\n",
       "      <td>0.0</td>\n",
       "    </tr>\n",
       "    <tr>\n",
       "      <th>2</th>\n",
       "      <td>14</td>\n",
       "      <td>2015</td>\n",
       "      <td>7</td>\n",
       "      <td>27</td>\n",
       "      <td>1</td>\n",
       "      <td>0</td>\n",
       "      <td>2</td>\n",
       "      <td>2</td>\n",
       "      <td>0</td>\n",
       "      <td>0</td>\n",
       "      <td>...</td>\n",
       "      <td>0</td>\n",
       "      <td>0</td>\n",
       "      <td>0</td>\n",
       "      <td>0</td>\n",
       "      <td>1</td>\n",
       "      <td>0</td>\n",
       "      <td>2015-07-01</td>\n",
       "      <td>2</td>\n",
       "      <td>0.0</td>\n",
       "      <td>0.0</td>\n",
       "    </tr>\n",
       "    <tr>\n",
       "      <th>3</th>\n",
       "      <td>14</td>\n",
       "      <td>2015</td>\n",
       "      <td>7</td>\n",
       "      <td>27</td>\n",
       "      <td>1</td>\n",
       "      <td>0</td>\n",
       "      <td>2</td>\n",
       "      <td>2</td>\n",
       "      <td>0</td>\n",
       "      <td>0</td>\n",
       "      <td>...</td>\n",
       "      <td>0</td>\n",
       "      <td>0</td>\n",
       "      <td>0</td>\n",
       "      <td>0</td>\n",
       "      <td>1</td>\n",
       "      <td>0</td>\n",
       "      <td>2015-07-01</td>\n",
       "      <td>2</td>\n",
       "      <td>0.0</td>\n",
       "      <td>0.0</td>\n",
       "    </tr>\n",
       "    <tr>\n",
       "      <th>4</th>\n",
       "      <td>0</td>\n",
       "      <td>2015</td>\n",
       "      <td>7</td>\n",
       "      <td>27</td>\n",
       "      <td>1</td>\n",
       "      <td>0</td>\n",
       "      <td>2</td>\n",
       "      <td>2</td>\n",
       "      <td>0</td>\n",
       "      <td>0</td>\n",
       "      <td>...</td>\n",
       "      <td>0</td>\n",
       "      <td>0</td>\n",
       "      <td>0</td>\n",
       "      <td>0</td>\n",
       "      <td>1</td>\n",
       "      <td>0</td>\n",
       "      <td>2015-07-01</td>\n",
       "      <td>2</td>\n",
       "      <td>0.0</td>\n",
       "      <td>0.0</td>\n",
       "    </tr>\n",
       "  </tbody>\n",
       "</table>\n",
       "<p>5 rows × 42 columns</p>\n",
       "</div>"
      ],
      "text/plain": [
       "   lead_time  arrival_date_year  arrival_date_month  arrival_date_week_number  \\\n",
       "0          7               2015                   7                        27   \n",
       "1         13               2015                   7                        27   \n",
       "2         14               2015                   7                        27   \n",
       "3         14               2015                   7                        27   \n",
       "4          0               2015                   7                        27   \n",
       "\n",
       "   arrival_date_day_of_month  stays_in_weekend_nights  stays_in_week_nights  \\\n",
       "0                          1                        0                     1   \n",
       "1                          1                        0                     1   \n",
       "2                          1                        0                     2   \n",
       "3                          1                        0                     2   \n",
       "4                          1                        0                     2   \n",
       "\n",
       "   adults  children  babies  ...  nonrefundable_deposit  with_company  \\\n",
       "0       1         0       0  ...                      0             0   \n",
       "1       1         0       0  ...                      0             0   \n",
       "2       2         0       0  ...                      0             0   \n",
       "3       2         0       0  ...                      0             0   \n",
       "4       2         0       0  ...                      0             0   \n",
       "\n",
       "   is_contract  is_group  is_transient  is_transient_party  check_in_date  \\\n",
       "0            0         0             1                   0     2015-07-01   \n",
       "1            0         0             1                   0     2015-07-01   \n",
       "2            0         0             1                   0     2015-07-01   \n",
       "3            0         0             1                   0     2015-07-01   \n",
       "4            0         0             1                   0     2015-07-01   \n",
       "\n",
       "  stay_length  holiday  weekend_current_stay  \n",
       "0           1      0.0                   0.0  \n",
       "1           1      0.0                   0.0  \n",
       "2           2      0.0                   0.0  \n",
       "3           2      0.0                   0.0  \n",
       "4           2      0.0                   0.0  \n",
       "\n",
       "[5 rows x 42 columns]"
      ]
     },
     "execution_count": 87,
     "metadata": {},
     "output_type": "execute_result"
    }
   ],
   "source": [
    "df.head()"
   ]
  },
  {
   "cell_type": "code",
   "execution_count": 88,
   "metadata": {},
   "outputs": [],
   "source": [
    "#df = df.reset_index()\n",
    "#df.to_csv(r'clean_data.csv')"
   ]
  },
  {
   "cell_type": "code",
   "execution_count": 89,
   "metadata": {},
   "outputs": [],
   "source": [
    "df.drop(columns = [\"reservation_status_date\", \"arrival_date_year\", \"check_in_date\"], inplace=True)"
   ]
  },
  {
   "cell_type": "code",
   "execution_count": 90,
   "metadata": {},
   "outputs": [
    {
     "name": "stdout",
     "output_type": "stream",
     "text": [
      "<class 'pandas.core.frame.DataFrame'>\n",
      "RangeIndex: 72514 entries, 0 to 72513\n",
      "Data columns (total 39 columns):\n",
      " #   Column                          Non-Null Count  Dtype  \n",
      "---  ------                          --------------  -----  \n",
      " 0   lead_time                       72514 non-null  int64  \n",
      " 1   arrival_date_month              72514 non-null  int64  \n",
      " 2   arrival_date_week_number        72514 non-null  int64  \n",
      " 3   arrival_date_day_of_month       72514 non-null  int64  \n",
      " 4   stays_in_weekend_nights         72514 non-null  int64  \n",
      " 5   stays_in_week_nights            72514 non-null  int64  \n",
      " 6   adults                          72514 non-null  int64  \n",
      " 7   children                        72514 non-null  int64  \n",
      " 8   babies                          72514 non-null  int64  \n",
      " 9   is_repeated_guest               72514 non-null  int64  \n",
      " 10  previous_cancellations          72514 non-null  int64  \n",
      " 11  previous_bookings_not_canceled  72514 non-null  int64  \n",
      " 12  booking_changes                 72514 non-null  int64  \n",
      " 13  adr                             72514 non-null  float64\n",
      " 14  required_car_parking_spaces     72514 non-null  int32  \n",
      " 15  total_of_special_requests       72514 non-null  int64  \n",
      " 16  is_resort                       72514 non-null  int32  \n",
      " 17  bought_meal                     72514 non-null  int32  \n",
      " 18  is_international                72514 non-null  float64\n",
      " 19  aviation_segment                72514 non-null  int32  \n",
      " 20  corporate_segment               72514 non-null  int32  \n",
      " 21  groups_segment                  72514 non-null  int32  \n",
      " 22  offline_ta_to_segment           72514 non-null  int32  \n",
      " 23  online_ta_segment               72514 non-null  int32  \n",
      " 24  corporate_channel               72514 non-null  int32  \n",
      " 25  direct_channel                  72514 non-null  int32  \n",
      " 26  gds_channel                     72514 non-null  int32  \n",
      " 27  ta_to_channel                   72514 non-null  int32  \n",
      " 28  no_deposit                      72514 non-null  int32  \n",
      " 29  refundable_deposit              72514 non-null  int32  \n",
      " 30  nonrefundable_deposit           72514 non-null  int32  \n",
      " 31  with_company                    72514 non-null  int32  \n",
      " 32  is_contract                     72514 non-null  int32  \n",
      " 33  is_group                        72514 non-null  int32  \n",
      " 34  is_transient                    72514 non-null  int32  \n",
      " 35  is_transient_party              72514 non-null  int32  \n",
      " 36  stay_length                     72514 non-null  int64  \n",
      " 37  holiday                         72514 non-null  float64\n",
      " 38  weekend_current_stay            72514 non-null  float64\n",
      "dtypes: float64(4), int32(20), int64(15)\n",
      "memory usage: 16.0 MB\n"
     ]
    }
   ],
   "source": [
    "df.info()"
   ]
  },
  {
   "cell_type": "code",
   "execution_count": 91,
   "metadata": {},
   "outputs": [],
   "source": [
    "df.to_csv(r'clean_data_xtra_features.csv')"
   ]
  },
  {
   "cell_type": "code",
   "execution_count": null,
   "metadata": {},
   "outputs": [],
   "source": []
  }
 ],
 "metadata": {
  "kernelspec": {
   "display_name": "Python 3 (ipykernel)",
   "language": "python",
   "name": "python3"
  },
  "language_info": {
   "codemirror_mode": {
    "name": "ipython",
    "version": 3
   },
   "file_extension": ".py",
   "mimetype": "text/x-python",
   "name": "python",
   "nbconvert_exporter": "python",
   "pygments_lexer": "ipython3",
   "version": "3.9.7"
  }
 },
 "nbformat": 4,
 "nbformat_minor": 4
}
