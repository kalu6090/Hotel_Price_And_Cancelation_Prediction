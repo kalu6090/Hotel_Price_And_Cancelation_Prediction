{
<<<<<<< Updated upstream
 "cells": [],
 "metadata": {},
=======
 "cells": [
  {
   "cell_type": "markdown",
   "metadata": {},
   "source": [
    "The purpose of this notebook is to look at our data, get important stats like the number of rows, etc as well as make some graphs, and take some screenshots for the presentation."
   ]
  },
  {
   "cell_type": "code",
   "execution_count": 1,
   "metadata": {},
   "outputs": [],
   "source": [
    "import pandas as pd\n",
    "from matplotlib import pyplot as plt\n",
    "import numpy as np"
   ]
  },
  {
   "cell_type": "code",
   "execution_count": 2,
   "metadata": {},
   "outputs": [],
   "source": [
    "df=pd.read_csv('Data/hotel_bookings.csv')"
   ]
  },
  {
   "cell_type": "code",
   "execution_count": 3,
   "metadata": {
    "scrolled": true
   },
   "outputs": [
    {
     "data": {
      "text/html": [
       "<div>\n",
       "<style scoped>\n",
       "    .dataframe tbody tr th:only-of-type {\n",
       "        vertical-align: middle;\n",
       "    }\n",
       "\n",
       "    .dataframe tbody tr th {\n",
       "        vertical-align: top;\n",
       "    }\n",
       "\n",
       "    .dataframe thead th {\n",
       "        text-align: right;\n",
       "    }\n",
       "</style>\n",
       "<table border=\"1\" class=\"dataframe\">\n",
       "  <thead>\n",
       "    <tr style=\"text-align: right;\">\n",
       "      <th></th>\n",
       "      <th>hotel</th>\n",
       "      <th>is_canceled</th>\n",
       "      <th>lead_time</th>\n",
       "      <th>arrival_date_year</th>\n",
       "      <th>arrival_date_month</th>\n",
       "      <th>arrival_date_week_number</th>\n",
       "      <th>arrival_date_day_of_month</th>\n",
       "      <th>stays_in_weekend_nights</th>\n",
       "      <th>stays_in_week_nights</th>\n",
       "      <th>adults</th>\n",
       "      <th>...</th>\n",
       "      <th>deposit_type</th>\n",
       "      <th>agent</th>\n",
       "      <th>company</th>\n",
       "      <th>days_in_waiting_list</th>\n",
       "      <th>customer_type</th>\n",
       "      <th>adr</th>\n",
       "      <th>required_car_parking_spaces</th>\n",
       "      <th>total_of_special_requests</th>\n",
       "      <th>reservation_status</th>\n",
       "      <th>reservation_status_date</th>\n",
       "    </tr>\n",
       "  </thead>\n",
       "  <tbody>\n",
       "    <tr>\n",
       "      <th>0</th>\n",
       "      <td>Resort Hotel</td>\n",
       "      <td>0</td>\n",
       "      <td>342</td>\n",
       "      <td>2015</td>\n",
       "      <td>July</td>\n",
       "      <td>27</td>\n",
       "      <td>1</td>\n",
       "      <td>0</td>\n",
       "      <td>0</td>\n",
       "      <td>2</td>\n",
       "      <td>...</td>\n",
       "      <td>No Deposit</td>\n",
       "      <td>NaN</td>\n",
       "      <td>NaN</td>\n",
       "      <td>0</td>\n",
       "      <td>Transient</td>\n",
       "      <td>0.0</td>\n",
       "      <td>0</td>\n",
       "      <td>0</td>\n",
       "      <td>Check-Out</td>\n",
       "      <td>2015-07-01</td>\n",
       "    </tr>\n",
       "    <tr>\n",
       "      <th>1</th>\n",
       "      <td>Resort Hotel</td>\n",
       "      <td>0</td>\n",
       "      <td>737</td>\n",
       "      <td>2015</td>\n",
       "      <td>July</td>\n",
       "      <td>27</td>\n",
       "      <td>1</td>\n",
       "      <td>0</td>\n",
       "      <td>0</td>\n",
       "      <td>2</td>\n",
       "      <td>...</td>\n",
       "      <td>No Deposit</td>\n",
       "      <td>NaN</td>\n",
       "      <td>NaN</td>\n",
       "      <td>0</td>\n",
       "      <td>Transient</td>\n",
       "      <td>0.0</td>\n",
       "      <td>0</td>\n",
       "      <td>0</td>\n",
       "      <td>Check-Out</td>\n",
       "      <td>2015-07-01</td>\n",
       "    </tr>\n",
       "    <tr>\n",
       "      <th>2</th>\n",
       "      <td>Resort Hotel</td>\n",
       "      <td>0</td>\n",
       "      <td>7</td>\n",
       "      <td>2015</td>\n",
       "      <td>July</td>\n",
       "      <td>27</td>\n",
       "      <td>1</td>\n",
       "      <td>0</td>\n",
       "      <td>1</td>\n",
       "      <td>1</td>\n",
       "      <td>...</td>\n",
       "      <td>No Deposit</td>\n",
       "      <td>NaN</td>\n",
       "      <td>NaN</td>\n",
       "      <td>0</td>\n",
       "      <td>Transient</td>\n",
       "      <td>75.0</td>\n",
       "      <td>0</td>\n",
       "      <td>0</td>\n",
       "      <td>Check-Out</td>\n",
       "      <td>2015-07-02</td>\n",
       "    </tr>\n",
       "    <tr>\n",
       "      <th>3</th>\n",
       "      <td>Resort Hotel</td>\n",
       "      <td>0</td>\n",
       "      <td>13</td>\n",
       "      <td>2015</td>\n",
       "      <td>July</td>\n",
       "      <td>27</td>\n",
       "      <td>1</td>\n",
       "      <td>0</td>\n",
       "      <td>1</td>\n",
       "      <td>1</td>\n",
       "      <td>...</td>\n",
       "      <td>No Deposit</td>\n",
       "      <td>304.0</td>\n",
       "      <td>NaN</td>\n",
       "      <td>0</td>\n",
       "      <td>Transient</td>\n",
       "      <td>75.0</td>\n",
       "      <td>0</td>\n",
       "      <td>0</td>\n",
       "      <td>Check-Out</td>\n",
       "      <td>2015-07-02</td>\n",
       "    </tr>\n",
       "    <tr>\n",
       "      <th>4</th>\n",
       "      <td>Resort Hotel</td>\n",
       "      <td>0</td>\n",
       "      <td>14</td>\n",
       "      <td>2015</td>\n",
       "      <td>July</td>\n",
       "      <td>27</td>\n",
       "      <td>1</td>\n",
       "      <td>0</td>\n",
       "      <td>2</td>\n",
       "      <td>2</td>\n",
       "      <td>...</td>\n",
       "      <td>No Deposit</td>\n",
       "      <td>240.0</td>\n",
       "      <td>NaN</td>\n",
       "      <td>0</td>\n",
       "      <td>Transient</td>\n",
       "      <td>98.0</td>\n",
       "      <td>0</td>\n",
       "      <td>1</td>\n",
       "      <td>Check-Out</td>\n",
       "      <td>2015-07-03</td>\n",
       "    </tr>\n",
       "  </tbody>\n",
       "</table>\n",
       "<p>5 rows × 32 columns</p>\n",
       "</div>"
      ],
      "text/plain": [
       "          hotel  is_canceled  lead_time  arrival_date_year arrival_date_month  \\\n",
       "0  Resort Hotel            0        342               2015               July   \n",
       "1  Resort Hotel            0        737               2015               July   \n",
       "2  Resort Hotel            0          7               2015               July   \n",
       "3  Resort Hotel            0         13               2015               July   \n",
       "4  Resort Hotel            0         14               2015               July   \n",
       "\n",
       "   arrival_date_week_number  arrival_date_day_of_month  \\\n",
       "0                        27                          1   \n",
       "1                        27                          1   \n",
       "2                        27                          1   \n",
       "3                        27                          1   \n",
       "4                        27                          1   \n",
       "\n",
       "   stays_in_weekend_nights  stays_in_week_nights  adults  ...  deposit_type  \\\n",
       "0                        0                     0       2  ...    No Deposit   \n",
       "1                        0                     0       2  ...    No Deposit   \n",
       "2                        0                     1       1  ...    No Deposit   \n",
       "3                        0                     1       1  ...    No Deposit   \n",
       "4                        0                     2       2  ...    No Deposit   \n",
       "\n",
       "   agent company days_in_waiting_list customer_type   adr  \\\n",
       "0    NaN     NaN                    0     Transient   0.0   \n",
       "1    NaN     NaN                    0     Transient   0.0   \n",
       "2    NaN     NaN                    0     Transient  75.0   \n",
       "3  304.0     NaN                    0     Transient  75.0   \n",
       "4  240.0     NaN                    0     Transient  98.0   \n",
       "\n",
       "   required_car_parking_spaces  total_of_special_requests  reservation_status  \\\n",
       "0                            0                          0           Check-Out   \n",
       "1                            0                          0           Check-Out   \n",
       "2                            0                          0           Check-Out   \n",
       "3                            0                          0           Check-Out   \n",
       "4                            0                          1           Check-Out   \n",
       "\n",
       "  reservation_status_date  \n",
       "0              2015-07-01  \n",
       "1              2015-07-01  \n",
       "2              2015-07-02  \n",
       "3              2015-07-02  \n",
       "4              2015-07-03  \n",
       "\n",
       "[5 rows x 32 columns]"
      ]
     },
     "execution_count": 3,
     "metadata": {},
     "output_type": "execute_result"
    }
   ],
   "source": [
    "df.head()"
   ]
  },
  {
   "cell_type": "code",
   "execution_count": 4,
   "metadata": {},
   "outputs": [
    {
     "name": "stdout",
     "output_type": "stream",
     "text": [
      "<class 'pandas.core.frame.DataFrame'>\n",
      "RangeIndex: 119390 entries, 0 to 119389\n",
      "Data columns (total 32 columns):\n",
      " #   Column                          Non-Null Count   Dtype  \n",
      "---  ------                          --------------   -----  \n",
      " 0   hotel                           119390 non-null  object \n",
      " 1   is_canceled                     119390 non-null  int64  \n",
      " 2   lead_time                       119390 non-null  int64  \n",
      " 3   arrival_date_year               119390 non-null  int64  \n",
      " 4   arrival_date_month              119390 non-null  object \n",
      " 5   arrival_date_week_number        119390 non-null  int64  \n",
      " 6   arrival_date_day_of_month       119390 non-null  int64  \n",
      " 7   stays_in_weekend_nights         119390 non-null  int64  \n",
      " 8   stays_in_week_nights            119390 non-null  int64  \n",
      " 9   adults                          119390 non-null  int64  \n",
      " 10  children                        119386 non-null  float64\n",
      " 11  babies                          119390 non-null  int64  \n",
      " 12  meal                            119390 non-null  object \n",
      " 13  country                         118902 non-null  object \n",
      " 14  market_segment                  119390 non-null  object \n",
      " 15  distribution_channel            119390 non-null  object \n",
      " 16  is_repeated_guest               119390 non-null  int64  \n",
      " 17  previous_cancellations          119390 non-null  int64  \n",
      " 18  previous_bookings_not_canceled  119390 non-null  int64  \n",
      " 19  reserved_room_type              119390 non-null  object \n",
      " 20  assigned_room_type              119390 non-null  object \n",
      " 21  booking_changes                 119390 non-null  int64  \n",
      " 22  deposit_type                    119390 non-null  object \n",
      " 23  agent                           103050 non-null  float64\n",
      " 24  company                         6797 non-null    float64\n",
      " 25  days_in_waiting_list            119390 non-null  int64  \n",
      " 26  customer_type                   119390 non-null  object \n",
      " 27  adr                             119390 non-null  float64\n",
      " 28  required_car_parking_spaces     119390 non-null  int64  \n",
      " 29  total_of_special_requests       119390 non-null  int64  \n",
      " 30  reservation_status              119390 non-null  object \n",
      " 31  reservation_status_date         119390 non-null  object \n",
      "dtypes: float64(4), int64(16), object(12)\n",
      "memory usage: 29.1+ MB\n"
     ]
    }
   ],
   "source": [
    "df.info()"
   ]
  },
  {
   "cell_type": "markdown",
   "metadata": {},
   "source": [
    "### Cleaning A.D.R"
   ]
  },
  {
   "cell_type": "code",
   "execution_count": 5,
   "metadata": {},
   "outputs": [
    {
     "data": {
      "image/png": "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\n",
      "text/plain": [
       "<Figure size 432x288 with 1 Axes>"
      ]
     },
     "metadata": {
      "needs_background": "light"
     },
     "output_type": "display_data"
    }
   ],
   "source": [
    "df.boxplot(column = \"adr\")\n",
    "plt.show()"
   ]
  },
  {
   "cell_type": "markdown",
   "metadata": {},
   "source": [
    "There is very clearly an extreme outlier. It is fair to assume that a nightly hotel rate of over $5000 while all the others are in the low hundreds is a mistake and can be removed. "
   ]
  },
  {
   "cell_type": "code",
   "execution_count": 6,
   "metadata": {},
   "outputs": [],
   "source": [
    "df = df[df[\"adr\"] < 5000]"
   ]
  },
  {
   "cell_type": "code",
   "execution_count": 7,
   "metadata": {},
   "outputs": [
    {
     "data": {
      "image/png": "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\n",
      "text/plain": [
       "<Figure size 432x288 with 1 Axes>"
      ]
     },
     "metadata": {
      "needs_background": "light"
     },
     "output_type": "display_data"
    }
   ],
   "source": [
    "df.boxplot(column = \"adr\")\n",
    "plt.show()"
   ]
  },
  {
   "cell_type": "markdown",
   "metadata": {},
   "source": [
    "This is clearly a lot more believable"
   ]
  },
  {
   "cell_type": "markdown",
   "metadata": {},
   "source": [
    "### Hotel"
   ]
  },
  {
   "cell_type": "code",
   "execution_count": 8,
   "metadata": {},
   "outputs": [
    {
     "data": {
      "image/png": "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\n",
      "text/plain": [
       "<Figure size 432x288 with 1 Axes>"
      ]
     },
     "metadata": {
      "needs_background": "light"
     },
     "output_type": "display_data"
    }
   ],
   "source": [
    "df.boxplot(by = \"hotel\", column = \"adr\",)\n",
    "plt.show()"
   ]
  },
  {
   "cell_type": "markdown",
   "metadata": {},
   "source": [
    "In order to include the catagorical data of hotel type, we one-hot encode. "
   ]
  },
  {
   "cell_type": "code",
   "execution_count": 9,
   "metadata": {},
   "outputs": [],
   "source": [
    "df[\"is_resort\"] = (df[\"hotel\"] ==\"Resort Hotel\").astype(int)\n",
    "df.drop(columns = \"hotel\", inplace = True)"
   ]
  },
  {
   "cell_type": "markdown",
   "metadata": {},
   "source": [
    "### is_canceled"
   ]
  },
  {
   "cell_type": "markdown",
   "metadata": {},
   "source": [
    "We are removing bookings that were canceled because it is possible that price played a role in the reason they were canceled so these bookings are not a good indicator of what people are willing to pay and may lead to inaccurate results if used. "
   ]
  },
  {
   "cell_type": "code",
   "execution_count": 10,
   "metadata": {},
   "outputs": [],
   "source": [
    "df.drop(columns = \"is_canceled\", inplace = True)"
   ]
  },
  {
   "cell_type": "markdown",
   "metadata": {},
   "source": [
    "### lead_time"
   ]
  },
  {
   "cell_type": "code",
   "execution_count": 11,
   "metadata": {},
   "outputs": [
    {
     "data": {
      "image/png": "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\n",
      "text/plain": [
       "<Figure size 432x288 with 1 Axes>"
      ]
     },
     "metadata": {
      "needs_background": "light"
     },
     "output_type": "display_data"
    }
   ],
   "source": [
    "df.boxplot(column = \"lead_time\")\n",
    "plt.show()\n",
    "#This wil likely need to be scaled"
   ]
  },
  {
   "cell_type": "markdown",
   "metadata": {},
   "source": [
    "### arrival_date_year"
   ]
  },
  {
   "cell_type": "markdown",
   "metadata": {},
   "source": [
    "We are removing this because we simply do not have enough years of data to capture any sort of inflation-driven trend of prices from year to year."
   ]
  },
  {
   "cell_type": "code",
   "execution_count": 12,
   "metadata": {},
   "outputs": [],
   "source": [
    "df.drop(columns = \"arrival_date_year\", inplace = True)"
   ]
  },
  {
   "cell_type": "markdown",
   "metadata": {},
   "source": [
    "### arrival_date_month "
   ]
  },
  {
   "cell_type": "code",
   "execution_count": 13,
   "metadata": {},
   "outputs": [
    {
     "data": {
      "text/plain": [
       "array(['July', 'August', 'September', 'October', 'November', 'December',\n",
       "       'January', 'February', 'March', 'April', 'May', 'June'],\n",
       "      dtype=object)"
      ]
     },
     "execution_count": 13,
     "metadata": {},
     "output_type": "execute_result"
    }
   ],
   "source": [
    "df[\"arrival_date_month\"].unique()"
   ]
  },
  {
   "cell_type": "markdown",
   "metadata": {},
   "source": [
    "Convert these to ints"
   ]
  },
  {
   "cell_type": "code",
   "execution_count": 14,
   "metadata": {},
   "outputs": [],
   "source": [
    "def month_to_num(month):\n",
    "    months = ['January', 'February', 'March', 'April', 'May', 'June', 'July', 'August', 'September', 'October', 'November', 'December']\n",
    "    num = months.index(month)+1\n",
    "    return num\n",
    "df[\"arrival_date_month\"] =df[\"arrival_date_month\"].apply(month_to_num,convert_dtype=True)"
   ]
  },
  {
   "cell_type": "code",
   "execution_count": 15,
   "metadata": {},
   "outputs": [
    {
     "data": {
      "image/png": "iVBORw0KGgoAAAANSUhEUgAAAYMAAAEICAYAAAC9E5gJAAAAOXRFWHRTb2Z0d2FyZQBNYXRwbG90bGliIHZlcnNpb24zLjUuMSwgaHR0cHM6Ly9tYXRwbG90bGliLm9yZy/YYfK9AAAACXBIWXMAAAsTAAALEwEAmpwYAAAZr0lEQVR4nO3df5TddX3n8edrSW0xWoJiZzVhDas5dpFUxVnAemqnYiGoa9g91oNaCcqataK13exasKdLV8XithR/VPGkkgZaBJHqgVNQzAJz3FpBBS0BoiUiSiIIGn4Y8EdH3/vH/aS9jpNk5t47c2eG5+OcOff7/Xw/3+/3/Znc3Nd8v/d77zdVhSTp0e3fDLsASdLwGQaSJMNAkmQYSJIwDCRJGAaSJAwDSRKGgRaYJB9K8kcD2M7mJO/sYb1K8vR+979Q9Pp70sJjGGhBqao3VNU7hl3H/iRZ2YJjybBrma4kpyT5+2HXoeEwDDQvTfUimuSAYdQiPRoYBppTSU5P8rUk30tyW5L/3NpPSfLZJOcm+S7wx+0UxXlJrkryMPAb3actkmxL8tKubS9Jcl+SI9v8x5Lck+TBJJ9J8swe6v2fSe5O8q0kr5u07CVJvpTkoSR3JfnjrsWfaY8PJNmd5Hltnde1uu9PcnWSp06jhkryxiS3t9/bO5I8Lck/tH1fmuQxXf1fn2R7kl1JrkjylEnbekPb1gNJPpCO/wB8CHheq/eBrhIOTnJl2/cNSZ4209+j5j/DQHPta8CvAQcB/xv4myRPbsuOBu4ARoCzWtur2vTjgcmnMC4GXtk1fzzwnaq6qc1/ElgF/BJwE3DRTApNsgb4H8Bvtu28aFKXh4GTgWXAS4DfSXJiW/aC9risqh5XVZ9LshZ4G/BfgCcB/6+NYTqOB54LHAO8FdgI/DZwKHAE7feQ5IXAnwCvAJ4MfAO4ZNK2Xgr8R+BXWr/jq2ob8Abgc63eZV39T6Lzb3UwsJ1//bfRImIYaE5V1ceq6ltV9ZOq+ihwO3BUW/ytqnp/VU1U1fdb2+VV9dnW/weTNvcR4GVJHtvmX0XXi2tVbaqq71XVD4E/Bp6V5KAZlPsK4K+q6paqerhto3ss41W1tdV2c9v3r+9je28A/qSqtlXVBPAu4NnTOToA/k9VPVRVtwK3AJ+uqjuq6kE6ofec1u/VwKaquqmN+ww6f+2v7NrW2VX1QFV9E7gOePZ+9v2Jqvp8q/miafTXAmQYaE4lOTnJl9spigfo/FV7SFt81xSrTNUGQFVtB7YB/6kFwsvoBARJDkhydjsl9RBwZ1vtkCk3NrWnTNr/NyaN5egk17VTUw/SebHf1/afCry3a+y7gADLp1HLt7umvz/F/OO6av6XOqtqN/DdSfu4p2v6ka5192am/bUAGQaaM+0v4L8E3gQ8sZ2KuIXOCyLAVN+nvr/vWN9zqmgtcFsLCOgcJaylc2rnIGDlnjJmUPLddE7D7PHvJi3/CHAFcGhVHUTnnPu+xnIX8N+qalnXz4FV9Q8zqGl/vkUndABIshR4IrBzGuv6ffaPYoaB5tJSOi849wEkeS2dI4N+XAIcB/wO7aigeTzwQzp/FT+WzimZmboUOCXJ4e3I48xJyx8P7KqqHyQ5ik4A7XEf8BPg33e1fQg4Y88b2UkOSvJbPdS1LxcDr03y7CQ/T2fcN1TVndNY99vAiu43o/XoYRhozlTVbcA5wOfovPCsBj7b5zbvbtv7VeCjXYsupHO6ZCdwG3B9D9v+JPAe4Fo6b5xeO6nLG4G3J/ke8L/ohMeedR+h80brZ9tpoWOq6hPAu4FL2qmrW4ATZlrXfmr+v8AfAX9L58jmaXTeAJ6Oa4FbgXuSfGeQdWn+i3c6kyR5ZCBJMgz06Jbkbe1DVpN/PjmHNfzaXmrYPVc1SJ4mkiSxYL5Ea7JDDjmkVq5cOewypuXhhx9m6dKlwy5jVji2hWsxj8+x7d2NN974nap60uT2BRsGK1eu5Itf/OKwy5iW8fFxxsbGhl3GrHBsC9diHp9j27sk35iq3fcMJEmGgSTJMJAkYRhIkjAMJEkYBpIkphEGSTYluTfJLVMs29Buo3dIm0+S97Vb7t285/aDbdm6dqu925Os62p/bpKtbZ33JZnJVwxLkgZgOkcGm4E1kxuTHErnq4O/2dV8Ap3bA64C1gPntb5PoPP1v0fTuavVmUkObuucB7y+a72f2ZckaXbtNwyq6jN07sg02bl07sXa/X0Wa4ELq+N6YFm7v+3xwJaq2lVV9wNbgDVt2S9W1fXV+V6MC4ET+xqRJGnGevoEcrux986q+sdJZ3WW89O3CdzR2vbVvmOK9r3tdz2dIw5GRkYYHx/vpXy27nywp/V6NXIgvP+iy1m9fCa3310Ydu/e3fO/w3y3mMcGi3t8jm3mZhwG7Y5Pb6NzimhOVdVGYCPA6Oho9fqR7FNOv3KAVe3fhtUTnLN1CXe+emxO9zsX/Nj//LJyBs/tDat/zDl///BA9nvn2S8ZyHYGZSH+203XbI2tl6uJngYcBvxjkjuBFcBNSf4tnbtKdd8zdkVr21f7iinaJUlzaMZhUFVbq+qXqmplVa2kc2rnyKq6h87NwU9uVxUdAzzYbkt4NXBckoPbG8fHAVe3ZQ8lOaZdRXQycPmAxiZJmqbpXFp6MZ17zD4jyY4kp+6j+1XAHXTuF/uXdO4RS1XtAt4BfKH9vL210fp8uK3zNWDObioiSerY73sGVfXK/Sxf2TVdwGl76bcJ2DRF+xeBI/ZXhyRp9izY+xlI0jDN5M36Qdq8ZnZu2uPXUUiSDANJkmEgScIwkCRhGEiSMAwkSRgGkiQMA0kShoEkCcNAkoRhIEnCMJAk4RfVSQM3rC8wk/rhkYEkyTCQJBkGkiQMA0kShoEkCcNAksQ0wiDJpiT3Jrmlq+1Pk3wlyc1JPpFkWdeyM5JsT/LVJMd3ta9pbduTnN7VfliSG1r7R5M8ZoDjkyRNw3SODDYDaya1bQGOqKpfAf4JOAMgyeHAScAz2zofTHJAkgOADwAnAIcDr2x9Ad4NnFtVTwfuB07ta0SSpBnbbxhU1WeAXZPaPl1VE232emBFm14LXFJVP6yqrwPbgaPaz/aquqOqfgRcAqxNEuCFwGVt/QuAE/sbkiRppgbxCeTXAR9t08vphMMeO1obwF2T2o8Gngg80BUs3f1/RpL1wHqAkZERxsfHeyp4w+qJ/XcaoJEDO/vstd75bPfu3YtyXND72Ob6+dWrPc/LQZhvz4G5eF4O6995tsbWVxgk+UNgArhoMOXsW1VtBDYCjI6O1tjYWE/bOWWOvy5gw+oJztm6hDtfPTan+50L4+Pj9PrvMN/1Ora5fn71as/zchDm23N7Lp6Xw/p33rxm6ayMrednQpJTgJcCx1ZVteadwKFd3Va0NvbS/l1gWZIl7eigu78kaY70FAZJ1gBvBX69qh7pWnQF8JEkfw48BVgFfB4IsCrJYXRe7E8CXlVVleQ64OV03kdYB1ze62A0/wzzS9vuPPslQ9u3tNBM59LSi4HPAc9IsiPJqcBfAI8HtiT5cpIPAVTVrcClwG3Ap4DTqurH7a/+NwFXA9uAS1tfgD8A/nuS7XTeQzh/oCOUJO3Xfo8MquqVUzTv9QW7qs4Czpqi/Srgqina76BztZEkaUj8BLIkyTCQJBkGkiQMA0kShoEkCcNAkoRhIEliMF9UJ0lDsbdPuG9YPbFgviNqvjAMHiVm62sh/E8nLQ6eJpIkeWSgxavfoyGPevRo4pGBJMkwkCQZBpIkDANJEoaBJAmvJpI0AMO8vakGwyMDSZJhIEkyDCRJGAaSJKYRBkk2Jbk3yS1dbU9IsiXJ7e3x4NaeJO9Lsj3JzUmO7FpnXet/e5J1Xe3PTbK1rfO+JBn0ICVJ+zadI4PNwJpJbacD11TVKuCaNg9wArCq/awHzoNOeABnAkcDRwFn7gmQ1uf1XetN3pckaZbtNwyq6jPArknNa4EL2vQFwIld7RdWx/XAsiRPBo4HtlTVrqq6H9gCrGnLfrGqrq+qAi7s2pYkaY70+jmDkaq6u03fA4y06eXAXV39drS2fbXvmKJ9SknW0zniYGRkhPHx8Z6K37B6oqf1ejVyYGefvdY7CLM15j1jW4wW89hgcY9vMY9t9+7ds/Ja0veHzqqqktQgipnGvjYCGwFGR0drbGysp+3M9dcSb1g9wTlbl3Dnq8fmdL/dZmvMe8a2GC3mscHiHt9iHtvmNUvp9bVvX3q9mujb7RQP7fHe1r4TOLSr34rWtq/2FVO0S5LmUK/ReQWwDji7PV7e1f6mJJfQebP4waq6O8nVwLu63jQ+DjijqnYleSjJMcANwMnA+3usad7zI/uS5qv9hkGSi4Ex4JAkO+hcFXQ2cGmSU4FvAK9o3a8CXgxsBx4BXgvQXvTfAXyh9Xt7Ve15U/qNdK5YOhD4ZPuRJM2h/YZBVb1yL4uOnaJvAaftZTubgE1TtH8ROGJ/dUiSZo+fQJYkGQaSJMNAkoRhIEnCMJAkYRhIkjAMJEkYBpIkDANJEoaBJAnDQJKEYSBJwjCQJGEYSJIwDCRJGAaSJAwDSRKGgSQJw0CShGEgSaLPMEjy+0luTXJLkouT/EKSw5LckGR7ko8meUzr+/NtfntbvrJrO2e09q8mOb7PMUmSZqjnMEiyHPhdYLSqjgAOAE4C3g2cW1VPB+4HTm2rnArc39rPbf1Icnhb75nAGuCDSQ7otS5J0sz1e5poCXBgkiXAY4G7gRcCl7XlFwAntum1bZ62/Ngkae2XVNUPq+rrwHbgqD7rkiTNwJJeV6yqnUn+DPgm8H3g08CNwANVNdG67QCWt+nlwF1t3YkkDwJPbO3Xd226e52fkmQ9sB5gZGSE8fHxnmrfsHpi/50GaOTAud/nXHFsC9diHt9iHtvu3bt7fu3bl57DIMnBdP6qPwx4APgYndM8s6aqNgIbAUZHR2tsbKyn7Zxy+pUDrGr/Nqye4JytPf+q5zXHtnAt5vEt5rFtXrOUXl/79qWf00QvAr5eVfdV1T8DHweeDyxrp40AVgA72/RO4FCAtvwg4Lvd7VOsI0maA/2EwTeBY5I8tp37Pxa4DbgOeHnrsw64vE1f0eZpy6+tqmrtJ7WrjQ4DVgGf76MuSdIM9fOewQ1JLgNuAiaAL9E5hXMlcEmSd7a289sq5wN/nWQ7sIvOFURU1a1JLqUTJBPAaVX1417rkiTNXF8n1arqTODMSc13MMXVQFX1A+C39rKds4Cz+qlFktQ7P4EsSTIMJEmGgSQJw0CShGEgScIwkCRhGEiSMAwkSRgGkiQMA0kShoEkCcNAkoRhIEnCMJAkYRhIkjAMJEkYBpIkDANJEoaBJAnDQJKEYSBJos8wSLIsyWVJvpJkW5LnJXlCki1Jbm+PB7e+SfK+JNuT3JzkyK7trGv9b0+yrt9BSZJmpt8jg/cCn6qqXwaeBWwDTgeuqapVwDVtHuAEYFX7WQ+cB5DkCcCZwNHAUcCZewJEkjQ3eg6DJAcBLwDOB6iqH1XVA8Ba4ILW7QLgxDa9FriwOq4HliV5MnA8sKWqdlXV/cAWYE2vdUmSZm5JH+seBtwH/FWSZwE3Am8BRqrq7tbnHmCkTS8H7upaf0dr21v7z0iyns5RBSMjI4yPj/dU+IbVEz2t16uRA+d+n3PFsS1ci3l8i3lsu3fv7vm1b1/6CYMlwJHAm6vqhiTv5V9PCQFQVZWk+ilw0vY2AhsBRkdHa2xsrKftnHL6lYMqaVo2rJ7gnK39/KrnL8e2cC3m8S3msW1es5ReX/v2pZ/3DHYAO6rqhjZ/GZ1w+HY7/UN7vLct3wkc2rX+ita2t3ZJ0hzpOQyq6h7griTPaE3HArcBVwB7rghaB1zepq8ATm5XFR0DPNhOJ10NHJfk4PbG8XGtTZI0R/o9jnozcFGSxwB3AK+lEzCXJjkV+Abwitb3KuDFwHbgkdaXqtqV5B3AF1q/t1fVrj7rkiTNQF9hUFVfBkanWHTsFH0LOG0v29kEbOqnFklS7/wEsiTJMJAkGQaSJAwDSRKGgSQJw0CShGEgScIwkCRhGEiSMAwkSRgGkiQMA0kShoEkCcNAkoRhIEnCMJAkYRhIkjAMJEkYBpIkDANJEgMIgyQHJPlSkr9r84cluSHJ9iQfTfKY1v7zbX57W76yaxtntPavJjm+35okSTMziCODtwDbuubfDZxbVU8H7gdObe2nAve39nNbP5IcDpwEPBNYA3wwyQEDqEuSNE19hUGSFcBLgA+3+QAvBC5rXS4ATmzTa9s8bfmxrf9a4JKq+mFVfR3YDhzVT12SpJnp98jgPcBbgZ+0+ScCD1TVRJvfASxv08uBuwDa8gdb/39pn2IdSdIcWNLrikleCtxbVTcmGRtYRfve53pgPcDIyAjj4+M9bWfD6on9dxqgkQPnfp9zxbEtXIt5fIt5bLt37+75tW9feg4D4PnAy5K8GPgF4BeB9wLLkixpf/2vAHa2/juBQ4EdSZYABwHf7Wrfo3udn1JVG4GNAKOjozU2NtZT4aecfmVP6/Vqw+oJztnaz696/nJsC9diHt9iHtvmNUvp9bVvX3o+TVRVZ1TViqpaSecN4Gur6tXAdcDLW7d1wOVt+oo2T1t+bVVVaz+pXW10GLAK+HyvdUmSZm42ovMPgEuSvBP4EnB+az8f+Osk24FddAKEqro1yaXAbcAEcFpV/XgW6pIk7cVAwqCqxoHxNn0HU1wNVFU/AH5rL+ufBZw1iFokSTPnJ5AlSYaBJMkwkCRhGEiSMAwkSRgGkiQMA0kShoEkCcNAkoRhIEnCMJAkYRhIkjAMJEkYBpIkDANJEoaBJAnDQJKEYSBJwjCQJGEYSJIwDCRJ9BEGSQ5Ncl2S25LcmuQtrf0JSbYkub09Htzak+R9SbYnuTnJkV3bWtf6355kXf/DkiTNRD9HBhPAhqo6HDgGOC3J4cDpwDVVtQq4ps0DnACsaj/rgfOgEx7AmcDRwFHAmXsCRJI0N3oOg6q6u6puatPfA7YBy4G1wAWt2wXAiW16LXBhdVwPLEvyZOB4YEtV7aqq+4EtwJpe65IkzdySQWwkyUrgOcANwEhV3d0W3QOMtOnlwF1dq+1obXtrn2o/6+kcVTAyMsL4+HhP9W5YPdHTer0aOXDu9zlXHNvCtZjHt5jHtnv37p5f+/al7zBI8jjgb4Hfq6qHkvzLsqqqJNXvPrq2txHYCDA6OlpjY2M9beeU068cVEnTsmH1BOdsHUjuzjuObeFazONbzGPbvGYpvb727UtfVxMl+Tk6QXBRVX28NX+7nf6hPd7b2ncCh3atvqK17a1dkjRH+rmaKMD5wLaq+vOuRVcAe64IWgdc3tV+cruq6BjgwXY66WrguCQHtzeOj2ttkqQ50s9x1POB1wBbk3y5tb0NOBu4NMmpwDeAV7RlVwEvBrYDjwCvBaiqXUneAXyh9Xt7Ve3qoy5J0gz1HAZV9fdA9rL42Cn6F3DaXra1CdjUay2SpP74CWRJkmEgSTIMJEkYBpIkDANJEoaBJAnDQJKEYSBJwjCQJGEYSJIwDCRJGAaSJAwDSRKGgSQJw0CShGEgScIwkCRhGEiSMAwkSRgGkiQMA0kS8ygMkqxJ8tUk25OcPux6JOnRZF6EQZIDgA8AJwCHA69Mcvhwq5KkR495EQbAUcD2qrqjqn4EXAKsHXJNkvSokaoadg0keTmwpqr+a5t/DXB0Vb1pUr/1wPo2+wzgq3NaaO8OAb4z7CJmiWNbuBbz+Bzb3j21qp40uXFJHxucc1W1Edg47DpmKskXq2p02HXMBse2cC3m8Tm2mZsvp4l2Aod2za9obZKkOTBfwuALwKokhyV5DHAScMWQa5KkR415cZqoqiaSvAm4GjgA2FRVtw65rEFacKe2ZsCxLVyLeXyObYbmxRvIkqThmi+niSRJQ2QYSJIMg9mS5NAk1yW5LcmtSd4y7JoGLckBSb6U5O+GXcugJVmW5LIkX0myLcnzhl3ToCT5/facvCXJxUl+Ydg19SPJpiT3Jrmlq+0JSbYkub09HjzMGnu1l7H9aXte3pzkE0mWDWJfhsHsmQA2VNXhwDHAaYvwKzbeAmwbdhGz5L3Ap6rql4FnsUjGmWQ58LvAaFUdQeeCjZOGW1XfNgNrJrWdDlxTVauAa9r8QrSZnx3bFuCIqvoV4J+AMwaxI8NgllTV3VV1U5v+Hp0Xk+XDrWpwkqwAXgJ8eNi1DFqSg4AXAOcDVNWPquqBoRY1WEuAA5MsAR4LfGvI9fSlqj4D7JrUvBa4oE1fAJw4lzUNylRjq6pPV9VEm72ezuey+mYYzIEkK4HnADcMuZRBeg/wVuAnQ65jNhwG3Af8VTsN9uEkS4dd1CBU1U7gz4BvAncDD1bVp4db1awYqaq72/Q9wMgwi5lFrwM+OYgNGQazLMnjgL8Ffq+qHhp2PYOQ5KXAvVV147BrmSVLgCOB86rqOcDDLNzTDD+lnTtfSyfwngIsTfLbw61qdlXn+vlFdw19kj+kczr6okFszzCYRUl+jk4QXFRVHx92PQP0fOBlSe6k8w2zL0zyN8MtaaB2ADuqas+R3GV0wmExeBHw9aq6r6r+Gfg48KtDrmk2fDvJkwHa471DrmegkpwCvBR4dQ3ow2KGwSxJEjrnnLdV1Z8Pu55BqqozqmpFVa2k8+bjtVW1aP66rKp7gLuSPKM1HQvcNsSSBumbwDFJHtueo8eySN4cn+QKYF2bXgdcPsRaBirJGjqnaF9WVY8MaruGwex5PvAaOn81f7n9vHjYRWna3gxclORm4NnAu4ZbzmC0o53LgJuArXReAxb0VzckuRj4HPCMJDuSnAqcDfxmktvpHA2dPcwae7WXsf0F8HhgS3td+dBA9uXXUUiSPDKQJBkGkiTDQJKEYSBJwjCQJGEYSJIwDCRJwP8HBgJVzc7BUVUAAAAASUVORK5CYII=\n",
      "text/plain": [
       "<Figure size 432x288 with 1 Axes>"
      ]
     },
     "metadata": {
      "needs_background": "light"
     },
     "output_type": "display_data"
    }
   ],
   "source": [
    "df.hist(column = \"arrival_date_month\")\n",
    "plt.show()"
   ]
  },
  {
   "cell_type": "markdown",
   "metadata": {},
   "source": [
    "It may be helpful to perform some sort of transformation on these predictors to capture the fact that they are cyclical <br>\n",
    "https://www.real-statistics.com/multiple-regression/multiple-regression-analysis/seasonal-regression-forecasts/"
   ]
  },
  {
   "cell_type": "markdown",
   "metadata": {},
   "source": [
    "### arrival_date_week_number"
   ]
  },
  {
   "cell_type": "code",
   "execution_count": 16,
   "metadata": {},
   "outputs": [
    {
     "data": {
      "text/plain": [
       "<AxesSubplot:>"
      ]
     },
     "execution_count": 16,
     "metadata": {},
     "output_type": "execute_result"
    },
    {
     "data": {
      "image/png": "iVBORw0KGgoAAAANSUhEUgAAAYMAAAD4CAYAAAAO9oqkAAAAOXRFWHRTb2Z0d2FyZQBNYXRwbG90bGliIHZlcnNpb24zLjUuMSwgaHR0cHM6Ly9tYXRwbG90bGliLm9yZy/YYfK9AAAACXBIWXMAAAsTAAALEwEAmpwYAAAVdUlEQVR4nO3df6zldZ3f8eerg1rCagRxb2YZ7GB2tEFmd3a5QZp1N3elwoBWsDEUQmVQ6miERJNptsO2CVZLwrbL2ppY2nGdMCQuSERlolicpZy6TYoyKHVApQw4hJkMTBZw2asN9rrv/nE+d/d4vXPvnXvO3HvmnOcjObnf8/5+vt/zeTNn7mu+P84hVYUkabz9vdWegCRp9RkGkiTDQJJkGEiSMAwkScBJqz2B5Tr99NNr/fr1C475yU9+wimnnLIyE1pl49LruPQJ49PruPQJw9Hrww8//JdV9fq59RM2DNavX8/evXsXHNPpdJiamlqZCa2ycel1XPqE8el1XPqE4eg1ydPz1T1NJElaPAyS7ExyJMmjPbUvJHmkPQ4keaTV1yf5vz3r/kvPNucm2Zdkf5JPJ0mrn5ZkT5In2s9Tj0OfkqQFLOXI4DZgc2+hqv5ZVW2qqk3A3cCXelY/Obuuqj7cU78V+CCwoT1m97kduL+qNgD3t+eSpBW0aBhU1TeBF+Zb1/51fzlwx0L7SLIWeE1VPVjd77+4Hbisrb4U2NWWd/XUJUkrpN9rBr8LPFdVT/TUzkry3ST/I8nvttoZwMGeMQdbDWCiqg635WeBiT7nJEk6Rv3eTXQlv3hUcBh4Q1U9n+Rc4CtJ3rLUnVVVJTnqN+cl2QpsBZiYmKDT6Sy4v+np6UXHjIpx6XVc+oTx6XVc+oTh7nXZYZDkJOCfAufO1qrqZeDltvxwkieBNwGHgHU9m69rNYDnkqytqsPtdNKRo71mVe0AdgBMTk7WYrdoDcNtXCtlXHodlz5hfHodlz5huHvt5zTRPwZ+WFV/e/onyeuTrGnLb6R7ofipdhropSTnt+sMVwP3tM12A1va8paeuiRphSzl1tI7gP8FvDnJwSTXtlVX8MsXjn8P+F671fSLwIeravbi80eAPwX2A08CX2/1m4F3JHmCbsDcvPx2JEnLsehpoqq68ij1a+ap3U33VtP5xu8Fzpmn/jxwwWLzkE4U67d/bSD72bZxhmuOcV8Hbn7nQF5b48dPIEuSDANJkmEgScIwkCRhGEiSMAwkSRgGkiQMA0kShoEkCcNAkoRhIEnCMJAkYRhIkjAMJEkYBpIkDANJEoaBJAnDQJKEYSBJwjCQJGEYSJIwDCRJLCEMkuxMciTJoz21jyc5lOSR9rikZ90NSfYneTzJRT31za22P8n2nvpZSb7V6l9I8spBNihJWtxSjgxuAzbPU/9UVW1qj3sBkpwNXAG8pW3zn5OsSbIG+AxwMXA2cGUbC/BHbV+/DrwIXNtPQ5KkY7doGFTVN4EXlri/S4E7q+rlqvoRsB84rz32V9VTVfUz4E7g0iQB3g58sW2/C7js2FqQJPXrpD62vT7J1cBeYFtVvQicATzYM+ZgqwE8M6f+VuB1wI+ramae8b8kyVZgK8DExASdTmfBCU5PTy86ZlSMS68nQp/bNs4sPmgJJk4+9n0N+3+b+ZwIf6aDMsy9LjcMbgU+CVT7eQvwgUFN6miqagewA2BycrKmpqYWHN/pdFhszKgYl15PhD6v2f61gexn28YZbtl3bH9FD1w1NZDXXkknwp/poAxzr8sKg6p6bnY5yWeBr7anh4Aze4auazWOUn8eeG2Sk9rRQe94SdIKWdatpUnW9jx9DzB7p9Fu4Iokr0pyFrAB+DbwELCh3Tn0SroXmXdXVQEPAO9t228B7lnOnCRJy7fokUGSO4Ap4PQkB4Ebgakkm+ieJjoAfAigqh5LchfwfWAGuK6qft72cz1wH7AG2FlVj7WX+FfAnUn+HfBd4HODak6StDSLhkFVXTlP+ai/sKvqJuCmeer3AvfOU3+K7t1GkqRV4ieQJUmGgSTJMJAkYRhIkjAMJEkYBpIkDANJEoaBJAnDQJJEf19hLS1q/YC+wXPWto0zS/5W0AM3v3Ogry2NMo8MJEkeGUijZNBHYkvlUdiJzyMDSZJhIEkyDCRJGAaSJAwDSRLeTSRpAPq5i+lYPjsyH+9kGgyPDCRJhoEkyTCQJLGEawZJdgLvAo5U1Tmt9h+AfwL8DHgSeH9V/TjJeuAHwONt8wer6sNtm3OB24CTgXuBj1ZVJTkN+AKwHjgAXF5VLw6oP42x1fo0rnQiWsqRwW3A5jm1PcA5VfUbwP8BbuhZ92RVbWqPD/fUbwU+CGxoj9l9bgfur6oNwP3tuSRpBS0aBlX1TeCFObVvVNVMe/ogsG6hfSRZC7ymqh6sqgJuBy5rqy8FdrXlXT11SdIKGcStpR+ge5pn1llJvgu8BPybqvoL4AzgYM+Yg60GMFFVh9vys8DE0V4oyVZgK8DExASdTmfBiU1PTy86ZlQMa6/bNs4sPugYTJw8+H0Oq3Hptd8+h/F9fzTD+vcU+gyDJP8amAE+30qHgTdU1fPtGsFXkrxlqftr1xBqgfU7gB0Ak5OTNTU1teD+Op0Oi40ZFcPaaz/3j89n28YZbtk3Hh+PGZde++3zwFVTg5vMcTasf0+hjzBIcg3dC8sXtFM/VNXLwMtt+eEkTwJvAg7xi6eS1rUawHNJ1lbV4XY66chy5yRJWp5l3VqaZDPwB8C7q+qnPfXXJ1nTlt9I90LxU+000EtJzk8S4GrgnrbZbmBLW97SU5ckrZCl3Fp6BzAFnJ7kIHAj3buHXgXs6f5u/9tbSH8P+ESS/wf8DfDhqpq9+PwR/u7W0q+3B8DNwF1JrgWeBi4fSGeSpCVbNAyq6sp5yp87yti7gbuPsm4vcM489eeBCxabhyTp+PETyJIkw0CS5FdYjw2/mkHSQjwykCQZBpIkw0CShGEgScIwkCRhGEiSMAwkSRgGkiQMA0kShoEkCcNAkoRhIEnCMJAk4beWrqjj+c2h2zbODPx/Pi9pfHhkIEkyDCRJhoEkCcNAksQSwyDJziRHkjzaUzstyZ4kT7Sfp7Z6knw6yf4k30vy2z3bbGnjn0iypad+bpJ9bZtPJ8kgm5QkLWypRwa3AZvn1LYD91fVBuD+9hzgYmBDe2wFboVueAA3Am8FzgNunA2QNuaDPdvNfS1J0nG0pDCoqm8CL8wpXwrsasu7gMt66rdX14PAa5OsBS4C9lTVC1X1IrAH2NzWvaaqHqyqAm7v2ZckaQX08zmDiao63JafBSba8hnAMz3jDrbaQvWD89R/SZKtdI82mJiYoNPpLDjB6enpRcespG0bZ47bvidOPr77Hxbj0ieMT6/99jlMf8cXM2y/k3oN5ENnVVVJahD7WuR1dgA7ACYnJ2tqamrB8Z1Oh8XGrKTj+aGwbRtnuGXf6H+GcFz6hPHptd8+D1w1NbjJHGfD9jupVz/vtOeSrK2qw+1Uz5FWPwSc2TNuXasdAqbm1Dutvm6e8ZK0qOP5yf6FHLj5navyusdLP7eW7gZm7wjaAtzTU7+63VV0PvBX7XTSfcCFSU5tF44vBO5r615Kcn67i+jqnn1JklbAko4MktxB91/1pyc5SPeuoJuBu5JcCzwNXN6G3wtcAuwHfgq8H6CqXkjySeChNu4TVTV7UfojdO9YOhn4entIklbIksKgqq48yqoL5hlbwHVH2c9OYOc89b3AOUuZiyRp8PwEsiTJMJAkGQaSJAwDSRKGgSQJw0CShGEgScIwkCRhGEiSGNC3lkrSuFnOF+Rt2zjT97cXH68vyPPIQJJkGEiSDANJEoaBJAnDQJKEYSBJwjCQJGEYSJIwDCRJjOknkJfzyUFJGmUeGUiSlh8GSd6c5JGex0tJPpbk40kO9dQv6dnmhiT7kzye5KKe+uZW259ke79NSZKOzbJPE1XV48AmgCRrgEPAl4H3A5+qqj/uHZ/kbOAK4C3ArwF/nuRNbfVngHcAB4GHkuyuqu8vd26SpGMzqGsGFwBPVtXTSY425lLgzqp6GfhRkv3AeW3d/qp6CiDJnW2sYSBJK2RQYXAFcEfP8+uTXA3sBbZV1YvAGcCDPWMOthrAM3Pqb53vRZJsBbYCTExM0Ol0FpzU9PT0vGO2bZxZcLsT0cTJo9nXXOPSJ4xPr+PSJwym18V+7y1X32GQ5JXAu4EbWulW4JNAtZ+3AB/o93UAqmoHsANgcnKypqamFhzf6XSYb0y/3yc+jLZtnOGWfaN/c9i49Anj0+u49AmD6fXAVVODmcwcg/gTuBj4TlU9BzD7EyDJZ4GvtqeHgDN7tlvXaixQlyStgEHcWnolPaeIkqztWfce4NG2vBu4IsmrkpwFbAC+DTwEbEhyVjvKuKKNlSStkL6ODJKcQvcuoA/1lP99kk10TxMdmF1XVY8luYvuheEZ4Lqq+nnbz/XAfcAaYGdVPdbPvCRJx6avMKiqnwCvm1N73wLjbwJumqd+L3BvP3ORJC2fn0CWJBkGkiTDQJKEYSBJwjCQJGEYSJIwDCRJGAaSJAwDSRKGgSQJw0CShGEgScIwkCRhGEiSMAwkSRgGkiQMA0kShoEkCcNAkoRhIEnCMJAkMYAwSHIgyb4kjyTZ22qnJdmT5In289RWT5JPJ9mf5HtJfrtnP1va+CeSbOl3XpKkpRvUkcHvV9Wmqppsz7cD91fVBuD+9hzgYmBDe2wFboVueAA3Am8FzgNunA0QSdLxd7xOE10K7GrLu4DLeuq3V9eDwGuTrAUuAvZU1QtV9SKwB9h8nOYmSZrjpAHso4BvJCngv1bVDmCiqg639c8CE235DOCZnm0PttrR6r8gyVa6RxRMTEzQ6XQWnNj09PS8Y7ZtnFmspxPOxMmj2ddc49InjE+v49InDKbXxX7vLdcgwuBtVXUoya8Ce5L8sHdlVVULir61oNkBMDk5WVNTUwuO73Q6zDfmmu1fG8R0hsq2jTPcsm8Qf5zDbVz6hPHpdVz6hMH0euCqqcFMZo6+TxNV1aH28wjwZbrn/J9rp39oP4+04YeAM3s2X9dqR6tLklZAX2GQ5JQkr55dBi4EHgV2A7N3BG0B7mnLu4Gr211F5wN/1U4n3QdcmOTUduH4wlaTJK2Afo/NJoAvJ5nd159V1X9L8hBwV5JrgaeBy9v4e4FLgP3AT4H3A1TVC0k+CTzUxn2iql7oc26SpCXqKwyq6ingN+epPw9cME+9gOuOsq+dwM5+5iNJWh4/gSxJMgwkSYaBJAnDQJKEYSBJwjCQJGEYSJIwDCRJGAaSJAwDSRKGgSQJw0CShGEgScIwkCRhGEiSMAwkSRgGkiQMA0kShoEkCcNAkoRhIEmijzBIcmaSB5J8P8ljST7a6h9PcijJI+1xSc82NyTZn+TxJBf11De32v4k2/trSZJ0rE7qY9sZYFtVfSfJq4GHk+xp6z5VVX/cOzjJ2cAVwFuAXwP+PMmb2urPAO8ADgIPJdldVd/vY26SpGOw7DCoqsPA4bb810l+AJyxwCaXAndW1cvAj5LsB85r6/ZX1VMASe5sYw0DSVohA7lmkGQ98FvAt1rp+iTfS7IzyamtdgbwTM9mB1vtaHVJ0grp5zQRAEl+Bbgb+FhVvZTkVuCTQLWftwAf6Pd12mttBbYCTExM0Ol0Fhw/PT0975htG2cGMZ2hMnHyaPY117j0CePT67j0CYPpdbHfe8vVVxgkeQXdIPh8VX0JoKqe61n/WeCr7ekh4Myezde1GgvUf0FV7QB2AExOTtbU1NSC8+t0Osw35prtX1twuxPRto0z3LKv72wfeuPSJ4xPr+PSJwym1wNXTQ1mMnP0czdRgM8BP6iqP+mpr+0Z9h7g0ba8G7giyauSnAVsAL4NPARsSHJWklfSvci8e7nzkiQdu34i6neA9wH7kjzSan8IXJlkE93TRAeADwFU1WNJ7qJ7YXgGuK6qfg6Q5HrgPmANsLOqHutjXpKkY9TP3UT/E8g8q+5dYJubgJvmqd+70HaSpOPLTyBLkgwDSZJhIEnCMJAkYRhIkjAMJEkYBpIkDANJEoaBJAnDQJKEYSBJwjCQJGEYSJIwDCRJGAaSJAwDSRKGgSQJw0CShGEgScIwkCRhGEiSMAwkSQxRGCTZnOTxJPuTbF/t+UjSOBmKMEiyBvgMcDFwNnBlkrNXd1aSND6GIgyA84D9VfVUVf0MuBO4dJXnJEljI1W12nMgyXuBzVX1L9rz9wFvrarr54zbCmxtT98MPL7Irk8H/nLA0x1W49LruPQJ49PruPQJw9HrP6iq188tnrQaM1muqtoB7Fjq+CR7q2ryOE5paIxLr+PSJ4xPr+PSJwx3r8NymugQcGbP83WtJklaAcMSBg8BG5KcleSVwBXA7lWekySNjaE4TVRVM0muB+4D1gA7q+qxAex6yaeURsC49DoufcL49DoufcIQ9zoUF5AlSatrWE4TSZJWkWEgSRrdMBjlr7dIsjPJkSSP9tROS7InyRPt56mrOcdBSHJmkgeSfD/JY0k+2uoj1WuSv5/k20n+d+vz37b6WUm+1d7DX2g3V4yEJGuSfDfJV9vzkes1yYEk+5I8kmRvqw3te3ckw2AMvt7iNmDznNp24P6q2gDc356f6GaAbVV1NnA+cF37cxy1Xl8G3l5VvwlsAjYnOR/4I+BTVfXrwIvAtas3xYH7KPCDnuej2uvvV9Wmns8WDO17dyTDgBH/eouq+ibwwpzypcCutrwLuGwl53Q8VNXhqvpOW/5rur88zmDEeq2u6fb0Fe1RwNuBL7b6Cd/nrCTrgHcCf9qehxHtdR5D+94d1TA4A3im5/nBVhtlE1V1uC0/C0ys5mQGLcl64LeAbzGCvbbTJo8AR4A9wJPAj6tqpg0ZpffwfwT+APib9vx1jGavBXwjycPtq3RgiN+7Q/E5Aw1WVVWSkblnOMmvAHcDH6uql7r/kOwalV6r6ufApiSvBb4M/MPVndHxkeRdwJGqejjJ1CpP53h7W1UdSvKrwJ4kP+xdOWzv3VE9MhjHr7d4LslagPbzyCrPZyCSvIJuEHy+qr7UyiPZK0BV/Rh4APhHwGuTzP6DbVTew78DvDvJAbqnb98O/CdGsNeqOtR+HqEb8OcxxO/dUQ2Dcfx6i93Alra8BbhnFecyEO1c8ueAH1TVn/SsGqlek7y+HRGQ5GTgHXSvjzwAvLcNO+H7BKiqG6pqXVWtp/v38r9X1VWMWK9JTkny6tll4ELgUYb4vTuyn0BOcgndc5OzX29x0+rOaHCS3AFM0f063OeAG4GvAHcBbwCeBi6vqrkXmU8oSd4G/AWwj787v/yHdK8bjEyvSX6D7sXENXT/gXZXVX0iyRvp/uv5NOC7wD+vqpdXb6aD1U4T/cuqeteo9dr6+XJ7ehLwZ1V1U5LXMaTv3ZENA0nS0o3qaSJJ0jEwDCRJhoEkyTCQJGEYSJIwDCRJGAaSJOD/A+IpWyIEBBs2AAAAAElFTkSuQmCC\n",
      "text/plain": [
       "<Figure size 432x288 with 1 Axes>"
      ]
     },
     "metadata": {
      "needs_background": "light"
     },
     "output_type": "display_data"
    }
   ],
   "source": [
    "df[\"arrival_date_week_number\"].hist()"
   ]
  },
  {
   "cell_type": "markdown",
   "metadata": {},
   "source": [
    "Looks good, maybe some scaling or again something to capture the cyclical nature of this predictor."
   ]
  },
  {
   "cell_type": "markdown",
   "metadata": {},
   "source": [
    "### arrival_date_day_of_month  "
   ]
  },
  {
   "cell_type": "code",
   "execution_count": 17,
   "metadata": {},
   "outputs": [
    {
     "data": {
      "text/plain": [
       "<AxesSubplot:>"
      ]
     },
     "execution_count": 17,
     "metadata": {},
     "output_type": "execute_result"
    },
    {
     "data": {
      "image/png": "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\n",
      "text/plain": [
       "<Figure size 432x288 with 1 Axes>"
      ]
     },
     "metadata": {
      "needs_background": "light"
     },
     "output_type": "display_data"
    }
   ],
   "source": [
    "df[\"arrival_date_day_of_month\"].hist()"
   ]
  },
  {
   "cell_type": "markdown",
   "metadata": {},
   "source": [
    "Looks good, maybe some scaling or again something to capture the cyclical nature of this predictor."
   ]
  },
  {
   "cell_type": "markdown",
   "metadata": {},
   "source": [
    "### stays_in_weekend_nights"
   ]
  },
  {
   "cell_type": "code",
   "execution_count": 18,
   "metadata": {},
   "outputs": [
    {
     "data": {
      "text/plain": [
       "<AxesSubplot:>"
      ]
     },
     "execution_count": 18,
     "metadata": {},
     "output_type": "execute_result"
    },
    {
     "data": {
      "image/png": "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\n",
      "text/plain": [
       "<Figure size 432x288 with 1 Axes>"
      ]
     },
     "metadata": {
      "needs_background": "light"
     },
     "output_type": "display_data"
    }
   ],
   "source": [
    "df.boxplot(column=[\"stays_in_weekend_nights\"])"
   ]
  },
  {
   "cell_type": "markdown",
   "metadata": {},
   "source": [
    "Looks good may need scaling"
   ]
  },
  {
   "cell_type": "markdown",
   "metadata": {},
   "source": [
    "### stays_in_week_nights"
   ]
  },
  {
   "cell_type": "code",
   "execution_count": 19,
   "metadata": {},
   "outputs": [
    {
     "data": {
      "text/plain": [
       "<AxesSubplot:>"
      ]
     },
     "execution_count": 19,
     "metadata": {},
     "output_type": "execute_result"
    },
    {
     "data": {
      "image/png": "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\n",
      "text/plain": [
       "<Figure size 432x288 with 1 Axes>"
      ]
     },
     "metadata": {
      "needs_background": "light"
     },
     "output_type": "display_data"
    }
   ],
   "source": [
    "df.boxplot(column=[\"stays_in_week_nights\"])"
   ]
  },
  {
   "cell_type": "markdown",
   "metadata": {},
   "source": [
    "Looks good may need scaling"
   ]
  },
  {
   "cell_type": "markdown",
   "metadata": {},
   "source": [
    "### adults"
   ]
  },
  {
   "cell_type": "code",
   "execution_count": 20,
   "metadata": {},
   "outputs": [
    {
     "data": {
      "text/plain": [
       "<AxesSubplot:>"
      ]
     },
     "execution_count": 20,
     "metadata": {},
     "output_type": "execute_result"
    },
    {
     "data": {
      "image/png": "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\n",
      "text/plain": [
       "<Figure size 432x288 with 1 Axes>"
      ]
     },
     "metadata": {
      "needs_background": "light"
     },
     "output_type": "display_data"
    }
   ],
   "source": [
    "df.boxplot(column=[\"adults\"])"
   ]
  },
  {
   "cell_type": "markdown",
   "metadata": {},
   "source": [
    "Looks good may need scaling"
   ]
  },
  {
   "cell_type": "markdown",
   "metadata": {},
   "source": [
    "### children"
   ]
  },
  {
   "cell_type": "code",
   "execution_count": 21,
   "metadata": {},
   "outputs": [
    {
     "data": {
      "text/plain": [
       "array([ 0.,  1.,  2., 10.,  3., nan])"
      ]
     },
     "execution_count": 21,
     "metadata": {},
     "output_type": "execute_result"
    }
   ],
   "source": [
    "df[\"children\"].unique()"
   ]
  },
  {
   "cell_type": "markdown",
   "metadata": {},
   "source": [
    "Change to int and remove all nan values"
   ]
  },
  {
   "cell_type": "code",
   "execution_count": 22,
   "metadata": {},
   "outputs": [],
   "source": [
    "def nan_to_0_and_int(value):\n",
    "    if(np.isnan(value)):\n",
    "        return 0\n",
    "    else:\n",
    "        return int(value)\n",
    "df[\"children\"] =df[\"children\"].apply(nan_to_0_and_int,convert_dtype=True)"
   ]
  },
  {
   "cell_type": "code",
   "execution_count": 23,
   "metadata": {},
   "outputs": [
    {
     "data": {
      "text/plain": [
       "<AxesSubplot:>"
      ]
     },
     "execution_count": 23,
     "metadata": {},
     "output_type": "execute_result"
    },
    {
     "data": {
      "image/png": "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\n",
      "text/plain": [
       "<Figure size 432x288 with 1 Axes>"
      ]
     },
     "metadata": {
      "needs_background": "light"
     },
     "output_type": "display_data"
    }
   ],
   "source": [
    "df.boxplot(column=[\"children\"])"
   ]
  },
  {
   "cell_type": "code",
   "execution_count": 24,
   "metadata": {},
   "outputs": [
    {
     "data": {
      "text/plain": [
       "array([ 0,  1,  2, 10,  3], dtype=int64)"
      ]
     },
     "execution_count": 24,
     "metadata": {},
     "output_type": "execute_result"
    }
   ],
   "source": [
    "df[\"children\"].unique()"
   ]
  },
  {
   "cell_type": "markdown",
   "metadata": {},
   "source": [
    "might need scaling. 10 children seems extreme but believable"
   ]
  },
  {
   "cell_type": "markdown",
   "metadata": {},
   "source": [
    "## babies"
   ]
  },
  {
   "cell_type": "code",
   "execution_count": 25,
   "metadata": {},
   "outputs": [
    {
     "data": {
      "text/plain": [
       "array([ 0,  1,  2, 10,  9], dtype=int64)"
      ]
     },
     "execution_count": 25,
     "metadata": {},
     "output_type": "execute_result"
    }
   ],
   "source": [
    "df[\"babies\"].unique()"
   ]
  },
  {
   "cell_type": "code",
   "execution_count": 26,
   "metadata": {
    "scrolled": true
   },
   "outputs": [
    {
     "data": {
      "text/plain": [
       "<AxesSubplot:>"
      ]
     },
     "execution_count": 26,
     "metadata": {},
     "output_type": "execute_result"
    },
    {
     "data": {
      "image/png": "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\n",
      "text/plain": [
       "<Figure size 432x288 with 1 Axes>"
      ]
     },
     "metadata": {
      "needs_background": "light"
     },
     "output_type": "display_data"
    }
   ],
   "source": [
    "df.boxplot(column=[\"babies\"])"
   ]
  },
  {
   "cell_type": "markdown",
   "metadata": {},
   "source": [
    "looks good might need scaling"
   ]
  },
  {
   "cell_type": "markdown",
   "metadata": {},
   "source": [
    "### meal"
   ]
  },
  {
   "cell_type": "code",
   "execution_count": 27,
   "metadata": {},
   "outputs": [
    {
     "data": {
      "text/plain": [
       "(array(['BB', 'FB', 'HB', 'SC', 'Undefined'], dtype=object),\n",
       " array([92309,   798, 14463, 10650,  1169], dtype=int64))"
      ]
     },
     "execution_count": 27,
     "metadata": {},
     "output_type": "execute_result"
    }
   ],
   "source": [
    "np.unique(df[\"meal\"],return_counts=True)"
   ]
  },
  {
   "cell_type": "markdown",
   "metadata": {},
   "source": [
    "\"BB\" - breakfast only <br>\n",
    "\"FB\" - breakfast, lunch, and dinner <br>\n",
    "\"HB\" - dinner and breakfast <br>\n",
    "\"SC\" - no meals <br>\n",
    "<br>\n",
    "There are a significant amount that are undefined, might be worth removing or changing to a binary \"bought_meal\""
   ]
  },
  {
   "cell_type": "markdown",
   "metadata": {},
   "source": [
    "### country"
   ]
  },
  {
   "cell_type": "code",
   "execution_count": 28,
   "metadata": {},
   "outputs": [
    {
     "name": "stdout",
     "output_type": "stream",
     "text": [
      "['ABW' 'AGO' 'AIA' 'ALB' 'AND' 'ARE' 'ARG' 'ARM' 'ASM' 'ATA' 'ATF' 'AUS'\n",
      " 'AUT' 'AZE' 'BDI' 'BEL' 'BEN' 'BFA' 'BGD' 'BGR' 'BHR' 'BHS' 'BIH' 'BLR'\n",
      " 'BOL' 'BRA' 'BRB' 'BWA' 'CAF' 'CHE' 'CHL' 'CHN' 'CIV' 'CMR' 'CN' 'COL'\n",
      " 'COM' 'CPV' 'CRI' 'CUB' 'CYM' 'CYP' 'CZE' 'DEU' 'DJI' 'DMA' 'DNK' 'DOM'\n",
      " 'DZA' 'ECU' 'EGY' 'ESP' 'EST' 'ETH' 'FIN' 'FJI' 'FRA' 'FRO' 'GAB' 'GBR'\n",
      " 'GEO' 'GGY' 'GHA' 'GIB' 'GLP' 'GNB' 'GRC' 'GTM' 'GUY' 'HKG' 'HND' 'HRV'\n",
      " 'HUN' 'IDN' 'IMN' 'IND' 'IRL' 'IRN' 'IRQ' 'ISL' 'ISR' 'ITA' 'JAM' 'JEY'\n",
      " 'JOR' 'JPN' 'KAZ' 'KEN' 'KHM' 'KIR' 'KNA' 'KOR' 'KWT' 'LAO' 'LBN' 'LBY'\n",
      " 'LCA' 'LIE' 'LKA' 'LTU' 'LUX' 'LVA' 'MAC' 'MAR' 'MCO' 'MDG' 'MDV' 'MEX'\n",
      " 'MKD' 'MLI' 'MLT' 'MMR' 'MNE' 'MOZ' 'MRT' 'MUS' 'MWI' 'MYS' 'MYT' 'NAM'\n",
      " 'NCL' 'NGA' 'NIC' 'NLD' 'NOR' 'NPL' 'NZL' 'OMN' 'PAK' 'PAN' 'PER' 'PHL'\n",
      " 'PLW' 'POL' 'PRI' 'PRT' 'PRY' 'PYF' 'QAT' 'ROU' 'RUS' 'RWA' 'SAU' 'SDN'\n",
      " 'SEN' 'SGP' 'SLE' 'SLV' 'SMR' 'SRB' 'STP' 'SUR' 'SVK' 'SVN' 'SWE' 'SYC'\n",
      " 'SYR' 'TGO' 'THA' 'TJK' 'TMP' 'TUN' 'TUR' 'TWN' 'TZA' 'UGA' 'UKR' 'UMI'\n",
      " 'URY' 'USA' 'UZB' 'VEN' 'VGB' 'VNM' 'ZAF' 'ZMB' 'ZWE' 'nan'] [    2   362     1    12     7    51   214     8     1     2     1   426\n",
      "  1263    17     1  2342     3     1    12    75     5     1    13    26\n",
      "    10  2224     4     1     5  1730    65   999     6    10  1279    71\n",
      "     2    24    19     8     1    51   171  7287     1     1   435    14\n",
      "   103    27    32  8568    83     3   447     1 10415     5     4 12129\n",
      "    22     3     4    18     2     9   128     4     1    29     1   100\n",
      "   230    35     2   152  3375    83    14    57   669  3766     6     8\n",
      "    21   197    19     6     2     1     2   133    16     2    31     8\n",
      "     1     3     7    81   287    55    16   259     4     1    12    85\n",
      "    10     1    18     1     5    67     1     7     2    28     2     1\n",
      "     1    34     1  2104   607     1    74    18    14     9    29    40\n",
      "     1   919    12 48589     4     1    15   500   632     2    48     1\n",
      "    11    39     1     2     1   101     2     5    65    57  1024     2\n",
      "     3     2    59     9     3    39   248    51     5     2    68     1\n",
      "    32  2097     4    26     1     8    80     2     4   488]\n"
     ]
    }
   ],
   "source": [
    "countries, c_freq = np.unique(list(df[\"country\"]),return_counts=True)\n",
    "print(countries, c_freq)"
   ]
  },
  {
   "cell_type": "markdown",
   "metadata": {},
   "source": [
    "If there are 15 or less historical reservations from a particular country that is not really enough to draw any conclusions so any country that has 15 or less reservations will be added to an \"other\" group 'OTR' along with all 'nan' entries "
   ]
  },
  {
   "cell_type": "code",
   "execution_count": 29,
   "metadata": {},
   "outputs": [],
   "source": [
    "def condense_countries(value):\n",
    "    country_index = np.where(countries== value)[0]\n",
    "    if(c_freq[country_index] <=15 or pd.isnull(value)):\n",
    "        return 'OTR'\n",
    "    else:\n",
    "        return value"
   ]
  },
  {
   "cell_type": "code",
   "execution_count": 30,
   "metadata": {},
   "outputs": [
    {
     "name": "stderr",
     "output_type": "stream",
     "text": [
      "C:\\Users\\KATYLU~2\\AppData\\Local\\Temp/ipykernel_25244/3012183276.py:2: FutureWarning: elementwise comparison failed; returning scalar instead, but in the future will perform elementwise comparison\n",
      "  country_index = np.where(countries== value)[0]\n",
      "C:\\Users\\KATYLU~2\\AppData\\Local\\Temp/ipykernel_25244/3012183276.py:3: DeprecationWarning: The truth value of an empty array is ambiguous. Returning False, but in future this will result in an error. Use `array.size > 0` to check that an array is not empty.\n",
      "  if(c_freq[country_index] <=15 or pd.isnull(value)):\n"
     ]
    }
   ],
   "source": [
    "for i, row in df.iterrows():\n",
    "    df.at[i, \"country\"] = condense_countries(df.at[i,'country'])"
   ]
  },
  {
   "cell_type": "code",
   "execution_count": 31,
   "metadata": {},
   "outputs": [
    {
     "name": "stdout",
     "output_type": "stream",
     "text": [
      "['AGO' 'ARE' 'ARG' 'AUS' 'AUT' 'AZE' 'BEL' 'BGR' 'BLR' 'BRA' 'CHE' 'CHL'\n",
      " 'CHN' 'CN' 'COL' 'CPV' 'CRI' 'CYP' 'CZE' 'DEU' 'DNK' 'DZA' 'ECU' 'EGY'\n",
      " 'ESP' 'EST' 'FIN' 'FRA' 'GBR' 'GEO' 'GIB' 'GRC' 'HKG' 'HRV' 'HUN' 'IDN'\n",
      " 'IND' 'IRL' 'IRN' 'ISL' 'ISR' 'ITA' 'JOR' 'JPN' 'KAZ' 'KOR' 'KWT' 'LBN'\n",
      " 'LTU' 'LUX' 'LVA' 'MAC' 'MAR' 'MEX' 'MLT' 'MOZ' 'MYS' 'NGA' 'NLD' 'NOR'\n",
      " 'NZL' 'OMN' 'OTR' 'PER' 'PHL' 'POL' 'PRT' 'ROU' 'RUS' 'SAU' 'SGP' 'SRB'\n",
      " 'SVK' 'SVN' 'SWE' 'THA' 'TUN' 'TUR' 'TWN' 'UKR' 'URY' 'USA' 'VEN' 'ZAF'] [  362    51   214   426  1263    17  2342    75    26  2224  1730    65\n",
      "   999  1279    71    24    19    51   171  7287   435   103    27    32\n",
      "  8568    83   447 10415 12129    22    18   128    29   100   230    35\n",
      "   152  3375    83    57   669  3766    21   197    19   133    16    31\n",
      "    81   287    55    16   259    85    18    67    28    34  2104   607\n",
      "    74    18   897    29    40   919 48589   500   632    48    39   101\n",
      "    65    57  1024    59    39   248    51    68    32  2097    26    80]\n"
     ]
    }
   ],
   "source": [
    "countries, c_freq = np.unique(list(df[\"country\"]),return_counts=True)\n",
    "print(countries, c_freq)"
   ]
  },
  {
   "cell_type": "code",
   "execution_count": 32,
   "metadata": {},
   "outputs": [
    {
     "data": {
      "text/plain": [
       "<AxesSubplot:>"
      ]
     },
     "execution_count": 32,
     "metadata": {},
     "output_type": "execute_result"
    },
    {
     "data": {
      "image/png": "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\n",
      "text/plain": [
       "<Figure size 1440x360 with 1 Axes>"
      ]
     },
     "metadata": {
      "needs_background": "light"
     },
     "output_type": "display_data"
    }
   ],
   "source": [
    "fig, ax = plt.subplots(figsize=(20,5))\n",
    "df['country'].value_counts().plot.bar(ax=ax, rot=90)"
   ]
  },
  {
   "cell_type": "markdown",
   "metadata": {},
   "source": [
    "We have 2 options here. We can one-hot encode the remaining countries OR we can change this into a binary is_international (my guess is that these hotels are in Portugal based on the distribution of the data so in the is_international case PRT would be 1 and anything else would be 0) is_international would be probably most helpful, but my guess is that or something similar will happen in PCA, is_PRT ranking much higher than any other on-hot encoded country"
   ]
  },
  {
   "cell_type": "markdown",
   "metadata": {},
   "source": [
    "### market_segment"
   ]
  },
  {
   "cell_type": "code",
   "execution_count": 33,
   "metadata": {},
   "outputs": [
    {
     "data": {
      "text/plain": [
       "array(['Direct', 'Corporate', 'Online TA', 'Offline TA/TO',\n",
       "       'Complementary', 'Groups', 'Undefined', 'Aviation'], dtype=object)"
      ]
     },
     "execution_count": 33,
     "metadata": {},
     "output_type": "execute_result"
    }
   ],
   "source": [
    "df[\"market_segment\"].unique()"
   ]
  },
  {
   "cell_type": "code",
   "execution_count": 34,
   "metadata": {},
   "outputs": [
    {
     "data": {
      "image/png": "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\n",
      "text/plain": [
       "<Figure size 1440x360 with 1 Axes>"
      ]
     },
     "metadata": {
      "needs_background": "light"
     },
     "output_type": "display_data"
    }
   ],
   "source": [
    "fig, ax = plt.subplots(figsize=(20,5))\n",
    "df.boxplot(by = \"market_segment\", column = \"adr\",ax=ax)\n",
    "plt.show()"
   ]
  },
  {
   "cell_type": "markdown",
   "metadata": {},
   "source": [
    "one-hot encode or change to is_direct boolean"
   ]
  },
  {
   "cell_type": "markdown",
   "metadata": {},
   "source": [
    "### distribution_channel"
   ]
  },
  {
   "cell_type": "code",
   "execution_count": 35,
   "metadata": {},
   "outputs": [
    {
     "data": {
      "text/plain": [
       "array(['Direct', 'Corporate', 'TA/TO', 'Undefined', 'GDS'], dtype=object)"
      ]
     },
     "execution_count": 35,
     "metadata": {},
     "output_type": "execute_result"
    }
   ],
   "source": [
    "df[\"distribution_channel\"].unique()"
   ]
  },
  {
   "cell_type": "code",
   "execution_count": 36,
   "metadata": {},
   "outputs": [
    {
     "data": {
      "image/png": "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\n",
      "text/plain": [
       "<Figure size 1440x360 with 1 Axes>"
      ]
     },
     "metadata": {
      "needs_background": "light"
     },
     "output_type": "display_data"
    }
   ],
   "source": [
    "fig, ax = plt.subplots(figsize=(20,5))\n",
    "df.boxplot(by = \"market_segment\", column = \"adr\",ax=ax)\n",
    "plt.show()"
   ]
  },
  {
   "cell_type": "markdown",
   "metadata": {},
   "source": [
    "one-hot encode. also, we should consider removing all complimentary stays"
   ]
  },
  {
   "cell_type": "markdown",
   "metadata": {},
   "source": [
    "### is_repeated_guest"
   ]
  },
  {
   "cell_type": "code",
   "execution_count": 37,
   "metadata": {},
   "outputs": [
    {
     "data": {
      "text/plain": [
       "array([0, 1], dtype=int64)"
      ]
     },
     "execution_count": 37,
     "metadata": {},
     "output_type": "execute_result"
    }
   ],
   "source": [
    "df[\"is_repeated_guest\"].unique()"
   ]
  },
  {
   "cell_type": "code",
   "execution_count": 38,
   "metadata": {},
   "outputs": [
    {
     "data": {
      "image/png": "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\n",
      "text/plain": [
       "<Figure size 432x288 with 1 Axes>"
      ]
     },
     "metadata": {
      "needs_background": "light"
     },
     "output_type": "display_data"
    }
   ],
   "source": [
    "df.boxplot(by = \"is_repeated_guest\", column = \"adr\")\n",
    "plt.show()"
   ]
  },
  {
   "cell_type": "markdown",
   "metadata": {},
   "source": [
    "literally perfect as is "
   ]
  },
  {
   "cell_type": "markdown",
   "metadata": {},
   "source": [
    "### previous_cancellations"
   ]
  },
  {
   "cell_type": "code",
   "execution_count": 39,
   "metadata": {},
   "outputs": [
    {
     "data": {
      "text/plain": [
       "(array([ 0,  1,  2,  3,  4,  5,  6, 11, 13, 14, 19, 21, 24, 25, 26],\n",
       "       dtype=int64),\n",
       " array([112905,   6051,    116,     65,     31,     19,     22,     35,\n",
       "            12,     14,     19,      1,     48,     25,     26],\n",
       "       dtype=int64))"
      ]
     },
     "execution_count": 39,
     "metadata": {},
     "output_type": "execute_result"
    }
   ],
   "source": [
    "np.unique(df[\"previous_cancellations\"], return_counts=True)"
   ]
  },
  {
   "cell_type": "markdown",
   "metadata": {},
   "source": [
    "may neeed scaling"
   ]
  },
  {
   "cell_type": "markdown",
   "metadata": {},
   "source": [
    "### previous_bookings_not_canceled"
   ]
  },
  {
   "cell_type": "code",
   "execution_count": 40,
   "metadata": {},
   "outputs": [
    {
     "data": {
      "text/plain": [
       "(array([ 0,  1,  2,  3,  4,  5,  6,  7,  8,  9, 10, 11, 12, 13, 14, 15, 16,\n",
       "        17, 18, 19, 20, 21, 22, 23, 24, 25, 26, 27, 28, 29, 30, 31, 32, 33,\n",
       "        34, 35, 36, 37, 38, 39, 40, 41, 42, 43, 44, 45, 46, 47, 48, 49, 50,\n",
       "        51, 52, 53, 54, 55, 56, 57, 58, 59, 60, 61, 62, 63, 64, 65, 66, 67,\n",
       "        68, 69, 70, 71, 72], dtype=int64),\n",
       " array([115769,   1542,    580,    333,    229,    181,    115,     88,\n",
       "            70,     60,     53,     43,     37,     30,     28,     21,\n",
       "            20,     16,     14,     13,     12,     12,     10,      7,\n",
       "             9,     17,      7,      9,      7,      6,      4,      2,\n",
       "             2,      1,      1,      1,      1,      1,      1,      1,\n",
       "             1,      1,      1,      1,      2,      1,      1,      1,\n",
       "             2,      1,      1,      1,      1,      1,      1,      1,\n",
       "             1,      1,      2,      1,      1,      1,      1,      1,\n",
       "             1,      1,      1,      1,      1,      1,      1,      1,\n",
       "             1], dtype=int64))"
      ]
     },
     "execution_count": 40,
     "metadata": {},
     "output_type": "execute_result"
    }
   ],
   "source": [
    "np.unique(df[\"previous_bookings_not_canceled\"], return_counts=True)"
   ]
  },
  {
   "cell_type": "markdown",
   "metadata": {},
   "source": [
    "may need scaling"
   ]
  },
  {
   "cell_type": "markdown",
   "metadata": {},
   "source": [
    "### reserved_room_type/assigned_room_type"
   ]
  },
  {
   "cell_type": "code",
   "execution_count": 41,
   "metadata": {},
   "outputs": [
    {
     "data": {
      "text/plain": [
       "array(['C', 'A', 'D', 'E', 'G', 'F', 'I', 'B', 'H', 'P', 'L', 'K'],\n",
       "      dtype=object)"
      ]
     },
     "execution_count": 41,
     "metadata": {},
     "output_type": "execute_result"
    }
   ],
   "source": [
    "df[\"assigned_room_type\"].unique()"
   ]
  },
  {
   "cell_type": "code",
   "execution_count": 42,
   "metadata": {},
   "outputs": [
    {
     "data": {
      "text/plain": [
       "array(['C', 'A', 'D', 'E', 'G', 'F', 'H', 'L', 'P', 'B'], dtype=object)"
      ]
     },
     "execution_count": 42,
     "metadata": {},
     "output_type": "execute_result"
    }
   ],
   "source": [
    "df[\"reserved_room_type\"].unique()"
   ]
  },
  {
   "cell_type": "markdown",
   "metadata": {},
   "source": [
    "assigned_room_type/reserved_room_type codes don't actually map to anything. So we don't know which one of these is a suite and which is a king for example. The only information we could get from this is if there is any significance to them staying in a different room than was booked (for example: upgraded at checkin, free upgrade, got moved due to overbooking) however, this is not information that someone would have when trying to predict for a future stay what the price should be and therefor these will be removed."
   ]
  },
  {
   "cell_type": "markdown",
   "metadata": {},
   "source": [
    "However, we could keep \"reserved room type\" simply to show that there is a large/small correlation in a better room and the amount paid, or we could remove this and go for more generalized predictions independent of room type "
   ]
  },
  {
   "cell_type": "code",
   "execution_count": 43,
   "metadata": {},
   "outputs": [],
   "source": [
    "df.drop(columns = [\"reserved_room_type\",\"assigned_room_type\"], inplace = True)"
   ]
  },
  {
   "cell_type": "markdown",
   "metadata": {},
   "source": [
    "### booking_changes"
   ]
  },
  {
   "cell_type": "code",
   "execution_count": 44,
   "metadata": {},
   "outputs": [
    {
     "data": {
      "text/plain": [
       "<AxesSubplot:>"
      ]
     },
     "execution_count": 44,
     "metadata": {},
     "output_type": "execute_result"
    },
    {
     "data": {
      "image/png": "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\n",
      "text/plain": [
       "<Figure size 432x288 with 1 Axes>"
      ]
     },
     "metadata": {
      "needs_background": "light"
     },
     "output_type": "display_data"
    }
   ],
   "source": [
    "df[\"booking_changes\"].hist()"
   ]
  },
  {
   "cell_type": "markdown",
   "metadata": {},
   "source": [
    "scaling maybe"
   ]
  },
  {
   "cell_type": "markdown",
   "metadata": {},
   "source": [
    "### deposit_type"
   ]
  },
  {
   "cell_type": "code",
   "execution_count": 45,
   "metadata": {},
   "outputs": [
    {
     "data": {
      "text/plain": [
       "array(['No Deposit', 'Refundable', 'Non Refund'], dtype=object)"
      ]
     },
     "execution_count": 45,
     "metadata": {},
     "output_type": "execute_result"
    }
   ],
   "source": [
    "df[\"deposit_type\"].unique()"
   ]
  },
  {
   "cell_type": "markdown",
   "metadata": {},
   "source": [
    "one-hot encode"
   ]
  },
  {
   "cell_type": "code",
   "execution_count": 46,
   "metadata": {},
   "outputs": [],
   "source": [
    "df[\"no_deposit\"] = (df[\"deposit_type\"] =='No Deposit').astype(int)\n",
    "df[\"refundable_deposit\"] = (df[\"deposit_type\"] =='Refundable').astype(int)\n",
    "df[\"nonrefundable_deposit\"] = (df[\"deposit_type\"] =='Non Refundable').astype(int)\n",
    "df.drop(columns = \"deposit_type\", inplace=True)\n"
   ]
  },
  {
   "cell_type": "markdown",
   "metadata": {},
   "source": [
    "### agent"
   ]
  },
  {
   "cell_type": "code",
   "execution_count": 47,
   "metadata": {},
   "outputs": [
    {
     "data": {
      "text/plain": [
       "(array([  1.,   2.,   3.,   4.,   5.,   6.,   7.,   8.,   9.,  10.,  11.,\n",
       "         12.,  13.,  14.,  15.,  16.,  17.,  19.,  20.,  21.,  22.,  23.,\n",
       "         24.,  25.,  26.,  27.,  28.,  29.,  30.,  31.,  32.,  33.,  34.,\n",
       "         35.,  36.,  37.,  38.,  39.,  40.,  41.,  42.,  44.,  45.,  47.,\n",
       "         50.,  52.,  53.,  54.,  55.,  56.,  57.,  58.,  59.,  60.,  61.,\n",
       "         63.,  64.,  66.,  67.,  68.,  69.,  70.,  71.,  72.,  73.,  74.,\n",
       "         75.,  77.,  78.,  79.,  81.,  82.,  83.,  85.,  86.,  87.,  88.,\n",
       "         89.,  90.,  91.,  92.,  93.,  94.,  95.,  96.,  98.,  99., 103.,\n",
       "        104., 105., 106., 107., 110., 111., 112., 114., 115., 117., 118.,\n",
       "        119., 121., 122., 126., 127., 128., 129., 132., 133., 134., 135.,\n",
       "        138., 139., 141., 142., 143., 144., 146., 147., 148., 149., 150.,\n",
       "        151., 152., 153., 154., 155., 156., 157., 158., 159., 162., 163.,\n",
       "        165., 167., 168., 170., 171., 173., 174., 175., 177., 179., 180.,\n",
       "        181., 182., 183., 184., 185., 187., 191., 192., 193., 195., 196.,\n",
       "        197., 201., 205., 208., 210., 211., 213., 214., 215., 216., 219.,\n",
       "        220., 223., 227., 229., 232., 234., 235., 236., 240., 241., 242.,\n",
       "        243., 244., 245., 247., 248., 249., 250., 251., 252., 253., 254.,\n",
       "        256., 257., 258., 261., 262., 265., 267., 269., 270., 273., 275.,\n",
       "        276., 278., 280., 281., 282., 283., 285., 286., 287., 288., 289.,\n",
       "        290., 291., 294., 295., 296., 298., 299., 300., 301., 302., 303.,\n",
       "        304., 305., 306., 307., 308., 310., 313., 314., 315., 321., 323.,\n",
       "        324., 325., 326., 327., 328., 330., 331., 332., 333., 334., 335.,\n",
       "        336., 337., 339., 341., 344., 346., 348., 350., 352., 354., 355.,\n",
       "        358., 359., 360., 363., 364., 367., 368., 370., 371., 375., 378.,\n",
       "        384., 385., 387., 388., 390., 391., 393., 394., 397., 403., 404.,\n",
       "        405., 406., 408., 410., 411., 414., 416., 418., 420., 423., 425.,\n",
       "        426., 427., 429., 430., 431., 432., 433., 434., 436., 438., 440.,\n",
       "        441., 444., 446., 449., 450., 451., 453., 454., 455., 459., 461.,\n",
       "        464., 467., 468., 469., 472., 474., 475., 476., 479., 480., 481.,\n",
       "        483., 484., 492., 493., 495., 497., 502., 508., 509., 510., 526.,\n",
       "        527., 531., 535.,  nan]),\n",
       " array([ 7191,   162,  1336,    47,   330,  3290,  3539,  1514, 31961,\n",
       "          260,   395,   577,    82,  3640,   402,   246,   241,  1061,\n",
       "          540,   875,   382,    25,    22,     3,   401,   450,  1666,\n",
       "          683,   484,   162,    15,    31,   294,   109,   100,  1230,\n",
       "          274,   127,  1039,    75,   211,   292,    32,    50,    20,\n",
       "          137,    18,     1,    16,   375,    28,   335,     1,    19,\n",
       "            2,    29,    23,    44,   127,   211,    90,     1,    73,\n",
       "            6,     1,    20,    73,    33,    37,    47,     6,    77,\n",
       "          696,   554,   338,    77,    19,    99,     1,    58,     7,\n",
       "            1,   114,   135,   537,   124,    68,    21,    53,    14,\n",
       "            2,     2,    12,    16,    15,     1,   225,     1,    69,\n",
       "          304,    37,     2,    14,    45,    23,    14,   143,    56,\n",
       "          482,     2,   287,     8,     6,   137,   172,     1,   124,\n",
       "          156,     4,    28,     5,    56,   183,    25,   193,    94,\n",
       "          190,    61,     1,    89,    37,     7,     1,     3,   184,\n",
       "           93,   607,    29,    22,   195,   347,     2,     4,    59,\n",
       "            8,    45,    52,    78,    24,   198,    41,    15,   193,\n",
       "          301,     1,    42,    27,   173,     7,     2,     1,     5,\n",
       "           15,     1,    13,   104,    18,     2,   786,     2,   128,\n",
       "           29,   247, 13922,  1721,   780,   514,     4,    37,     1,\n",
       "          131,    51,  2870,   220,    29,    87,    29,    24,    24,\n",
       "            3,    38,    22,     1,     1,     2,     6,   349,     8,\n",
       "            8,     1,     1,    82,     2,     2,     1,    45,     8,\n",
       "           14,     1,    19,     1,     1,     4,    42,   472,     1,\n",
       "            1,     1,     3,     2,     1,    45,    35,    14,    54,\n",
       "           25,    36,   927,   284,     3,    25,     9,     6,   165,\n",
       "           20,     9,   125,     2,    55,     1,    28,     4,    23,\n",
       "            1,    77,     4,     8,     1,    22,    28,     1,    14,\n",
       "            4,     1,    21,    15,     6,    19,     1,    45,     3,\n",
       "            4,    40,    36,     2,    60,    32,     1,    57,     2,\n",
       "           13,    33,     1,     4,     2,     5,     1,     1,   133,\n",
       "           16,     2,     1,     8,     3,    19,    16,     3,     3,\n",
       "            5,     4,     1,     1,     1,    33,    49,     2,    56,\n",
       "            7,     1,     1,     2,     1,     1,     1,     2,    19,\n",
       "           16,     2,    98,    39,    49,     2,     1,    17,     8,\n",
       "            2,    32,     1,     8,     1,    11,    28,    35,    57,\n",
       "            1,    24,     6,    10,     2,    10,    35,    68,     3,\n",
       "        16340], dtype=int64))"
      ]
     },
     "execution_count": 47,
     "metadata": {},
     "output_type": "execute_result"
    }
   ],
   "source": [
    "np.unique(df[\"agent\"], return_counts = True)"
   ]
  },
  {
   "cell_type": "markdown",
   "metadata": {},
   "source": [
    "These ids correspond to different travel agents. This means nothing to us. delete"
   ]
  },
  {
   "cell_type": "code",
   "execution_count": 48,
   "metadata": {},
   "outputs": [],
   "source": [
    "df.drop(columns = \"agent\", inplace=True)"
   ]
  },
  {
   "cell_type": "markdown",
   "metadata": {},
   "source": [
    "### company"
   ]
  },
  {
   "cell_type": "code",
   "execution_count": 49,
   "metadata": {},
   "outputs": [
    {
     "data": {
      "text/plain": [
       "(array([  6.,   8.,   9.,  10.,  11.,  12.,  14.,  16.,  18.,  20.,  22.,\n",
       "         28.,  29.,  31.,  32.,  34.,  35.,  37.,  38.,  39.,  40.,  42.,\n",
       "         43.,  45.,  46.,  47.,  48.,  49.,  51.,  52.,  53.,  54.,  59.,\n",
       "         61.,  62.,  64.,  65.,  67.,  68.,  71.,  72.,  73.,  76.,  77.,\n",
       "         78.,  80.,  81.,  82.,  83.,  84.,  85.,  86.,  88.,  91.,  92.,\n",
       "         93.,  94.,  96.,  99., 100., 101., 102., 103., 104., 105., 106.,\n",
       "        107., 108., 109., 110., 112., 113., 115., 116., 118., 120., 122.,\n",
       "        126., 127., 130., 132., 135., 137., 139., 140., 142., 143., 144.,\n",
       "        146., 148., 149., 150., 153., 154., 158., 159., 160., 163., 165.,\n",
       "        167., 168., 169., 174., 178., 179., 180., 183., 184., 185., 186.,\n",
       "        192., 193., 195., 197., 200., 202., 203., 204., 207., 209., 210.,\n",
       "        212., 213., 215., 216., 217., 218., 219., 220., 221., 222., 223.,\n",
       "        224., 225., 227., 229., 230., 232., 233., 234., 237., 238., 240.,\n",
       "        242., 243., 245., 246., 250., 251., 253., 254., 255., 257., 258.,\n",
       "        259., 260., 263., 264., 268., 269., 270., 271., 272., 273., 274.,\n",
       "        275., 277., 278., 279., 280., 281., 282., 284., 286., 287., 288.,\n",
       "        289., 290., 291., 292., 293., 297., 301., 302., 304., 305., 307.,\n",
       "        308., 309., 311., 312., 313., 314., 316., 317., 318., 319., 320.,\n",
       "        321., 323., 324., 325., 329., 330., 331., 332., 333., 334., 337.,\n",
       "        338., 341., 342., 343., 346., 347., 348., 349., 350., 351., 352.,\n",
       "        353., 355., 356., 357., 358., 360., 361., 362., 364., 365., 366.,\n",
       "        367., 368., 369., 370., 371., 372., 373., 376., 377., 378., 379.,\n",
       "        380., 382., 383., 384., 385., 386., 388., 390., 391., 392., 393.,\n",
       "        394., 395., 396., 397., 398., 399., 400., 401., 402., 403., 405.,\n",
       "        407., 408., 409., 410., 411., 412., 413., 415., 416., 417., 418.,\n",
       "        419., 420., 421., 422., 423., 424., 425., 426., 428., 429., 433.,\n",
       "        435., 436., 437., 439., 442., 443., 444., 445., 446., 447., 448.,\n",
       "        450., 451., 452., 454., 455., 456., 457., 458., 459., 460., 461.,\n",
       "        465., 466., 470., 477., 478., 479., 481., 482., 483., 484., 485.,\n",
       "        486., 487., 489., 490., 491., 492., 494., 496., 497., 498., 499.,\n",
       "        501., 504., 506., 507., 511., 512., 513., 514., 515., 516., 518.,\n",
       "        520., 521., 523., 525., 528., 530., 531., 534., 539., 541., 543.,\n",
       "         nan]),\n",
       " array([     1,      1,     37,      1,      1,     14,      9,      5,\n",
       "             1,     50,      6,      5,      2,     17,      1,      8,\n",
       "             1,     10,     51,      8,    927,      5,     29,    250,\n",
       "            26,     72,      5,      5,     99,      2,      8,      1,\n",
       "             7,      2,     47,      1,      1,    267,     46,      2,\n",
       "            30,      3,      1,      1,     22,      1,     23,     14,\n",
       "             9,      3,      2,     32,     22,     48,     13,      3,\n",
       "            87,      1,     12,      1,      1,      1,     16,      1,\n",
       "             8,      2,      9,     11,      1,     52,     13,     36,\n",
       "             4,      6,      7,     14,     18,      1,     15,     12,\n",
       "             1,     66,      4,      3,      1,      1,     17,     27,\n",
       "             3,     37,      5,     19,    215,    133,      2,      6,\n",
       "             1,     17,      3,      7,      2,     65,    149,     27,\n",
       "            24,      5,     16,      1,      4,     12,      4,     16,\n",
       "            38,     47,      3,     38,     13,     34,      9,     19,\n",
       "             2,      1,      1,      8,     21,      2,     43,    141,\n",
       "             4,     27,      2,    784,      3,      7,     24,      1,\n",
       "             3,      2,    114,      1,      1,     33,      3,     62,\n",
       "             2,      3,      3,      2,     18,      1,     10,      6,\n",
       "             1,      1,      2,      3,     14,      2,     14,     33,\n",
       "            43,      2,      3,      1,     14,      3,      5,      2,\n",
       "             8,     48,    138,      4,      1,     21,      5,      1,\n",
       "             2,     17,     12,     18,      5,      7,      1,      5,\n",
       "             2,      1,     36,     33,      1,      2,      3,      1,\n",
       "             1,      2,      9,      1,      3,      1,      2,     10,\n",
       "             9,      2,     12,      4,     61,      2,     11,      3,\n",
       "            25,     12,      5,     48,     29,     14,      1,     59,\n",
       "             2,      3,      2,      1,      4,     13,     10,      5,\n",
       "             7,     12,      2,      2,      6,     29,     24,     14,\n",
       "             1,      5,      2,     11,      3,      1,      1,      5,\n",
       "             3,      9,     12,      5,      6,      9,     30,      1,\n",
       "             7,     13,      2,      4,      1,      6,      4,     18,\n",
       "            15,      1,     11,      2,      1,      1,      2,    119,\n",
       "            22,     15,     12,      5,      2,      1,      1,      1,\n",
       "             1,      1,     25,      1,      1,      9,      1,      2,\n",
       "            24,      1,      4,     13,      2,      2,     12,      2,\n",
       "             7,      6,      1,      5,      5,      4,      1,      2,\n",
       "             4,     10,      6,      4,      1,      1,      2,      3,\n",
       "             2,      5,      3,      1,     12,      3,      5,     23,\n",
       "             2,      1,      1,      2,      2,      2,     14,      2,\n",
       "             1,      1,      5,      2,      2,      4,      1,      1,\n",
       "            58,      1,      1,     11,      1,     23,      6,      3,\n",
       "             2,      2,      6,      1,      2,      1,      7,     19,\n",
       "            15,      2,      5,      1,      2,      2,      1,      2,\n",
       "        112592], dtype=int64))"
      ]
     },
     "execution_count": 49,
     "metadata": {},
     "output_type": "execute_result"
    }
   ],
   "source": [
    "np.unique(df[\"company\"], return_counts = True)"
   ]
  },
  {
   "cell_type": "markdown",
   "metadata": {},
   "source": [
    "Id for company that made the booking. Changing to boolean with_company"
   ]
  },
  {
   "cell_type": "code",
   "execution_count": 50,
   "metadata": {},
   "outputs": [],
   "source": [
    "df[\"with_company\"] = (pd.notnull(df[\"company\"])).astype(int)\n",
    "df.drop(columns = \"company\", inplace=True)"
   ]
  },
  {
   "cell_type": "markdown",
   "metadata": {},
   "source": [
    "### days_in_waiting_list"
   ]
  },
  {
   "cell_type": "code",
   "execution_count": 51,
   "metadata": {},
   "outputs": [
    {
     "data": {
      "text/plain": [
       "array([  0,  50,  47,  65, 122,  75, 101, 150, 125,  14,  60,  34, 100,\n",
       "        22, 121,  61,  39,   5,   1,   8, 107,  43,  52,   2,  11, 142,\n",
       "       116,  13,  44,  97,  83,   4, 113,  18,  20, 185,  93, 109,   6,\n",
       "        37, 105, 154,  64,  99,  38,  48,  33,  77,  21,  80,  59,  40,\n",
       "        58,  89,  53,  49,  69,  87,  91,  57, 111,  79,  98,  85,  63,\n",
       "        15,   3,  41, 224,  31,  56, 187, 176,  71,  55,  96, 236, 259,\n",
       "       207, 215, 160, 120,  30,  32,  27,  62,  24, 108, 147, 379,  70,\n",
       "        35, 178, 330, 223, 174, 162, 391,  68, 193,  10,  76,  16,  28,\n",
       "         9, 165,  17,  25,  46,   7,  84, 175, 183,  23, 117,  12,  54,\n",
       "        26,  73,  45,  19,  42,  72,  81,  92,  74, 167,  36], dtype=int64)"
      ]
     },
     "execution_count": 51,
     "metadata": {},
     "output_type": "execute_result"
    }
   ],
   "source": [
    "df[\"days_in_waiting_list\"].unique()"
   ]
  },
  {
   "cell_type": "markdown",
   "metadata": {},
   "source": [
    "scaling"
   ]
  },
  {
   "cell_type": "markdown",
   "metadata": {},
   "source": [
    "### customer_type"
   ]
  },
  {
   "cell_type": "code",
   "execution_count": 52,
   "metadata": {},
   "outputs": [
    {
     "data": {
      "text/plain": [
       "array(['Transient', 'Contract', 'Transient-Party', 'Group'], dtype=object)"
      ]
     },
     "execution_count": 52,
     "metadata": {},
     "output_type": "execute_result"
    }
   ],
   "source": [
    "df[\"customer_type\"].unique()"
   ]
  },
  {
   "cell_type": "code",
   "execution_count": 53,
   "metadata": {},
   "outputs": [
    {
     "data": {
      "image/png": "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\n",
      "text/plain": [
       "<Figure size 432x288 with 1 Axes>"
      ]
     },
     "metadata": {
      "needs_background": "light"
     },
     "output_type": "display_data"
    }
   ],
   "source": [
    "df.boxplot(by = \"customer_type\", column = \"adr\")\n",
    "plt.show()"
   ]
  },
  {
   "cell_type": "markdown",
   "metadata": {},
   "source": [
    "one-hot encoding"
   ]
  },
  {
   "cell_type": "code",
   "execution_count": 54,
   "metadata": {},
   "outputs": [],
   "source": [
    "df[\"is_contract\"] = (df[\"customer_type\"] =='Contract').astype(int)\n",
    "df[\"is_group\"] = (df[\"customer_type\"] =='Group').astype(int)\n",
    "df[\"is_transient\"] = (df[\"customer_type\"] =='Transient').astype(int)\n",
    "df[\"is_transient_party\"] = (df[\"customer_type\"] =='Transient-Party').astype(int)\n",
    "df.drop(columns = \"customer_type\", inplace=True)"
   ]
  },
  {
   "cell_type": "markdown",
   "metadata": {},
   "source": [
    "### required_car_parking_spaces"
   ]
  },
  {
   "cell_type": "code",
   "execution_count": 55,
   "metadata": {},
   "outputs": [
    {
     "data": {
      "text/plain": [
       "array([0, 1, 2, 8, 3], dtype=int64)"
      ]
     },
     "execution_count": 55,
     "metadata": {},
     "output_type": "execute_result"
    }
   ],
   "source": [
    "df[\"required_car_parking_spaces\"].unique()"
   ]
  },
  {
   "cell_type": "markdown",
   "metadata": {},
   "source": [
    "scaling"
   ]
  },
  {
   "cell_type": "markdown",
   "metadata": {},
   "source": [
    "### total_of_special_requests "
   ]
  },
  {
   "cell_type": "code",
   "execution_count": 56,
   "metadata": {},
   "outputs": [
    {
     "data": {
      "text/plain": [
       "array([0, 1, 3, 2, 4, 5], dtype=int64)"
      ]
     },
     "execution_count": 56,
     "metadata": {},
     "output_type": "execute_result"
    }
   ],
   "source": [
    "df[\"total_of_special_requests\"].unique()"
   ]
  },
  {
   "cell_type": "markdown",
   "metadata": {},
   "source": [
    "scaling"
   ]
  },
  {
   "cell_type": "markdown",
   "metadata": {},
   "source": [
    " ### reservation_status  "
   ]
  },
  {
   "cell_type": "code",
   "execution_count": 57,
   "metadata": {},
   "outputs": [
    {
     "data": {
      "text/plain": [
       "array(['Check-Out', 'Canceled', 'No-Show'], dtype=object)"
      ]
     },
     "execution_count": 57,
     "metadata": {},
     "output_type": "execute_result"
    }
   ],
   "source": [
    "df[\"reservation_status\"].unique()"
   ]
  },
  {
   "cell_type": "markdown",
   "metadata": {},
   "source": [
    "we only want successful reservations"
   ]
  },
  {
   "cell_type": "code",
   "execution_count": 58,
   "metadata": {},
   "outputs": [],
   "source": [
    "df = df.loc[df[\"reservation_status\"]=='Check-Out']"
   ]
  },
  {
   "cell_type": "markdown",
   "metadata": {},
   "source": [
    "### reservation_status_date"
   ]
  },
  {
   "cell_type": "code",
   "execution_count": 65,
   "metadata": {},
   "outputs": [
    {
     "data": {
      "text/plain": [
       "array(['2015-07-01', '2015-07-02', '2015-07-03', '2015-07-05',\n",
       "       '2015-07-06', '2015-07-07', '2015-07-08', '2015-07-15',\n",
       "       '2015-07-16', '2015-07-09', '2015-07-13', '2015-07-04',\n",
       "       '2015-07-11', '2015-07-12', '2015-07-17', '2015-07-10',\n",
       "       '2015-07-14', '2015-07-19', '2015-07-20', '2015-07-21',\n",
       "       '2015-07-18', '2015-07-23', '2015-07-22', '2015-07-25',\n",
       "       '2015-07-28', '2015-07-29', '2015-07-24', '2015-07-30',\n",
       "       '2015-07-27', '2015-07-26', '2015-08-01', '2015-08-02',\n",
       "       '2015-07-31', '2015-08-03', '2015-08-04', '2015-08-06',\n",
       "       '2015-08-07', '2015-08-05', '2015-08-08', '2015-08-10',\n",
       "       '2015-08-09', '2015-08-15', '2015-08-11', '2015-08-14',\n",
       "       '2015-08-12', '2015-08-16', '2015-08-21', '2015-08-13',\n",
       "       '2015-08-17', '2015-08-18', '2015-08-23', '2015-08-22',\n",
       "       '2015-08-19', '2015-08-20', '2015-08-29', '2015-08-25',\n",
       "       '2015-08-24', '2015-08-28', '2015-08-26', '2015-08-27',\n",
       "       '2015-08-30', '2015-08-31', '2015-09-06', '2015-09-03',\n",
       "       '2015-09-04', '2015-09-02', '2015-09-01', '2015-09-05',\n",
       "       '2015-09-07', '2015-09-10', '2015-09-11', '2015-09-08',\n",
       "       '2015-09-09', '2015-09-13', '2015-09-15', '2015-09-12',\n",
       "       '2015-09-17', '2015-09-14', '2015-09-19', '2015-09-16',\n",
       "       '2015-09-20', '2015-10-23', '2015-09-22', '2015-09-24',\n",
       "       '2015-09-18', '2015-09-21', '2015-09-30', '2015-09-25',\n",
       "       '2015-09-27', '2015-09-28', '2015-10-12', '2015-09-29',\n",
       "       '2015-09-23', '2015-10-01', '2015-09-26', '2015-10-02',\n",
       "       '2015-10-04', '2015-10-08', '2015-10-03', '2015-10-07',\n",
       "       '2015-10-09', '2015-10-11', '2015-10-05', '2015-10-06',\n",
       "       '2015-10-10', '2015-10-14', '2015-10-15', '2015-10-18',\n",
       "       '2015-10-13', '2015-10-20', '2015-10-19', '2015-10-31',\n",
       "       '2015-10-16', '2015-10-21', '2015-10-22', '2015-10-17',\n",
       "       '2015-10-24', '2015-10-25', '2015-10-28', '2015-10-27',\n",
       "       '2015-10-26', '2015-10-30', '2015-11-05', '2015-10-29',\n",
       "       '2015-11-03', '2015-11-07', '2015-11-04', '2015-11-01',\n",
       "       '2015-11-02', '2015-11-17', '2015-11-06', '2015-11-10',\n",
       "       '2015-11-08', '2015-11-09', '2015-11-15', '2015-11-16',\n",
       "       '2015-11-11', '2015-11-12', '2015-11-14', '2015-11-13',\n",
       "       '2015-11-18', '2015-11-22', '2015-11-19', '2015-11-21',\n",
       "       '2015-11-20', '2015-11-24', '2015-11-25', '2015-11-23',\n",
       "       '2015-11-28', '2015-11-26', '2015-11-27', '2015-11-29',\n",
       "       '2015-12-04', '2015-12-01', '2015-12-06', '2015-12-08',\n",
       "       '2015-12-02', '2015-12-03', '2015-12-31', '2015-12-05',\n",
       "       '2015-12-10', '2015-12-17', '2015-12-12', '2015-12-07',\n",
       "       '2016-01-05', '2015-12-11', '2015-12-13', '2015-12-15',\n",
       "       '2015-12-16', '2015-12-19', '2015-12-18', '2015-12-26',\n",
       "       '2015-12-27', '2015-12-22', '2015-12-23', '2015-12-24',\n",
       "       '2015-12-29', '2015-12-28', '2015-12-30', '2016-01-02',\n",
       "       '2016-01-01', '2016-01-03', '2016-01-04', '2016-01-11',\n",
       "       '2016-01-07', '2016-01-09', '2016-01-10', '2016-01-12',\n",
       "       '2016-01-13', '2016-01-23', '2016-02-09', '2016-01-15',\n",
       "       '2016-01-24', '2016-01-29', '2016-01-27', '2016-03-08',\n",
       "       '2016-01-30', '2016-02-02', '2016-02-08', '2016-02-07',\n",
       "       '2016-02-13', '2016-02-10', '2016-02-12', '2016-02-11',\n",
       "       '2016-02-16', '2016-02-14', '2016-02-15', '2016-02-20',\n",
       "       '2016-02-17', '2016-02-21', '2016-02-24', '2016-02-25',\n",
       "       '2016-02-19', '2016-02-26', '2016-02-23', '2016-03-05',\n",
       "       '2016-02-27', '2016-03-03', '2016-03-24', '2016-03-04',\n",
       "       '2016-02-29', '2016-03-30', '2016-03-14', '2016-03-21',\n",
       "       '2016-03-09', '2016-03-12', '2016-03-22', '2016-03-20',\n",
       "       '2016-03-17', '2016-03-19', '2016-03-27', '2016-03-18',\n",
       "       '2016-03-26', '2016-03-31', '2016-03-28', '2016-03-29',\n",
       "       '2016-04-01', '2016-04-02', '2016-04-04', '2016-04-03',\n",
       "       '2016-04-05', '2016-04-08', '2016-04-06', '2016-04-09',\n",
       "       '2016-04-12', '2016-04-16', '2016-04-17', '2016-04-27',\n",
       "       '2016-04-14', '2016-04-18', '2016-04-21', '2016-04-19',\n",
       "       '2016-04-20', '2016-04-22', '2016-04-23', '2016-04-26',\n",
       "       '2016-04-28', '2016-04-24', '2016-04-25', '2016-04-29',\n",
       "       '2016-04-30', '2016-05-01', '2016-05-10', '2016-05-02',\n",
       "       '2016-05-07', '2016-05-08', '2016-05-12', '2016-05-04',\n",
       "       '2016-05-06', '2016-05-09', '2016-05-13', '2016-05-14',\n",
       "       '2016-05-18', '2016-05-19', '2016-05-15', '2016-05-16',\n",
       "       '2016-05-21', '2016-05-22', '2016-05-20', '2016-05-24',\n",
       "       '2016-05-25', '2016-05-26', '2016-05-23', '2016-05-27',\n",
       "       '2016-05-17', '2016-05-29', '2016-05-28', '2016-05-30',\n",
       "       '2016-05-31', '2016-06-01', '2016-06-03', '2016-06-08',\n",
       "       '2016-06-02', '2016-06-05', '2016-06-06', '2016-06-13',\n",
       "       '2016-06-07', '2016-06-10', '2016-06-11', '2016-06-16',\n",
       "       '2016-06-12', '2016-06-14', '2016-06-17', '2016-06-18',\n",
       "       '2016-06-21', '2016-06-24', '2016-06-20', '2016-06-25',\n",
       "       '2016-06-22', '2016-06-26', '2016-06-23', '2016-07-01',\n",
       "       '2016-06-28', '2016-07-02', '2016-06-27', '2016-07-04',\n",
       "       '2016-06-30', '2016-07-05', '2016-07-08', '2016-07-09',\n",
       "       '2016-07-07', '2016-07-12', '2016-06-29', '2016-07-10',\n",
       "       '2016-07-15', '2016-07-03', '2016-07-16', '2016-07-14',\n",
       "       '2016-07-18', '2016-07-13', '2016-07-20', '2016-07-21',\n",
       "       '2016-07-23', '2016-07-19', '2016-07-11', '2016-07-28',\n",
       "       '2016-07-25', '2016-07-22', '2016-07-29', '2016-08-03',\n",
       "       '2016-08-02', '2016-08-04', '2016-08-08', '2016-08-10',\n",
       "       '2016-08-01', '2016-08-06', '2016-08-05', '2016-08-07',\n",
       "       '2016-08-12', '2016-08-13', '2016-08-18', '2016-08-16',\n",
       "       '2016-08-15', '2016-08-17', '2016-08-19', '2016-09-01',\n",
       "       '2016-08-23', '2016-08-26', '2016-09-04', '2016-08-27',\n",
       "       '2016-09-05', '2016-09-10', '2016-09-09', '2016-08-30',\n",
       "       '2016-09-13', '2016-08-31', '2016-09-14', '2016-09-12',\n",
       "       '2016-09-15', '2016-09-02', '2016-09-08', '2016-09-19',\n",
       "       '2016-09-16', '2016-09-21', '2016-09-22', '2016-09-17',\n",
       "       '2016-09-20', '2016-09-26', '2016-09-23', '2016-09-18',\n",
       "       '2016-09-29', '2016-10-02', '2016-10-01', '2016-09-27',\n",
       "       '2016-09-25', '2016-10-05', '2016-09-30', '2016-10-09',\n",
       "       '2016-10-03', '2016-10-06', '2016-10-11', '2016-10-13',\n",
       "       '2016-10-08', '2016-10-16', '2016-10-17', '2016-10-18',\n",
       "       '2016-10-10', '2016-10-15', '2016-10-19', '2016-10-21',\n",
       "       '2016-10-24', '2016-10-26', '2016-10-23', '2016-10-27',\n",
       "       '2016-10-30', '2016-11-25', '2016-12-07', '2017-01-26',\n",
       "       '2017-02-26', '2017-03-05', '2017-04-22', '2017-05-02',\n",
       "       '2017-04-28', '2017-05-16', '2017-08-18', '2016-01-22',\n",
       "       '2017-02-23', '2016-01-28', '2016-02-04', '2016-11-15',\n",
       "       '2017-01-18', '2017-08-02', '2016-02-05', '2016-03-10',\n",
       "       '2016-01-21', '2016-06-09', '2017-04-19', '2017-07-12',\n",
       "       '2017-01-27', '2017-07-25', '2016-03-11', '2017-06-07',\n",
       "       '2017-01-02', '2017-04-17', '2016-04-07', '2017-08-13',\n",
       "       '2017-07-29', '2016-11-09', '2016-11-11', '2017-01-31',\n",
       "       '2017-03-14', '2017-04-18', '2016-01-19', '2017-01-17',\n",
       "       '2016-01-31', '2016-11-20', '2017-03-26', '2017-08-01',\n",
       "       '2016-09-28', '2016-11-10', '2016-12-15', '2017-02-02',\n",
       "       '2017-03-15', '2017-05-31', '2016-02-18', '2017-06-21',\n",
       "       '2017-01-25', '2017-01-13', '2017-03-30', '2017-06-02',\n",
       "       '2017-04-21', '2017-05-17', '2017-02-22', '2017-07-27',\n",
       "       '2017-07-07', '2016-10-04', '2017-04-16', '2016-09-07',\n",
       "       '2017-08-06', '2016-11-16', '2016-12-16', '2017-07-03',\n",
       "       '2016-01-20', '2017-02-16', '2017-03-03', '2017-04-27',\n",
       "       '2017-06-01', '2017-06-13', '2017-09-01', '2016-12-14',\n",
       "       '2017-04-06', '2017-06-22', '2016-03-23', '2017-02-09',\n",
       "       '2017-05-09', '2016-10-28', '2016-11-04', '2017-01-03',\n",
       "       '2017-06-20', '2016-01-08', '2017-02-08', '2017-03-16',\n",
       "       '2017-03-31', '2017-04-13', '2016-04-15', '2017-06-08',\n",
       "       '2017-07-31', '2016-10-20', '2016-11-03', '2017-01-12',\n",
       "       '2017-03-02', '2017-01-07', '2017-02-01', '2017-01-10',\n",
       "       '2017-04-09', '2016-01-14', '2017-07-05', '2016-12-17',\n",
       "       '2015-11-30', '2016-11-30', '2017-02-06', '2017-02-24',\n",
       "       '2016-10-22', '2016-08-21', '2017-08-19', '2016-07-17',\n",
       "       '2017-07-23', '2017-08-20', '2017-04-15', '2016-05-03',\n",
       "       '2016-11-13', '2017-05-25', '2017-01-05', '2017-02-03',\n",
       "       '2017-03-23', '2017-04-20', '2017-04-12', '2016-03-02',\n",
       "       '2017-01-22', '2017-03-09', '2016-03-16', '2017-02-25',\n",
       "       '2017-04-29', '2017-02-15', '2017-06-23', '2016-11-24',\n",
       "       '2017-01-09', '2017-05-04', '2016-07-31', '2017-07-30',\n",
       "       '2017-03-08', '2016-12-03', '2016-08-24', '2017-08-23',\n",
       "       '2016-10-14', '2016-05-11', '2017-03-17', '2016-01-26',\n",
       "       '2017-07-09', '2016-12-06', '2016-03-06', '2017-01-20',\n",
       "       '2016-01-16', '2016-05-05', '2016-12-20', '2017-05-10',\n",
       "       '2016-06-19', '2017-06-05', '2016-10-12', '2016-12-12',\n",
       "       '2016-02-03', '2017-04-05', '2016-11-01', '2016-11-29',\n",
       "       '2016-12-13', '2017-02-21', '2016-12-10', '2016-11-07',\n",
       "       '2017-01-01', '2017-03-19', '2017-04-04', '2017-02-28',\n",
       "       '2017-01-28', '2016-07-27', '2016-11-05', '2017-03-22',\n",
       "       '2017-07-04', '2017-06-16', '2017-01-30', '2017-07-26',\n",
       "       '2017-07-24', '2017-07-15', '2017-08-15', '2017-08-28',\n",
       "       '2017-07-10', '2017-02-12', '2016-09-11', '2017-01-08',\n",
       "       '2017-06-29', '2016-06-15', '2016-08-25', '2017-02-17',\n",
       "       '2017-08-25', '2017-02-11', '2017-03-27', '2016-12-09',\n",
       "       '2016-03-15', '2016-12-23', '2017-04-10', '2017-03-29',\n",
       "       '2016-11-17', '2017-01-19', '2016-12-22', '2017-01-24',\n",
       "       '2017-01-15', '2017-04-14', '2016-04-10', '2017-02-07',\n",
       "       '2016-12-19', '2017-05-08', '2017-02-05', '2017-02-19',\n",
       "       '2017-08-11', '2017-05-05', '2017-07-11', '2017-05-14',\n",
       "       '2017-04-25', '2017-08-03', '2016-12-11', '2016-04-11',\n",
       "       '2016-09-24', '2016-11-22', '2016-12-26', '2016-12-18',\n",
       "       '2017-05-23', '2016-10-31', '2017-08-27', '2016-12-04',\n",
       "       '2016-12-31', '2017-08-29', '2016-11-23', '2017-02-18',\n",
       "       '2017-04-30', '2017-01-11', '2017-05-07', '2017-05-11',\n",
       "       '2017-05-12', '2016-03-01', '2017-02-04', '2017-03-28',\n",
       "       '2017-06-12', '2017-03-10', '2016-06-04', '2016-11-06',\n",
       "       '2017-08-22', '2016-11-18', '2017-03-24', '2017-06-24',\n",
       "       '2016-11-21', '2017-07-06', '2017-05-19', '2017-05-30',\n",
       "       '2017-08-05', '2017-01-29', '2017-07-01', '2017-06-11',\n",
       "       '2017-03-21', '2017-06-27', '2017-01-04', '2017-07-20',\n",
       "       '2017-09-06', '2017-07-02', '2017-07-18', '2017-06-18',\n",
       "       '2016-01-25', '2016-12-21', '2017-05-18', '2017-03-06',\n",
       "       '2017-02-10', '2017-03-12', '2016-10-29', '2016-12-29',\n",
       "       '2017-04-07', '2016-12-28', '2017-04-01', '2017-06-14',\n",
       "       '2017-04-23', '2016-02-28', '2017-06-04', '2016-11-27',\n",
       "       '2017-02-20', '2017-03-04', '2015-12-09', '2016-12-25',\n",
       "       '2015-12-14', '2017-06-30', '2016-03-13', '2015-12-21',\n",
       "       '2015-12-20', '2017-06-06', '2015-12-25', '2016-11-26',\n",
       "       '2017-02-14', '2017-06-10', '2017-02-27', '2016-01-06',\n",
       "       '2017-01-16', '2016-01-17', '2017-03-13', '2016-01-18',\n",
       "       '2016-04-13', '2017-05-24', '2017-04-02', '2017-06-09',\n",
       "       '2017-03-18', '2017-06-17', '2016-02-01', '2016-02-06',\n",
       "       '2017-03-11', '2016-07-24', '2016-02-22', '2017-06-28',\n",
       "       '2016-03-07', '2017-01-06', '2016-11-12', '2017-01-14',\n",
       "       '2016-03-25', '2016-08-29', '2017-04-03', '2016-08-11',\n",
       "       '2017-05-20', '2016-07-30', '2017-05-06', '2017-07-14',\n",
       "       '2017-05-22', '2017-06-15', '2016-07-26', '2017-03-01',\n",
       "       '2016-07-06', '2017-05-27', '2016-09-06', '2017-05-26',\n",
       "       '2017-07-13', '2017-07-28', '2017-06-03', '2017-08-16',\n",
       "       '2017-08-09', '2017-04-24', '2016-08-09', '2017-08-17',\n",
       "       '2017-08-08', '2017-02-13', '2016-08-14', '2017-07-08',\n",
       "       '2016-08-22', '2016-08-20', '2017-08-26', '2016-08-28',\n",
       "       '2016-09-03', '2017-09-09', '2017-05-13', '2017-09-02',\n",
       "       '2017-05-01', '2016-10-07', '2016-10-25', '2017-08-21',\n",
       "       '2016-12-24', '2016-12-27', '2016-11-02', '2016-12-30',\n",
       "       '2016-11-08', '2016-12-08', '2016-11-19', '2016-11-14',\n",
       "       '2017-01-21', '2016-11-28', '2016-12-01', '2016-12-02',\n",
       "       '2016-12-05', '2017-05-03', '2017-05-15', '2017-01-23',\n",
       "       '2017-03-20', '2017-07-19', '2017-03-07', '2017-04-26',\n",
       "       '2017-03-25', '2017-04-08', '2017-04-11', '2017-05-21',\n",
       "       '2017-05-28', '2017-05-29', '2017-06-19', '2017-06-25',\n",
       "       '2017-06-26', '2017-07-17', '2017-07-16', '2017-07-22',\n",
       "       '2017-07-21', '2017-08-04', '2017-08-07', '2017-08-10',\n",
       "       '2017-08-12', '2017-08-14', '2017-08-24', '2017-08-30',\n",
       "       '2017-08-31', '2017-09-03', '2017-09-04', '2017-09-05',\n",
       "       '2017-09-07', '2017-09-08', '2017-09-10', '2017-09-12',\n",
       "       '2017-09-14'], dtype=object)"
      ]
     },
     "execution_count": 65,
     "metadata": {},
     "output_type": "execute_result"
    }
   ],
   "source": [
    "df[\"reservation_status_date\"].unique()"
   ]
  },
  {
   "cell_type": "markdown",
   "metadata": {},
   "source": [
    "I believe this is checkout date - not usefull"
   ]
  },
  {
   "cell_type": "code",
   "execution_count": 66,
   "metadata": {},
   "outputs": [],
   "source": [
    "df.drop(columns = \"reservation_status_date\", inplace=True)"
   ]
  },
  {
   "cell_type": "code",
   "execution_count": 67,
   "metadata": {},
   "outputs": [
    {
     "name": "stdout",
     "output_type": "stream",
     "text": [
      "<class 'pandas.core.frame.DataFrame'>\n",
      "Int64Index: 75166 entries, 0 to 119389\n",
      "Data columns (total 31 columns):\n",
      " #   Column                          Non-Null Count  Dtype  \n",
      "---  ------                          --------------  -----  \n",
      " 0   lead_time                       75166 non-null  int64  \n",
      " 1   arrival_date_month              75166 non-null  int64  \n",
      " 2   arrival_date_week_number        75166 non-null  int64  \n",
      " 3   arrival_date_day_of_month       75166 non-null  int64  \n",
      " 4   stays_in_weekend_nights         75166 non-null  int64  \n",
      " 5   stays_in_week_nights            75166 non-null  int64  \n",
      " 6   adults                          75166 non-null  int64  \n",
      " 7   children                        75166 non-null  int64  \n",
      " 8   babies                          75166 non-null  int64  \n",
      " 9   meal                            75166 non-null  object \n",
      " 10  country                         75166 non-null  object \n",
      " 11  market_segment                  75166 non-null  object \n",
      " 12  distribution_channel            75166 non-null  object \n",
      " 13  is_repeated_guest               75166 non-null  int64  \n",
      " 14  previous_cancellations          75166 non-null  int64  \n",
      " 15  previous_bookings_not_canceled  75166 non-null  int64  \n",
      " 16  booking_changes                 75166 non-null  int64  \n",
      " 17  days_in_waiting_list            75166 non-null  int64  \n",
      " 18  adr                             75166 non-null  float64\n",
      " 19  required_car_parking_spaces     75166 non-null  int64  \n",
      " 20  total_of_special_requests       75166 non-null  int64  \n",
      " 21  reservation_status              75166 non-null  object \n",
      " 22  is_resort                       75166 non-null  int32  \n",
      " 23  no_deposit                      75166 non-null  int32  \n",
      " 24  refundable_deposit              75166 non-null  int32  \n",
      " 25  nonrefundable_deposit           75166 non-null  int32  \n",
      " 26  with_company                    75166 non-null  int32  \n",
      " 27  is_contract                     75166 non-null  int32  \n",
      " 28  is_group                        75166 non-null  int32  \n",
      " 29  is_transient                    75166 non-null  int32  \n",
      " 30  is_transient_party              75166 non-null  int32  \n",
      "dtypes: float64(1), int32(9), int64(16), object(5)\n",
      "memory usage: 15.8+ MB\n"
     ]
    }
   ],
   "source": [
    "df.info()"
   ]
  },
  {
   "cell_type": "code",
   "execution_count": null,
   "metadata": {},
   "outputs": [],
   "source": []
  }
 ],
 "metadata": {
  "kernelspec": {
   "display_name": "Python 3 (ipykernel)",
   "language": "python",
   "name": "python3"
  },
  "language_info": {
   "codemirror_mode": {
    "name": "ipython",
    "version": 3
   },
   "file_extension": ".py",
   "mimetype": "text/x-python",
   "name": "python",
   "nbconvert_exporter": "python",
   "pygments_lexer": "ipython3",
   "version": "3.9.7"
  }
 },
>>>>>>> Stashed changes
 "nbformat": 4,
 "nbformat_minor": 4
}
