{
 "cells": [
  {
   "cell_type": "code",
   "execution_count": 4,
   "id": "4d2cafd5",
   "metadata": {},
   "outputs": [],
   "source": [
    "from sklearn.linear_model import LogisticRegression\n",
    "import pandas as pd"
   ]
  },
  {
   "cell_type": "code",
   "execution_count": 39,
   "id": "ae5cc8ac",
   "metadata": {},
   "outputs": [],
   "source": [
    "import pandas as pd\n",
    "from matplotlib import pyplot as plt\n",
    "import numpy as np\n",
    "from sklearn.preprocessing import StandardScaler\n",
    "from sklearn.preprocessing import MinMaxScaler\n",
    "from sklearn.decomposition import PCA\n",
    "from sklearn.linear_model import LinearRegression\n",
    "from sklearn.linear_model import LogisticRegression\n",
    "from sklearn.linear_model import Ridge\n",
    "from sklearn.tree import DecisionTreeClassifier\n",
    "from sklearn.tree import export_text\n",
    "from sklearn import tree"
   ]
  },
  {
   "cell_type": "code",
   "execution_count": 40,
   "id": "cad5f87a",
   "metadata": {},
   "outputs": [],
   "source": [
    "df = pd.read_csv('clean_data_xtra_features_for_cancelation.csv')\n",
    "df = df.dropna(axis=0)\n",
    "df = df.drop(columns=['Unnamed: 0'], axis=1)"
   ]
  },
  {
   "cell_type": "code",
   "execution_count": 41,
   "id": "a1a09d6f",
   "metadata": {},
   "outputs": [
    {
     "data": {
      "text/html": [
       "<div>\n",
       "<style scoped>\n",
       "    .dataframe tbody tr th:only-of-type {\n",
       "        vertical-align: middle;\n",
       "    }\n",
       "\n",
       "    .dataframe tbody tr th {\n",
       "        vertical-align: top;\n",
       "    }\n",
       "\n",
       "    .dataframe thead th {\n",
       "        text-align: right;\n",
       "    }\n",
       "</style>\n",
       "<table border=\"1\" class=\"dataframe\">\n",
       "  <thead>\n",
       "    <tr style=\"text-align: right;\">\n",
       "      <th></th>\n",
       "      <th>is_canceled</th>\n",
       "      <th>lead_time</th>\n",
       "      <th>arrival_date_month</th>\n",
       "      <th>arrival_date_week_number</th>\n",
       "      <th>arrival_date_day_of_month</th>\n",
       "      <th>stays_in_weekend_nights</th>\n",
       "      <th>stays_in_week_nights</th>\n",
       "      <th>adults</th>\n",
       "      <th>children</th>\n",
       "      <th>babies</th>\n",
       "      <th>...</th>\n",
       "      <th>gds_channel</th>\n",
       "      <th>ta_to_channel</th>\n",
       "      <th>no_deposit</th>\n",
       "      <th>refundable_deposit</th>\n",
       "      <th>nonrefundable_deposit</th>\n",
       "      <th>with_company</th>\n",
       "      <th>is_contract</th>\n",
       "      <th>is_group</th>\n",
       "      <th>is_transient</th>\n",
       "      <th>is_transient_party</th>\n",
       "    </tr>\n",
       "  </thead>\n",
       "  <tbody>\n",
       "    <tr>\n",
       "      <th>0</th>\n",
       "      <td>0</td>\n",
       "      <td>342</td>\n",
       "      <td>7</td>\n",
       "      <td>27</td>\n",
       "      <td>1</td>\n",
       "      <td>0</td>\n",
       "      <td>0</td>\n",
       "      <td>2</td>\n",
       "      <td>0</td>\n",
       "      <td>0</td>\n",
       "      <td>...</td>\n",
       "      <td>0</td>\n",
       "      <td>0</td>\n",
       "      <td>1</td>\n",
       "      <td>0</td>\n",
       "      <td>0</td>\n",
       "      <td>0</td>\n",
       "      <td>0</td>\n",
       "      <td>0</td>\n",
       "      <td>1</td>\n",
       "      <td>0</td>\n",
       "    </tr>\n",
       "    <tr>\n",
       "      <th>1</th>\n",
       "      <td>0</td>\n",
       "      <td>737</td>\n",
       "      <td>7</td>\n",
       "      <td>27</td>\n",
       "      <td>1</td>\n",
       "      <td>0</td>\n",
       "      <td>0</td>\n",
       "      <td>2</td>\n",
       "      <td>0</td>\n",
       "      <td>0</td>\n",
       "      <td>...</td>\n",
       "      <td>0</td>\n",
       "      <td>0</td>\n",
       "      <td>1</td>\n",
       "      <td>0</td>\n",
       "      <td>0</td>\n",
       "      <td>0</td>\n",
       "      <td>0</td>\n",
       "      <td>0</td>\n",
       "      <td>1</td>\n",
       "      <td>0</td>\n",
       "    </tr>\n",
       "    <tr>\n",
       "      <th>2</th>\n",
       "      <td>0</td>\n",
       "      <td>7</td>\n",
       "      <td>7</td>\n",
       "      <td>27</td>\n",
       "      <td>1</td>\n",
       "      <td>0</td>\n",
       "      <td>1</td>\n",
       "      <td>1</td>\n",
       "      <td>0</td>\n",
       "      <td>0</td>\n",
       "      <td>...</td>\n",
       "      <td>0</td>\n",
       "      <td>0</td>\n",
       "      <td>1</td>\n",
       "      <td>0</td>\n",
       "      <td>0</td>\n",
       "      <td>0</td>\n",
       "      <td>0</td>\n",
       "      <td>0</td>\n",
       "      <td>1</td>\n",
       "      <td>0</td>\n",
       "    </tr>\n",
       "    <tr>\n",
       "      <th>3</th>\n",
       "      <td>0</td>\n",
       "      <td>13</td>\n",
       "      <td>7</td>\n",
       "      <td>27</td>\n",
       "      <td>1</td>\n",
       "      <td>0</td>\n",
       "      <td>1</td>\n",
       "      <td>1</td>\n",
       "      <td>0</td>\n",
       "      <td>0</td>\n",
       "      <td>...</td>\n",
       "      <td>0</td>\n",
       "      <td>0</td>\n",
       "      <td>1</td>\n",
       "      <td>0</td>\n",
       "      <td>0</td>\n",
       "      <td>0</td>\n",
       "      <td>0</td>\n",
       "      <td>0</td>\n",
       "      <td>1</td>\n",
       "      <td>0</td>\n",
       "    </tr>\n",
       "    <tr>\n",
       "      <th>4</th>\n",
       "      <td>0</td>\n",
       "      <td>14</td>\n",
       "      <td>7</td>\n",
       "      <td>27</td>\n",
       "      <td>1</td>\n",
       "      <td>0</td>\n",
       "      <td>2</td>\n",
       "      <td>2</td>\n",
       "      <td>0</td>\n",
       "      <td>0</td>\n",
       "      <td>...</td>\n",
       "      <td>0</td>\n",
       "      <td>1</td>\n",
       "      <td>1</td>\n",
       "      <td>0</td>\n",
       "      <td>0</td>\n",
       "      <td>0</td>\n",
       "      <td>0</td>\n",
       "      <td>0</td>\n",
       "      <td>1</td>\n",
       "      <td>0</td>\n",
       "    </tr>\n",
       "  </tbody>\n",
       "</table>\n",
       "<p>5 rows × 37 columns</p>\n",
       "</div>"
      ],
      "text/plain": [
       "   is_canceled  lead_time  arrival_date_month  arrival_date_week_number  \\\n",
       "0            0        342                   7                        27   \n",
       "1            0        737                   7                        27   \n",
       "2            0          7                   7                        27   \n",
       "3            0         13                   7                        27   \n",
       "4            0         14                   7                        27   \n",
       "\n",
       "   arrival_date_day_of_month  stays_in_weekend_nights  stays_in_week_nights  \\\n",
       "0                          1                        0                     0   \n",
       "1                          1                        0                     0   \n",
       "2                          1                        0                     1   \n",
       "3                          1                        0                     1   \n",
       "4                          1                        0                     2   \n",
       "\n",
       "   adults  children  babies  ...  gds_channel  ta_to_channel  no_deposit  \\\n",
       "0       2         0       0  ...            0              0           1   \n",
       "1       2         0       0  ...            0              0           1   \n",
       "2       1         0       0  ...            0              0           1   \n",
       "3       1         0       0  ...            0              0           1   \n",
       "4       2         0       0  ...            0              1           1   \n",
       "\n",
       "   refundable_deposit  nonrefundable_deposit  with_company  is_contract  \\\n",
       "0                   0                      0             0            0   \n",
       "1                   0                      0             0            0   \n",
       "2                   0                      0             0            0   \n",
       "3                   0                      0             0            0   \n",
       "4                   0                      0             0            0   \n",
       "\n",
       "   is_group  is_transient  is_transient_party  \n",
       "0         0             1                   0  \n",
       "1         0             1                   0  \n",
       "2         0             1                   0  \n",
       "3         0             1                   0  \n",
       "4         0             1                   0  \n",
       "\n",
       "[5 rows x 37 columns]"
      ]
     },
     "execution_count": 41,
     "metadata": {},
     "output_type": "execute_result"
    }
   ],
   "source": [
    "df.head()"
   ]
  },
  {
   "cell_type": "code",
   "execution_count": 53,
   "id": "96b4971c",
   "metadata": {},
   "outputs": [],
   "source": [
    "def make_dataset(df, features, test_size=.3, normalize = True, binned= False):\n",
    "    X = df.loc[:,features].values\n",
    "    if normalize:\n",
    "        X = MinMaxScaler().fit_transform(X)\n",
    "    if binned:\n",
    "        y = df['is_canceled'].values\n",
    "        bin_edges = np.linspace(np.min(y), np.max(y), 20)\n",
    "        y_bin = np.zeros(np.shape(y))\n",
    "        for i in range(len(y)):\n",
    "            for j in range(len(bin_edges)):\n",
    "                if y[i] < bin_edges[j]:\n",
    "                    y_bin[i] = j\n",
    "                    break\n",
    "        y = y_bin\n",
    "    else:\n",
    "        y = df['is_canceled'].values\n",
    "        \n",
    "    assert(len(X) == len(y))\n",
    "    \n",
    "    print(\"Total Size of data: \", len(X))\n",
    "    \n",
    "    test_size = int(len(X)*test_size)\n",
    "    ind = [np.random.choice(range(len(X)), size=test_size, replace=False)]\n",
    "    X_test = X[ind]\n",
    "    y_test = y[ind]\n",
    "    X_train = np.delete(X, ind, axis=0)\n",
    "    y_train = np.delete(y, ind)\n",
    "    \n",
    "    print(\"Feature\", features)\n",
    "    print(\"X_train: \", np.shape(X_train))\n",
    "    print(\"y_train: \", np.shape(y_train))\n",
    "    print(\"X_test: \", np.shape(X_test))\n",
    "    print(\"y_test: \", np.shape(y_test))\n",
    "    \n",
    "    return X_train, y_train, X_test, y_test\n",
    "def make_PCA(X_train, X_test, features, thresh = .90):\n",
    "    pca = PCA(thresh)\n",
    "    pca.fit(X_train)\n",
    "    \n",
    "    var = pca.explained_variance_ratio_\n",
    "    print(\"number components: \", len(var))\n",
    "    evar = np.sum(var)\n",
    "    print(\"Explained Variance:\", evar)\n",
    "    \n",
    "    X_pcs_train = pca.transform(X_train)\n",
    "    X_pcs_test = pca.transform(X_test)\n",
    "    \n",
    "    n_pcs= pca.components_.shape[0]\n",
    "    most_important = [np.abs(pca.components_[i]).argmax() for i in range(n_pcs)]\n",
    "\n",
    "    initial_feature_names = features\n",
    "    most_important_names = [initial_feature_names[most_important[i]] for i in range(n_pcs)]\n",
    "    dic = {'PC{}'.format(i): most_important_names[i] for i in range(n_pcs)}\n",
    "    \n",
    "    return X_pcs_train, X_pcs_test, dic"
   ]
  },
  {
   "cell_type": "markdown",
   "id": "8246107e",
   "metadata": {},
   "source": [
    "### Logistic Regression Without PCA for Cancellations"
   ]
  },
  {
   "cell_type": "code",
   "execution_count": 43,
   "id": "cb64dac3",
   "metadata": {},
   "outputs": [
    {
     "name": "stdout",
     "output_type": "stream",
     "text": [
      "Total Size of data:  118215\n",
      "Feature ['lead_time', 'arrival_date_month', 'arrival_date_week_number', 'arrival_date_day_of_month', 'stays_in_weekend_nights', 'stays_in_week_nights', 'adults', 'children', 'babies', 'is_repeated_guest', 'previous_cancellations', 'previous_bookings_not_canceled', 'booking_changes', 'adr', 'required_car_parking_spaces', 'total_of_special_requests', 'is_resort', 'bought_meal', 'is_international', 'aviation_segment', 'corporate_segment', 'groups_segment', 'offline_ta_to_segment', 'online_ta_segment', 'corporate_channel', 'direct_channel', 'gds_channel', 'ta_to_channel', 'no_deposit', 'refundable_deposit', 'nonrefundable_deposit', 'with_company', 'is_contract', 'is_group', 'is_transient', 'is_transient_party']\n",
      "X_train:  (82751, 36)\n",
      "y_train:  (82751,)\n",
      "X_test:  (35464, 36)\n",
      "y_test:  (35464,)\n"
     ]
    },
    {
     "name": "stderr",
     "output_type": "stream",
     "text": [
      "C:\\Users\\KATYLU~2\\AppData\\Local\\Temp/ipykernel_30096/2652718578.py:24: FutureWarning: Using a non-tuple sequence for multidimensional indexing is deprecated; use `arr[tuple(seq)]` instead of `arr[seq]`. In the future this will be interpreted as an array index, `arr[np.array(seq)]`, which will result either in an error or a different result.\n",
      "  X_test = X[ind]\n",
      "C:\\Users\\KATYLU~2\\AppData\\Local\\Temp/ipykernel_30096/2652718578.py:25: FutureWarning: Using a non-tuple sequence for multidimensional indexing is deprecated; use `arr[tuple(seq)]` instead of `arr[seq]`. In the future this will be interpreted as an array index, `arr[np.array(seq)]`, which will result either in an error or a different result.\n",
      "  y_test = y[ind]\n"
     ]
    }
   ],
   "source": [
    "features = list(df.columns)\n",
    "features.remove('is_canceled')\n",
    "X_train, y_train, X_test, y_test = make_dataset(df, features, binned=False)"
   ]
  },
  {
   "cell_type": "code",
   "execution_count": 44,
   "id": "b944da02",
   "metadata": {},
   "outputs": [],
   "source": [
    "lr = LogisticRegression(max_iter=10000).fit(X_train, y_train)"
   ]
  },
  {
   "cell_type": "code",
   "execution_count": 45,
   "id": "719f0a91",
   "metadata": {},
   "outputs": [
    {
     "data": {
      "text/plain": [
       "0.8015734265734266"
      ]
     },
     "execution_count": 45,
     "metadata": {},
     "output_type": "execute_result"
    }
   ],
   "source": [
    "lr.score(X_test, y_test)"
   ]
  },
  {
   "cell_type": "markdown",
   "id": "32c87d93",
   "metadata": {},
   "source": [
    "### Logistic Regression With PCA for Cancellations"
   ]
  },
  {
   "cell_type": "code",
   "execution_count": 98,
   "id": "4cfc08bf",
   "metadata": {},
   "outputs": [
    {
     "name": "stdout",
     "output_type": "stream",
     "text": [
      "Total Size of data:  118215\n",
      "Feature ['lead_time', 'arrival_date_month', 'arrival_date_week_number', 'arrival_date_day_of_month', 'stays_in_weekend_nights', 'stays_in_week_nights', 'adults', 'children', 'babies', 'is_repeated_guest', 'previous_cancellations', 'previous_bookings_not_canceled', 'booking_changes', 'adr', 'required_car_parking_spaces', 'total_of_special_requests', 'is_resort', 'bought_meal', 'is_international', 'aviation_segment', 'corporate_segment', 'groups_segment', 'offline_ta_to_segment', 'online_ta_segment', 'corporate_channel', 'direct_channel', 'gds_channel', 'ta_to_channel', 'no_deposit', 'refundable_deposit', 'nonrefundable_deposit', 'with_company', 'is_contract', 'is_group', 'is_transient', 'is_transient_party']\n",
      "X_train:  (82751, 36)\n",
      "y_train:  (82751,)\n",
      "X_test:  (35464, 36)\n",
      "y_test:  (35464,)\n",
      "number components:  27\n",
      "Explained Variance: 0.9990431964024874\n"
     ]
    },
    {
     "name": "stderr",
     "output_type": "stream",
     "text": [
      "C:\\Users\\KATYLU~2\\AppData\\Local\\Temp/ipykernel_30096/493187288.py:24: FutureWarning: Using a non-tuple sequence for multidimensional indexing is deprecated; use `arr[tuple(seq)]` instead of `arr[seq]`. In the future this will be interpreted as an array index, `arr[np.array(seq)]`, which will result either in an error or a different result.\n",
      "  X_test = X[ind]\n",
      "C:\\Users\\KATYLU~2\\AppData\\Local\\Temp/ipykernel_30096/493187288.py:25: FutureWarning: Using a non-tuple sequence for multidimensional indexing is deprecated; use `arr[tuple(seq)]` instead of `arr[seq]`. In the future this will be interpreted as an array index, `arr[np.array(seq)]`, which will result either in an error or a different result.\n",
      "  y_test = y[ind]\n"
     ]
    }
   ],
   "source": [
    "features = list(df.columns)\n",
    "features.remove('is_canceled')\n",
    "X_train, y_train, X_test, y_test = make_dataset(df, features, binned=False)\n",
    "X_train_pca, X_test_pca, col_dic = make_PCA(X_train, X_test, features, thresh=.999)"
   ]
  },
  {
   "cell_type": "code",
   "execution_count": 99,
   "id": "982d067d",
   "metadata": {},
   "outputs": [],
   "source": [
    "lr = LogisticRegression(max_iter=10000).fit(X_train_pca, y_train)"
   ]
  },
  {
   "cell_type": "code",
   "execution_count": 100,
   "id": "98ec2cac",
   "metadata": {},
   "outputs": [
    {
     "data": {
      "text/plain": [
       "0.7970618091585834"
      ]
     },
     "execution_count": 100,
     "metadata": {},
     "output_type": "execute_result"
    }
   ],
   "source": [
    "lr.score(X_test_pca, y_test)"
   ]
  },
  {
   "cell_type": "code",
   "execution_count": 101,
   "id": "d3a94562",
   "metadata": {},
   "outputs": [
    {
     "data": {
      "text/plain": [
       "{'PC0': 'online_ta_segment',\n",
       " 'PC1': 'ta_to_channel',\n",
       " 'PC2': 'is_international',\n",
       " 'PC3': 'offline_ta_to_segment',\n",
       " 'PC4': 'is_resort',\n",
       " 'PC5': 'arrival_date_month',\n",
       " 'PC6': 'arrival_date_month',\n",
       " 'PC7': 'is_international',\n",
       " 'PC8': 'arrival_date_day_of_month',\n",
       " 'PC9': 'bought_meal',\n",
       " 'PC10': 'required_car_parking_spaces',\n",
       " 'PC11': 'is_contract',\n",
       " 'PC12': 'no_deposit',\n",
       " 'PC13': 'is_repeated_guest',\n",
       " 'PC14': 'total_of_special_requests',\n",
       " 'PC15': 'with_company',\n",
       " 'PC16': 'lead_time',\n",
       " 'PC17': 'corporate_segment',\n",
       " 'PC18': 'adr',\n",
       " 'PC19': 'is_group',\n",
       " 'PC20': 'offline_ta_to_segment',\n",
       " 'PC21': 'stays_in_weekend_nights',\n",
       " 'PC22': 'gds_channel',\n",
       " 'PC23': 'aviation_segment',\n",
       " 'PC24': 'children',\n",
       " 'PC25': 'refundable_deposit',\n",
       " 'PC26': 'previous_cancellations'}"
      ]
     },
     "execution_count": 101,
     "metadata": {},
     "output_type": "execute_result"
    }
   ],
   "source": [
    "col_dic"
   ]
  },
  {
   "cell_type": "code",
   "execution_count": null,
   "id": "14248c0f",
   "metadata": {},
   "outputs": [],
   "source": []
  }
 ],
 "metadata": {
  "kernelspec": {
   "display_name": "Python 3 (ipykernel)",
   "language": "python",
   "name": "python3"
  },
  "language_info": {
   "codemirror_mode": {
    "name": "ipython",
    "version": 3
   },
   "file_extension": ".py",
   "mimetype": "text/x-python",
   "name": "python",
   "nbconvert_exporter": "python",
   "pygments_lexer": "ipython3",
   "version": "3.9.7"
  }
 },
 "nbformat": 4,
 "nbformat_minor": 5
}
