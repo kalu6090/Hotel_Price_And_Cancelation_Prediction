{
 "cells": [
  {
   "cell_type": "code",
   "execution_count": 1,
   "id": "ca5da91e",
   "metadata": {},
   "outputs": [],
   "source": [
    "from sklearn.linear_model import LogisticRegression\n",
    "import pandas as pd"
   ]
  },
  {
   "cell_type": "code",
   "execution_count": 2,
   "id": "75c8546a",
   "metadata": {},
   "outputs": [],
   "source": [
    "import pandas as pd\n",
    "from matplotlib import pyplot as plt\n",
    "import numpy as np\n",
    "from sklearn.preprocessing import StandardScaler\n",
    "from sklearn.preprocessing import MinMaxScaler\n",
    "from sklearn.decomposition import PCA\n",
    "from sklearn.linear_model import LinearRegression\n",
    "from sklearn.linear_model import LogisticRegression\n",
    "from sklearn.linear_model import Ridge\n",
    "from sklearn.tree import DecisionTreeClassifier\n",
    "from sklearn.neighbors import KNeighborsClassifier\n",
    "from sklearn.tree import export_text\n",
    "from sklearn import tree"
   ]
  },
  {
   "cell_type": "code",
   "execution_count": 65,
   "id": "7a95332a",
   "metadata": {},
   "outputs": [],
   "source": [
    "from sklearn.metrics import confusion_matrix, ConfusionMatrixDisplay"
   ]
  },
  {
   "cell_type": "code",
   "execution_count": 102,
   "id": "12808837",
   "metadata": {},
   "outputs": [],
   "source": [
    "from sklearn.metrics import roc_curve"
   ]
  },
  {
   "cell_type": "code",
   "execution_count": 3,
   "id": "a308b07b",
   "metadata": {},
   "outputs": [],
   "source": [
    "df = pd.read_csv('clean_data_xtra_features_for_cancelation.csv')\n",
    "df = df.dropna(axis=0)\n",
    "df = df.drop(columns=['Unnamed: 0'], axis=1)"
   ]
  },
  {
   "cell_type": "code",
   "execution_count": 4,
   "id": "58b9d24d",
   "metadata": {},
   "outputs": [
    {
     "data": {
      "text/html": [
       "<div>\n",
       "<style scoped>\n",
       "    .dataframe tbody tr th:only-of-type {\n",
       "        vertical-align: middle;\n",
       "    }\n",
       "\n",
       "    .dataframe tbody tr th {\n",
       "        vertical-align: top;\n",
       "    }\n",
       "\n",
       "    .dataframe thead th {\n",
       "        text-align: right;\n",
       "    }\n",
       "</style>\n",
       "<table border=\"1\" class=\"dataframe\">\n",
       "  <thead>\n",
       "    <tr style=\"text-align: right;\">\n",
       "      <th></th>\n",
       "      <th>is_canceled</th>\n",
       "      <th>lead_time</th>\n",
       "      <th>arrival_date_month</th>\n",
       "      <th>arrival_date_week_number</th>\n",
       "      <th>arrival_date_day_of_month</th>\n",
       "      <th>stays_in_weekend_nights</th>\n",
       "      <th>stays_in_week_nights</th>\n",
       "      <th>adults</th>\n",
       "      <th>children</th>\n",
       "      <th>babies</th>\n",
       "      <th>...</th>\n",
       "      <th>gds_channel</th>\n",
       "      <th>ta_to_channel</th>\n",
       "      <th>no_deposit</th>\n",
       "      <th>refundable_deposit</th>\n",
       "      <th>nonrefundable_deposit</th>\n",
       "      <th>with_company</th>\n",
       "      <th>is_contract</th>\n",
       "      <th>is_group</th>\n",
       "      <th>is_transient</th>\n",
       "      <th>is_transient_party</th>\n",
       "    </tr>\n",
       "  </thead>\n",
       "  <tbody>\n",
       "    <tr>\n",
       "      <th>0</th>\n",
       "      <td>0</td>\n",
       "      <td>342</td>\n",
       "      <td>7</td>\n",
       "      <td>27</td>\n",
       "      <td>1</td>\n",
       "      <td>0</td>\n",
       "      <td>0</td>\n",
       "      <td>2</td>\n",
       "      <td>0</td>\n",
       "      <td>0</td>\n",
       "      <td>...</td>\n",
       "      <td>0</td>\n",
       "      <td>0</td>\n",
       "      <td>1</td>\n",
       "      <td>0</td>\n",
       "      <td>0</td>\n",
       "      <td>0</td>\n",
       "      <td>0</td>\n",
       "      <td>0</td>\n",
       "      <td>1</td>\n",
       "      <td>0</td>\n",
       "    </tr>\n",
       "    <tr>\n",
       "      <th>1</th>\n",
       "      <td>0</td>\n",
       "      <td>737</td>\n",
       "      <td>7</td>\n",
       "      <td>27</td>\n",
       "      <td>1</td>\n",
       "      <td>0</td>\n",
       "      <td>0</td>\n",
       "      <td>2</td>\n",
       "      <td>0</td>\n",
       "      <td>0</td>\n",
       "      <td>...</td>\n",
       "      <td>0</td>\n",
       "      <td>0</td>\n",
       "      <td>1</td>\n",
       "      <td>0</td>\n",
       "      <td>0</td>\n",
       "      <td>0</td>\n",
       "      <td>0</td>\n",
       "      <td>0</td>\n",
       "      <td>1</td>\n",
       "      <td>0</td>\n",
       "    </tr>\n",
       "    <tr>\n",
       "      <th>2</th>\n",
       "      <td>0</td>\n",
       "      <td>7</td>\n",
       "      <td>7</td>\n",
       "      <td>27</td>\n",
       "      <td>1</td>\n",
       "      <td>0</td>\n",
       "      <td>1</td>\n",
       "      <td>1</td>\n",
       "      <td>0</td>\n",
       "      <td>0</td>\n",
       "      <td>...</td>\n",
       "      <td>0</td>\n",
       "      <td>0</td>\n",
       "      <td>1</td>\n",
       "      <td>0</td>\n",
       "      <td>0</td>\n",
       "      <td>0</td>\n",
       "      <td>0</td>\n",
       "      <td>0</td>\n",
       "      <td>1</td>\n",
       "      <td>0</td>\n",
       "    </tr>\n",
       "    <tr>\n",
       "      <th>3</th>\n",
       "      <td>0</td>\n",
       "      <td>13</td>\n",
       "      <td>7</td>\n",
       "      <td>27</td>\n",
       "      <td>1</td>\n",
       "      <td>0</td>\n",
       "      <td>1</td>\n",
       "      <td>1</td>\n",
       "      <td>0</td>\n",
       "      <td>0</td>\n",
       "      <td>...</td>\n",
       "      <td>0</td>\n",
       "      <td>0</td>\n",
       "      <td>1</td>\n",
       "      <td>0</td>\n",
       "      <td>0</td>\n",
       "      <td>0</td>\n",
       "      <td>0</td>\n",
       "      <td>0</td>\n",
       "      <td>1</td>\n",
       "      <td>0</td>\n",
       "    </tr>\n",
       "    <tr>\n",
       "      <th>4</th>\n",
       "      <td>0</td>\n",
       "      <td>14</td>\n",
       "      <td>7</td>\n",
       "      <td>27</td>\n",
       "      <td>1</td>\n",
       "      <td>0</td>\n",
       "      <td>2</td>\n",
       "      <td>2</td>\n",
       "      <td>0</td>\n",
       "      <td>0</td>\n",
       "      <td>...</td>\n",
       "      <td>0</td>\n",
       "      <td>1</td>\n",
       "      <td>1</td>\n",
       "      <td>0</td>\n",
       "      <td>0</td>\n",
       "      <td>0</td>\n",
       "      <td>0</td>\n",
       "      <td>0</td>\n",
       "      <td>1</td>\n",
       "      <td>0</td>\n",
       "    </tr>\n",
       "  </tbody>\n",
       "</table>\n",
       "<p>5 rows × 37 columns</p>\n",
       "</div>"
      ],
      "text/plain": [
       "   is_canceled  lead_time  arrival_date_month  arrival_date_week_number  \\\n",
       "0            0        342                   7                        27   \n",
       "1            0        737                   7                        27   \n",
       "2            0          7                   7                        27   \n",
       "3            0         13                   7                        27   \n",
       "4            0         14                   7                        27   \n",
       "\n",
       "   arrival_date_day_of_month  stays_in_weekend_nights  stays_in_week_nights  \\\n",
       "0                          1                        0                     0   \n",
       "1                          1                        0                     0   \n",
       "2                          1                        0                     1   \n",
       "3                          1                        0                     1   \n",
       "4                          1                        0                     2   \n",
       "\n",
       "   adults  children  babies  ...  gds_channel  ta_to_channel  no_deposit  \\\n",
       "0       2         0       0  ...            0              0           1   \n",
       "1       2         0       0  ...            0              0           1   \n",
       "2       1         0       0  ...            0              0           1   \n",
       "3       1         0       0  ...            0              0           1   \n",
       "4       2         0       0  ...            0              1           1   \n",
       "\n",
       "   refundable_deposit  nonrefundable_deposit  with_company  is_contract  \\\n",
       "0                   0                      0             0            0   \n",
       "1                   0                      0             0            0   \n",
       "2                   0                      0             0            0   \n",
       "3                   0                      0             0            0   \n",
       "4                   0                      0             0            0   \n",
       "\n",
       "   is_group  is_transient  is_transient_party  \n",
       "0         0             1                   0  \n",
       "1         0             1                   0  \n",
       "2         0             1                   0  \n",
       "3         0             1                   0  \n",
       "4         0             1                   0  \n",
       "\n",
       "[5 rows x 37 columns]"
      ]
     },
     "execution_count": 4,
     "metadata": {},
     "output_type": "execute_result"
    }
   ],
   "source": [
    "df.head()"
   ]
  },
  {
   "cell_type": "code",
   "execution_count": 5,
   "id": "2fe5a7df",
   "metadata": {},
   "outputs": [],
   "source": [
    "def make_dataset(df, features, test_size=.3, normalize = True, binned= False):\n",
    "    X = df.loc[:,features].values\n",
    "    if normalize:\n",
    "        X = MinMaxScaler().fit_transform(X)\n",
    "    if binned:\n",
    "        y = df['is_canceled'].values\n",
    "        bin_edges = np.linspace(np.min(y), np.max(y), 20)\n",
    "        y_bin = np.zeros(np.shape(y))\n",
    "        for i in range(len(y)):\n",
    "            for j in range(len(bin_edges)):\n",
    "                if y[i] < bin_edges[j]:\n",
    "                    y_bin[i] = j\n",
    "                    break\n",
    "        y = y_bin\n",
    "    else:\n",
    "        y = df['is_canceled'].values\n",
    "        \n",
    "    assert(len(X) == len(y))\n",
    "    \n",
    "    print(\"Total Size of data: \", len(X))\n",
    "    \n",
    "    test_size = int(len(X)*test_size)\n",
    "    ind = [np.random.choice(range(len(X)), size=test_size, replace=False)]\n",
    "    X_test = X[ind]\n",
    "    y_test = y[ind]\n",
    "    X_train = np.delete(X, ind, axis=0)\n",
    "    y_train = np.delete(y, ind)\n",
    "    \n",
    "    print(\"Feature\", features)\n",
    "    print(\"X_train: \", np.shape(X_train))\n",
    "    print(\"y_train: \", np.shape(y_train))\n",
    "    print(\"X_test: \", np.shape(X_test))\n",
    "    print(\"y_test: \", np.shape(y_test))\n",
    "    \n",
    "    return X_train, y_train, X_test, y_test\n",
    "def make_PCA(X_train, X_test, features, thresh = .90):\n",
    "    pca = PCA(thresh)\n",
    "    pca.fit(X_train)\n",
    "    \n",
    "    var = pca.explained_variance_ratio_\n",
    "    print(\"number components: \", len(var))\n",
    "    evar = np.sum(var)\n",
    "    print(\"Explained Variance:\", evar)\n",
    "    \n",
    "    X_pcs_train = pca.transform(X_train)\n",
    "    X_pcs_test = pca.transform(X_test)\n",
    "    \n",
    "    n_pcs= pca.components_.shape[0]\n",
    "    most_important = [np.abs(pca.components_[i]).argmax() for i in range(n_pcs)]\n",
    "\n",
    "    initial_feature_names = features\n",
    "    most_important_names = [initial_feature_names[most_important[i]] for i in range(n_pcs)]\n",
    "    dic = {'PC{}'.format(i): most_important_names[i] for i in range(n_pcs)}\n",
    "    \n",
    "    return X_pcs_train, X_pcs_test, dic\n",
    "\n",
    "\n",
    "def make_dataset_with_valid(df, features, test_size=.3, valid_size = 0.3, normalize = True, binned= False):\n",
    "    X = df.loc[:,features].values\n",
    "    if normalize:\n",
    "        X = MinMaxScaler().fit_transform(X)\n",
    "    if binned:\n",
    "        y = df['is_canceled'].values\n",
    "        bin_edges = np.linspace(np.min(y), np.max(y), 20)\n",
    "        y_bin = np.zeros(np.shape(y))\n",
    "        for i in range(len(y)):\n",
    "            for j in range(len(bin_edges)):\n",
    "                if y[i] < bin_edges[j]:\n",
    "                    y_bin[i] = j\n",
    "                    break\n",
    "        y = y_bin\n",
    "    else:\n",
    "        y = df['is_canceled'].values\n",
    "        \n",
    "    assert(len(X) == len(y))\n",
    "    \n",
    "    print(\"Total Size of data: \", len(X))\n",
    "    \n",
    "    test_size = int(len(X)*test_size)\n",
    "    ind = [np.random.choice(range(len(X)), size=test_size, replace=False)]\n",
    "    X_test = X[ind]\n",
    "    y_test = y[ind]\n",
    "    X_train = np.delete(X, ind, axis=0)\n",
    "    y_train = np.delete(y, ind)\n",
    "    \n",
    "    ind = [np.random.choice(range(len(X_train)), size=test_size, replace=False)]\n",
    "    X_valid = X_train[ind]\n",
    "    y_valid = y_train[ind]\n",
    "    X_train = np.delete(X_train, ind, axis=0)\n",
    "    y_train = np.delete(y_train, ind)\n",
    "    \n",
    "    \n",
    "    print(\"Feature\", features)\n",
    "    print(\"X_train: \", np.shape(X_train))\n",
    "    print(\"y_train: \", np.shape(y_train))\n",
    "    print(\"X_valid: \", np.shape(X_valid))\n",
    "    print(\"y_valid: \", np.shape(y_valid))\n",
    "    print(\"X_test: \", np.shape(X_test))\n",
    "    print(\"y_test: \", np.shape(y_test))\n",
    "    \n",
    "    \n",
    "    return X_train, y_train,X_valid, y_valid, X_test, y_test"
   ]
  },
  {
   "cell_type": "markdown",
   "id": "765fa122",
   "metadata": {},
   "source": [
    "### Logistic Regression Without PCA for Cancellations"
   ]
  },
  {
   "cell_type": "code",
   "execution_count": 6,
   "id": "b19339d5",
   "metadata": {
    "scrolled": true
   },
   "outputs": [
    {
     "name": "stdout",
     "output_type": "stream",
     "text": [
      "Total Size of data:  118215\n",
      "Feature ['lead_time', 'arrival_date_month', 'arrival_date_week_number', 'arrival_date_day_of_month', 'stays_in_weekend_nights', 'stays_in_week_nights', 'adults', 'children', 'babies', 'is_repeated_guest', 'previous_cancellations', 'previous_bookings_not_canceled', 'booking_changes', 'adr', 'required_car_parking_spaces', 'total_of_special_requests', 'is_resort', 'bought_meal', 'is_international', 'aviation_segment', 'corporate_segment', 'groups_segment', 'offline_ta_to_segment', 'online_ta_segment', 'corporate_channel', 'direct_channel', 'gds_channel', 'ta_to_channel', 'no_deposit', 'refundable_deposit', 'nonrefundable_deposit', 'with_company', 'is_contract', 'is_group', 'is_transient', 'is_transient_party']\n",
      "X_train:  (82751, 36)\n",
      "y_train:  (82751,)\n",
      "X_test:  (35464, 36)\n",
      "y_test:  (35464,)\n"
     ]
    },
    {
     "name": "stderr",
     "output_type": "stream",
     "text": [
      "C:\\Users\\KATYLU~2\\AppData\\Local\\Temp/ipykernel_31824/4070631666.py:24: FutureWarning: Using a non-tuple sequence for multidimensional indexing is deprecated; use `arr[tuple(seq)]` instead of `arr[seq]`. In the future this will be interpreted as an array index, `arr[np.array(seq)]`, which will result either in an error or a different result.\n",
      "  X_test = X[ind]\n",
      "C:\\Users\\KATYLU~2\\AppData\\Local\\Temp/ipykernel_31824/4070631666.py:25: FutureWarning: Using a non-tuple sequence for multidimensional indexing is deprecated; use `arr[tuple(seq)]` instead of `arr[seq]`. In the future this will be interpreted as an array index, `arr[np.array(seq)]`, which will result either in an error or a different result.\n",
      "  y_test = y[ind]\n"
     ]
    }
   ],
   "source": [
    "features = list(df.columns)\n",
    "features.remove('is_canceled')\n",
    "X_train, y_train, X_test, y_test = make_dataset(df, features, binned=False)"
   ]
  },
  {
   "cell_type": "code",
   "execution_count": 7,
   "id": "f5afd2cc",
   "metadata": {},
   "outputs": [],
   "source": [
    "lr = LogisticRegression(max_iter=10000).fit(X_train, y_train)"
   ]
  },
  {
   "cell_type": "code",
   "execution_count": 8,
   "id": "6e0d4c6a",
   "metadata": {},
   "outputs": [
    {
     "data": {
      "text/plain": [
       "0.800304534175502"
      ]
     },
     "execution_count": 8,
     "metadata": {},
     "output_type": "execute_result"
    }
   ],
   "source": [
    "lr.score(X_test, y_test)"
   ]
  },
  {
   "cell_type": "markdown",
   "id": "19ab7014",
   "metadata": {},
   "source": [
    "### Logistic Regression With PCA for Cancellations"
   ]
  },
  {
   "cell_type": "code",
   "execution_count": 9,
   "id": "cf8d45e8",
   "metadata": {},
   "outputs": [
    {
     "name": "stdout",
     "output_type": "stream",
     "text": [
      "Total Size of data:  118215\n",
      "Feature ['lead_time', 'arrival_date_month', 'arrival_date_week_number', 'arrival_date_day_of_month', 'stays_in_weekend_nights', 'stays_in_week_nights', 'adults', 'children', 'babies', 'is_repeated_guest', 'previous_cancellations', 'previous_bookings_not_canceled', 'booking_changes', 'adr', 'required_car_parking_spaces', 'total_of_special_requests', 'is_resort', 'bought_meal', 'is_international', 'aviation_segment', 'corporate_segment', 'groups_segment', 'offline_ta_to_segment', 'online_ta_segment', 'corporate_channel', 'direct_channel', 'gds_channel', 'ta_to_channel', 'no_deposit', 'refundable_deposit', 'nonrefundable_deposit', 'with_company', 'is_contract', 'is_group', 'is_transient', 'is_transient_party']\n",
      "X_train:  (82751, 36)\n",
      "y_train:  (82751,)\n",
      "X_test:  (35464, 36)\n",
      "y_test:  (35464,)\n",
      "number components:  27\n",
      "Explained Variance: 0.9990240065657803\n"
     ]
    },
    {
     "name": "stderr",
     "output_type": "stream",
     "text": [
      "C:\\Users\\KATYLU~2\\AppData\\Local\\Temp/ipykernel_31824/4070631666.py:24: FutureWarning: Using a non-tuple sequence for multidimensional indexing is deprecated; use `arr[tuple(seq)]` instead of `arr[seq]`. In the future this will be interpreted as an array index, `arr[np.array(seq)]`, which will result either in an error or a different result.\n",
      "  X_test = X[ind]\n",
      "C:\\Users\\KATYLU~2\\AppData\\Local\\Temp/ipykernel_31824/4070631666.py:25: FutureWarning: Using a non-tuple sequence for multidimensional indexing is deprecated; use `arr[tuple(seq)]` instead of `arr[seq]`. In the future this will be interpreted as an array index, `arr[np.array(seq)]`, which will result either in an error or a different result.\n",
      "  y_test = y[ind]\n"
     ]
    }
   ],
   "source": [
    "features = list(df.columns)\n",
    "features.remove('is_canceled')\n",
    "X_train, y_train, X_test, y_test = make_dataset(df, features, binned=False)\n",
    "X_train_pca, X_test_pca, col_dic = make_PCA(X_train, X_test, features, thresh=.999)"
   ]
  },
  {
   "cell_type": "code",
   "execution_count": 10,
   "id": "6e84474c",
   "metadata": {},
   "outputs": [],
   "source": [
    "lr = LogisticRegression(max_iter=10000).fit(X_train_pca, y_train)"
   ]
  },
  {
   "cell_type": "code",
   "execution_count": 11,
   "id": "1a40cff3",
   "metadata": {},
   "outputs": [
    {
     "data": {
      "text/plain": [
       "0.7972873900293255"
      ]
     },
     "execution_count": 11,
     "metadata": {},
     "output_type": "execute_result"
    }
   ],
   "source": [
    "lr.score(X_test_pca, y_test)"
   ]
  },
  {
   "cell_type": "code",
   "execution_count": 12,
   "id": "f7801cac",
   "metadata": {},
   "outputs": [
    {
     "data": {
      "text/plain": [
       "{'PC0': 'online_ta_segment',\n",
       " 'PC1': 'ta_to_channel',\n",
       " 'PC2': 'is_international',\n",
       " 'PC3': 'offline_ta_to_segment',\n",
       " 'PC4': 'is_resort',\n",
       " 'PC5': 'arrival_date_month',\n",
       " 'PC6': 'groups_segment',\n",
       " 'PC7': 'direct_channel',\n",
       " 'PC8': 'arrival_date_day_of_month',\n",
       " 'PC9': 'bought_meal',\n",
       " 'PC10': 'required_car_parking_spaces',\n",
       " 'PC11': 'is_contract',\n",
       " 'PC12': 'no_deposit',\n",
       " 'PC13': 'is_repeated_guest',\n",
       " 'PC14': 'total_of_special_requests',\n",
       " 'PC15': 'with_company',\n",
       " 'PC16': 'lead_time',\n",
       " 'PC17': 'corporate_segment',\n",
       " 'PC18': 'adr',\n",
       " 'PC19': 'is_group',\n",
       " 'PC20': 'corporate_segment',\n",
       " 'PC21': 'stays_in_weekend_nights',\n",
       " 'PC22': 'gds_channel',\n",
       " 'PC23': 'aviation_segment',\n",
       " 'PC24': 'children',\n",
       " 'PC25': 'refundable_deposit',\n",
       " 'PC26': 'previous_cancellations'}"
      ]
     },
     "execution_count": 12,
     "metadata": {},
     "output_type": "execute_result"
    }
   ],
   "source": [
    "col_dic"
   ]
  },
  {
   "cell_type": "markdown",
   "id": "42eb2334",
   "metadata": {},
   "source": [
    "## KNN"
   ]
  },
  {
   "cell_type": "code",
   "execution_count": 13,
   "id": "f656104d",
   "metadata": {},
   "outputs": [
    {
     "name": "stdout",
     "output_type": "stream",
     "text": [
      "Total Size of data:  118215\n",
      "Feature ['lead_time', 'arrival_date_month', 'arrival_date_week_number', 'arrival_date_day_of_month', 'stays_in_weekend_nights', 'stays_in_week_nights', 'adults', 'children', 'babies', 'is_repeated_guest', 'previous_cancellations', 'previous_bookings_not_canceled', 'booking_changes', 'adr', 'required_car_parking_spaces', 'total_of_special_requests', 'is_resort', 'bought_meal', 'is_international', 'aviation_segment', 'corporate_segment', 'groups_segment', 'offline_ta_to_segment', 'online_ta_segment', 'corporate_channel', 'direct_channel', 'gds_channel', 'ta_to_channel', 'no_deposit', 'refundable_deposit', 'nonrefundable_deposit', 'with_company', 'is_contract', 'is_group', 'is_transient', 'is_transient_party']\n",
      "X_train:  (47287, 36)\n",
      "y_train:  (47287,)\n",
      "X_valid:  (35464, 36)\n",
      "y_valid:  (35464,)\n",
      "X_test:  (35464, 36)\n",
      "y_test:  (35464,)\n"
     ]
    },
    {
     "name": "stderr",
     "output_type": "stream",
     "text": [
      "C:\\Users\\KATYLU~2\\AppData\\Local\\Temp/ipykernel_31824/4070631666.py:79: FutureWarning: Using a non-tuple sequence for multidimensional indexing is deprecated; use `arr[tuple(seq)]` instead of `arr[seq]`. In the future this will be interpreted as an array index, `arr[np.array(seq)]`, which will result either in an error or a different result.\n",
      "  X_test = X[ind]\n",
      "C:\\Users\\KATYLU~2\\AppData\\Local\\Temp/ipykernel_31824/4070631666.py:80: FutureWarning: Using a non-tuple sequence for multidimensional indexing is deprecated; use `arr[tuple(seq)]` instead of `arr[seq]`. In the future this will be interpreted as an array index, `arr[np.array(seq)]`, which will result either in an error or a different result.\n",
      "  y_test = y[ind]\n",
      "C:\\Users\\KATYLU~2\\AppData\\Local\\Temp/ipykernel_31824/4070631666.py:85: FutureWarning: Using a non-tuple sequence for multidimensional indexing is deprecated; use `arr[tuple(seq)]` instead of `arr[seq]`. In the future this will be interpreted as an array index, `arr[np.array(seq)]`, which will result either in an error or a different result.\n",
      "  X_valid = X_train[ind]\n",
      "C:\\Users\\KATYLU~2\\AppData\\Local\\Temp/ipykernel_31824/4070631666.py:86: FutureWarning: Using a non-tuple sequence for multidimensional indexing is deprecated; use `arr[tuple(seq)]` instead of `arr[seq]`. In the future this will be interpreted as an array index, `arr[np.array(seq)]`, which will result either in an error or a different result.\n",
      "  y_valid = y_train[ind]\n"
     ]
    }
   ],
   "source": [
    "X_train, y_train, X_valid, y_valid, X_test, y_test = make_dataset_with_valid(df, features,normalize = True, binned=False)"
   ]
  },
  {
   "cell_type": "code",
   "execution_count": 14,
   "id": "2630702c",
   "metadata": {},
   "outputs": [],
   "source": [
    "bestk = 1\n",
    "bestscore = 0\n",
    "bestmodel = None\n",
    "for i in range(1,15):\n",
    "    model = KNeighborsClassifier(n_neighbors = i, algorithm = 'ball_tree')\n",
    "    model.fit(X_train, y_train)\n",
    "    score = model.score(X_valid, y_valid)\n",
    "    if(score > bestscore):\n",
    "        bestk = i\n",
    "        bestmodel=model\n",
    "        bestscore = score"
   ]
  },
  {
   "cell_type": "code",
   "execution_count": 15,
   "id": "f12ba33c",
   "metadata": {},
   "outputs": [
    {
     "data": {
      "text/plain": [
       "0.82776900518836"
      ]
     },
     "execution_count": 15,
     "metadata": {},
     "output_type": "execute_result"
    }
   ],
   "source": [
    "bestmodel.score(X_test, y_test)"
   ]
  },
  {
   "cell_type": "code",
   "execution_count": 16,
   "id": "8c4b6de3",
   "metadata": {},
   "outputs": [
    {
     "data": {
      "text/plain": [
       "5"
      ]
     },
     "execution_count": 16,
     "metadata": {},
     "output_type": "execute_result"
    }
   ],
   "source": [
    "bestk"
   ]
  },
  {
   "cell_type": "code",
   "execution_count": 78,
   "id": "b95d3a25",
   "metadata": {},
   "outputs": [],
   "source": [
    "cm = confusion_matrix(y_test, bestmodel.predict(X_test), normalize= 'all')"
   ]
  },
  {
   "cell_type": "code",
   "execution_count": 89,
   "id": "1ee8186c",
   "metadata": {},
   "outputs": [
    {
     "data": {
      "image/png": "[encoded data removed]",
      "text/plain": [
       "<Figure size 432x288 with 2 Axes>"
      ]
     },
     "metadata": {
      "needs_background": "light"
     },
     "output_type": "display_data"
    }
   ],
   "source": [
    "fig, ax = plt.subplots()\n",
    "ConfusionMatrixDisplay(cm).plot(cmap='Blues', ax = ax)\n",
    "ax.set_title(\"Confusion Matrix\")\n",
    "plt.show()"
   ]
  },
  {
   "cell_type": "code",
   "execution_count": 17,
   "id": "362a9dec",
   "metadata": {},
   "outputs": [
    {
     "name": "stdout",
     "output_type": "stream",
     "text": [
      "<class 'pandas.core.frame.DataFrame'>\n",
      "Int64Index: 118215 entries, 0 to 118214\n",
      "Data columns (total 37 columns):\n",
      " #   Column                          Non-Null Count   Dtype  \n",
      "---  ------                          --------------   -----  \n",
      " 0   is_canceled                     118215 non-null  int64  \n",
      " 1   lead_time                       118215 non-null  int64  \n",
      " 2   arrival_date_month              118215 non-null  int64  \n",
      " 3   arrival_date_week_number        118215 non-null  int64  \n",
      " 4   arrival_date_day_of_month       118215 non-null  int64  \n",
      " 5   stays_in_weekend_nights         118215 non-null  int64  \n",
      " 6   stays_in_week_nights            118215 non-null  int64  \n",
      " 7   adults                          118215 non-null  int64  \n",
      " 8   children                        118215 non-null  int64  \n",
      " 9   babies                          118215 non-null  int64  \n",
      " 10  is_repeated_guest               118215 non-null  int64  \n",
      " 11  previous_cancellations          118215 non-null  int64  \n",
      " 12  previous_bookings_not_canceled  118215 non-null  int64  \n",
      " 13  booking_changes                 118215 non-null  int64  \n",
      " 14  adr                             118215 non-null  float64\n",
      " 15  required_car_parking_spaces     118215 non-null  int64  \n",
      " 16  total_of_special_requests       118215 non-null  int64  \n",
      " 17  is_resort                       118215 non-null  int64  \n",
      " 18  bought_meal                     118215 non-null  int64  \n",
      " 19  is_international                118215 non-null  float64\n",
      " 20  aviation_segment                118215 non-null  int64  \n",
      " 21  corporate_segment               118215 non-null  int64  \n",
      " 22  groups_segment                  118215 non-null  int64  \n",
      " 23  offline_ta_to_segment           118215 non-null  int64  \n",
      " 24  online_ta_segment               118215 non-null  int64  \n",
      " 25  corporate_channel               118215 non-null  int64  \n",
      " 26  direct_channel                  118215 non-null  int64  \n",
      " 27  gds_channel                     118215 non-null  int64  \n",
      " 28  ta_to_channel                   118215 non-null  int64  \n",
      " 29  no_deposit                      118215 non-null  int64  \n",
      " 30  refundable_deposit              118215 non-null  int64  \n",
      " 31  nonrefundable_deposit           118215 non-null  int64  \n",
      " 32  with_company                    118215 non-null  int64  \n",
      " 33  is_contract                     118215 non-null  int64  \n",
      " 34  is_group                        118215 non-null  int64  \n",
      " 35  is_transient                    118215 non-null  int64  \n",
      " 36  is_transient_party              118215 non-null  int64  \n",
      "dtypes: float64(2), int64(35)\n",
      "memory usage: 34.3 MB\n"
     ]
    }
   ],
   "source": [
    "df.info()"
   ]
  },
  {
   "cell_type": "code",
   "execution_count": 60,
   "id": "419f45a6",
   "metadata": {},
   "outputs": [
    {
     "data": {
      "text/plain": [
       "Text(0.5, 0, 'No                                                      Yes')"
      ]
     },
     "execution_count": 60,
     "metadata": {},
     "output_type": "execute_result"
    },
    {
     "data": {
      "image/png": "[encoded data removed]",
      "text/plain": [
       "<Figure size 432x288 with 1 Axes>"
      ]
     },
     "metadata": {
      "needs_background": "light"
     },
     "output_type": "display_data"
    }
   ],
   "source": [
    "fig, ax = plt.subplots()\n",
    "df.hist(\"is_canceled\", bins = 2, rwidth=0.9, ax = ax)\n",
    "ax.set_xticklabels(\"\")\n",
    "ax.set_xlabel(\"No                                                      Yes\")"
   ]
  },
  {
   "cell_type": "code",
   "execution_count": 104,
   "id": "3c7d99ec",
   "metadata": {},
   "outputs": [
    {
     "data": {
      "text/plain": [
       "0.6283635748424481"
      ]
     },
     "execution_count": 104,
     "metadata": {},
     "output_type": "execute_result"
    }
   ],
   "source": [
    "1- sum(df[\"is_canceled\"])/len(df[\"is_canceled\"])"
   ]
  },
  {
   "cell_type": "code",
   "execution_count": 91,
   "id": "f8058fd3",
   "metadata": {},
   "outputs": [
    {
     "data": {
      "text/plain": [
       "118215"
      ]
     },
     "execution_count": 91,
     "metadata": {},
     "output_type": "execute_result"
    }
   ],
   "source": [
    "len(df[\"is_canceled\"])"
   ]
  },
  {
   "cell_type": "code",
   "execution_count": 94,
   "id": "61e79cb1",
   "metadata": {},
   "outputs": [],
   "source": [
    "from sklearn.metrics import f1_score"
   ]
  },
  {
   "cell_type": "code",
   "execution_count": 95,
   "id": "295b6098",
   "metadata": {},
   "outputs": [],
   "source": [
    "bestk = 1\n",
    "bestscore = 0\n",
    "bestmodel = None\n",
    "for i in range(1,15):\n",
    "    model = KNeighborsClassifier(n_neighbors = i, algorithm = 'ball_tree')\n",
    "    model.fit(X_train, y_train)\n",
    "    score = f1_score(model.predict(X_valid), y_valid)\n",
    "    if(score > bestscore):\n",
    "        bestk = i\n",
    "        bestmodel=model\n",
    "        bestscore = score"
   ]
  },
  {
   "cell_type": "code",
   "execution_count": 96,
   "id": "23232302",
   "metadata": {},
   "outputs": [
    {
     "data": {
      "text/plain": [
       "0.8259079630047372"
      ]
     },
     "execution_count": 96,
     "metadata": {},
     "output_type": "execute_result"
    }
   ],
   "source": [
    "bestmodel.score(X_test, y_test)"
   ]
  },
  {
   "cell_type": "code",
   "execution_count": 101,
   "id": "d5fa5f9d",
   "metadata": {},
   "outputs": [
    {
     "data": {
      "text/plain": [
       "0.7444913659739935"
      ]
     },
     "execution_count": 101,
     "metadata": {},
     "output_type": "execute_result"
    }
   ],
   "source": [
    "f1_score(model.predict(X_test), y_test)"
   ]
  },
  {
   "cell_type": "code",
   "execution_count": 97,
   "id": "21251829",
   "metadata": {},
   "outputs": [
    {
     "data": {
      "text/plain": [
       "3"
      ]
     },
     "execution_count": 97,
     "metadata": {},
     "output_type": "execute_result"
    }
   ],
   "source": [
    "bestk"
   ]
  },
  {
   "cell_type": "code",
   "execution_count": 98,
   "id": "51b479d1",
   "metadata": {},
   "outputs": [],
   "source": [
    "cm = confusion_matrix(y_test, bestmodel.predict(X_test), normalize= 'all')"
   ]
  },
  {
   "cell_type": "code",
   "execution_count": 126,
   "id": "f969ec39",
   "metadata": {
    "scrolled": false
   },
   "outputs": [
    {
     "data": {
      "image/png": "[encoded data removed]",
      "text/plain": [
       "<Figure size 144x144 with 1 Axes>"
      ]
     },
     "metadata": {
      "needs_background": "light"
     },
     "output_type": "display_data"
    }
   ],
   "source": [
    "fig, ax = plt.subplots(figsize = (2,2))\n",
    "ConfusionMatrixDisplay(cm).plot(cmap='Blues', ax = ax, colorbar = False)\n",
    "#label_font = {'size':'18'}  # Adjust to fit\n",
    "ax.set_xlabel('Predicted labels')#, fontdict=label_font)\n",
    "ax.set_ylabel('Observed labels')#, fontdict=label_font)\n",
    "#ax.set_xticks([0,1], fontdict=label_font)\n",
    "#ax.set_yticks([0,1], fontdict=label_font)\n",
    "ax.set_title(\"Confusion Matrix\")#, fontdict=label_font)\n",
    "plt.show()"
   ]
  },
  {
   "cell_type": "code",
   "execution_count": 129,
   "id": "6d74a6cc",
   "metadata": {},
   "outputs": [
    {
     "data": {
      "image/png": "[encoded data removed]",
      "text/plain": [
       "<Figure size 360x360 with 1 Axes>"
      ]
     },
     "metadata": {
      "needs_background": "light"
     },
     "output_type": "display_data"
    }
   ],
   "source": [
    "fig, ax = plt.subplots(figsize = (5,5))\n",
    "ConfusionMatrixDisplay(cm).plot(cmap='Blues', ax = ax, colorbar = False)\n",
    "label_font = {'size':'18'}  # Adjust to fit\n",
    "ax.set_xlabel('Predicted labels')#, fontdict=label_font)\n",
    "ax.set_ylabel('Observed labels')#, fontdict=label_font)\n",
    "ax.set_xticks([0,1], fontdict=label_font)\n",
    "ax.set_yticks([0,1], fontdict=label_font)\n",
    "ax.set_title(\"Confusion Matrix\")#, fontdict=label_font)\n",
    "plt.show()"
   ]
  }
 ],
 "metadata": {
  "kernelspec": {
   "display_name": "Python 3 (ipykernel)",
   "language": "python",
   "name": "python3"
  },
  "language_info": {
   "codemirror_mode": {
    "name": "ipython",
    "version": 3
   },
   "file_extension": ".py",
   "mimetype": "text/x-python",
   "name": "python",
   "nbconvert_exporter": "python",
   "pygments_lexer": "ipython3",
   "version": "3.9.7"
  }
 },
 "nbformat": 4,
 "nbformat_minor": 5
}
