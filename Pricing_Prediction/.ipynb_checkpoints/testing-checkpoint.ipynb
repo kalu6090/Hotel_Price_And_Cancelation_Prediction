{
 "cells": [
  {
   "cell_type": "code",
   "execution_count": 151,
   "id": "4d7a1d99-51c7-4f52-811f-ea4e43b819cf",
   "metadata": {},
   "outputs": [],
   "source": [
    "import pandas as pd\n",
    "from matplotlib import pyplot as plt\n",
    "import numpy as np\n",
    "from sklearn.preprocessing import StandardScaler\n",
    "from sklearn.decomposition import PCA\n",
    "from sklearn.linear_model import LinearRegression\n",
    "from sklearn.linear_model import LogisticRegression\n",
    "from sklearn import tree"
   ]
  },
  {
   "cell_type": "code",
   "execution_count": 49,
   "id": "a665c706-6055-4f70-b685-7ca20919fbae",
   "metadata": {},
   "outputs": [],
   "source": [
    "df=pd.read_csv('../Data/clean_data.csv')\n",
    "df = df.dropna(axis=0)"
   ]
  },
  {
   "cell_type": "code",
   "execution_count": 50,
   "id": "938a2752-d08e-4546-8fc3-3aa94d62b250",
   "metadata": {},
   "outputs": [
    {
     "data": {
      "text/html": [
       "<div>\n",
       "<style scoped>\n",
       "    .dataframe tbody tr th:only-of-type {\n",
       "        vertical-align: middle;\n",
       "    }\n",
       "\n",
       "    .dataframe tbody tr th {\n",
       "        vertical-align: top;\n",
       "    }\n",
       "\n",
       "    .dataframe thead th {\n",
       "        text-align: right;\n",
       "    }\n",
       "</style>\n",
       "<table border=\"1\" class=\"dataframe\">\n",
       "  <thead>\n",
       "    <tr style=\"text-align: right;\">\n",
       "      <th></th>\n",
       "      <th>Unnamed: 0</th>\n",
       "      <th>level_0</th>\n",
       "      <th>index</th>\n",
       "      <th>lead_time</th>\n",
       "      <th>arrival_date_month</th>\n",
       "      <th>arrival_date_week_number</th>\n",
       "      <th>arrival_date_day_of_month</th>\n",
       "      <th>stays_in_weekend_nights</th>\n",
       "      <th>stays_in_week_nights</th>\n",
       "      <th>adults</th>\n",
       "      <th>...</th>\n",
       "      <th>ta_to_channel</th>\n",
       "      <th>no_deposit</th>\n",
       "      <th>refundable_deposit</th>\n",
       "      <th>nonrefundable_deposit</th>\n",
       "      <th>with_company</th>\n",
       "      <th>is_contract</th>\n",
       "      <th>is_group</th>\n",
       "      <th>is_transient</th>\n",
       "      <th>is_transient_party</th>\n",
       "      <th>stay_length</th>\n",
       "    </tr>\n",
       "  </thead>\n",
       "  <tbody>\n",
       "    <tr>\n",
       "      <th>0</th>\n",
       "      <td>0</td>\n",
       "      <td>0</td>\n",
       "      <td>2</td>\n",
       "      <td>7.0</td>\n",
       "      <td>7.0</td>\n",
       "      <td>27.0</td>\n",
       "      <td>1.0</td>\n",
       "      <td>0.0</td>\n",
       "      <td>1.0</td>\n",
       "      <td>1.0</td>\n",
       "      <td>...</td>\n",
       "      <td>0.0</td>\n",
       "      <td>1.0</td>\n",
       "      <td>0.0</td>\n",
       "      <td>0.0</td>\n",
       "      <td>0.0</td>\n",
       "      <td>0.0</td>\n",
       "      <td>0.0</td>\n",
       "      <td>1.0</td>\n",
       "      <td>0.0</td>\n",
       "      <td>1.0</td>\n",
       "    </tr>\n",
       "    <tr>\n",
       "      <th>1</th>\n",
       "      <td>1</td>\n",
       "      <td>1</td>\n",
       "      <td>3</td>\n",
       "      <td>13.0</td>\n",
       "      <td>7.0</td>\n",
       "      <td>27.0</td>\n",
       "      <td>1.0</td>\n",
       "      <td>0.0</td>\n",
       "      <td>1.0</td>\n",
       "      <td>1.0</td>\n",
       "      <td>...</td>\n",
       "      <td>0.0</td>\n",
       "      <td>1.0</td>\n",
       "      <td>0.0</td>\n",
       "      <td>0.0</td>\n",
       "      <td>0.0</td>\n",
       "      <td>0.0</td>\n",
       "      <td>0.0</td>\n",
       "      <td>1.0</td>\n",
       "      <td>0.0</td>\n",
       "      <td>1.0</td>\n",
       "    </tr>\n",
       "    <tr>\n",
       "      <th>2</th>\n",
       "      <td>2</td>\n",
       "      <td>2</td>\n",
       "      <td>4</td>\n",
       "      <td>14.0</td>\n",
       "      <td>7.0</td>\n",
       "      <td>27.0</td>\n",
       "      <td>1.0</td>\n",
       "      <td>0.0</td>\n",
       "      <td>2.0</td>\n",
       "      <td>2.0</td>\n",
       "      <td>...</td>\n",
       "      <td>1.0</td>\n",
       "      <td>1.0</td>\n",
       "      <td>0.0</td>\n",
       "      <td>0.0</td>\n",
       "      <td>0.0</td>\n",
       "      <td>0.0</td>\n",
       "      <td>0.0</td>\n",
       "      <td>1.0</td>\n",
       "      <td>0.0</td>\n",
       "      <td>2.0</td>\n",
       "    </tr>\n",
       "    <tr>\n",
       "      <th>3</th>\n",
       "      <td>3</td>\n",
       "      <td>3</td>\n",
       "      <td>5</td>\n",
       "      <td>14.0</td>\n",
       "      <td>7.0</td>\n",
       "      <td>27.0</td>\n",
       "      <td>1.0</td>\n",
       "      <td>0.0</td>\n",
       "      <td>2.0</td>\n",
       "      <td>2.0</td>\n",
       "      <td>...</td>\n",
       "      <td>1.0</td>\n",
       "      <td>1.0</td>\n",
       "      <td>0.0</td>\n",
       "      <td>0.0</td>\n",
       "      <td>0.0</td>\n",
       "      <td>0.0</td>\n",
       "      <td>0.0</td>\n",
       "      <td>1.0</td>\n",
       "      <td>0.0</td>\n",
       "      <td>2.0</td>\n",
       "    </tr>\n",
       "    <tr>\n",
       "      <th>4</th>\n",
       "      <td>4</td>\n",
       "      <td>4</td>\n",
       "      <td>6</td>\n",
       "      <td>0.0</td>\n",
       "      <td>7.0</td>\n",
       "      <td>27.0</td>\n",
       "      <td>1.0</td>\n",
       "      <td>0.0</td>\n",
       "      <td>2.0</td>\n",
       "      <td>2.0</td>\n",
       "      <td>...</td>\n",
       "      <td>0.0</td>\n",
       "      <td>1.0</td>\n",
       "      <td>0.0</td>\n",
       "      <td>0.0</td>\n",
       "      <td>0.0</td>\n",
       "      <td>0.0</td>\n",
       "      <td>0.0</td>\n",
       "      <td>1.0</td>\n",
       "      <td>0.0</td>\n",
       "      <td>2.0</td>\n",
       "    </tr>\n",
       "  </tbody>\n",
       "</table>\n",
       "<p>5 rows × 39 columns</p>\n",
       "</div>"
      ],
      "text/plain": [
       "   Unnamed: 0  level_0  index  lead_time  arrival_date_month  \\\n",
       "0           0        0      2        7.0                 7.0   \n",
       "1           1        1      3       13.0                 7.0   \n",
       "2           2        2      4       14.0                 7.0   \n",
       "3           3        3      5       14.0                 7.0   \n",
       "4           4        4      6        0.0                 7.0   \n",
       "\n",
       "   arrival_date_week_number  arrival_date_day_of_month  \\\n",
       "0                      27.0                        1.0   \n",
       "1                      27.0                        1.0   \n",
       "2                      27.0                        1.0   \n",
       "3                      27.0                        1.0   \n",
       "4                      27.0                        1.0   \n",
       "\n",
       "   stays_in_weekend_nights  stays_in_week_nights  adults  ...  ta_to_channel  \\\n",
       "0                      0.0                   1.0     1.0  ...            0.0   \n",
       "1                      0.0                   1.0     1.0  ...            0.0   \n",
       "2                      0.0                   2.0     2.0  ...            1.0   \n",
       "3                      0.0                   2.0     2.0  ...            1.0   \n",
       "4                      0.0                   2.0     2.0  ...            0.0   \n",
       "\n",
       "   no_deposit  refundable_deposit  nonrefundable_deposit  with_company  \\\n",
       "0         1.0                 0.0                    0.0           0.0   \n",
       "1         1.0                 0.0                    0.0           0.0   \n",
       "2         1.0                 0.0                    0.0           0.0   \n",
       "3         1.0                 0.0                    0.0           0.0   \n",
       "4         1.0                 0.0                    0.0           0.0   \n",
       "\n",
       "   is_contract  is_group  is_transient  is_transient_party  stay_length  \n",
       "0          0.0       0.0           1.0                 0.0          1.0  \n",
       "1          0.0       0.0           1.0                 0.0          1.0  \n",
       "2          0.0       0.0           1.0                 0.0          2.0  \n",
       "3          0.0       0.0           1.0                 0.0          2.0  \n",
       "4          0.0       0.0           1.0                 0.0          2.0  \n",
       "\n",
       "[5 rows x 39 columns]"
      ]
     },
     "execution_count": 50,
     "metadata": {},
     "output_type": "execute_result"
    }
   ],
   "source": [
    "df.head()"
   ]
  },
  {
   "cell_type": "code",
   "execution_count": 238,
   "id": "9d4abbed-2669-4a8e-90c9-d50182f34519",
   "metadata": {},
   "outputs": [
    {
     "name": "stdout",
     "output_type": "stream",
     "text": [
      "['lead_time', 'arrival_date_month', 'arrival_date_week_number', 'arrival_date_day_of_month', 'stays_in_weekend_nights', 'stays_in_week_nights', 'adults', 'children', 'babies', 'is_repeated_guest', 'previous_cancellations', 'previous_bookings_not_canceled', 'booking_changes', 'required_car_parking_spaces', 'total_of_special_requests', 'is_resort', 'bought_meal', 'aviation_segment', 'corporate_segment', 'groups_segment', 'offline_ta_to_segment', 'online_ta_segment', 'corporate_channel', 'direct_channel', 'gds_channel', 'ta_to_channel', 'no_deposit', 'refundable_deposit', 'nonrefundable_deposit', 'with_company', 'is_contract', 'is_group', 'is_transient', 'is_transient_party', 'stay_length', 'y_bin']\n"
     ]
    }
   ],
   "source": [
    "features = list(df.columns)\n",
    "features = features[3:]\n",
    "features.remove('adr')\n",
    "print(features)"
   ]
  },
  {
   "cell_type": "code",
   "execution_count": 239,
   "id": "940cf52c-3db7-4835-83c5-c02742e66244",
   "metadata": {},
   "outputs": [
    {
     "name": "stdout",
     "output_type": "stream",
     "text": [
      "[[  7.   7.  27. ...   0.   1.   2.]\n",
      " [ 13.   7.  27. ...   0.   1.   2.]\n",
      " [ 14.   7.  27. ...   0.   2.   2.]\n",
      " ...\n",
      " [ 93.   5.  21. ...   0.   6.   3.]\n",
      " [212.   5.  21. ...   1.   5.   2.]\n",
      " [ 25.   5.  22. ...   0.   3.   3.]]\n"
     ]
    }
   ],
   "source": [
    "X = df.loc[:, features].values\n",
    "# X = X[~np.isnan(X).any(axis=1), :]\n",
    "print(X)\n",
    "y = df.loc[:, ['adr']].values"
   ]
  },
  {
   "cell_type": "code",
   "execution_count": 240,
   "id": "e12c5f34-0b48-4e85-a012-28f60f618dee",
   "metadata": {},
   "outputs": [],
   "source": [
    "X = StandardScaler().fit_transform(X)"
   ]
  },
  {
   "cell_type": "code",
   "execution_count": 248,
   "id": "56029f20-5caa-4fb2-ae66-713d7a56098b",
   "metadata": {},
   "outputs": [],
   "source": [
    "pca = PCA(n_components=25)\n",
    "principalComponents = pca.fit_transform(X)\n",
    "principalDf = pd.DataFrame(data = principalComponents)"
   ]
  },
  {
   "cell_type": "code",
   "execution_count": 249,
   "id": "c0bab39d-ab61-44d3-859a-c1258252f559",
   "metadata": {},
   "outputs": [
    {
     "data": {
      "text/plain": [
       "<bound method NDFrame.head of               0         1         2         3         4         5         6  \\\n",
       "0     -1.753395 -1.050293 -0.021232  1.867108  0.151050 -2.010805  1.030547   \n",
       "1     -4.187768 -0.244452  0.993473 -0.462028 -0.680571 -0.730506  0.349980   \n",
       "2      0.376733 -1.765223 -0.660738 -0.379693 -0.323862  0.329211  0.237770   \n",
       "3      0.376733 -1.765223 -0.660738 -0.379693 -0.323862  0.329211  0.237770   \n",
       "4     -1.056709 -1.069312  0.295670  2.079975  0.243143 -1.867997  0.869117   \n",
       "...         ...       ...       ...       ...       ...       ...       ...   \n",
       "43336  1.124412  2.520520 -0.973893 -1.124339  0.761257 -0.858014  0.109860   \n",
       "43337  1.293870  2.269328 -0.860091 -1.152910  0.659615 -0.520422 -0.086743   \n",
       "43338  1.577343 -0.989450  0.344649 -0.846061  0.383871  0.721586 -0.444091   \n",
       "43339  1.293870  2.269328 -0.860091 -1.152910  0.659615 -0.520422 -0.086743   \n",
       "43340  0.993232 -1.952692 -0.549494 -0.669502 -0.060841  0.957469 -0.334325   \n",
       "\n",
       "              7         8         9  ...        16        17        18  \\\n",
       "0      0.147463  0.222841 -0.766064  ...  0.108306 -1.374287  0.643481   \n",
       "1     -2.180522  0.173013 -0.040425  ...  0.457693 -0.193734  0.224886   \n",
       "2     -0.743532 -0.669221 -0.547308  ...  0.423365 -0.424135 -0.315289   \n",
       "3     -0.743532 -0.669221 -0.547308  ...  0.423365 -0.424135 -0.315289   \n",
       "4      0.319371  0.312604 -0.741856  ...  0.463134 -0.253282 -0.119217   \n",
       "...         ...       ...       ...  ...       ...       ...       ...   \n",
       "43336  0.757069  0.010155  0.482584  ...  0.250683  0.872583 -0.233915   \n",
       "43337  0.789468 -0.005047  0.622629  ...  0.583027  0.726909 -0.558122   \n",
       "43338 -0.149532  0.600033 -0.624448  ...  0.821779  0.260439 -0.149711   \n",
       "43339  0.789468 -0.005047  0.622629  ...  0.583027  0.726909 -0.558122   \n",
       "43340 -0.077144  0.425289 -0.200525  ...  1.090854  0.019626 -0.597464   \n",
       "\n",
       "             19        20        21        22        23        24    adr  \n",
       "0     -0.054660  0.069593 -0.310731 -0.678924  0.799615 -0.250750   75.0  \n",
       "1     -0.252442  0.602132 -0.382316 -0.611635  0.668829 -0.609721   75.0  \n",
       "2     -0.433025  0.363840  0.108755  0.256973  0.416607  0.062755   98.0  \n",
       "3     -0.433025  0.363840  0.108755  0.256973  0.416607  0.062755   98.0  \n",
       "4     -0.445487  0.517959  0.075880  0.195514  0.445501  0.269048  107.0  \n",
       "...         ...       ...       ...       ...       ...       ...    ...  \n",
       "43336  0.419119 -0.751488 -0.593623 -0.290797 -0.204201  0.948640   78.0  \n",
       "43337  0.441506 -1.246260 -1.129936 -0.094360 -0.462196  0.546896   78.0  \n",
       "43338  0.966253  0.059233  0.320305 -0.698318 -0.540222  0.162042  132.6  \n",
       "43339  0.441506 -1.246260 -1.129936 -0.094360 -0.462196  0.546896   78.0  \n",
       "43340  1.033257 -0.201849 -0.134512 -0.028400 -0.725103 -0.626319  141.0  \n",
       "\n",
       "[43341 rows x 26 columns]>"
      ]
     },
     "execution_count": 249,
     "metadata": {},
     "output_type": "execute_result"
    }
   ],
   "source": [
    "finalDf = pd.concat([principalDf, df[['adr']]], axis = 1)\n",
    "finalDf.head"
   ]
  },
  {
   "cell_type": "code",
   "execution_count": 250,
   "id": "3801a590-bdb5-44b9-be36-eee6c047d35a",
   "metadata": {},
   "outputs": [],
   "source": [
    "var_exp = pca.explained_variance_ratio_"
   ]
  },
  {
   "cell_type": "code",
   "execution_count": 251,
   "id": "22fe0260-6d57-435a-b0cb-a4401117f577",
   "metadata": {},
   "outputs": [
    {
     "name": "stdout",
     "output_type": "stream",
     "text": [
      "[0.12420659 0.09150647 0.07539643 0.06208095 0.05803925 0.04945198\n",
      " 0.04340383 0.04013881 0.03417843 0.03180827 0.03029677 0.02956532\n",
      " 0.02919196 0.02864767 0.02803031 0.02710615 0.02585562 0.02428829\n",
      " 0.0226857  0.02065033 0.01961175 0.01783065 0.01613306 0.01544308\n",
      " 0.01283701]\n",
      "0.9583846729032651\n"
     ]
    }
   ],
   "source": [
    "print(var_exp)\n",
    "print(np.sum(var_exp))"
   ]
  },
  {
   "cell_type": "code",
   "execution_count": 252,
   "id": "015ca0f9-d1c7-4c9d-ad7c-becc18199987",
   "metadata": {},
   "outputs": [
    {
     "data": {
      "text/plain": [
       "0.9063732287570457"
      ]
     },
     "execution_count": 252,
     "metadata": {},
     "output_type": "execute_result"
    }
   ],
   "source": [
    "reg = LinearRegression().fit(X, y)\n",
    "reg.score(X, y)"
   ]
  },
  {
   "cell_type": "code",
   "execution_count": 253,
   "id": "449f8d9f-34f0-4a15-85f5-e8ca370de321",
   "metadata": {},
   "outputs": [
    {
     "data": {
      "text/plain": [
       "0.9045158419711335"
      ]
     },
     "execution_count": 253,
     "metadata": {},
     "output_type": "execute_result"
    }
   ],
   "source": [
    "reg2 = LinearRegression().fit(principalDf.values, df[['adr']].values)\n",
    "reg2.score(principalDf.values, df[['adr']].values)"
   ]
  },
  {
   "cell_type": "code",
   "execution_count": 63,
   "id": "172daf84-5d1d-4205-9414-de749b541397",
   "metadata": {},
   "outputs": [],
   "source": [
    "features_refined = ['lead_time', 'stays_in_weekend_nights', 'stays_in_week_nights', 'adults', 'children', 'babies', 'previous_cancellations', 'previous_bookings_not_canceled', 'booking_changes', 'total_of_special_requests', 'stay_length']"
   ]
  },
  {
   "cell_type": "code",
   "execution_count": 64,
   "id": "b9e4770f-8134-4957-9f37-bc2fda6c6a02",
   "metadata": {},
   "outputs": [
    {
     "name": "stdout",
     "output_type": "stream",
     "text": [
      "['lead_time', 'stays_in_weekend_nights', 'stays_in_week_nights', 'adults', 'children', 'babies', 'previous_cancellations', 'previous_bookings_not_canceled', 'booking_changes', 'total_of_special_requests', 'stay_length']\n"
     ]
    }
   ],
   "source": [
    "print(features_refined)"
   ]
  },
  {
   "cell_type": "code",
   "execution_count": 103,
   "id": "01930641-ee46-400d-881a-cb4afb690bab",
   "metadata": {},
   "outputs": [],
   "source": [
    "X = df.loc[:,features_refined].values\n",
    "X = StandardScaler().fit_transform(X)"
   ]
  },
  {
   "cell_type": "code",
   "execution_count": 104,
   "id": "ca70b6ab-8283-4ab8-b7f9-7734e715257e",
   "metadata": {},
   "outputs": [],
   "source": [
    "y = df['adr'].values"
   ]
  },
  {
   "cell_type": "code",
   "execution_count": 105,
   "id": "30e8ec36-64c1-4011-b425-4aa876e0aeb4",
   "metadata": {},
   "outputs": [
    {
     "data": {
      "text/plain": [
       "0.2136982716339355"
      ]
     },
     "execution_count": 105,
     "metadata": {},
     "output_type": "execute_result"
    }
   ],
   "source": [
    "reg3 = LinearRegression().fit(X, y)\n",
    "reg3.score(X, y)"
   ]
  },
  {
   "cell_type": "code",
   "execution_count": 106,
   "id": "53c45677-6642-42ac-a8b8-cace97f70109",
   "metadata": {},
   "outputs": [
    {
     "data": {
      "text/plain": [
       "(array([1.0000e+00, 7.5980e+03, 2.3723e+04, 7.8980e+03, 0.0000e+00,\n",
       "        2.9310e+03, 9.4100e+02, 2.0700e+02, 4.0000e+01, 2.0000e+00]),\n",
       " array([0. , 0.8, 1.6, 2.4, 3.2, 4. , 4.8, 5.6, 6.4, 7.2, 8. ]),\n",
       " <BarContainer object of 10 artists>)"
      ]
     },
     "execution_count": 106,
     "metadata": {},
     "output_type": "execute_result"
    },
    {
     "data": {
      "image/png": "[encoded data removed]",
      "text/plain": [
       "<Figure size 432x288 with 1 Axes>"
      ]
     },
     "metadata": {
      "needs_background": "light"
     },
     "output_type": "display_data"
    }
   ],
   "source": [
    "bin_edges = np.linspace(np.min(y), np.max(y), 10)\n",
    "y_bin = np.zeros(np.shape(y))\n",
    "for i in range(len(y)):\n",
    "    for j in range(len(bin_edges)):\n",
    "        if y[i] < bin_edges[j]:\n",
    "            y_bin[i] = j\n",
    "            break\n",
    "plt.hist(y_bin)"
   ]
  },
  {
   "cell_type": "code",
   "execution_count": 108,
   "id": "3d9ee42f-291a-44f8-931d-5d2fafd2b74d",
   "metadata": {},
   "outputs": [
    {
     "name": "stderr",
     "output_type": "stream",
     "text": [
      "/opt/conda/lib/python3.9/site-packages/sklearn/linear_model/_logistic.py:763: ConvergenceWarning: lbfgs failed to converge (status=1):\n",
      "STOP: TOTAL NO. of ITERATIONS REACHED LIMIT.\n",
      "\n",
      "Increase the number of iterations (max_iter) or scale the data as shown in:\n",
      "    https://scikit-learn.org/stable/modules/preprocessing.html\n",
      "Please also refer to the documentation for alternative solver options:\n",
      "    https://scikit-learn.org/stable/modules/linear_model.html#logistic-regression\n",
      "  n_iter_i = _check_optimize_result(\n"
     ]
    }
   ],
   "source": [
    "X = StandardScaler().fit_transform(X)\n",
    "clf = LogisticRegression(random_state=0).fit(X, y_bin)"
   ]
  },
  {
   "cell_type": "code",
   "execution_count": 109,
   "id": "e515c294-0af7-44eb-8740-04bc06c40e06",
   "metadata": {},
   "outputs": [
    {
     "data": {
      "text/plain": [
       "0.5550633349484322"
      ]
     },
     "execution_count": 109,
     "metadata": {},
     "output_type": "execute_result"
    }
   ],
   "source": [
    "clf.score(X, y_bin)"
   ]
  },
  {
   "cell_type": "code",
   "execution_count": 110,
   "id": "cd256615-f523-4746-ab75-b59de98f0786",
   "metadata": {},
   "outputs": [],
   "source": [
    "df['y_bin'] = y_bin"
   ]
  },
  {
   "cell_type": "code",
   "execution_count": 116,
   "id": "80398efe-f4ff-4df8-82d7-dbe310484b5f",
   "metadata": {},
   "outputs": [],
   "source": [
    "resort = df['adr'].loc[df['is_resort'] == 1]\n",
    "city = df['adr'].loc[df['is_resort'] == 0]"
   ]
  },
  {
   "cell_type": "code",
   "execution_count": 117,
   "id": "5355327e-a503-4a09-a94d-0356e7b5860d",
   "metadata": {},
   "outputs": [
    {
     "data": {
      "text/plain": [
       "(array([5.2630e+03, 1.2735e+04, 4.7220e+03, 2.7500e+03, 1.3680e+03,\n",
       "        4.0900e+02, 1.2800e+02, 2.0000e+01, 0.0000e+00, 1.0000e+00]),\n",
       " array([ -6.38 ,  45.058,  96.496, 147.934, 199.372, 250.81 , 302.248,\n",
       "        353.686, 405.124, 456.562, 508.   ]),\n",
       " <BarContainer object of 10 artists>)"
      ]
     },
     "execution_count": 117,
     "metadata": {},
     "output_type": "execute_result"
    },
    {
     "data": {
      "image/png": "[encoded data removed]",
      "text/plain": [
       "<Figure size 432x288 with 1 Axes>"
      ]
     },
     "metadata": {
      "needs_background": "light"
     },
     "output_type": "display_data"
    }
   ],
   "source": [
    "plt.hist(resort)"
   ]
  },
  {
   "cell_type": "code",
   "execution_count": 118,
   "id": "e272a2ee-d8a4-4d4f-854a-22fa0bc1a702",
   "metadata": {},
   "outputs": [
    {
     "data": {
      "text/plain": [
       "(array([6.900e+01, 1.918e+03, 7.955e+03, 4.107e+03, 1.236e+03, 4.900e+02,\n",
       "        1.150e+02, 4.600e+01, 7.000e+00, 2.000e+00]),\n",
       " array([  1.  ,  32.75,  64.5 ,  96.25, 128.  , 159.75, 191.5 , 223.25,\n",
       "        255.  , 286.75, 318.5 ]),\n",
       " <BarContainer object of 10 artists>)"
      ]
     },
     "execution_count": 118,
     "metadata": {},
     "output_type": "execute_result"
    },
    {
     "data": {
      "image/png": "[encoded data removed]",
      "text/plain": [
       "<Figure size 432x288 with 1 Axes>"
      ]
     },
     "metadata": {
      "needs_background": "light"
     },
     "output_type": "display_data"
    }
   ],
   "source": [
    "plt.hist(city)"
   ]
  },
  {
   "cell_type": "code",
   "execution_count": 190,
   "id": "ad48a190-4f61-4802-81aa-52a9a2f76aef",
   "metadata": {},
   "outputs": [],
   "source": [
    "def make_data(df, features, normalize=True, binned=False):\n",
    "    X = df.loc[:,features].values\n",
    "    if normalize:\n",
    "        X = StandardScaler().fit_transform(X)\n",
    "    if binned:\n",
    "        y = df['y_bin'].values\n",
    "    else:\n",
    "        y = df['adr'].values\n",
    "    return X, y\n",
    "\n",
    "def lin_reg(X,y):\n",
    "    reg = LinearRegression().fit(X, y)\n",
    "    return (reg.score(X, y))\n",
    "\n",
    "def log_reg(X, y_bin):\n",
    "    clf = LogisticRegression(random_state=0).fit(X, y_bin)\n",
    "    return(clf.score(X, y_bin))\n",
    "\n",
    "def tree_reg(X,y):\n",
    "    clf = tree.DecisionTreeRegressor()\n",
    "    clf = clf.fit(X, y)\n",
    "    y_hat = clf.predict(X)\n",
    "    rmse = np.sqrt(np.mean((y_hat-y)**2))\n",
    "    return y_hat, rmse"
   ]
  },
  {
   "cell_type": "code",
   "execution_count": 191,
   "id": "f32b6357-65b1-42b7-96ab-861dd892e2c9",
   "metadata": {},
   "outputs": [],
   "source": [
    "df_resort = df.loc[df['is_resort'] == 1]\n",
    "df_city = df.loc[df['is_resort'] == 0]"
   ]
  },
  {
   "cell_type": "code",
   "execution_count": 197,
   "id": "9643bf90-bf1a-40a1-a32c-867e967c884f",
   "metadata": {},
   "outputs": [
    {
     "data": {
      "text/plain": [
       "0.1886750040270344"
      ]
     },
     "execution_count": 197,
     "metadata": {},
     "output_type": "execute_result"
    }
   ],
   "source": [
    "X, y = make_data(df, features_refined, normalize = True, binned=True)\n",
    "lin_reg(X,y)"
   ]
  },
  {
   "cell_type": "code",
   "execution_count": 198,
   "id": "a386ca3a-d1f0-4b2f-89cc-c85d93f5b56b",
   "metadata": {},
   "outputs": [
    {
     "name": "stderr",
     "output_type": "stream",
     "text": [
      "/opt/conda/lib/python3.9/site-packages/sklearn/linear_model/_logistic.py:763: ConvergenceWarning: lbfgs failed to converge (status=1):\n",
      "STOP: TOTAL NO. of ITERATIONS REACHED LIMIT.\n",
      "\n",
      "Increase the number of iterations (max_iter) or scale the data as shown in:\n",
      "    https://scikit-learn.org/stable/modules/preprocessing.html\n",
      "Please also refer to the documentation for alternative solver options:\n",
      "    https://scikit-learn.org/stable/modules/linear_model.html#logistic-regression\n",
      "  n_iter_i = _check_optimize_result(\n"
     ]
    },
    {
     "data": {
      "text/plain": [
       "0.5550633349484322"
      ]
     },
     "execution_count": 198,
     "metadata": {},
     "output_type": "execute_result"
    }
   ],
   "source": [
    "X, y = make_data(df, features_refined, normalize = True, binned=True)\n",
    "log_reg(X,y)"
   ]
  },
  {
   "cell_type": "code",
   "execution_count": 199,
   "id": "a572824d-a36f-468d-812e-93c9ad25f87f",
   "metadata": {},
   "outputs": [
    {
     "data": {
      "text/plain": [
       "0.2526505499484565"
      ]
     },
     "execution_count": 199,
     "metadata": {},
     "output_type": "execute_result"
    }
   ],
   "source": [
    "X, y = make_data(df_resort, features_refined, normalize = True, binned=False)\n",
    "lin_reg(X,y)"
   ]
  },
  {
   "cell_type": "code",
   "execution_count": 200,
   "id": "92a6d464-1350-416b-90f6-e5a6964238ba",
   "metadata": {},
   "outputs": [
    {
     "data": {
      "text/plain": [
       "0.18545379854597654"
      ]
     },
     "execution_count": 200,
     "metadata": {},
     "output_type": "execute_result"
    }
   ],
   "source": [
    "X, y = make_data(df_city, features_refined, normalize = True, binned=False)\n",
    "lin_reg(X,y)"
   ]
  },
  {
   "cell_type": "code",
   "execution_count": 202,
   "id": "15d755b4-832c-47c2-a72e-c0c4b78e1153",
   "metadata": {},
   "outputs": [
    {
     "data": {
      "text/plain": [
       "(array([3.8042e+04, 4.3240e+03, 7.7700e+02, 1.6800e+02, 2.7000e+01,\n",
       "        1.0000e+00, 1.0000e+00, 0.0000e+00, 0.0000e+00, 1.0000e+00]),\n",
       " array([  0.        ,  39.37857143,  78.75714286, 118.13571429,\n",
       "        157.51428571, 196.89285714, 236.27142857, 275.65      ,\n",
       "        315.02857143, 354.40714286, 393.78571429]),\n",
       " <BarContainer object of 10 artists>)"
      ]
     },
     "execution_count": 202,
     "metadata": {},
     "output_type": "execute_result"
    },
    {
     "data": {
      "image/png": "[encoded data removed]",
      "text/plain": [
       "<Figure size 432x288 with 1 Axes>"
      ]
     },
     "metadata": {
      "needs_background": "light"
     },
     "output_type": "display_data"
    }
   ],
   "source": [
    "X, y = make_data(df, features_refined, normalize = True, binned=False)\n",
    "y_hat, rmse = tree_reg(X,y)\n",
    "plt.title(str(rmse))\n",
    "plt.hist((np.abs((y_hat-y))))"
   ]
  },
  {
   "cell_type": "code",
   "execution_count": 203,
   "id": "9772d741-2ee5-4b6f-ba3e-7f236ab5a973",
   "metadata": {},
   "outputs": [
    {
     "data": {
      "text/plain": [
       "<matplotlib.collections.PathCollection at 0x7f7d3a2029d0>"
      ]
     },
     "execution_count": 203,
     "metadata": {},
     "output_type": "execute_result"
    },
    {
     "data": {
      "image/png": "[encoded data removed]",
      "text/plain": [
       "<Figure size 432x288 with 1 Axes>"
      ]
     },
     "metadata": {
      "needs_background": "light"
     },
     "output_type": "display_data"
    }
   ],
   "source": [
    "x = range(len(y))\n",
    "plt.scatter(x,np.sort(y), alpha=.5)\n",
    "plt.scatter(x,np.sort(y_hat), alpha=.5)"
   ]
  },
  {
   "cell_type": "code",
   "execution_count": 204,
   "id": "50f2691a-f5e5-4e3c-9acc-e71190a8c81c",
   "metadata": {},
   "outputs": [],
   "source": [
    "features = list(df.columns)\n",
    "features = features[3:]\n",
    "features.remove('adr')\n",
    "X, y = make_data(df, features, normalize = False, binned=False)\n",
    "y_hat, rmse = tree_reg(X,y)"
   ]
  },
  {
   "cell_type": "code",
   "execution_count": 205,
   "id": "2d84e332-f454-4de1-8f3c-918d926ccbb0",
   "metadata": {},
   "outputs": [
    {
     "data": {
      "text/plain": [
       "(array([4.2451e+04, 4.3000e+02, 2.2800e+02, 1.4000e+02, 3.8000e+01,\n",
       "        2.9000e+01, 1.3000e+01, 8.0000e+00, 3.0000e+00, 1.0000e+00]),\n",
       " array([ 0.        ,  2.66666667,  5.33333333,  8.        , 10.66666667,\n",
       "        13.33333333, 16.        , 18.66666667, 21.33333333, 24.        ,\n",
       "        26.66666667]),\n",
       " <BarContainer object of 10 artists>)"
      ]
     },
     "execution_count": 205,
     "metadata": {},
     "output_type": "execute_result"
    },
    {
     "data": {
      "image/png": "[encoded data removed]",
      "text/plain": [
       "<Figure size 432x288 with 1 Axes>"
      ]
     },
     "metadata": {
      "needs_background": "light"
     },
     "output_type": "display_data"
    }
   ],
   "source": [
    "plt.title(str(rmse))\n",
    "plt.hist((np.abs((y_hat-y))))"
   ]
  },
  {
   "cell_type": "code",
   "execution_count": 206,
   "id": "a12a34ec-0da7-4839-8497-46c7e7e95d8f",
   "metadata": {},
   "outputs": [
    {
     "data": {
      "text/plain": [
       "<matplotlib.collections.PathCollection at 0x7f7d3a0c1250>"
      ]
     },
     "execution_count": 206,
     "metadata": {},
     "output_type": "execute_result"
    },
    {
     "data": {
      "image/png": "[encoded data removed]",
      "text/plain": [
       "<Figure size 432x288 with 1 Axes>"
      ]
     },
     "metadata": {
      "needs_background": "light"
     },
     "output_type": "display_data"
    }
   ],
   "source": [
    "x = range(len(y))\n",
    "plt.scatter(x,np.sort(y), alpha=.5)\n",
    "plt.scatter(x,np.sort(y_hat), alpha=.5)"
   ]
  },
  {
   "cell_type": "code",
   "execution_count": 260,
   "id": "33c3bf49-8565-45cb-bbf9-befd5b65ab0e",
   "metadata": {},
   "outputs": [],
   "source": [
    "def make_dataset(df, features, test_size=4300, normalize = True, binned= False):\n",
    "    X = df.loc[:,features].values\n",
    "    if normalize:\n",
    "        X = StandardScaler().fit_transform(X)\n",
    "    if binned:\n",
    "        y = df['y_bin'].values\n",
    "    else:\n",
    "        y = df['adr'].values\n",
    "    \n",
    "    ind = [np.random.choice(range(len(X)), size=test_size, replace=False)]\n",
    "    print(ind)\n",
    "    test_X = X[ind]\n",
    "    test_y = y[ind]\n",
    "    print(len(X))\n",
    "    X = np.delete(X, ind, axis=0)\n",
    "    y = np.delete(y, ind)\n",
    "    print(len(X))\n",
    "    return X, y, test_X, test_y"
   ]
  },
  {
   "cell_type": "code",
   "execution_count": 229,
   "id": "27a6af1f-3233-40f6-918a-4dcd781e67b3",
   "metadata": {},
   "outputs": [
    {
     "name": "stdout",
     "output_type": "stream",
     "text": [
      "[array([13077, 12491, 35189, ...,  5074, 11658,  2874])]\n",
      "43341\n",
      "39041\n"
     ]
    },
    {
     "name": "stderr",
     "output_type": "stream",
     "text": [
      "/tmp/ipykernel_229/2128786914.py:12: FutureWarning: Using a non-tuple sequence for multidimensional indexing is deprecated; use `arr[tuple(seq)]` instead of `arr[seq]`. In the future this will be interpreted as an array index, `arr[np.array(seq)]`, which will result either in an error or a different result.\n",
      "  test_X = X[ind]\n",
      "/tmp/ipykernel_229/2128786914.py:13: FutureWarning: Using a non-tuple sequence for multidimensional indexing is deprecated; use `arr[tuple(seq)]` instead of `arr[seq]`. In the future this will be interpreted as an array index, `arr[np.array(seq)]`, which will result either in an error or a different result.\n",
      "  test_y = y[ind]\n"
     ]
    }
   ],
   "source": [
    "X, y, test_X, test_y = make_dataset(df, features_refined)\n",
    "clf = tree.DecisionTreeRegressor()\n",
    "clf = clf.fit(X, y)\n",
    "y_hat = clf.predict(test_X)\n",
    "rmse = np.sqrt(np.mean((y_hat-test_y)**2))"
   ]
  },
  {
   "cell_type": "code",
   "execution_count": 231,
   "id": "8c0d6c81-594b-4d72-b3e5-c06c1bb9cdd1",
   "metadata": {},
   "outputs": [
    {
     "data": {
      "text/plain": [
       "(array([2512.,  963.,  429.,  202.,   96.,   50.,   26.,   12.,    6.,\n",
       "           4.]),\n",
       " array([  0.   ,  28.928,  57.856,  86.784, 115.712, 144.64 , 173.568,\n",
       "        202.496, 231.424, 260.352, 289.28 ]),\n",
       " <BarContainer object of 10 artists>)"
      ]
     },
     "execution_count": 231,
     "metadata": {},
     "output_type": "execute_result"
    },
    {
     "data": {
      "image/png": "[encoded data removed]",
      "text/plain": [
       "<Figure size 432x288 with 1 Axes>"
      ]
     },
     "metadata": {
      "needs_background": "light"
     },
     "output_type": "display_data"
    }
   ],
   "source": [
    "plt.title(str(rmse))\n",
    "plt.hist((np.abs((y_hat-test_y))))"
   ]
  },
  {
   "cell_type": "code",
   "execution_count": 236,
   "id": "d5707860-0bb6-4cb2-a912-6c585402cc63",
   "metadata": {},
   "outputs": [
    {
     "data": {
      "text/plain": [
       "<matplotlib.collections.PathCollection at 0x7f7d39df6070>"
      ]
     },
     "execution_count": 236,
     "metadata": {},
     "output_type": "execute_result"
    },
    {
     "data": {
      "image/png": "[encoded data removed]",
      "text/plain": [
       "<Figure size 432x288 with 1 Axes>"
      ]
     },
     "metadata": {
      "needs_background": "light"
     },
     "output_type": "display_data"
    }
   ],
   "source": [
    "x = range(len(y_hat))\n",
    "plt.scatter(x,np.sort(y_hat), alpha=.5)\n",
    "plt.scatter(x,np.sort(test_y), alpha=.5)"
   ]
  },
  {
   "cell_type": "code",
   "execution_count": 237,
   "id": "69acb63c-3fe1-4810-93ed-c0ef11d3e10b",
   "metadata": {},
   "outputs": [
    {
     "data": {
      "text/plain": [
       "<matplotlib.collections.PathCollection at 0x7f7d39dd3c70>"
      ]
     },
     "execution_count": 237,
     "metadata": {},
     "output_type": "execute_result"
    },
    {
     "data": {
      "image/png": "[encoded data removed]",
      "text/plain": [
       "<Figure size 432x288 with 1 Axes>"
      ]
     },
     "metadata": {
      "needs_background": "light"
     },
     "output_type": "display_data"
    }
   ],
   "source": [
    "plt.scatter(range(len(df['adr'])), np.sort(df['adr'].values))"
   ]
  },
  {
   "cell_type": "code",
   "execution_count": 254,
   "id": "1ed4e782-3274-4def-a4e8-dd9e3732a722",
   "metadata": {},
   "outputs": [
    {
     "data": {
      "text/html": [
       "<div>\n",
       "<style scoped>\n",
       "    .dataframe tbody tr th:only-of-type {\n",
       "        vertical-align: middle;\n",
       "    }\n",
       "\n",
       "    .dataframe tbody tr th {\n",
       "        vertical-align: top;\n",
       "    }\n",
       "\n",
       "    .dataframe thead th {\n",
       "        text-align: right;\n",
       "    }\n",
       "</style>\n",
       "<table border=\"1\" class=\"dataframe\">\n",
       "  <thead>\n",
       "    <tr style=\"text-align: right;\">\n",
       "      <th></th>\n",
       "      <th>0</th>\n",
       "      <th>1</th>\n",
       "      <th>2</th>\n",
       "      <th>3</th>\n",
       "      <th>4</th>\n",
       "      <th>5</th>\n",
       "      <th>6</th>\n",
       "      <th>7</th>\n",
       "      <th>8</th>\n",
       "      <th>9</th>\n",
       "      <th>...</th>\n",
       "      <th>15</th>\n",
       "      <th>16</th>\n",
       "      <th>17</th>\n",
       "      <th>18</th>\n",
       "      <th>19</th>\n",
       "      <th>20</th>\n",
       "      <th>21</th>\n",
       "      <th>22</th>\n",
       "      <th>23</th>\n",
       "      <th>24</th>\n",
       "    </tr>\n",
       "  </thead>\n",
       "  <tbody>\n",
       "    <tr>\n",
       "      <th>0</th>\n",
       "      <td>-1.753395</td>\n",
       "      <td>-1.050293</td>\n",
       "      <td>-0.021232</td>\n",
       "      <td>1.867108</td>\n",
       "      <td>0.151050</td>\n",
       "      <td>-2.010805</td>\n",
       "      <td>1.030547</td>\n",
       "      <td>0.147463</td>\n",
       "      <td>0.222841</td>\n",
       "      <td>-0.766064</td>\n",
       "      <td>...</td>\n",
       "      <td>-0.453081</td>\n",
       "      <td>0.108306</td>\n",
       "      <td>-1.374287</td>\n",
       "      <td>0.643481</td>\n",
       "      <td>-0.054660</td>\n",
       "      <td>0.069593</td>\n",
       "      <td>-0.310731</td>\n",
       "      <td>-0.678924</td>\n",
       "      <td>0.799615</td>\n",
       "      <td>-0.250750</td>\n",
       "    </tr>\n",
       "    <tr>\n",
       "      <th>1</th>\n",
       "      <td>-4.187768</td>\n",
       "      <td>-0.244452</td>\n",
       "      <td>0.993473</td>\n",
       "      <td>-0.462028</td>\n",
       "      <td>-0.680571</td>\n",
       "      <td>-0.730506</td>\n",
       "      <td>0.349980</td>\n",
       "      <td>-2.180522</td>\n",
       "      <td>0.173013</td>\n",
       "      <td>-0.040425</td>\n",
       "      <td>...</td>\n",
       "      <td>-0.954384</td>\n",
       "      <td>0.457693</td>\n",
       "      <td>-0.193734</td>\n",
       "      <td>0.224886</td>\n",
       "      <td>-0.252442</td>\n",
       "      <td>0.602132</td>\n",
       "      <td>-0.382316</td>\n",
       "      <td>-0.611635</td>\n",
       "      <td>0.668829</td>\n",
       "      <td>-0.609721</td>\n",
       "    </tr>\n",
       "    <tr>\n",
       "      <th>2</th>\n",
       "      <td>0.376733</td>\n",
       "      <td>-1.765223</td>\n",
       "      <td>-0.660738</td>\n",
       "      <td>-0.379693</td>\n",
       "      <td>-0.323862</td>\n",
       "      <td>0.329211</td>\n",
       "      <td>0.237770</td>\n",
       "      <td>-0.743532</td>\n",
       "      <td>-0.669221</td>\n",
       "      <td>-0.547308</td>\n",
       "      <td>...</td>\n",
       "      <td>-0.458144</td>\n",
       "      <td>0.423365</td>\n",
       "      <td>-0.424135</td>\n",
       "      <td>-0.315289</td>\n",
       "      <td>-0.433025</td>\n",
       "      <td>0.363840</td>\n",
       "      <td>0.108755</td>\n",
       "      <td>0.256973</td>\n",
       "      <td>0.416607</td>\n",
       "      <td>0.062755</td>\n",
       "    </tr>\n",
       "    <tr>\n",
       "      <th>3</th>\n",
       "      <td>0.376733</td>\n",
       "      <td>-1.765223</td>\n",
       "      <td>-0.660738</td>\n",
       "      <td>-0.379693</td>\n",
       "      <td>-0.323862</td>\n",
       "      <td>0.329211</td>\n",
       "      <td>0.237770</td>\n",
       "      <td>-0.743532</td>\n",
       "      <td>-0.669221</td>\n",
       "      <td>-0.547308</td>\n",
       "      <td>...</td>\n",
       "      <td>-0.458144</td>\n",
       "      <td>0.423365</td>\n",
       "      <td>-0.424135</td>\n",
       "      <td>-0.315289</td>\n",
       "      <td>-0.433025</td>\n",
       "      <td>0.363840</td>\n",
       "      <td>0.108755</td>\n",
       "      <td>0.256973</td>\n",
       "      <td>0.416607</td>\n",
       "      <td>0.062755</td>\n",
       "    </tr>\n",
       "    <tr>\n",
       "      <th>4</th>\n",
       "      <td>-1.056709</td>\n",
       "      <td>-1.069312</td>\n",
       "      <td>0.295670</td>\n",
       "      <td>2.079975</td>\n",
       "      <td>0.243143</td>\n",
       "      <td>-1.867997</td>\n",
       "      <td>0.869117</td>\n",
       "      <td>0.319371</td>\n",
       "      <td>0.312604</td>\n",
       "      <td>-0.741856</td>\n",
       "      <td>...</td>\n",
       "      <td>-0.549139</td>\n",
       "      <td>0.463134</td>\n",
       "      <td>-0.253282</td>\n",
       "      <td>-0.119217</td>\n",
       "      <td>-0.445487</td>\n",
       "      <td>0.517959</td>\n",
       "      <td>0.075880</td>\n",
       "      <td>0.195514</td>\n",
       "      <td>0.445501</td>\n",
       "      <td>0.269048</td>\n",
       "    </tr>\n",
       "    <tr>\n",
       "      <th>...</th>\n",
       "      <td>...</td>\n",
       "      <td>...</td>\n",
       "      <td>...</td>\n",
       "      <td>...</td>\n",
       "      <td>...</td>\n",
       "      <td>...</td>\n",
       "      <td>...</td>\n",
       "      <td>...</td>\n",
       "      <td>...</td>\n",
       "      <td>...</td>\n",
       "      <td>...</td>\n",
       "      <td>...</td>\n",
       "      <td>...</td>\n",
       "      <td>...</td>\n",
       "      <td>...</td>\n",
       "      <td>...</td>\n",
       "      <td>...</td>\n",
       "      <td>...</td>\n",
       "      <td>...</td>\n",
       "      <td>...</td>\n",
       "      <td>...</td>\n",
       "    </tr>\n",
       "    <tr>\n",
       "      <th>43336</th>\n",
       "      <td>1.124412</td>\n",
       "      <td>2.520520</td>\n",
       "      <td>-0.973893</td>\n",
       "      <td>-1.124339</td>\n",
       "      <td>0.761257</td>\n",
       "      <td>-0.858014</td>\n",
       "      <td>0.109860</td>\n",
       "      <td>0.757069</td>\n",
       "      <td>0.010155</td>\n",
       "      <td>0.482584</td>\n",
       "      <td>...</td>\n",
       "      <td>-0.296810</td>\n",
       "      <td>0.250683</td>\n",
       "      <td>0.872583</td>\n",
       "      <td>-0.233915</td>\n",
       "      <td>0.419119</td>\n",
       "      <td>-0.751488</td>\n",
       "      <td>-0.593623</td>\n",
       "      <td>-0.290797</td>\n",
       "      <td>-0.204201</td>\n",
       "      <td>0.948640</td>\n",
       "    </tr>\n",
       "    <tr>\n",
       "      <th>43337</th>\n",
       "      <td>1.293870</td>\n",
       "      <td>2.269328</td>\n",
       "      <td>-0.860091</td>\n",
       "      <td>-1.152910</td>\n",
       "      <td>0.659615</td>\n",
       "      <td>-0.520422</td>\n",
       "      <td>-0.086743</td>\n",
       "      <td>0.789468</td>\n",
       "      <td>-0.005047</td>\n",
       "      <td>0.622629</td>\n",
       "      <td>...</td>\n",
       "      <td>-0.033195</td>\n",
       "      <td>0.583027</td>\n",
       "      <td>0.726909</td>\n",
       "      <td>-0.558122</td>\n",
       "      <td>0.441506</td>\n",
       "      <td>-1.246260</td>\n",
       "      <td>-1.129936</td>\n",
       "      <td>-0.094360</td>\n",
       "      <td>-0.462196</td>\n",
       "      <td>0.546896</td>\n",
       "    </tr>\n",
       "    <tr>\n",
       "      <th>43338</th>\n",
       "      <td>1.577343</td>\n",
       "      <td>-0.989450</td>\n",
       "      <td>0.344649</td>\n",
       "      <td>-0.846061</td>\n",
       "      <td>0.383871</td>\n",
       "      <td>0.721586</td>\n",
       "      <td>-0.444091</td>\n",
       "      <td>-0.149532</td>\n",
       "      <td>0.600033</td>\n",
       "      <td>-0.624448</td>\n",
       "      <td>...</td>\n",
       "      <td>-0.342152</td>\n",
       "      <td>0.821779</td>\n",
       "      <td>0.260439</td>\n",
       "      <td>-0.149711</td>\n",
       "      <td>0.966253</td>\n",
       "      <td>0.059233</td>\n",
       "      <td>0.320305</td>\n",
       "      <td>-0.698318</td>\n",
       "      <td>-0.540222</td>\n",
       "      <td>0.162042</td>\n",
       "    </tr>\n",
       "    <tr>\n",
       "      <th>43339</th>\n",
       "      <td>1.293870</td>\n",
       "      <td>2.269328</td>\n",
       "      <td>-0.860091</td>\n",
       "      <td>-1.152910</td>\n",
       "      <td>0.659615</td>\n",
       "      <td>-0.520422</td>\n",
       "      <td>-0.086743</td>\n",
       "      <td>0.789468</td>\n",
       "      <td>-0.005047</td>\n",
       "      <td>0.622629</td>\n",
       "      <td>...</td>\n",
       "      <td>-0.033195</td>\n",
       "      <td>0.583027</td>\n",
       "      <td>0.726909</td>\n",
       "      <td>-0.558122</td>\n",
       "      <td>0.441506</td>\n",
       "      <td>-1.246260</td>\n",
       "      <td>-1.129936</td>\n",
       "      <td>-0.094360</td>\n",
       "      <td>-0.462196</td>\n",
       "      <td>0.546896</td>\n",
       "    </tr>\n",
       "    <tr>\n",
       "      <th>43340</th>\n",
       "      <td>0.993232</td>\n",
       "      <td>-1.952692</td>\n",
       "      <td>-0.549494</td>\n",
       "      <td>-0.669502</td>\n",
       "      <td>-0.060841</td>\n",
       "      <td>0.957469</td>\n",
       "      <td>-0.334325</td>\n",
       "      <td>-0.077144</td>\n",
       "      <td>0.425289</td>\n",
       "      <td>-0.200525</td>\n",
       "      <td>...</td>\n",
       "      <td>0.128871</td>\n",
       "      <td>1.090854</td>\n",
       "      <td>0.019626</td>\n",
       "      <td>-0.597464</td>\n",
       "      <td>1.033257</td>\n",
       "      <td>-0.201849</td>\n",
       "      <td>-0.134512</td>\n",
       "      <td>-0.028400</td>\n",
       "      <td>-0.725103</td>\n",
       "      <td>-0.626319</td>\n",
       "    </tr>\n",
       "  </tbody>\n",
       "</table>\n",
       "<p>43341 rows × 25 columns</p>\n",
       "</div>"
      ],
      "text/plain": [
       "             0         1         2         3         4         5         6   \\\n",
       "0     -1.753395 -1.050293 -0.021232  1.867108  0.151050 -2.010805  1.030547   \n",
       "1     -4.187768 -0.244452  0.993473 -0.462028 -0.680571 -0.730506  0.349980   \n",
       "2      0.376733 -1.765223 -0.660738 -0.379693 -0.323862  0.329211  0.237770   \n",
       "3      0.376733 -1.765223 -0.660738 -0.379693 -0.323862  0.329211  0.237770   \n",
       "4     -1.056709 -1.069312  0.295670  2.079975  0.243143 -1.867997  0.869117   \n",
       "...         ...       ...       ...       ...       ...       ...       ...   \n",
       "43336  1.124412  2.520520 -0.973893 -1.124339  0.761257 -0.858014  0.109860   \n",
       "43337  1.293870  2.269328 -0.860091 -1.152910  0.659615 -0.520422 -0.086743   \n",
       "43338  1.577343 -0.989450  0.344649 -0.846061  0.383871  0.721586 -0.444091   \n",
       "43339  1.293870  2.269328 -0.860091 -1.152910  0.659615 -0.520422 -0.086743   \n",
       "43340  0.993232 -1.952692 -0.549494 -0.669502 -0.060841  0.957469 -0.334325   \n",
       "\n",
       "             7         8         9   ...        15        16        17  \\\n",
       "0      0.147463  0.222841 -0.766064  ... -0.453081  0.108306 -1.374287   \n",
       "1     -2.180522  0.173013 -0.040425  ... -0.954384  0.457693 -0.193734   \n",
       "2     -0.743532 -0.669221 -0.547308  ... -0.458144  0.423365 -0.424135   \n",
       "3     -0.743532 -0.669221 -0.547308  ... -0.458144  0.423365 -0.424135   \n",
       "4      0.319371  0.312604 -0.741856  ... -0.549139  0.463134 -0.253282   \n",
       "...         ...       ...       ...  ...       ...       ...       ...   \n",
       "43336  0.757069  0.010155  0.482584  ... -0.296810  0.250683  0.872583   \n",
       "43337  0.789468 -0.005047  0.622629  ... -0.033195  0.583027  0.726909   \n",
       "43338 -0.149532  0.600033 -0.624448  ... -0.342152  0.821779  0.260439   \n",
       "43339  0.789468 -0.005047  0.622629  ... -0.033195  0.583027  0.726909   \n",
       "43340 -0.077144  0.425289 -0.200525  ...  0.128871  1.090854  0.019626   \n",
       "\n",
       "             18        19        20        21        22        23        24  \n",
       "0      0.643481 -0.054660  0.069593 -0.310731 -0.678924  0.799615 -0.250750  \n",
       "1      0.224886 -0.252442  0.602132 -0.382316 -0.611635  0.668829 -0.609721  \n",
       "2     -0.315289 -0.433025  0.363840  0.108755  0.256973  0.416607  0.062755  \n",
       "3     -0.315289 -0.433025  0.363840  0.108755  0.256973  0.416607  0.062755  \n",
       "4     -0.119217 -0.445487  0.517959  0.075880  0.195514  0.445501  0.269048  \n",
       "...         ...       ...       ...       ...       ...       ...       ...  \n",
       "43336 -0.233915  0.419119 -0.751488 -0.593623 -0.290797 -0.204201  0.948640  \n",
       "43337 -0.558122  0.441506 -1.246260 -1.129936 -0.094360 -0.462196  0.546896  \n",
       "43338 -0.149711  0.966253  0.059233  0.320305 -0.698318 -0.540222  0.162042  \n",
       "43339 -0.558122  0.441506 -1.246260 -1.129936 -0.094360 -0.462196  0.546896  \n",
       "43340 -0.597464  1.033257 -0.201849 -0.134512 -0.028400 -0.725103 -0.626319  \n",
       "\n",
       "[43341 rows x 25 columns]"
      ]
     },
     "execution_count": 254,
     "metadata": {},
     "output_type": "execute_result"
    }
   ],
   "source": [
    "principalDf"
   ]
  },
  {
   "cell_type": "code",
   "execution_count": 261,
   "id": "cd90847c-4a42-480c-89e6-a70b4ee506c1",
   "metadata": {},
   "outputs": [
    {
     "name": "stdout",
     "output_type": "stream",
     "text": [
      "[array([15343, 13743, 34942, ..., 39267, 12812, 30995])]\n",
      "43341\n",
      "30441\n"
     ]
    },
    {
     "name": "stderr",
     "output_type": "stream",
     "text": [
      "/tmp/ipykernel_229/2128786914.py:12: FutureWarning: Using a non-tuple sequence for multidimensional indexing is deprecated; use `arr[tuple(seq)]` instead of `arr[seq]`. In the future this will be interpreted as an array index, `arr[np.array(seq)]`, which will result either in an error or a different result.\n",
      "  test_X = X[ind]\n",
      "/tmp/ipykernel_229/2128786914.py:13: FutureWarning: Using a non-tuple sequence for multidimensional indexing is deprecated; use `arr[tuple(seq)]` instead of `arr[seq]`. In the future this will be interpreted as an array index, `arr[np.array(seq)]`, which will result either in an error or a different result.\n",
      "  test_y = y[ind]\n"
     ]
    }
   ],
   "source": [
    "X, y, test_X, test_y = make_dataset(finalDf, finalDf.columns, test_size=12900)"
   ]
  },
  {
   "cell_type": "code",
   "execution_count": 264,
   "id": "c238ef5e-aaa1-4fae-8d15-cd0c57eb3c67",
   "metadata": {},
   "outputs": [],
   "source": [
    "reg = LinearRegression().fit(X, y)\n",
    "reg.score(test_X, test_y)\n",
    "y_hat = reg.predict(test_X)\n"
   ]
  },
  {
   "cell_type": "code",
   "execution_count": 265,
   "id": "d377bd92-585f-4252-a288-1cc9d1aecc10",
   "metadata": {},
   "outputs": [],
   "source": [
    "rmse = np.sqrt(np.mean((y_hat-test_y)**2))"
   ]
  },
  {
   "cell_type": "code",
   "execution_count": 266,
   "id": "d6fe7d9a-5030-4165-9e5f-455e82b72292",
   "metadata": {},
   "outputs": [
    {
     "data": {
      "text/plain": [
       "(array([6.408e+03, 5.365e+03, 8.530e+02, 1.370e+02, 8.900e+01, 1.500e+01,\n",
       "        2.300e+01, 5.000e+00, 2.000e+00, 3.000e+00]),\n",
       " array([0.00000000e+00, 2.55795385e-14, 5.11590770e-14, 7.67386155e-14,\n",
       "        1.02318154e-13, 1.27897692e-13, 1.53477231e-13, 1.79056769e-13,\n",
       "        2.04636308e-13, 2.30215846e-13, 2.55795385e-13]),\n",
       " <BarContainer object of 10 artists>)"
      ]
     },
     "execution_count": 266,
     "metadata": {},
     "output_type": "execute_result"
    },
    {
     "data": {
      "image/png": "[encoded data removed]",
      "text/plain": [
       "<Figure size 432x288 with 1 Axes>"
      ]
     },
     "metadata": {
      "needs_background": "light"
     },
     "output_type": "display_data"
    }
   ],
   "source": [
    "plt.hist(np.abs(y_hat - test_y))"
   ]
  },
  {
   "cell_type": "code",
   "execution_count": 267,
   "id": "a2efa6e5-3e26-4b41-9cbe-1a065489dd12",
   "metadata": {},
   "outputs": [
    {
     "data": {
      "text/plain": [
       "array([199.2 , 100.  , 107.92, ...,  85.  ,  65.7 ,  75.  ])"
      ]
     },
     "execution_count": 267,
     "metadata": {},
     "output_type": "execute_result"
    }
   ],
   "source": [
    "y_hat"
   ]
  },
  {
   "cell_type": "code",
   "execution_count": 268,
   "id": "3e88b471-6bd8-4e20-94d5-053125db2832",
   "metadata": {},
   "outputs": [
    {
     "data": {
      "text/plain": [
       "array([199.2 , 100.  , 107.92, ...,  85.  ,  65.7 ,  75.  ])"
      ]
     },
     "execution_count": 268,
     "metadata": {},
     "output_type": "execute_result"
    }
   ],
   "source": [
    "test_y"
   ]
  },
  {
   "cell_type": "code",
   "execution_count": null,
   "id": "ff45a69a-3070-4c8f-8be2-99b38c38bdc7",
   "metadata": {},
   "outputs": [],
   "source": []
  }
 ],
 "metadata": {
  "kernelspec": {
   "display_name": "Python 3 (ipykernel)",
   "language": "python",
   "name": "python3"
  },
  "language_info": {
   "codemirror_mode": {
    "name": "ipython",
    "version": 3
   },
   "file_extension": ".py",
   "mimetype": "text/x-python",
   "name": "python",
   "nbconvert_exporter": "python",
   "pygments_lexer": "ipython3",
   "version": "3.9.7"
  }
 },
 "nbformat": 4,
 "nbformat_minor": 5
}
